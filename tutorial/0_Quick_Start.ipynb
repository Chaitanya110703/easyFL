{
 "cells": [
  {
   "cell_type": "markdown",
   "id": "271a46ea",
   "metadata": {},
   "source": [
    "# 安装FLGo"
   ]
  },
  {
   "cell_type": "markdown",
   "id": "179eb38c",
   "metadata": {},
   "source": [
    "在使用FLGo之前，需要自行安装以下基本的库：numpy，pytorch，torchvision，scipy，numpy，matplotlib，prettytable。这些库对版本没有特殊要，网上配置教程较多，这里不再赘述。\n",
    "\n",
    "在FLGo中还会用到一些额外的第三方库，这些库主要针对特定功能或算法的实现，比如cvxopt，pynvml等，可以等用到的时候再进行安装。由于近期刚刚把原来的github仓库封装成包，暂时挂在了test.pypi上，后续完善基础的一些文档和说明后将挂到pypi上。在命令行输入下列命令即可安装FLGo"
   ]
  },
  {
   "cell_type": "code",
   "execution_count": null,
   "id": "06b4be05",
   "metadata": {},
   "outputs": [],
   "source": [
    "!pip install -i https://test.pypi.org/simple/ test-flgo-wwwzz"
   ]
  },
  {
   "cell_type": "markdown",
   "id": "73bce628",
   "metadata": {},
   "source": [
    "# 运行FLGo "
   ]
  },
  {
   "cell_type": "code",
   "execution_count": 7,
   "id": "79827eca",
   "metadata": {},
   "outputs": [],
   "source": [
    "import flgo\n",
    "import flgo.benchmark.mnist_classification as mnist\n",
    "import flgo.algorithm.fedavg as fedavg\n",
    "import os"
   ]
  },
  {
   "cell_type": "markdown",
   "id": "cb6d1d00",
   "metadata": {},
   "source": [
    "### 生成联邦任务 \\ Generate Federated Task"
   ]
  },
  {
   "cell_type": "markdown",
   "id": "70eeb07a",
   "metadata": {},
   "source": [
    "生成mnist的IID划分，人数为100人，代码如下："
   ]
  },
  {
   "cell_type": "code",
   "execution_count": 2,
   "id": "63489a44",
   "metadata": {},
   "outputs": [
    {
     "name": "stdout",
     "output_type": "stream",
     "text": [
      "Task B-mnist_classification_P-iid_N-100 has been successfully generated.\n"
     ]
    },
    {
     "data": {
      "image/png": "[encoded data removed]",
      "text/plain": [
       "<Figure size 432x288 with 1 Axes>"
      ]
     },
     "metadata": {
      "needs_background": "light"
     },
     "output_type": "display_data"
    },
    {
     "data": {
      "text/plain": [
       "<Figure size 432x288 with 0 Axes>"
      ]
     },
     "metadata": {},
     "output_type": "display_data"
    }
   ],
   "source": [
    "task = './test_mnist'\n",
    "config = {'benchmark':{'name':'flgo.benchmark.mnist_classification'},'partitioner':{'name': 'IIDPartitioner','para':{'num_clients':100}}}\n",
    "if not os.path.exists(task): flgo.gen_task(config, task_path = task)"
   ]
  },
  {
   "cell_type": "markdown",
   "id": "d239f884",
   "metadata": {},
   "source": [
    "### 开始使用fedavg联邦训练 \\ Start training with FedAvg"
   ]
  },
  {
   "cell_type": "markdown",
   "id": "4791eb06",
   "metadata": {},
   "source": [
    "使用fedavg训练，参数为5轮，本地训练epoch为1，仅使用0卡训练"
   ]
  },
  {
   "cell_type": "code",
   "execution_count": 3,
   "id": "dbb2f304",
   "metadata": {},
   "outputs": [
    {
     "name": "stderr",
     "output_type": "stream",
     "text": [
      "2023-03-11 01:13:03,838 fflow.py init [line:347] INFO Initializing devices: cuda:0 will be used for this running.\n",
      "2023-03-11 01:13:05,902 fflow.py init [line:384] INFO Use `<class 'flgo.system_simulator.default_simulator.Simulator'>` as the system simulator\n",
      "2023-03-11 01:13:05,903 fflow.py init [line:392] INFO Ready to start.\n",
      "2023-03-11 01:13:05,903 fedbase.py run [line:102] INFO --------------Initial Evaluation--------------\n",
      "2023-03-11 01:13:05,904 simple_logger.py log_once [line:13] INFO Current_time:0\n",
      "2023-03-11 01:13:08,738 simple_logger.py log_once [line:27] INFO test_accuracy                 0.0845\n",
      "2023-03-11 01:13:08,738 simple_logger.py log_once [line:27] INFO test_loss                     2.3038\n",
      "2023-03-11 01:13:08,739 simple_logger.py log_once [line:27] INFO valid_accuracy                0.0772\n",
      "2023-03-11 01:13:08,739 simple_logger.py log_once [line:27] INFO mean_valid_accuracy           0.0772\n",
      "2023-03-11 01:13:08,739 simple_logger.py log_once [line:27] INFO std_valid_accuracy            0.0365\n",
      "2023-03-11 01:13:08,740 simple_logger.py log_once [line:27] INFO valid_loss                    2.3038\n",
      "2023-03-11 01:13:08,740 simple_logger.py log_once [line:27] INFO mean_valid_loss               2.3038\n",
      "2023-03-11 01:13:08,741 simple_logger.py log_once [line:27] INFO std_valid_loss                0.0076\n",
      "2023-03-11 01:13:08,741 fedbase.py run [line:105] INFO Eval Time Cost:               2.8376s\n",
      "2023-03-11 01:13:10,406 fedbase.py run [line:112] INFO --------------Round 1--------------\n",
      "2023-03-11 01:13:10,407 simple_logger.py log_once [line:13] INFO Current_time:1\n",
      "2023-03-11 01:13:12,736 simple_logger.py log_once [line:27] INFO test_accuracy                 0.9341\n",
      "2023-03-11 01:13:12,736 simple_logger.py log_once [line:27] INFO test_loss                     0.2051\n",
      "2023-03-11 01:13:12,737 simple_logger.py log_once [line:27] INFO valid_accuracy                0.9258\n",
      "2023-03-11 01:13:12,737 simple_logger.py log_once [line:27] INFO mean_valid_accuracy           0.9258\n",
      "2023-03-11 01:13:12,738 simple_logger.py log_once [line:27] INFO std_valid_accuracy            0.0341\n",
      "2023-03-11 01:13:12,738 simple_logger.py log_once [line:27] INFO valid_loss                    0.2390\n",
      "2023-03-11 01:13:12,738 simple_logger.py log_once [line:27] INFO mean_valid_loss               0.2390\n",
      "2023-03-11 01:13:12,739 simple_logger.py log_once [line:27] INFO std_valid_loss                0.1126\n",
      "2023-03-11 01:13:12,739 fedbase.py run [line:117] INFO Eval Time Cost:               2.3323s\n",
      "2023-03-11 01:13:14,743 fedbase.py run [line:112] INFO --------------Round 2--------------\n",
      "2023-03-11 01:13:14,744 simple_logger.py log_once [line:13] INFO Current_time:2\n",
      "2023-03-11 01:13:17,132 simple_logger.py log_once [line:27] INFO test_accuracy                 0.9682\n",
      "2023-03-11 01:13:17,133 simple_logger.py log_once [line:27] INFO test_loss                     0.0991\n",
      "2023-03-11 01:13:17,133 simple_logger.py log_once [line:27] INFO valid_accuracy                0.9607\n",
      "2023-03-11 01:13:17,134 simple_logger.py log_once [line:27] INFO mean_valid_accuracy           0.9607\n",
      "2023-03-11 01:13:17,134 simple_logger.py log_once [line:27] INFO std_valid_accuracy            0.0256\n",
      "2023-03-11 01:13:17,134 simple_logger.py log_once [line:27] INFO valid_loss                    0.1224\n",
      "2023-03-11 01:13:17,135 simple_logger.py log_once [line:27] INFO mean_valid_loss               0.1224\n",
      "2023-03-11 01:13:17,135 simple_logger.py log_once [line:27] INFO std_valid_loss                0.0780\n",
      "2023-03-11 01:13:17,135 fedbase.py run [line:117] INFO Eval Time Cost:               2.3915s\n",
      "2023-03-11 01:13:18,930 fedbase.py run [line:112] INFO --------------Round 3--------------\n",
      "2023-03-11 01:13:18,931 simple_logger.py log_once [line:13] INFO Current_time:3\n",
      "2023-03-11 01:13:21,313 simple_logger.py log_once [line:27] INFO test_accuracy                 0.9783\n",
      "2023-03-11 01:13:21,313 simple_logger.py log_once [line:27] INFO test_loss                     0.0730\n",
      "2023-03-11 01:13:21,314 simple_logger.py log_once [line:27] INFO valid_accuracy                0.9700\n",
      "2023-03-11 01:13:21,314 simple_logger.py log_once [line:27] INFO mean_valid_accuracy           0.9700\n",
      "2023-03-11 01:13:21,315 simple_logger.py log_once [line:27] INFO std_valid_accuracy            0.0224\n",
      "2023-03-11 01:13:21,315 simple_logger.py log_once [line:27] INFO valid_loss                    0.0896\n",
      "2023-03-11 01:13:21,315 simple_logger.py log_once [line:27] INFO mean_valid_loss               0.0896\n",
      "2023-03-11 01:13:21,316 simple_logger.py log_once [line:27] INFO std_valid_loss                0.0600\n",
      "2023-03-11 01:13:21,316 fedbase.py run [line:117] INFO Eval Time Cost:               2.3855s\n",
      "2023-03-11 01:13:23,127 fedbase.py run [line:112] INFO --------------Round 4--------------\n",
      "2023-03-11 01:13:23,128 simple_logger.py log_once [line:13] INFO Current_time:4\n",
      "2023-03-11 01:13:25,603 simple_logger.py log_once [line:27] INFO test_accuracy                 0.9626\n",
      "2023-03-11 01:13:25,603 simple_logger.py log_once [line:27] INFO test_loss                     0.1097\n",
      "2023-03-11 01:13:25,604 simple_logger.py log_once [line:27] INFO valid_accuracy                0.9563\n",
      "2023-03-11 01:13:25,604 simple_logger.py log_once [line:27] INFO mean_valid_accuracy           0.9563\n",
      "2023-03-11 01:13:25,604 simple_logger.py log_once [line:27] INFO std_valid_accuracy            0.0261\n",
      "2023-03-11 01:13:25,605 simple_logger.py log_once [line:27] INFO valid_loss                    0.1280\n",
      "2023-03-11 01:13:25,605 simple_logger.py log_once [line:27] INFO mean_valid_loss               0.1280\n",
      "2023-03-11 01:13:25,606 simple_logger.py log_once [line:27] INFO std_valid_loss                0.0723\n",
      "2023-03-11 01:13:25,606 fedbase.py run [line:117] INFO Eval Time Cost:               2.4784s\n",
      "2023-03-11 01:13:27,520 fedbase.py run [line:112] INFO --------------Round 5--------------\n",
      "2023-03-11 01:13:27,521 simple_logger.py log_once [line:13] INFO Current_time:5\n",
      "2023-03-11 01:13:29,919 simple_logger.py log_once [line:27] INFO test_accuracy                 0.9835\n",
      "2023-03-11 01:13:29,919 simple_logger.py log_once [line:27] INFO test_loss                     0.0496\n",
      "2023-03-11 01:13:29,919 simple_logger.py log_once [line:27] INFO valid_accuracy                0.9790\n",
      "2023-03-11 01:13:29,920 simple_logger.py log_once [line:27] INFO mean_valid_accuracy           0.9790\n",
      "2023-03-11 01:13:29,920 simple_logger.py log_once [line:27] INFO std_valid_accuracy            0.0168\n",
      "2023-03-11 01:13:29,921 simple_logger.py log_once [line:27] INFO valid_loss                    0.0631\n",
      "2023-03-11 01:13:29,921 simple_logger.py log_once [line:27] INFO mean_valid_loss               0.0631\n",
      "2023-03-11 01:13:29,921 simple_logger.py log_once [line:27] INFO std_valid_loss                0.0464\n",
      "2023-03-11 01:13:29,922 fedbase.py run [line:117] INFO Eval Time Cost:               2.4011s\n",
      "2023-03-11 01:13:29,922 fedbase.py run [line:125] INFO =================End==================\n",
      "2023-03-11 01:13:29,923 fedbase.py run [line:126] INFO Total Time Cost:              24.0196s\n"
     ]
    }
   ],
   "source": [
    "fedavg_runner = flgo.init(task=task, algorithm=fedavg, option={'num_rounds':5, 'num_epochs':1, 'gpu':0})\n",
    "fedavg_runner.run()"
   ]
  },
  {
   "cell_type": "markdown",
   "id": "cd2a71d1",
   "metadata": {},
   "source": [
    "###  训练结果展示 \\ Training Result"
   ]
  },
  {
   "cell_type": "markdown",
   "id": "9dc897b2",
   "metadata": {},
   "source": [
    "绘制训练过程中的验证集损失和验证集精度"
   ]
  },
  {
   "cell_type": "code",
   "execution_count": 6,
   "id": "2e050717",
   "metadata": {},
   "outputs": [
    {
     "data": {
      "image/png": "[encoded data removed]",
      "text/plain": [
       "<Figure size 432x288 with 1 Axes>"
      ]
     },
     "metadata": {
      "needs_background": "light"
     },
     "output_type": "display_data"
    },
    {
     "data": {
      "image/png": "[encoded data removed]",
      "text/plain": [
       "<Figure size 432x288 with 1 Axes>"
      ]
     },
     "metadata": {
      "needs_background": "light"
     },
     "output_type": "display_data"
    }
   ],
   "source": [
    "import flgo.experiment.analyzer\n",
    "analysis_plan = {\n",
    "    'Selector':{\n",
    "        'task': task,\n",
    "        'header':['fedavg']\n",
    "    },\n",
    "    'Painter':{\n",
    "        'Curve':[\n",
    "            {'args':{'x': 'communication_round', 'y':'valid_loss'}, 'fig_option':{'title':'valid loss on MNIST'}},\n",
    "            {'args':{'x': 'communication_round', 'y':'valid_accuracy'},  'fig_option':{'title':'valid accuracy on MNIST'}},\n",
    "        ]\n",
    "    }\n",
    "}\n",
    "flgo.experiment.analyzer.show(analysis_plan)"
   ]
  },
  {
   "cell_type": "code",
   "execution_count": null,
   "id": "504f7a1a",
   "metadata": {},
   "outputs": [],
   "source": []
  }
 ],
 "metadata": {
  "kernelspec": {
   "display_name": "Python 3 (ipykernel)",
   "language": "python",
   "name": "python3"
  },
  "language_info": {
   "codemirror_mode": {
    "name": "ipython",
    "version": 3
   },
   "file_extension": ".py",
   "mimetype": "text/x-python",
   "name": "python",
   "nbconvert_exporter": "python",
   "pygments_lexer": "ipython3",
   "version": "3.9.12"
  }
 },
 "nbformat": 4,
 "nbformat_minor": 5
}
