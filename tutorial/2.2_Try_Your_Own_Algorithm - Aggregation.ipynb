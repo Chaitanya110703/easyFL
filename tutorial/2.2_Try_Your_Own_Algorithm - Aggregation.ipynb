{
 "cells": [
  {
   "cell_type": "markdown",
   "id": "0fffc82a",
   "metadata": {},
   "source": [
    "## 介绍 \\ Introduction"
   ]
  },
  {
   "cell_type": "markdown",
   "id": "49cab437",
   "metadata": {},
   "source": [
    "这一节介绍的是如何用FLGo实现在聚合阶段做出修改的算法。这里使用的例子是FedMGDA+，该算法由Hu等人于2020年提出（[论文链接](https://arxiv.org/abs/2006.11489)），并发表于 IEEE Transactions on Network Science and Engineering 2022。它受多目标优化中的mgda算法所启发，将该参数更新应用于联邦学习的聚合阶段，从而避免聚合出来的模型更新损害任何一方的利益（全局更新量与任何一个用户的更新量内积为负）。由于关于该论文的讲解知乎上已经有不少帖子，这里仅讲解如何使用FLGo实现该算法。"
   ]
  },
  {
   "cell_type": "markdown",
   "id": "40ee5010",
   "metadata": {},
   "source": [
    "FedMGDA+在聚合阶段相较于fedavg，它仅在聚合阶段有所不同。fedavg为直接加权(或者不加权)平均所有用户的本地模型，\n",
    "\n",
    "而FedMGDA+的聚合步骤为：\n",
    "1. 先用用户的本地模型计算出它们各自的梯度更新$\\Delta\\theta_i = \\theta^t-\\theta^{t+1}_i$，并将梯度归一化得到$d_i=\\frac{\\Delta\\theta_i}{\\|\\Delta\\theta_i\\|}$；\n",
    "2. 随后，FedMGDA+在原始聚合权重的邻域范围内，找到一组聚合权重dynamic_lambdas，使得该权重能够最小化所聚合出来的模型更新量的二范数；\n",
    "\n",
    "$$\\mathbf{\\lambda}^*=\\min_{\\mathbf{\\lambda}}||\\sum_{i\\in \\mathbb{S}_t}\\lambda_i d_i||_2\\\\s.t. \\|\\mathbf{\\lambda}-\\mathbf{\\lambda_0}\\|_{\\infty}\\le \\epsilon, \\mathbf{1}^\\top\\mathbf{\\lambda}=1$$\n",
    "\n",
    "3. FedMGDA+使用第二步计算出的权重$\\mathbf{\\lambda}$加权平均所有模型更新量，使用全局步长$\\eta$更新模型\n",
    "\n",
    "$$\\theta^{t+1}=\\theta^t-\\eta\\sum \\lambda_i d_i$$"
   ]
  },
  {
   "cell_type": "markdown",
   "id": "27ee7d16",
   "metadata": {},
   "source": [
    "下面讲解FLGo中如何实现该算法"
   ]
  },
  {
   "cell_type": "markdown",
   "id": "41b47e3c",
   "metadata": {},
   "source": [
    "## 在FLGo中实现FedMGDA+ "
   ]
  },
  {
   "cell_type": "markdown",
   "id": "a60ec775",
   "metadata": {},
   "source": [
    "首先注意到FedMGDA+算法有两个超参数：$\\eta$和$\\epsilon$，因此在初始化方法initialize中添加算法超参数；对于聚合部分，aggregate函数默认接收参数为models，因此实现aggregate的步骤严格按照上述三步进行。注意到优化权重的部分被留给self.optim_lambda方法来实现，它接收当前梯度集合、原始权重，以及使用超参数self.eta来寻找最优权重（可以暂时略过阅读optim_lambda和quadprog的方法的实现，它们与FLGo的主要流程是无关的）。这里使用cvxopt库（通过pip install cvxopt即可安装）来进行求解步骤2中的最小范数问题。若没有安装cvxopt库，则运行下面命令进行安装："
   ]
  },
  {
   "cell_type": "code",
   "execution_count": null,
   "id": "6c296cbb",
   "metadata": {},
   "outputs": [],
   "source": [
    "!pip install cvxopt"
   ]
  },
  {
   "cell_type": "markdown",
   "id": "e5db78ca",
   "metadata": {},
   "source": [
    "完整的Server类代码实现如下："
   ]
  },
  {
   "cell_type": "code",
   "execution_count": 1,
   "id": "9ac7f97f",
   "metadata": {},
   "outputs": [],
   "source": [
    "from flgo.utils import fmodule\n",
    "from flgo.algorithm.fedbase import BasicServer\n",
    "from flgo.algorithm.fedavg import Client\n",
    "import flgo\n",
    "import os\n",
    "import numpy as np\n",
    "import copy\n",
    "import cvxopt\n",
    "\n",
    "class Server(BasicServer):\n",
    "    def initialize(self, *args, **kwargs):\n",
    "        self.init_algo_para({'eta':1.0, 'epsilon':0.1})\n",
    "        \n",
    "    def aggregate(self, models: list, *args, **kwargs):\n",
    "        # 1. 计算归一化后的模型梯度\\calculate normalized gradients\n",
    "        grads = [self.model - w for w in models]\n",
    "        for gi in grads: gi.normalize()\n",
    "            \n",
    "        # 2. 计算原始权重λ0邻域的最优权重\n",
    "        # calculate λ0\n",
    "        nks = [len(self.clients[cid].train_data) for cid in self.received_clients]\n",
    "        nt = sum(nks)\n",
    "        lambda0 = [1.0 * nk / nt for nk in nks]\n",
    "        # optimize lambdas to minimize ||λ'g||² s.t. λ∈Δ, ||λ - λ0||∞ <= ε\n",
    "        op_lambda = self.optim_lambda(grads, lambda0)\n",
    "        op_lambda = [ele[0] for ele in op_lambda]\n",
    "        \n",
    "        # 3. 使用最有权重计算全局模型更新量，并更新模型\\aggregate grads\n",
    "        dt = fmodule._model_average(grads, op_lambda)\n",
    "        return self.model - dt * self.eta\n",
    "    \n",
    "    def optim_lambda(self, grads, lambda0):\n",
    "        # create H_m*m = 2J'J where J=[grad_i]_n*m\n",
    "        n = len(grads)\n",
    "        Jt = []\n",
    "        for gi in grads:\n",
    "            Jt.append((copy.deepcopy(fmodule._modeldict_to_tensor1D(gi.state_dict())).cpu()).numpy())\n",
    "        Jt = np.array(Jt)\n",
    "        # target function\n",
    "        P = 2 * np.dot(Jt, Jt.T)\n",
    "\n",
    "        q = np.array([[0] for i in range(n)])\n",
    "        # equality constraint λ∈Δ\n",
    "        A = np.ones(n).T\n",
    "        b = np.array([1])\n",
    "        # boundary\n",
    "        lb = np.array([max(0, lambda0[i] - self.epsilon) for i in range(n)])\n",
    "        ub = np.array([min(1, lambda0[i] + self.epsilon) for i in range(n)])\n",
    "        G = np.zeros((2*n,n))\n",
    "        for i in range(n):\n",
    "            G[i][i]=-1\n",
    "            G[n+i][i]=1\n",
    "        h = np.zeros((2*n,1))\n",
    "        for i in range(n):\n",
    "            h[i] = -lb[i]\n",
    "            h[n+i] = ub[i]\n",
    "        res=self.quadprog(P, q, G, h, A, b)\n",
    "        return res\n",
    "\n",
    "    def quadprog(self, P, q, G, h, A, b):\n",
    "        \"\"\"\n",
    "        Input: Numpy arrays, the format follows MATLAB quadprog function: https://www.mathworks.com/help/optim/ug/quadprog.html\n",
    "        Output: Numpy array of the solution\n",
    "        \"\"\"\n",
    "        P = cvxopt.matrix(P.tolist())\n",
    "        q = cvxopt.matrix(q.tolist(), tc='d')\n",
    "        G = cvxopt.matrix(G.tolist())\n",
    "        h = cvxopt.matrix(h.tolist())\n",
    "        A = cvxopt.matrix(A.tolist())\n",
    "        b = cvxopt.matrix(b.tolist(), tc='d')\n",
    "        sol = cvxopt.solvers.qp(P, q.T, G.T, h.T, A.T, b)\n",
    "        return np.array(sol['x'])"
   ]
  },
  {
   "cell_type": "markdown",
   "id": "f1137614",
   "metadata": {},
   "source": [
    "然后实现算法fedmgda+如下："
   ]
  },
  {
   "cell_type": "code",
   "execution_count": 2,
   "id": "c88d94f8",
   "metadata": {},
   "outputs": [],
   "source": [
    "class fedmgda:\n",
    "    Server = Server\n",
    "    Client = Client"
   ]
  },
  {
   "cell_type": "markdown",
   "id": "ea1f858e",
   "metadata": {},
   "source": [
    "## FedMGDA+性能测试"
   ]
  },
  {
   "cell_type": "markdown",
   "id": "e3ae83b1",
   "metadata": {},
   "source": [
    "接下来测试所实现的fedmgda+算法的性能。"
   ]
  },
  {
   "cell_type": "code",
   "execution_count": 3,
   "id": "97d44bcc",
   "metadata": {},
   "outputs": [],
   "source": [
    "import flgo.algorithm.fedavg as fedavg\n",
    "task = './test_cifar10'\n",
    "config = {'benchmark':{'name':'flgo.benchmark.cifar10_classification'},'partitioner':{'name': 'DiversityPartitioner','para':{'num_clients':100, 'diversity':0.2}}}\n",
    "if not os.path.exists(task): flgo.gen_task(config, task_path = task)"
   ]
  },
  {
   "cell_type": "code",
   "execution_count": 6,
   "id": "0d34b68d",
   "metadata": {},
   "outputs": [
    {
     "name": "stderr",
     "output_type": "stream",
     "text": [
      "2023-03-11 22:16:10,570 fflow.py init [line:347] INFO Initializing devices: cuda:0 will be used for this running.\n"
     ]
    },
    {
     "name": "stdout",
     "output_type": "stream",
     "text": [
      "Files already downloaded and verified\n",
      "Files already downloaded and verified\n"
     ]
    },
    {
     "name": "stderr",
     "output_type": "stream",
     "text": [
      "2023-03-11 22:16:11,597 fflow.py init [line:384] INFO Use `<class 'flgo.system_simulator.default_simulator.Simulator'>` as the system simulator\n",
      "2023-03-11 22:16:11,598 fflow.py init [line:392] INFO Ready to start.\n",
      "2023-03-11 22:16:11,601 fflow.py init [line:347] INFO Initializing devices: cuda:0 will be used for this running.\n"
     ]
    },
    {
     "name": "stdout",
     "output_type": "stream",
     "text": [
      "Files already downloaded and verified\n",
      "Files already downloaded and verified\n"
     ]
    },
    {
     "name": "stderr",
     "output_type": "stream",
     "text": [
      "2023-03-11 22:16:12,614 fflow.py init [line:384] INFO Use `<class 'flgo.system_simulator.default_simulator.Simulator'>` as the system simulator\n",
      "2023-03-11 22:16:12,615 fflow.py init [line:392] INFO Ready to start.\n",
      "2023-03-11 22:16:12,617 fflow.py init [line:347] INFO Initializing devices: cuda:0 will be used for this running.\n"
     ]
    },
    {
     "name": "stdout",
     "output_type": "stream",
     "text": [
      "Files already downloaded and verified\n",
      "Files already downloaded and verified\n"
     ]
    },
    {
     "name": "stderr",
     "output_type": "stream",
     "text": [
      "2023-03-11 22:16:13,632 fflow.py init [line:384] INFO Use `<class 'flgo.system_simulator.default_simulator.Simulator'>` as the system simulator\n",
      "2023-03-11 22:16:13,633 fflow.py init [line:392] INFO Ready to start.\n",
      "2023-03-11 22:16:13,635 fflow.py init [line:347] INFO Initializing devices: cuda:0 will be used for this running.\n"
     ]
    },
    {
     "name": "stdout",
     "output_type": "stream",
     "text": [
      "Files already downloaded and verified\n",
      "Files already downloaded and verified\n"
     ]
    },
    {
     "name": "stderr",
     "output_type": "stream",
     "text": [
      "2023-03-11 22:16:14,648 fflow.py init [line:384] INFO Use `<class 'flgo.system_simulator.default_simulator.Simulator'>` as the system simulator\n",
      "2023-03-11 22:16:14,649 fflow.py init [line:392] INFO Ready to start.\n",
      "2023-03-11 22:16:14,650 fedbase.py run [line:102] INFO --------------Initial Evaluation--------------\n",
      "2023-03-11 22:16:14,650 simple_logger.py log_once [line:13] INFO Current_time:0\n",
      "2023-03-11 22:16:17,383 simple_logger.py log_once [line:27] INFO test_accuracy                 0.1027\n",
      "2023-03-11 22:16:17,383 simple_logger.py log_once [line:27] INFO test_loss                     2.3032\n",
      "2023-03-11 22:16:17,383 simple_logger.py log_once [line:27] INFO valid_accuracy                0.1020\n",
      "2023-03-11 22:16:17,384 simple_logger.py log_once [line:27] INFO mean_valid_accuracy           0.1020\n",
      "2023-03-11 22:16:17,384 simple_logger.py log_once [line:27] INFO std_valid_accuracy            0.1061\n",
      "2023-03-11 22:16:17,385 simple_logger.py log_once [line:27] INFO valid_loss                    2.3038\n",
      "2023-03-11 22:16:17,385 simple_logger.py log_once [line:27] INFO mean_valid_loss               2.3038\n",
      "2023-03-11 22:16:17,385 simple_logger.py log_once [line:27] INFO std_valid_loss                0.0242\n",
      "2023-03-11 22:16:17,386 fedbase.py run [line:105] INFO Eval Time Cost:               2.7357s\n",
      "2023-03-11 22:16:18,806 fedbase.py run [line:112] INFO --------------Round 1--------------\n",
      "2023-03-11 22:16:18,807 simple_logger.py log_once [line:13] INFO Current_time:1\n"
     ]
    },
    {
     "name": "stdout",
     "output_type": "stream",
     "text": [
      "     pcost       dcost       gap    pres   dres\n",
      " 0:  1.0000e+00 -2.0500e+00  3e+00  2e-16  4e-16\n",
      " 1:  1.0000e+00  9.6950e-01  3e-02  2e-16  1e-15\n",
      " 2:  1.0000e+00  9.9969e-01  3e-04  1e-16  1e-15\n",
      " 3:  1.0000e+00  1.0000e+00  3e-06  2e-16  1e-15\n",
      " 4:  1.0000e+00  1.0000e+00  3e-07  1e-16  1e-15\n",
      "Optimal solution found.\n"
     ]
    },
    {
     "name": "stderr",
     "output_type": "stream",
     "text": [
      "2023-03-11 22:16:21,527 simple_logger.py log_once [line:27] INFO test_accuracy                 0.1071\n",
      "2023-03-11 22:16:21,527 simple_logger.py log_once [line:27] INFO test_loss                     2.3019\n",
      "2023-03-11 22:16:21,528 simple_logger.py log_once [line:27] INFO valid_accuracy                0.1058\n",
      "2023-03-11 22:16:21,528 simple_logger.py log_once [line:27] INFO mean_valid_accuracy           0.1058\n",
      "2023-03-11 22:16:21,528 simple_logger.py log_once [line:27] INFO std_valid_accuracy            0.1531\n",
      "2023-03-11 22:16:21,529 simple_logger.py log_once [line:27] INFO valid_loss                    2.3032\n",
      "2023-03-11 22:16:21,529 simple_logger.py log_once [line:27] INFO mean_valid_loss               2.3032\n",
      "2023-03-11 22:16:21,529 simple_logger.py log_once [line:27] INFO std_valid_loss                0.0402\n",
      "2023-03-11 22:16:21,530 fedbase.py run [line:117] INFO Eval Time Cost:               2.7227s\n",
      "2023-03-11 22:16:23,232 fedbase.py run [line:112] INFO --------------Round 2--------------\n",
      "2023-03-11 22:16:23,233 simple_logger.py log_once [line:13] INFO Current_time:2\n"
     ]
    },
    {
     "name": "stdout",
     "output_type": "stream",
     "text": [
      "     pcost       dcost       gap    pres   dres\n",
      " 0:  1.0000e+00 -2.0500e+00  3e+00  9e-17  1e-15\n",
      " 1:  1.0000e+00  9.6950e-01  3e-02  2e-16  1e-15\n",
      " 2:  1.0000e+00  9.9970e-01  3e-04  9e-17  1e-15\n",
      " 3:  1.0000e+00  1.0000e+00  3e-06  2e-16  1e-15\n",
      " 4:  1.0000e+00  1.0000e+00  3e-08  1e-16  2e-15\n",
      "Optimal solution found.\n"
     ]
    },
    {
     "name": "stderr",
     "output_type": "stream",
     "text": [
      "2023-03-11 22:16:25,965 simple_logger.py log_once [line:27] INFO test_accuracy                 0.1000\n",
      "2023-03-11 22:16:25,966 simple_logger.py log_once [line:27] INFO test_loss                     2.2983\n",
      "2023-03-11 22:16:25,966 simple_logger.py log_once [line:27] INFO valid_accuracy                0.0926\n",
      "2023-03-11 22:16:25,966 simple_logger.py log_once [line:27] INFO mean_valid_accuracy           0.0926\n",
      "2023-03-11 22:16:25,966 simple_logger.py log_once [line:27] INFO std_valid_accuracy            0.1876\n",
      "2023-03-11 22:16:25,967 simple_logger.py log_once [line:27] INFO valid_loss                    2.3006\n",
      "2023-03-11 22:16:25,967 simple_logger.py log_once [line:27] INFO mean_valid_loss               2.3006\n",
      "2023-03-11 22:16:25,967 simple_logger.py log_once [line:27] INFO std_valid_loss                0.0673\n",
      "2023-03-11 22:16:25,967 fedbase.py run [line:117] INFO Eval Time Cost:               2.7348s\n",
      "2023-03-11 22:16:27,482 fedbase.py run [line:112] INFO --------------Round 3--------------\n",
      "2023-03-11 22:16:27,482 simple_logger.py log_once [line:13] INFO Current_time:3\n"
     ]
    },
    {
     "name": "stdout",
     "output_type": "stream",
     "text": [
      "     pcost       dcost       gap    pres   dres\n",
      " 0:  1.0000e+00 -2.0500e+00  3e+00  3e-17  7e-16\n",
      " 1:  1.0000e+00  9.6950e-01  3e-02  7e-17  1e-15\n",
      " 2:  1.0000e+00  9.9969e-01  3e-04  7e-17  8e-16\n",
      " 3:  1.0000e+00  1.0000e+00  3e-06  2e-16  9e-16\n",
      " 4:  1.0000e+00  1.0000e+00  2e-07  9e-17  7e-16\n",
      "Optimal solution found.\n"
     ]
    },
    {
     "name": "stderr",
     "output_type": "stream",
     "text": [
      "2023-03-11 22:16:30,216 simple_logger.py log_once [line:27] INFO test_accuracy                 0.1000\n",
      "2023-03-11 22:16:30,216 simple_logger.py log_once [line:27] INFO test_loss                     2.2923\n",
      "2023-03-11 22:16:30,216 simple_logger.py log_once [line:27] INFO valid_accuracy                0.0926\n",
      "2023-03-11 22:16:30,217 simple_logger.py log_once [line:27] INFO mean_valid_accuracy           0.0926\n",
      "2023-03-11 22:16:30,217 simple_logger.py log_once [line:27] INFO std_valid_accuracy            0.1876\n",
      "2023-03-11 22:16:30,217 simple_logger.py log_once [line:27] INFO valid_loss                    2.2947\n",
      "2023-03-11 22:16:30,217 simple_logger.py log_once [line:27] INFO mean_valid_loss               2.2947\n",
      "2023-03-11 22:16:30,218 simple_logger.py log_once [line:27] INFO std_valid_loss                0.0767\n",
      "2023-03-11 22:16:30,218 fedbase.py run [line:117] INFO Eval Time Cost:               2.7357s\n",
      "2023-03-11 22:16:31,718 fedbase.py run [line:112] INFO --------------Round 4--------------\n",
      "2023-03-11 22:16:31,718 simple_logger.py log_once [line:13] INFO Current_time:4\n"
     ]
    },
    {
     "name": "stdout",
     "output_type": "stream",
     "text": [
      "     pcost       dcost       gap    pres   dres\n",
      " 0:  1.0000e+00 -2.0500e+00  3e+00  2e-16  9e-16\n",
      " 1:  1.0000e+00  9.6950e-01  3e-02  2e-16  1e-15\n",
      " 2:  1.0000e+00  9.9970e-01  3e-04  6e-16  1e-15\n",
      " 3:  1.0000e+00  1.0000e+00  3e-06  2e-16  8e-16\n",
      " 4:  1.0000e+00  1.0000e+00  3e-08  9e-17  3e-16\n",
      "Optimal solution found.\n"
     ]
    },
    {
     "name": "stderr",
     "output_type": "stream",
     "text": [
      "2023-03-11 22:16:34,461 simple_logger.py log_once [line:27] INFO test_accuracy                 0.1106\n",
      "2023-03-11 22:16:34,462 simple_logger.py log_once [line:27] INFO test_loss                     2.2803\n",
      "2023-03-11 22:16:34,462 simple_logger.py log_once [line:27] INFO valid_accuracy                0.1082\n",
      "2023-03-11 22:16:34,463 simple_logger.py log_once [line:27] INFO mean_valid_accuracy           0.1082\n",
      "2023-03-11 22:16:34,463 simple_logger.py log_once [line:27] INFO std_valid_accuracy            0.1563\n",
      "2023-03-11 22:16:34,463 simple_logger.py log_once [line:27] INFO valid_loss                    2.2826\n",
      "2023-03-11 22:16:34,463 simple_logger.py log_once [line:27] INFO mean_valid_loss               2.2826\n",
      "2023-03-11 22:16:34,464 simple_logger.py log_once [line:27] INFO std_valid_loss                0.0769\n",
      "2023-03-11 22:16:34,464 fedbase.py run [line:117] INFO Eval Time Cost:               2.7461s\n",
      "2023-03-11 22:16:36,066 fedbase.py run [line:112] INFO --------------Round 5--------------\n",
      "2023-03-11 22:16:36,066 simple_logger.py log_once [line:13] INFO Current_time:5\n"
     ]
    },
    {
     "name": "stdout",
     "output_type": "stream",
     "text": [
      "     pcost       dcost       gap    pres   dres\n",
      " 0:  1.0000e+00 -2.0500e+00  3e+00  2e-16  9e-16\n",
      " 1:  1.0000e+00  9.6950e-01  3e-02  1e-16  1e-15\n",
      " 2:  1.0000e+00  9.9969e-01  3e-04  9e-17  1e-15\n",
      " 3:  1.0000e+00  1.0000e+00  3e-06  8e-17  1e-15\n",
      " 4:  1.0000e+00  1.0000e+00  2e-07  1e-16  1e-15\n",
      "Optimal solution found.\n"
     ]
    },
    {
     "name": "stderr",
     "output_type": "stream",
     "text": [
      "2023-03-11 22:16:38,796 simple_logger.py log_once [line:27] INFO test_accuracy                 0.1555\n",
      "2023-03-11 22:16:38,797 simple_logger.py log_once [line:27] INFO test_loss                     2.2621\n",
      "2023-03-11 22:16:38,797 simple_logger.py log_once [line:27] INFO valid_accuracy                0.1466\n",
      "2023-03-11 22:16:38,797 simple_logger.py log_once [line:27] INFO mean_valid_accuracy           0.1466\n",
      "2023-03-11 22:16:38,798 simple_logger.py log_once [line:27] INFO std_valid_accuracy            0.1845\n",
      "2023-03-11 22:16:38,798 simple_logger.py log_once [line:27] INFO valid_loss                    2.2635\n",
      "2023-03-11 22:16:38,798 simple_logger.py log_once [line:27] INFO mean_valid_loss               2.2635\n",
      "2023-03-11 22:16:38,798 simple_logger.py log_once [line:27] INFO std_valid_loss                0.0872\n",
      "2023-03-11 22:16:38,799 fedbase.py run [line:117] INFO Eval Time Cost:               2.7323s\n",
      "2023-03-11 22:16:40,289 fedbase.py run [line:112] INFO --------------Round 6--------------\n",
      "2023-03-11 22:16:40,290 simple_logger.py log_once [line:13] INFO Current_time:6\n"
     ]
    },
    {
     "name": "stdout",
     "output_type": "stream",
     "text": [
      "     pcost       dcost       gap    pres   dres\n",
      " 0:  1.0000e+00 -2.0500e+00  3e+00  2e-16  4e-16\n",
      " 1:  1.0000e+00  9.6950e-01  3e-02  2e-16  1e-15\n",
      " 2:  1.0000e+00  9.9969e-01  3e-04  1e-16  1e-15\n",
      " 3:  1.0000e+00  1.0000e+00  3e-06  2e-16  1e-15\n",
      " 4:  1.0000e+00  1.0000e+00  3e-07  1e-16  1e-15\n",
      "Optimal solution found.\n"
     ]
    },
    {
     "name": "stderr",
     "output_type": "stream",
     "text": [
      "2023-03-11 22:16:43,066 simple_logger.py log_once [line:27] INFO test_accuracy                 0.1630\n",
      "2023-03-11 22:16:43,067 simple_logger.py log_once [line:27] INFO test_loss                     2.2501\n",
      "2023-03-11 22:16:43,067 simple_logger.py log_once [line:27] INFO valid_accuracy                0.1526\n",
      "2023-03-11 22:16:43,067 simple_logger.py log_once [line:27] INFO mean_valid_accuracy           0.1526\n",
      "2023-03-11 22:16:43,068 simple_logger.py log_once [line:27] INFO std_valid_accuracy            0.1614\n",
      "2023-03-11 22:16:43,068 simple_logger.py log_once [line:27] INFO valid_loss                    2.2517\n",
      "2023-03-11 22:16:43,068 simple_logger.py log_once [line:27] INFO mean_valid_loss               2.2517\n",
      "2023-03-11 22:16:43,068 simple_logger.py log_once [line:27] INFO std_valid_loss                0.0828\n",
      "2023-03-11 22:16:43,069 fedbase.py run [line:117] INFO Eval Time Cost:               2.7792s\n",
      "2023-03-11 22:16:44,574 fedbase.py run [line:112] INFO --------------Round 7--------------\n",
      "2023-03-11 22:16:44,574 simple_logger.py log_once [line:13] INFO Current_time:7\n"
     ]
    },
    {
     "name": "stdout",
     "output_type": "stream",
     "text": [
      "     pcost       dcost       gap    pres   dres\n",
      " 0:  1.0000e+00 -2.0500e+00  3e+00  2e-17  2e-15\n",
      " 1:  1.0000e+00  9.6950e-01  3e-02  8e-17  1e-15\n",
      " 2:  1.0000e+00  9.9969e-01  3e-04  1e-16  1e-15\n",
      " 3:  1.0000e+00  1.0000e+00  3e-06  7e-17  7e-16\n",
      " 4:  1.0000e+00  1.0000e+00  3e-08  1e-16  1e-15\n",
      "Optimal solution found.\n"
     ]
    },
    {
     "name": "stderr",
     "output_type": "stream",
     "text": [
      "2023-03-11 22:16:47,321 simple_logger.py log_once [line:27] INFO test_accuracy                 0.1965\n",
      "2023-03-11 22:16:47,321 simple_logger.py log_once [line:27] INFO test_loss                     2.2320\n",
      "2023-03-11 22:16:47,322 simple_logger.py log_once [line:27] INFO valid_accuracy                0.1942\n",
      "2023-03-11 22:16:47,322 simple_logger.py log_once [line:27] INFO mean_valid_accuracy           0.1942\n",
      "2023-03-11 22:16:47,322 simple_logger.py log_once [line:27] INFO std_valid_accuracy            0.1570\n",
      "2023-03-11 22:16:47,323 simple_logger.py log_once [line:27] INFO valid_loss                    2.2332\n",
      "2023-03-11 22:16:47,323 simple_logger.py log_once [line:27] INFO mean_valid_loss               2.2332\n",
      "2023-03-11 22:16:47,323 simple_logger.py log_once [line:27] INFO std_valid_loss                0.0906\n",
      "2023-03-11 22:16:47,324 fedbase.py run [line:117] INFO Eval Time Cost:               2.7492s\n",
      "2023-03-11 22:16:48,760 fedbase.py run [line:112] INFO --------------Round 8--------------\n",
      "2023-03-11 22:16:48,761 simple_logger.py log_once [line:13] INFO Current_time:8\n"
     ]
    },
    {
     "name": "stdout",
     "output_type": "stream",
     "text": [
      "     pcost       dcost       gap    pres   dres\n",
      " 0:  1.0000e+00 -2.0500e+00  3e+00  1e-16  9e-16\n",
      " 1:  1.0000e+00  9.6950e-01  3e-02  2e-16  1e-15\n",
      " 2:  1.0000e+00  9.9970e-01  3e-04  2e-16  1e-15\n",
      " 3:  1.0000e+00  1.0000e+00  3e-06  2e-16  1e-15\n",
      " 4:  1.0000e+00  1.0000e+00  2e-07  3e-16  1e-15\n",
      "Optimal solution found.\n"
     ]
    },
    {
     "name": "stderr",
     "output_type": "stream",
     "text": [
      "2023-03-11 22:16:51,515 simple_logger.py log_once [line:27] INFO test_accuracy                 0.1950\n",
      "2023-03-11 22:16:51,515 simple_logger.py log_once [line:27] INFO test_loss                     2.2148\n",
      "2023-03-11 22:16:51,516 simple_logger.py log_once [line:27] INFO valid_accuracy                0.1944\n",
      "2023-03-11 22:16:51,516 simple_logger.py log_once [line:27] INFO mean_valid_accuracy           0.1944\n",
      "2023-03-11 22:16:51,516 simple_logger.py log_once [line:27] INFO std_valid_accuracy            0.1786\n",
      "2023-03-11 22:16:51,517 simple_logger.py log_once [line:27] INFO valid_loss                    2.2150\n",
      "2023-03-11 22:16:51,517 simple_logger.py log_once [line:27] INFO mean_valid_loss               2.2150\n",
      "2023-03-11 22:16:51,517 simple_logger.py log_once [line:27] INFO std_valid_loss                0.1147\n",
      "2023-03-11 22:16:51,518 fedbase.py run [line:117] INFO Eval Time Cost:               2.7572s\n",
      "2023-03-11 22:16:53,110 fedbase.py run [line:112] INFO --------------Round 9--------------\n",
      "2023-03-11 22:16:53,111 simple_logger.py log_once [line:13] INFO Current_time:9\n"
     ]
    },
    {
     "name": "stdout",
     "output_type": "stream",
     "text": [
      "     pcost       dcost       gap    pres   dres\n",
      " 0:  1.0000e+00 -2.0500e+00  3e+00  2e-16  9e-16\n",
      " 1:  1.0000e+00  9.6950e-01  3e-02  2e-16  1e-15\n",
      " 2:  1.0000e+00  9.9970e-01  3e-04  6e-16  1e-15\n",
      " 3:  1.0000e+00  1.0000e+00  3e-06  2e-16  8e-16\n",
      " 4:  1.0000e+00  1.0000e+00  3e-08  9e-17  3e-16\n",
      "Optimal solution found.\n"
     ]
    },
    {
     "name": "stderr",
     "output_type": "stream",
     "text": [
      "2023-03-11 22:16:55,866 simple_logger.py log_once [line:27] INFO test_accuracy                 0.2317\n",
      "2023-03-11 22:16:55,867 simple_logger.py log_once [line:27] INFO test_loss                     2.1913\n",
      "2023-03-11 22:16:55,867 simple_logger.py log_once [line:27] INFO valid_accuracy                0.2336\n",
      "2023-03-11 22:16:55,868 simple_logger.py log_once [line:27] INFO mean_valid_accuracy           0.2336\n",
      "2023-03-11 22:16:55,868 simple_logger.py log_once [line:27] INFO std_valid_accuracy            0.1659\n",
      "2023-03-11 22:16:55,868 simple_logger.py log_once [line:27] INFO valid_loss                    2.1895\n",
      "2023-03-11 22:16:55,869 simple_logger.py log_once [line:27] INFO mean_valid_loss               2.1895\n",
      "2023-03-11 22:16:55,869 simple_logger.py log_once [line:27] INFO std_valid_loss                0.0854\n",
      "2023-03-11 22:16:55,869 fedbase.py run [line:117] INFO Eval Time Cost:               2.7588s\n",
      "2023-03-11 22:16:57,385 fedbase.py run [line:112] INFO --------------Round 10--------------\n",
      "2023-03-11 22:16:57,385 simple_logger.py log_once [line:13] INFO Current_time:10\n"
     ]
    },
    {
     "name": "stdout",
     "output_type": "stream",
     "text": [
      "     pcost       dcost       gap    pres   dres\n",
      " 0:  1.0000e+00 -2.0500e+00  3e+00  2e-16  9e-16\n",
      " 1:  1.0000e+00  9.6950e-01  3e-02  2e-16  1e-15\n",
      " 2:  1.0000e+00  9.9970e-01  3e-04  6e-16  1e-15\n",
      " 3:  1.0000e+00  1.0000e+00  3e-06  2e-16  8e-16\n",
      " 4:  1.0000e+00  1.0000e+00  3e-08  9e-17  3e-16\n",
      "Optimal solution found.\n"
     ]
    },
    {
     "name": "stderr",
     "output_type": "stream",
     "text": [
      "2023-03-11 22:17:00,199 simple_logger.py log_once [line:27] INFO test_accuracy                 0.2071\n",
      "2023-03-11 22:17:00,199 simple_logger.py log_once [line:27] INFO test_loss                     2.1756\n",
      "2023-03-11 22:17:00,200 simple_logger.py log_once [line:27] INFO valid_accuracy                0.2118\n",
      "2023-03-11 22:17:00,200 simple_logger.py log_once [line:27] INFO mean_valid_accuracy           0.2118\n",
      "2023-03-11 22:17:00,200 simple_logger.py log_once [line:27] INFO std_valid_accuracy            0.2048\n",
      "2023-03-11 22:17:00,201 simple_logger.py log_once [line:27] INFO valid_loss                    2.1734\n",
      "2023-03-11 22:17:00,201 simple_logger.py log_once [line:27] INFO mean_valid_loss               2.1734\n",
      "2023-03-11 22:17:00,201 simple_logger.py log_once [line:27] INFO std_valid_loss                0.1196\n",
      "2023-03-11 22:17:00,202 fedbase.py run [line:117] INFO Eval Time Cost:               2.8164s\n",
      "2023-03-11 22:17:01,721 fedbase.py run [line:112] INFO --------------Round 11--------------\n",
      "2023-03-11 22:17:01,721 simple_logger.py log_once [line:13] INFO Current_time:11\n"
     ]
    },
    {
     "name": "stdout",
     "output_type": "stream",
     "text": [
      "     pcost       dcost       gap    pres   dres\n",
      " 0:  1.0000e+00 -2.0500e+00  3e+00  3e-16  9e-16\n",
      " 1:  1.0000e+00  9.6950e-01  3e-02  2e-16  1e-15\n",
      " 2:  1.0000e+00  9.9969e-01  3e-04  7e-17  9e-16\n",
      " 3:  1.0000e+00  1.0000e+00  3e-06  9e-17  7e-16\n",
      " 4:  1.0000e+00  1.0000e+00  1e-07  2e-16  9e-16\n",
      "Optimal solution found.\n"
     ]
    },
    {
     "name": "stderr",
     "output_type": "stream",
     "text": [
      "2023-03-11 22:17:04,477 simple_logger.py log_once [line:27] INFO test_accuracy                 0.2003\n",
      "2023-03-11 22:17:04,478 simple_logger.py log_once [line:27] INFO test_loss                     2.1645\n",
      "2023-03-11 22:17:04,478 simple_logger.py log_once [line:27] INFO valid_accuracy                0.2102\n",
      "2023-03-11 22:17:04,478 simple_logger.py log_once [line:27] INFO mean_valid_accuracy           0.2102\n",
      "2023-03-11 22:17:04,479 simple_logger.py log_once [line:27] INFO std_valid_accuracy            0.1867\n",
      "2023-03-11 22:17:04,479 simple_logger.py log_once [line:27] INFO valid_loss                    2.1627\n",
      "2023-03-11 22:17:04,479 simple_logger.py log_once [line:27] INFO mean_valid_loss               2.1627\n",
      "2023-03-11 22:17:04,480 simple_logger.py log_once [line:27] INFO std_valid_loss                0.1471\n",
      "2023-03-11 22:17:04,480 fedbase.py run [line:117] INFO Eval Time Cost:               2.7589s\n",
      "2023-03-11 22:17:06,063 fedbase.py run [line:112] INFO --------------Round 12--------------\n",
      "2023-03-11 22:17:06,063 simple_logger.py log_once [line:13] INFO Current_time:12\n"
     ]
    },
    {
     "name": "stdout",
     "output_type": "stream",
     "text": [
      "     pcost       dcost       gap    pres   dres\n",
      " 0:  1.0000e+00 -2.0500e+00  3e+00  2e-16  9e-16\n",
      " 1:  1.0000e+00  9.6950e-01  3e-02  2e-16  1e-15\n",
      " 2:  1.0000e+00  9.9970e-01  3e-04  6e-16  1e-15\n",
      " 3:  1.0000e+00  1.0000e+00  3e-06  2e-16  8e-16\n",
      " 4:  1.0000e+00  1.0000e+00  3e-08  9e-17  3e-16\n",
      "Optimal solution found.\n"
     ]
    },
    {
     "name": "stderr",
     "output_type": "stream",
     "text": [
      "2023-03-11 22:17:08,825 simple_logger.py log_once [line:27] INFO test_accuracy                 0.2176\n",
      "2023-03-11 22:17:08,825 simple_logger.py log_once [line:27] INFO test_loss                     2.1458\n",
      "2023-03-11 22:17:08,826 simple_logger.py log_once [line:27] INFO valid_accuracy                0.2302\n",
      "2023-03-11 22:17:08,826 simple_logger.py log_once [line:27] INFO mean_valid_accuracy           0.2302\n",
      "2023-03-11 22:17:08,826 simple_logger.py log_once [line:27] INFO std_valid_accuracy            0.1648\n",
      "2023-03-11 22:17:08,827 simple_logger.py log_once [line:27] INFO valid_loss                    2.1433\n",
      "2023-03-11 22:17:08,827 simple_logger.py log_once [line:27] INFO mean_valid_loss               2.1433\n",
      "2023-03-11 22:17:08,827 simple_logger.py log_once [line:27] INFO std_valid_loss                0.1611\n",
      "2023-03-11 22:17:08,828 fedbase.py run [line:117] INFO Eval Time Cost:               2.7643s\n",
      "2023-03-11 22:17:10,203 fedbase.py run [line:112] INFO --------------Round 13--------------\n",
      "2023-03-11 22:17:10,204 simple_logger.py log_once [line:13] INFO Current_time:13\n"
     ]
    },
    {
     "name": "stdout",
     "output_type": "stream",
     "text": [
      "     pcost       dcost       gap    pres   dres\n",
      " 0:  1.0000e+00 -2.0500e+00  3e+00  2e-16  7e-16\n",
      " 1:  1.0000e+00  9.6950e-01  3e-02  3e-16  1e-15\n",
      " 2:  1.0000e+00  9.9970e-01  3e-04  3e-16  1e-15\n",
      " 3:  1.0000e+00  1.0000e+00  3e-06  8e-17  8e-16\n",
      " 4:  1.0000e+00  1.0000e+00  3e-08  1e-16  2e-16\n",
      "Optimal solution found.\n"
     ]
    },
    {
     "name": "stderr",
     "output_type": "stream",
     "text": [
      "2023-03-11 22:17:12,964 simple_logger.py log_once [line:27] INFO test_accuracy                 0.1844\n",
      "2023-03-11 22:17:12,965 simple_logger.py log_once [line:27] INFO test_loss                     2.1430\n",
      "2023-03-11 22:17:12,965 simple_logger.py log_once [line:27] INFO valid_accuracy                0.1834\n",
      "2023-03-11 22:17:12,965 simple_logger.py log_once [line:27] INFO mean_valid_accuracy           0.1834\n",
      "2023-03-11 22:17:12,966 simple_logger.py log_once [line:27] INFO std_valid_accuracy            0.1961\n",
      "2023-03-11 22:17:12,966 simple_logger.py log_once [line:27] INFO valid_loss                    2.1412\n",
      "2023-03-11 22:17:12,966 simple_logger.py log_once [line:27] INFO mean_valid_loss               2.1412\n",
      "2023-03-11 22:17:12,966 simple_logger.py log_once [line:27] INFO std_valid_loss                0.1890\n",
      "2023-03-11 22:17:12,967 fedbase.py run [line:117] INFO Eval Time Cost:               2.7630s\n",
      "2023-03-11 22:17:14,581 fedbase.py run [line:112] INFO --------------Round 14--------------\n",
      "2023-03-11 22:17:14,581 simple_logger.py log_once [line:13] INFO Current_time:14\n"
     ]
    },
    {
     "name": "stdout",
     "output_type": "stream",
     "text": [
      "     pcost       dcost       gap    pres   dres\n",
      " 0:  1.0000e+00 -2.0500e+00  3e+00  2e-17  2e-15\n",
      " 1:  1.0000e+00  9.6950e-01  3e-02  8e-17  1e-15\n",
      " 2:  1.0000e+00  9.9969e-01  3e-04  1e-16  1e-15\n",
      " 3:  1.0000e+00  1.0000e+00  3e-06  7e-17  7e-16\n",
      " 4:  1.0000e+00  1.0000e+00  3e-08  1e-16  1e-15\n",
      "Optimal solution found.\n"
     ]
    },
    {
     "name": "stderr",
     "output_type": "stream",
     "text": [
      "2023-03-11 22:17:17,325 simple_logger.py log_once [line:27] INFO test_accuracy                 0.1818\n",
      "2023-03-11 22:17:17,325 simple_logger.py log_once [line:27] INFO test_loss                     2.1269\n",
      "2023-03-11 22:17:17,326 simple_logger.py log_once [line:27] INFO valid_accuracy                0.1840\n",
      "2023-03-11 22:17:17,326 simple_logger.py log_once [line:27] INFO mean_valid_accuracy           0.1840\n",
      "2023-03-11 22:17:17,326 simple_logger.py log_once [line:27] INFO std_valid_accuracy            0.2064\n",
      "2023-03-11 22:17:17,326 simple_logger.py log_once [line:27] INFO valid_loss                    2.1252\n",
      "2023-03-11 22:17:17,327 simple_logger.py log_once [line:27] INFO mean_valid_loss               2.1252\n",
      "2023-03-11 22:17:17,327 simple_logger.py log_once [line:27] INFO std_valid_loss                0.1649\n",
      "2023-03-11 22:17:17,327 fedbase.py run [line:117] INFO Eval Time Cost:               2.7458s\n",
      "2023-03-11 22:17:18,868 fedbase.py run [line:112] INFO --------------Round 15--------------\n",
      "2023-03-11 22:17:18,869 simple_logger.py log_once [line:13] INFO Current_time:15\n"
     ]
    },
    {
     "name": "stdout",
     "output_type": "stream",
     "text": [
      "     pcost       dcost       gap    pres   dres\n",
      " 0:  1.0000e+00 -2.0500e+00  3e+00  2e-16  9e-16\n",
      " 1:  1.0000e+00  9.6950e-01  3e-02  1e-16  1e-15\n",
      " 2:  1.0000e+00  9.9969e-01  3e-04  9e-17  1e-15\n",
      " 3:  1.0000e+00  1.0000e+00  3e-06  8e-17  1e-15\n",
      " 4:  1.0000e+00  1.0000e+00  2e-07  1e-16  1e-15\n",
      "Optimal solution found.\n"
     ]
    },
    {
     "name": "stderr",
     "output_type": "stream",
     "text": [
      "2023-03-11 22:17:21,549 simple_logger.py log_once [line:27] INFO test_accuracy                 0.1724\n",
      "2023-03-11 22:17:21,550 simple_logger.py log_once [line:27] INFO test_loss                     2.1182\n",
      "2023-03-11 22:17:21,550 simple_logger.py log_once [line:27] INFO valid_accuracy                0.1766\n",
      "2023-03-11 22:17:21,550 simple_logger.py log_once [line:27] INFO mean_valid_accuracy           0.1766\n",
      "2023-03-11 22:17:21,551 simple_logger.py log_once [line:27] INFO std_valid_accuracy            0.2050\n",
      "2023-03-11 22:17:21,551 simple_logger.py log_once [line:27] INFO valid_loss                    2.1148\n",
      "2023-03-11 22:17:21,551 simple_logger.py log_once [line:27] INFO mean_valid_loss               2.1148\n",
      "2023-03-11 22:17:21,551 simple_logger.py log_once [line:27] INFO std_valid_loss                0.1672\n",
      "2023-03-11 22:17:21,552 fedbase.py run [line:117] INFO Eval Time Cost:               2.6832s\n",
      "2023-03-11 22:17:23,097 fedbase.py run [line:112] INFO --------------Round 16--------------\n",
      "2023-03-11 22:17:23,098 simple_logger.py log_once [line:13] INFO Current_time:16\n"
     ]
    },
    {
     "name": "stdout",
     "output_type": "stream",
     "text": [
      "     pcost       dcost       gap    pres   dres\n",
      " 0:  1.0000e+00 -2.0500e+00  3e+00  3e-16  1e-15\n",
      " 1:  1.0000e+00  9.6950e-01  3e-02  2e-16  2e-15\n",
      " 2:  1.0000e+00  9.9969e-01  3e-04  1e-16  1e-15\n",
      " 3:  1.0000e+00  1.0000e+00  3e-06  1e-16  1e-15\n",
      " 4:  1.0000e+00  1.0000e+00  2e-07  1e-16  7e-16\n",
      "Optimal solution found.\n"
     ]
    },
    {
     "name": "stderr",
     "output_type": "stream",
     "text": [
      "2023-03-11 22:17:25,774 simple_logger.py log_once [line:27] INFO test_accuracy                 0.1990\n",
      "2023-03-11 22:17:25,775 simple_logger.py log_once [line:27] INFO test_loss                     2.1048\n",
      "2023-03-11 22:17:25,775 simple_logger.py log_once [line:27] INFO valid_accuracy                0.2086\n",
      "2023-03-11 22:17:25,775 simple_logger.py log_once [line:27] INFO mean_valid_accuracy           0.2086\n",
      "2023-03-11 22:17:25,775 simple_logger.py log_once [line:27] INFO std_valid_accuracy            0.1847\n",
      "2023-03-11 22:17:25,776 simple_logger.py log_once [line:27] INFO valid_loss                    2.1015\n",
      "2023-03-11 22:17:25,776 simple_logger.py log_once [line:27] INFO mean_valid_loss               2.1015\n",
      "2023-03-11 22:17:25,776 simple_logger.py log_once [line:27] INFO std_valid_loss                0.1820\n",
      "2023-03-11 22:17:25,776 fedbase.py run [line:117] INFO Eval Time Cost:               2.6787s\n",
      "2023-03-11 22:17:27,250 fedbase.py run [line:112] INFO --------------Round 17--------------\n",
      "2023-03-11 22:17:27,250 simple_logger.py log_once [line:13] INFO Current_time:17\n"
     ]
    },
    {
     "name": "stdout",
     "output_type": "stream",
     "text": [
      "     pcost       dcost       gap    pres   dres\n",
      " 0:  1.0000e+00 -2.0500e+00  3e+00  9e-17  9e-16\n",
      " 1:  1.0000e+00  9.6950e-01  3e-02  8e-17  1e-15\n",
      " 2:  1.0000e+00  9.9969e-01  3e-04  1e-16  9e-16\n",
      " 3:  1.0000e+00  1.0000e+00  3e-06  2e-16  5e-16\n",
      " 4:  1.0000e+00  1.0000e+00  3e-08  4e-16  7e-16\n",
      "Optimal solution found.\n"
     ]
    },
    {
     "name": "stderr",
     "output_type": "stream",
     "text": [
      "2023-03-11 22:17:29,964 simple_logger.py log_once [line:27] INFO test_accuracy                 0.1500\n",
      "2023-03-11 22:17:29,965 simple_logger.py log_once [line:27] INFO test_loss                     2.1306\n",
      "2023-03-11 22:17:29,965 simple_logger.py log_once [line:27] INFO valid_accuracy                0.1560\n",
      "2023-03-11 22:17:29,966 simple_logger.py log_once [line:27] INFO mean_valid_accuracy           0.1560\n",
      "2023-03-11 22:17:29,966 simple_logger.py log_once [line:27] INFO std_valid_accuracy            0.2176\n",
      "2023-03-11 22:17:29,966 simple_logger.py log_once [line:27] INFO valid_loss                    2.1269\n",
      "2023-03-11 22:17:29,966 simple_logger.py log_once [line:27] INFO mean_valid_loss               2.1269\n",
      "2023-03-11 22:17:29,967 simple_logger.py log_once [line:27] INFO std_valid_loss                0.2704\n",
      "2023-03-11 22:17:29,967 fedbase.py run [line:117] INFO Eval Time Cost:               2.7167s\n",
      "2023-03-11 22:17:31,567 fedbase.py run [line:112] INFO --------------Round 18--------------\n",
      "2023-03-11 22:17:31,567 simple_logger.py log_once [line:13] INFO Current_time:18\n"
     ]
    },
    {
     "name": "stdout",
     "output_type": "stream",
     "text": [
      "     pcost       dcost       gap    pres   dres\n",
      " 0:  1.0000e+00 -2.0500e+00  3e+00  9e-17  1e-15\n",
      " 1:  1.0000e+00  9.6950e-01  3e-02  2e-16  1e-15\n",
      " 2:  1.0000e+00  9.9970e-01  3e-04  9e-17  1e-15\n",
      " 3:  1.0000e+00  1.0000e+00  3e-06  2e-16  1e-15\n",
      " 4:  1.0000e+00  1.0000e+00  3e-08  1e-16  2e-15\n",
      "Optimal solution found.\n"
     ]
    },
    {
     "name": "stderr",
     "output_type": "stream",
     "text": [
      "2023-03-11 22:17:34,338 simple_logger.py log_once [line:27] INFO test_accuracy                 0.1691\n",
      "2023-03-11 22:17:34,339 simple_logger.py log_once [line:27] INFO test_loss                     2.0989\n",
      "2023-03-11 22:17:34,339 simple_logger.py log_once [line:27] INFO valid_accuracy                0.1718\n",
      "2023-03-11 22:17:34,339 simple_logger.py log_once [line:27] INFO mean_valid_accuracy           0.1718\n",
      "2023-03-11 22:17:34,340 simple_logger.py log_once [line:27] INFO std_valid_accuracy            0.2182\n",
      "2023-03-11 22:17:34,340 simple_logger.py log_once [line:27] INFO valid_loss                    2.0958\n",
      "2023-03-11 22:17:34,340 simple_logger.py log_once [line:27] INFO mean_valid_loss               2.0958\n",
      "2023-03-11 22:17:34,340 simple_logger.py log_once [line:27] INFO std_valid_loss                0.2169\n",
      "2023-03-11 22:17:34,341 fedbase.py run [line:117] INFO Eval Time Cost:               2.7737s\n",
      "2023-03-11 22:17:36,015 fedbase.py run [line:112] INFO --------------Round 19--------------\n",
      "2023-03-11 22:17:36,016 simple_logger.py log_once [line:13] INFO Current_time:19\n"
     ]
    },
    {
     "name": "stdout",
     "output_type": "stream",
     "text": [
      "     pcost       dcost       gap    pres   dres\n",
      " 0:  1.0000e+00 -2.0500e+00  3e+00  2e-16  4e-16\n",
      " 1:  1.0000e+00  9.6950e-01  3e-02  2e-16  1e-15\n",
      " 2:  1.0000e+00  9.9969e-01  3e-04  1e-16  1e-15\n",
      " 3:  1.0000e+00  1.0000e+00  3e-06  2e-16  1e-15\n",
      " 4:  1.0000e+00  1.0000e+00  3e-07  1e-16  1e-15\n",
      "Optimal solution found.\n"
     ]
    },
    {
     "name": "stderr",
     "output_type": "stream",
     "text": [
      "2023-03-11 22:17:38,780 simple_logger.py log_once [line:27] INFO test_accuracy                 0.1885\n",
      "2023-03-11 22:17:38,781 simple_logger.py log_once [line:27] INFO test_loss                     2.0832\n",
      "2023-03-11 22:17:38,781 simple_logger.py log_once [line:27] INFO valid_accuracy                0.1854\n",
      "2023-03-11 22:17:38,781 simple_logger.py log_once [line:27] INFO mean_valid_accuracy           0.1854\n",
      "2023-03-11 22:17:38,781 simple_logger.py log_once [line:27] INFO std_valid_accuracy            0.1977\n",
      "2023-03-11 22:17:38,782 simple_logger.py log_once [line:27] INFO valid_loss                    2.0791\n",
      "2023-03-11 22:17:38,782 simple_logger.py log_once [line:27] INFO mean_valid_loss               2.0791\n",
      "2023-03-11 22:17:38,782 simple_logger.py log_once [line:27] INFO std_valid_loss                0.2277\n",
      "2023-03-11 22:17:38,782 fedbase.py run [line:117] INFO Eval Time Cost:               2.7665s\n",
      "2023-03-11 22:17:40,409 fedbase.py run [line:112] INFO --------------Round 20--------------\n",
      "2023-03-11 22:17:40,410 simple_logger.py log_once [line:13] INFO Current_time:20\n"
     ]
    },
    {
     "name": "stdout",
     "output_type": "stream",
     "text": [
      "     pcost       dcost       gap    pres   dres\n",
      " 0:  1.0000e+00 -2.0500e+00  3e+00  9e-17  1e-15\n",
      " 1:  1.0000e+00  9.6950e-01  3e-02  2e-16  1e-15\n",
      " 2:  1.0000e+00  9.9970e-01  3e-04  9e-17  1e-15\n",
      " 3:  1.0000e+00  1.0000e+00  3e-06  2e-16  1e-15\n",
      " 4:  1.0000e+00  1.0000e+00  3e-08  1e-16  2e-15\n",
      "Optimal solution found.\n"
     ]
    },
    {
     "name": "stderr",
     "output_type": "stream",
     "text": [
      "2023-03-11 22:17:43,202 simple_logger.py log_once [line:27] INFO test_accuracy                 0.1879\n",
      "2023-03-11 22:17:43,203 simple_logger.py log_once [line:27] INFO test_loss                     2.0827\n",
      "2023-03-11 22:17:43,203 simple_logger.py log_once [line:27] INFO valid_accuracy                0.1904\n",
      "2023-03-11 22:17:43,203 simple_logger.py log_once [line:27] INFO mean_valid_accuracy           0.1904\n",
      "2023-03-11 22:17:43,204 simple_logger.py log_once [line:27] INFO std_valid_accuracy            0.2023\n",
      "2023-03-11 22:17:43,204 simple_logger.py log_once [line:27] INFO valid_loss                    2.0768\n",
      "2023-03-11 22:17:43,204 simple_logger.py log_once [line:27] INFO mean_valid_loss               2.0768\n",
      "2023-03-11 22:17:43,204 simple_logger.py log_once [line:27] INFO std_valid_loss                0.2472\n",
      "2023-03-11 22:17:43,205 fedbase.py run [line:117] INFO Eval Time Cost:               2.7946s\n",
      "2023-03-11 22:17:44,795 fedbase.py run [line:112] INFO --------------Round 21--------------\n",
      "2023-03-11 22:17:44,796 simple_logger.py log_once [line:13] INFO Current_time:21\n"
     ]
    },
    {
     "name": "stdout",
     "output_type": "stream",
     "text": [
      "     pcost       dcost       gap    pres   dres\n",
      " 0:  1.0000e+00 -2.0500e+00  3e+00  4e-17  1e-15\n",
      " 1:  1.0000e+00  9.6950e-01  3e-02  1e-16  1e-15\n",
      " 2:  1.0000e+00  9.9969e-01  3e-04  8e-17  5e-16\n",
      " 3:  1.0000e+00  1.0000e+00  3e-06  1e-16  4e-16\n",
      " 4:  1.0000e+00  1.0000e+00  2e-07  1e-16  6e-16\n",
      "Optimal solution found.\n"
     ]
    },
    {
     "name": "stderr",
     "output_type": "stream",
     "text": [
      "2023-03-11 22:17:47,556 simple_logger.py log_once [line:27] INFO test_accuracy                 0.1832\n",
      "2023-03-11 22:17:47,557 simple_logger.py log_once [line:27] INFO test_loss                     2.1044\n",
      "2023-03-11 22:17:47,557 simple_logger.py log_once [line:27] INFO valid_accuracy                0.1848\n",
      "2023-03-11 22:17:47,558 simple_logger.py log_once [line:27] INFO mean_valid_accuracy           0.1848\n",
      "2023-03-11 22:17:47,558 simple_logger.py log_once [line:27] INFO std_valid_accuracy            0.2047\n",
      "2023-03-11 22:17:47,558 simple_logger.py log_once [line:27] INFO valid_loss                    2.0987\n",
      "2023-03-11 22:17:47,559 simple_logger.py log_once [line:27] INFO mean_valid_loss               2.0987\n",
      "2023-03-11 22:17:47,560 simple_logger.py log_once [line:27] INFO std_valid_loss                0.2976\n",
      "2023-03-11 22:17:47,560 fedbase.py run [line:117] INFO Eval Time Cost:               2.7638s\n",
      "2023-03-11 22:17:49,133 fedbase.py run [line:112] INFO --------------Round 22--------------\n",
      "2023-03-11 22:17:49,134 simple_logger.py log_once [line:13] INFO Current_time:22\n"
     ]
    },
    {
     "name": "stdout",
     "output_type": "stream",
     "text": [
      "     pcost       dcost       gap    pres   dres\n",
      " 0:  1.0000e+00 -2.0500e+00  3e+00  9e-17  1e-15\n",
      " 1:  1.0000e+00  9.6950e-01  3e-02  2e-16  1e-15\n",
      " 2:  1.0000e+00  9.9970e-01  3e-04  9e-17  1e-15\n",
      " 3:  1.0000e+00  1.0000e+00  3e-06  2e-16  1e-15\n",
      " 4:  1.0000e+00  1.0000e+00  3e-08  1e-16  2e-15\n",
      "Optimal solution found.\n"
     ]
    },
    {
     "name": "stderr",
     "output_type": "stream",
     "text": [
      "2023-03-11 22:17:51,853 simple_logger.py log_once [line:27] INFO test_accuracy                 0.2263\n",
      "2023-03-11 22:17:51,854 simple_logger.py log_once [line:27] INFO test_loss                     2.0604\n",
      "2023-03-11 22:17:51,854 simple_logger.py log_once [line:27] INFO valid_accuracy                0.2212\n",
      "2023-03-11 22:17:51,854 simple_logger.py log_once [line:27] INFO mean_valid_accuracy           0.2212\n",
      "2023-03-11 22:17:51,854 simple_logger.py log_once [line:27] INFO std_valid_accuracy            0.1877\n",
      "2023-03-11 22:17:51,855 simple_logger.py log_once [line:27] INFO valid_loss                    2.0546\n",
      "2023-03-11 22:17:51,855 simple_logger.py log_once [line:27] INFO mean_valid_loss               2.0546\n",
      "2023-03-11 22:17:51,855 simple_logger.py log_once [line:27] INFO std_valid_loss                0.2522\n",
      "2023-03-11 22:17:51,855 fedbase.py run [line:117] INFO Eval Time Cost:               2.7216s\n",
      "2023-03-11 22:17:53,372 fedbase.py run [line:112] INFO --------------Round 23--------------\n",
      "2023-03-11 22:17:53,373 simple_logger.py log_once [line:13] INFO Current_time:23\n"
     ]
    },
    {
     "name": "stdout",
     "output_type": "stream",
     "text": [
      "     pcost       dcost       gap    pres   dres\n",
      " 0:  1.0000e+00 -2.0500e+00  3e+00  3e-17  1e-15\n",
      " 1:  1.0000e+00  9.6950e-01  3e-02  1e-16  9e-16\n",
      " 2:  1.0000e+00  9.9969e-01  3e-04  3e-16  5e-16\n",
      " 3:  1.0000e+00  1.0000e+00  3e-06  8e-17  9e-16\n",
      " 4:  1.0000e+00  1.0000e+00  1e-07  1e-16  5e-16\n",
      "Optimal solution found.\n"
     ]
    },
    {
     "name": "stderr",
     "output_type": "stream",
     "text": [
      "2023-03-11 22:17:56,221 simple_logger.py log_once [line:27] INFO test_accuracy                 0.2634\n",
      "2023-03-11 22:17:56,221 simple_logger.py log_once [line:27] INFO test_loss                     2.0429\n",
      "2023-03-11 22:17:56,222 simple_logger.py log_once [line:27] INFO valid_accuracy                0.2550\n",
      "2023-03-11 22:17:56,222 simple_logger.py log_once [line:27] INFO mean_valid_accuracy           0.2550\n",
      "2023-03-11 22:17:56,222 simple_logger.py log_once [line:27] INFO std_valid_accuracy            0.1568\n",
      "2023-03-11 22:17:56,222 simple_logger.py log_once [line:27] INFO valid_loss                    2.0381\n",
      "2023-03-11 22:17:56,223 simple_logger.py log_once [line:27] INFO mean_valid_loss               2.0381\n",
      "2023-03-11 22:17:56,223 simple_logger.py log_once [line:27] INFO std_valid_loss                0.2083\n",
      "2023-03-11 22:17:56,223 fedbase.py run [line:117] INFO Eval Time Cost:               2.8507s\n",
      "2023-03-11 22:17:57,827 fedbase.py run [line:112] INFO --------------Round 24--------------\n",
      "2023-03-11 22:17:57,828 simple_logger.py log_once [line:13] INFO Current_time:24\n"
     ]
    },
    {
     "name": "stdout",
     "output_type": "stream",
     "text": [
      "     pcost       dcost       gap    pres   dres\n",
      " 0:  1.0000e+00 -2.0500e+00  3e+00  3e-16  9e-16\n",
      " 1:  1.0000e+00  9.6950e-01  3e-02  2e-16  1e-15\n",
      " 2:  1.0000e+00  9.9969e-01  3e-04  7e-17  9e-16\n",
      " 3:  1.0000e+00  1.0000e+00  3e-06  9e-17  7e-16\n",
      " 4:  1.0000e+00  1.0000e+00  1e-07  2e-16  9e-16\n",
      "Optimal solution found.\n"
     ]
    },
    {
     "name": "stderr",
     "output_type": "stream",
     "text": [
      "2023-03-11 22:18:00,609 simple_logger.py log_once [line:27] INFO test_accuracy                 0.2666\n",
      "2023-03-11 22:18:00,610 simple_logger.py log_once [line:27] INFO test_loss                     2.0348\n",
      "2023-03-11 22:18:00,610 simple_logger.py log_once [line:27] INFO valid_accuracy                0.2660\n",
      "2023-03-11 22:18:00,610 simple_logger.py log_once [line:27] INFO mean_valid_accuracy           0.2660\n",
      "2023-03-11 22:18:00,611 simple_logger.py log_once [line:27] INFO std_valid_accuracy            0.1466\n",
      "2023-03-11 22:18:00,611 simple_logger.py log_once [line:27] INFO valid_loss                    2.0309\n",
      "2023-03-11 22:18:00,611 simple_logger.py log_once [line:27] INFO mean_valid_loss               2.0309\n",
      "2023-03-11 22:18:00,611 simple_logger.py log_once [line:27] INFO std_valid_loss                0.2072\n",
      "2023-03-11 22:18:00,612 fedbase.py run [line:117] INFO Eval Time Cost:               2.7840s\n",
      "2023-03-11 22:18:02,212 fedbase.py run [line:112] INFO --------------Round 25--------------\n",
      "2023-03-11 22:18:02,212 simple_logger.py log_once [line:13] INFO Current_time:25\n"
     ]
    },
    {
     "name": "stdout",
     "output_type": "stream",
     "text": [
      "     pcost       dcost       gap    pres   dres\n",
      " 0:  1.0000e+00 -2.0500e+00  3e+00  3e-16  1e-15\n",
      " 1:  1.0000e+00  9.6950e-01  3e-02  2e-16  2e-15\n",
      " 2:  1.0000e+00  9.9969e-01  3e-04  1e-16  1e-15\n",
      " 3:  1.0000e+00  1.0000e+00  3e-06  1e-16  1e-15\n",
      " 4:  1.0000e+00  1.0000e+00  2e-07  1e-16  7e-16\n",
      "Optimal solution found.\n"
     ]
    },
    {
     "name": "stderr",
     "output_type": "stream",
     "text": [
      "2023-03-11 22:18:04,929 simple_logger.py log_once [line:27] INFO test_accuracy                 0.2380\n",
      "2023-03-11 22:18:04,930 simple_logger.py log_once [line:27] INFO test_loss                     2.0066\n",
      "2023-03-11 22:18:04,930 simple_logger.py log_once [line:27] INFO valid_accuracy                0.2310\n",
      "2023-03-11 22:18:04,931 simple_logger.py log_once [line:27] INFO mean_valid_accuracy           0.2310\n",
      "2023-03-11 22:18:04,931 simple_logger.py log_once [line:27] INFO std_valid_accuracy            0.1844\n",
      "2023-03-11 22:18:04,931 simple_logger.py log_once [line:27] INFO valid_loss                    2.0021\n",
      "2023-03-11 22:18:04,932 simple_logger.py log_once [line:27] INFO mean_valid_loss               2.0021\n",
      "2023-03-11 22:18:04,932 simple_logger.py log_once [line:27] INFO std_valid_loss                0.1938\n",
      "2023-03-11 22:18:04,932 fedbase.py run [line:117] INFO Eval Time Cost:               2.7197s\n",
      "2023-03-11 22:18:06,427 fedbase.py run [line:112] INFO --------------Round 26--------------\n",
      "2023-03-11 22:18:06,428 simple_logger.py log_once [line:13] INFO Current_time:26\n"
     ]
    },
    {
     "name": "stdout",
     "output_type": "stream",
     "text": [
      "     pcost       dcost       gap    pres   dres\n",
      " 0:  1.0000e+00 -2.0500e+00  3e+00  2e-16  9e-16\n",
      " 1:  1.0000e+00  9.6950e-01  3e-02  2e-16  1e-15\n",
      " 2:  1.0000e+00  9.9970e-01  3e-04  6e-16  1e-15\n",
      " 3:  1.0000e+00  1.0000e+00  3e-06  2e-16  8e-16\n",
      " 4:  1.0000e+00  1.0000e+00  3e-08  9e-17  3e-16\n",
      "Optimal solution found.\n"
     ]
    },
    {
     "name": "stderr",
     "output_type": "stream",
     "text": [
      "2023-03-11 22:18:09,135 simple_logger.py log_once [line:27] INFO test_accuracy                 0.2736\n",
      "2023-03-11 22:18:09,136 simple_logger.py log_once [line:27] INFO test_loss                     1.9706\n",
      "2023-03-11 22:18:09,136 simple_logger.py log_once [line:27] INFO valid_accuracy                0.2752\n",
      "2023-03-11 22:18:09,136 simple_logger.py log_once [line:27] INFO mean_valid_accuracy           0.2752\n",
      "2023-03-11 22:18:09,137 simple_logger.py log_once [line:27] INFO std_valid_accuracy            0.1508\n",
      "2023-03-11 22:18:09,137 simple_logger.py log_once [line:27] INFO valid_loss                    1.9662\n",
      "2023-03-11 22:18:09,138 simple_logger.py log_once [line:27] INFO mean_valid_loss               1.9662\n",
      "2023-03-11 22:18:09,138 simple_logger.py log_once [line:27] INFO std_valid_loss                0.1444\n",
      "2023-03-11 22:18:09,138 fedbase.py run [line:117] INFO Eval Time Cost:               2.7105s\n",
      "2023-03-11 22:18:10,412 fedbase.py run [line:112] INFO --------------Round 27--------------\n",
      "2023-03-11 22:18:10,413 simple_logger.py log_once [line:13] INFO Current_time:27\n"
     ]
    },
    {
     "name": "stdout",
     "output_type": "stream",
     "text": [
      "     pcost       dcost       gap    pres   dres\n",
      " 0:  1.0000e+00 -2.0500e+00  3e+00  3e-17  7e-16\n",
      " 1:  1.0000e+00  9.6950e-01  3e-02  7e-17  1e-15\n",
      " 2:  1.0000e+00  9.9969e-01  3e-04  7e-17  8e-16\n",
      " 3:  1.0000e+00  1.0000e+00  3e-06  2e-16  9e-16\n",
      " 4:  1.0000e+00  1.0000e+00  2e-07  9e-17  7e-16\n",
      "Optimal solution found.\n"
     ]
    },
    {
     "name": "stderr",
     "output_type": "stream",
     "text": [
      "2023-03-11 22:18:13,175 simple_logger.py log_once [line:27] INFO test_accuracy                 0.2800\n",
      "2023-03-11 22:18:13,175 simple_logger.py log_once [line:27] INFO test_loss                     1.9618\n",
      "2023-03-11 22:18:13,175 simple_logger.py log_once [line:27] INFO valid_accuracy                0.2736\n",
      "2023-03-11 22:18:13,176 simple_logger.py log_once [line:27] INFO mean_valid_accuracy           0.2736\n",
      "2023-03-11 22:18:13,176 simple_logger.py log_once [line:27] INFO std_valid_accuracy            0.1522\n",
      "2023-03-11 22:18:13,176 simple_logger.py log_once [line:27] INFO valid_loss                    1.9577\n",
      "2023-03-11 22:18:13,177 simple_logger.py log_once [line:27] INFO mean_valid_loss               1.9577\n",
      "2023-03-11 22:18:13,177 simple_logger.py log_once [line:27] INFO std_valid_loss                0.1832\n",
      "2023-03-11 22:18:13,177 fedbase.py run [line:117] INFO Eval Time Cost:               2.7644s\n",
      "2023-03-11 22:18:14,658 fedbase.py run [line:112] INFO --------------Round 28--------------\n",
      "2023-03-11 22:18:14,659 simple_logger.py log_once [line:13] INFO Current_time:28\n"
     ]
    },
    {
     "name": "stdout",
     "output_type": "stream",
     "text": [
      "     pcost       dcost       gap    pres   dres\n",
      " 0:  1.0000e+00 -2.0500e+00  3e+00  3e-17  1e-15\n",
      " 1:  1.0000e+00  9.6950e-01  3e-02  1e-16  9e-16\n",
      " 2:  1.0000e+00  9.9969e-01  3e-04  3e-16  5e-16\n",
      " 3:  1.0000e+00  1.0000e+00  3e-06  8e-17  9e-16\n",
      " 4:  1.0000e+00  1.0000e+00  1e-07  1e-16  5e-16\n",
      "Optimal solution found.\n"
     ]
    },
    {
     "name": "stderr",
     "output_type": "stream",
     "text": [
      "2023-03-11 22:18:17,360 simple_logger.py log_once [line:27] INFO test_accuracy                 0.2857\n",
      "2023-03-11 22:18:17,361 simple_logger.py log_once [line:27] INFO test_loss                     1.9619\n",
      "2023-03-11 22:18:17,361 simple_logger.py log_once [line:27] INFO valid_accuracy                0.2714\n",
      "2023-03-11 22:18:17,361 simple_logger.py log_once [line:27] INFO mean_valid_accuracy           0.2714\n",
      "2023-03-11 22:18:17,361 simple_logger.py log_once [line:27] INFO std_valid_accuracy            0.1530\n",
      "2023-03-11 22:18:17,362 simple_logger.py log_once [line:27] INFO valid_loss                    1.9597\n",
      "2023-03-11 22:18:17,362 simple_logger.py log_once [line:27] INFO mean_valid_loss               1.9597\n",
      "2023-03-11 22:18:17,362 simple_logger.py log_once [line:27] INFO std_valid_loss                0.2249\n",
      "2023-03-11 22:18:17,362 fedbase.py run [line:117] INFO Eval Time Cost:               2.7037s\n",
      "2023-03-11 22:18:18,773 fedbase.py run [line:112] INFO --------------Round 29--------------\n",
      "2023-03-11 22:18:18,774 simple_logger.py log_once [line:13] INFO Current_time:29\n"
     ]
    },
    {
     "name": "stdout",
     "output_type": "stream",
     "text": [
      "     pcost       dcost       gap    pres   dres\n",
      " 0:  1.0000e+00 -2.0500e+00  3e+00  2e-16  7e-16\n",
      " 1:  1.0000e+00  9.6950e-01  3e-02  3e-16  1e-15\n",
      " 2:  1.0000e+00  9.9970e-01  3e-04  3e-16  1e-15\n",
      " 3:  1.0000e+00  1.0000e+00  3e-06  8e-17  8e-16\n",
      " 4:  1.0000e+00  1.0000e+00  3e-08  1e-16  2e-16\n",
      "Optimal solution found.\n"
     ]
    },
    {
     "name": "stderr",
     "output_type": "stream",
     "text": [
      "2023-03-11 22:18:21,480 simple_logger.py log_once [line:27] INFO test_accuracy                 0.2943\n",
      "2023-03-11 22:18:21,481 simple_logger.py log_once [line:27] INFO test_loss                     1.9416\n",
      "2023-03-11 22:18:21,481 simple_logger.py log_once [line:27] INFO valid_accuracy                0.2938\n",
      "2023-03-11 22:18:21,481 simple_logger.py log_once [line:27] INFO mean_valid_accuracy           0.2938\n",
      "2023-03-11 22:18:21,482 simple_logger.py log_once [line:27] INFO std_valid_accuracy            0.1650\n",
      "2023-03-11 22:18:21,482 simple_logger.py log_once [line:27] INFO valid_loss                    1.9375\n",
      "2023-03-11 22:18:21,482 simple_logger.py log_once [line:27] INFO mean_valid_loss               1.9375\n",
      "2023-03-11 22:18:21,482 simple_logger.py log_once [line:27] INFO std_valid_loss                0.2302\n",
      "2023-03-11 22:18:21,483 fedbase.py run [line:117] INFO Eval Time Cost:               2.7090s\n",
      "2023-03-11 22:18:22,979 fedbase.py run [line:112] INFO --------------Round 30--------------\n",
      "2023-03-11 22:18:22,980 simple_logger.py log_once [line:13] INFO Current_time:30\n"
     ]
    },
    {
     "name": "stdout",
     "output_type": "stream",
     "text": [
      "     pcost       dcost       gap    pres   dres\n",
      " 0:  1.0000e+00 -2.0500e+00  3e+00  9e-17  1e-15\n",
      " 1:  1.0000e+00  9.6950e-01  3e-02  2e-16  1e-15\n",
      " 2:  1.0000e+00  9.9970e-01  3e-04  9e-17  1e-15\n",
      " 3:  1.0000e+00  1.0000e+00  3e-06  2e-16  1e-15\n",
      " 4:  1.0000e+00  1.0000e+00  3e-08  1e-16  2e-15\n",
      "Optimal solution found.\n"
     ]
    },
    {
     "name": "stderr",
     "output_type": "stream",
     "text": [
      "2023-03-11 22:18:25,679 simple_logger.py log_once [line:27] INFO test_accuracy                 0.3081\n",
      "2023-03-11 22:18:25,679 simple_logger.py log_once [line:27] INFO test_loss                     1.9304\n",
      "2023-03-11 22:18:25,680 simple_logger.py log_once [line:27] INFO valid_accuracy                0.3100\n",
      "2023-03-11 22:18:25,680 simple_logger.py log_once [line:27] INFO mean_valid_accuracy           0.3100\n",
      "2023-03-11 22:18:25,680 simple_logger.py log_once [line:27] INFO std_valid_accuracy            0.1729\n",
      "2023-03-11 22:18:25,680 simple_logger.py log_once [line:27] INFO valid_loss                    1.9248\n",
      "2023-03-11 22:18:25,681 simple_logger.py log_once [line:27] INFO mean_valid_loss               1.9248\n",
      "2023-03-11 22:18:25,681 simple_logger.py log_once [line:27] INFO std_valid_loss                0.2343\n",
      "2023-03-11 22:18:25,681 fedbase.py run [line:117] INFO Eval Time Cost:               2.7018s\n",
      "2023-03-11 22:18:27,267 fedbase.py run [line:112] INFO --------------Round 31--------------\n",
      "2023-03-11 22:18:27,268 simple_logger.py log_once [line:13] INFO Current_time:31\n"
     ]
    },
    {
     "name": "stdout",
     "output_type": "stream",
     "text": [
      "     pcost       dcost       gap    pres   dres\n",
      " 0:  1.0000e+00 -2.0500e+00  3e+00  2e-17  2e-15\n",
      " 1:  1.0000e+00  9.6950e-01  3e-02  8e-17  1e-15\n",
      " 2:  1.0000e+00  9.9969e-01  3e-04  1e-16  1e-15\n",
      " 3:  1.0000e+00  1.0000e+00  3e-06  7e-17  7e-16\n",
      " 4:  1.0000e+00  1.0000e+00  3e-08  1e-16  1e-15\n",
      "Optimal solution found.\n"
     ]
    },
    {
     "name": "stderr",
     "output_type": "stream",
     "text": [
      "2023-03-11 22:18:30,021 simple_logger.py log_once [line:27] INFO test_accuracy                 0.3027\n",
      "2023-03-11 22:18:30,021 simple_logger.py log_once [line:27] INFO test_loss                     1.9229\n",
      "2023-03-11 22:18:30,022 simple_logger.py log_once [line:27] INFO valid_accuracy                0.2986\n",
      "2023-03-11 22:18:30,022 simple_logger.py log_once [line:27] INFO mean_valid_accuracy           0.2986\n",
      "2023-03-11 22:18:30,022 simple_logger.py log_once [line:27] INFO std_valid_accuracy            0.1469\n",
      "2023-03-11 22:18:30,022 simple_logger.py log_once [line:27] INFO valid_loss                    1.9211\n",
      "2023-03-11 22:18:30,023 simple_logger.py log_once [line:27] INFO mean_valid_loss               1.9211\n",
      "2023-03-11 22:18:30,023 simple_logger.py log_once [line:27] INFO std_valid_loss                0.1862\n",
      "2023-03-11 22:18:30,023 fedbase.py run [line:117] INFO Eval Time Cost:               2.7558s\n",
      "2023-03-11 22:18:31,701 fedbase.py run [line:112] INFO --------------Round 32--------------\n",
      "2023-03-11 22:18:31,702 simple_logger.py log_once [line:13] INFO Current_time:32\n"
     ]
    },
    {
     "name": "stdout",
     "output_type": "stream",
     "text": [
      "     pcost       dcost       gap    pres   dres\n",
      " 0:  1.0000e+00 -2.0500e+00  3e+00  9e-17  9e-16\n",
      " 1:  1.0000e+00  9.6950e-01  3e-02  8e-17  1e-15\n",
      " 2:  1.0000e+00  9.9969e-01  3e-04  1e-16  9e-16\n",
      " 3:  1.0000e+00  1.0000e+00  3e-06  2e-16  5e-16\n",
      " 4:  1.0000e+00  1.0000e+00  3e-08  4e-16  7e-16\n",
      "Optimal solution found.\n"
     ]
    },
    {
     "name": "stderr",
     "output_type": "stream",
     "text": [
      "2023-03-11 22:18:34,414 simple_logger.py log_once [line:27] INFO test_accuracy                 0.2781\n",
      "2023-03-11 22:18:34,415 simple_logger.py log_once [line:27] INFO test_loss                     1.9310\n",
      "2023-03-11 22:18:34,415 simple_logger.py log_once [line:27] INFO valid_accuracy                0.2814\n",
      "2023-03-11 22:18:34,415 simple_logger.py log_once [line:27] INFO mean_valid_accuracy           0.2814\n",
      "2023-03-11 22:18:34,416 simple_logger.py log_once [line:27] INFO std_valid_accuracy            0.1852\n",
      "2023-03-11 22:18:34,416 simple_logger.py log_once [line:27] INFO valid_loss                    1.9295\n",
      "2023-03-11 22:18:34,416 simple_logger.py log_once [line:27] INFO mean_valid_loss               1.9295\n",
      "2023-03-11 22:18:34,416 simple_logger.py log_once [line:27] INFO std_valid_loss                0.2557\n",
      "2023-03-11 22:18:34,417 fedbase.py run [line:117] INFO Eval Time Cost:               2.7146s\n",
      "2023-03-11 22:18:36,036 fedbase.py run [line:112] INFO --------------Round 33--------------\n",
      "2023-03-11 22:18:36,037 simple_logger.py log_once [line:13] INFO Current_time:33\n"
     ]
    },
    {
     "name": "stdout",
     "output_type": "stream",
     "text": [
      "     pcost       dcost       gap    pres   dres\n",
      " 0:  1.0000e+00 -2.0500e+00  3e+00  3e-16  9e-16\n",
      " 1:  1.0000e+00  9.6950e-01  3e-02  2e-16  1e-15\n",
      " 2:  1.0000e+00  9.9969e-01  3e-04  7e-17  9e-16\n",
      " 3:  1.0000e+00  1.0000e+00  3e-06  9e-17  7e-16\n",
      " 4:  1.0000e+00  1.0000e+00  1e-07  2e-16  9e-16\n",
      "Optimal solution found.\n"
     ]
    },
    {
     "name": "stderr",
     "output_type": "stream",
     "text": [
      "2023-03-11 22:18:38,745 simple_logger.py log_once [line:27] INFO test_accuracy                 0.2901\n",
      "2023-03-11 22:18:38,745 simple_logger.py log_once [line:27] INFO test_loss                     1.9358\n",
      "2023-03-11 22:18:38,745 simple_logger.py log_once [line:27] INFO valid_accuracy                0.2952\n",
      "2023-03-11 22:18:38,746 simple_logger.py log_once [line:27] INFO mean_valid_accuracy           0.2952\n",
      "2023-03-11 22:18:38,746 simple_logger.py log_once [line:27] INFO std_valid_accuracy            0.1741\n",
      "2023-03-11 22:18:38,746 simple_logger.py log_once [line:27] INFO valid_loss                    1.9315\n",
      "2023-03-11 22:18:38,746 simple_logger.py log_once [line:27] INFO mean_valid_loss               1.9315\n",
      "2023-03-11 22:18:38,747 simple_logger.py log_once [line:27] INFO std_valid_loss                0.3063\n",
      "2023-03-11 22:18:38,747 fedbase.py run [line:117] INFO Eval Time Cost:               2.7102s\n",
      "2023-03-11 22:18:40,304 fedbase.py run [line:112] INFO --------------Round 34--------------\n",
      "2023-03-11 22:18:40,304 simple_logger.py log_once [line:13] INFO Current_time:34\n"
     ]
    },
    {
     "name": "stdout",
     "output_type": "stream",
     "text": [
      "     pcost       dcost       gap    pres   dres\n",
      " 0:  1.0000e+00 -2.0500e+00  3e+00  3e-16  9e-16\n",
      " 1:  1.0000e+00  9.6950e-01  3e-02  2e-16  1e-15\n",
      " 2:  1.0000e+00  9.9969e-01  3e-04  7e-17  9e-16\n",
      " 3:  1.0000e+00  1.0000e+00  3e-06  9e-17  7e-16\n",
      " 4:  1.0000e+00  1.0000e+00  1e-07  2e-16  9e-16\n",
      "Optimal solution found.\n"
     ]
    },
    {
     "name": "stderr",
     "output_type": "stream",
     "text": [
      "2023-03-11 22:18:43,070 simple_logger.py log_once [line:27] INFO test_accuracy                 0.3036\n",
      "2023-03-11 22:18:43,070 simple_logger.py log_once [line:27] INFO test_loss                     1.9169\n",
      "2023-03-11 22:18:43,071 simple_logger.py log_once [line:27] INFO valid_accuracy                0.2986\n",
      "2023-03-11 22:18:43,071 simple_logger.py log_once [line:27] INFO mean_valid_accuracy           0.2986\n",
      "2023-03-11 22:18:43,071 simple_logger.py log_once [line:27] INFO std_valid_accuracy            0.1710\n",
      "2023-03-11 22:18:43,071 simple_logger.py log_once [line:27] INFO valid_loss                    1.9116\n",
      "2023-03-11 22:18:43,072 simple_logger.py log_once [line:27] INFO mean_valid_loss               1.9116\n",
      "2023-03-11 22:18:43,072 simple_logger.py log_once [line:27] INFO std_valid_loss                0.2668\n",
      "2023-03-11 22:18:43,072 fedbase.py run [line:117] INFO Eval Time Cost:               2.7680s\n",
      "2023-03-11 22:18:44,637 fedbase.py run [line:112] INFO --------------Round 35--------------\n",
      "2023-03-11 22:18:44,637 simple_logger.py log_once [line:13] INFO Current_time:35\n"
     ]
    },
    {
     "name": "stdout",
     "output_type": "stream",
     "text": [
      "     pcost       dcost       gap    pres   dres\n",
      " 0:  1.0000e+00 -2.0500e+00  3e+00  3e-17  8e-16\n",
      " 1:  1.0000e+00  9.6950e-01  3e-02  1e-16  1e-15\n",
      " 2:  1.0000e+00  9.9970e-01  3e-04  8e-17  1e-15\n",
      " 3:  1.0000e+00  1.0000e+00  3e-06  2e-16  1e-15\n",
      " 4:  1.0000e+00  1.0000e+00  2e-07  1e-16  2e-15\n",
      "Optimal solution found.\n"
     ]
    },
    {
     "name": "stderr",
     "output_type": "stream",
     "text": [
      "2023-03-11 22:18:47,428 simple_logger.py log_once [line:27] INFO test_accuracy                 0.2944\n",
      "2023-03-11 22:18:47,429 simple_logger.py log_once [line:27] INFO test_loss                     1.9181\n",
      "2023-03-11 22:18:47,429 simple_logger.py log_once [line:27] INFO valid_accuracy                0.2924\n",
      "2023-03-11 22:18:47,429 simple_logger.py log_once [line:27] INFO mean_valid_accuracy           0.2924\n",
      "2023-03-11 22:18:47,430 simple_logger.py log_once [line:27] INFO std_valid_accuracy            0.1752\n",
      "2023-03-11 22:18:47,430 simple_logger.py log_once [line:27] INFO valid_loss                    1.9126\n",
      "2023-03-11 22:18:47,430 simple_logger.py log_once [line:27] INFO mean_valid_loss               1.9126\n",
      "2023-03-11 22:18:47,431 simple_logger.py log_once [line:27] INFO std_valid_loss                0.2664\n",
      "2023-03-11 22:18:47,431 fedbase.py run [line:117] INFO Eval Time Cost:               2.7938s\n",
      "2023-03-11 22:18:49,043 fedbase.py run [line:112] INFO --------------Round 36--------------\n",
      "2023-03-11 22:18:49,044 simple_logger.py log_once [line:13] INFO Current_time:36\n"
     ]
    },
    {
     "name": "stdout",
     "output_type": "stream",
     "text": [
      "     pcost       dcost       gap    pres   dres\n",
      " 0:  1.0000e+00 -2.0500e+00  3e+00  3e-17  1e-15\n",
      " 1:  1.0000e+00  9.6950e-01  3e-02  1e-16  9e-16\n",
      " 2:  1.0000e+00  9.9969e-01  3e-04  3e-16  5e-16\n",
      " 3:  1.0000e+00  1.0000e+00  3e-06  8e-17  9e-16\n",
      " 4:  1.0000e+00  1.0000e+00  1e-07  1e-16  5e-16\n",
      "Optimal solution found.\n"
     ]
    },
    {
     "name": "stderr",
     "output_type": "stream",
     "text": [
      "2023-03-11 22:18:51,756 simple_logger.py log_once [line:27] INFO test_accuracy                 0.3086\n",
      "2023-03-11 22:18:51,756 simple_logger.py log_once [line:27] INFO test_loss                     1.8905\n",
      "2023-03-11 22:18:51,757 simple_logger.py log_once [line:27] INFO valid_accuracy                0.3076\n",
      "2023-03-11 22:18:51,757 simple_logger.py log_once [line:27] INFO mean_valid_accuracy           0.3076\n",
      "2023-03-11 22:18:51,757 simple_logger.py log_once [line:27] INFO std_valid_accuracy            0.1822\n",
      "2023-03-11 22:18:51,758 simple_logger.py log_once [line:27] INFO valid_loss                    1.8843\n",
      "2023-03-11 22:18:51,758 simple_logger.py log_once [line:27] INFO mean_valid_loss               1.8843\n",
      "2023-03-11 22:18:51,759 simple_logger.py log_once [line:27] INFO std_valid_loss                0.2628\n",
      "2023-03-11 22:18:51,759 fedbase.py run [line:117] INFO Eval Time Cost:               2.7149s\n",
      "2023-03-11 22:18:53,181 fedbase.py run [line:112] INFO --------------Round 37--------------\n",
      "2023-03-11 22:18:53,182 simple_logger.py log_once [line:13] INFO Current_time:37\n"
     ]
    },
    {
     "name": "stdout",
     "output_type": "stream",
     "text": [
      "     pcost       dcost       gap    pres   dres\n",
      " 0:  1.0000e+00 -2.0500e+00  3e+00  2e-17  2e-15\n",
      " 1:  1.0000e+00  9.6950e-01  3e-02  8e-17  1e-15\n",
      " 2:  1.0000e+00  9.9969e-01  3e-04  1e-16  1e-15\n",
      " 3:  1.0000e+00  1.0000e+00  3e-06  7e-17  7e-16\n",
      " 4:  1.0000e+00  1.0000e+00  3e-08  1e-16  1e-15\n",
      "Optimal solution found.\n"
     ]
    },
    {
     "name": "stderr",
     "output_type": "stream",
     "text": [
      "2023-03-11 22:18:55,861 simple_logger.py log_once [line:27] INFO test_accuracy                 0.3027\n",
      "2023-03-11 22:18:55,861 simple_logger.py log_once [line:27] INFO test_loss                     1.8950\n",
      "2023-03-11 22:18:55,861 simple_logger.py log_once [line:27] INFO valid_accuracy                0.3034\n",
      "2023-03-11 22:18:55,862 simple_logger.py log_once [line:27] INFO mean_valid_accuracy           0.3034\n",
      "2023-03-11 22:18:55,862 simple_logger.py log_once [line:27] INFO std_valid_accuracy            0.1723\n",
      "2023-03-11 22:18:55,862 simple_logger.py log_once [line:27] INFO valid_loss                    1.8886\n",
      "2023-03-11 22:18:55,863 simple_logger.py log_once [line:27] INFO mean_valid_loss               1.8886\n",
      "2023-03-11 22:18:55,863 simple_logger.py log_once [line:27] INFO std_valid_loss                0.2791\n",
      "2023-03-11 22:18:55,863 fedbase.py run [line:117] INFO Eval Time Cost:               2.6812s\n",
      "2023-03-11 22:18:57,437 fedbase.py run [line:112] INFO --------------Round 38--------------\n",
      "2023-03-11 22:18:57,437 simple_logger.py log_once [line:13] INFO Current_time:38\n"
     ]
    },
    {
     "name": "stdout",
     "output_type": "stream",
     "text": [
      "     pcost       dcost       gap    pres   dres\n",
      " 0:  1.0000e+00 -2.0500e+00  3e+00  3e-16  9e-16\n",
      " 1:  1.0000e+00  9.6950e-01  3e-02  2e-16  1e-15\n",
      " 2:  1.0000e+00  9.9969e-01  3e-04  7e-17  9e-16\n",
      " 3:  1.0000e+00  1.0000e+00  3e-06  9e-17  7e-16\n",
      " 4:  1.0000e+00  1.0000e+00  1e-07  2e-16  9e-16\n",
      "Optimal solution found.\n"
     ]
    },
    {
     "name": "stderr",
     "output_type": "stream",
     "text": [
      "2023-03-11 22:19:00,146 simple_logger.py log_once [line:27] INFO test_accuracy                 0.2931\n",
      "2023-03-11 22:19:00,147 simple_logger.py log_once [line:27] INFO test_loss                     1.9137\n",
      "2023-03-11 22:19:00,147 simple_logger.py log_once [line:27] INFO valid_accuracy                0.2908\n",
      "2023-03-11 22:19:00,147 simple_logger.py log_once [line:27] INFO mean_valid_accuracy           0.2908\n",
      "2023-03-11 22:19:00,148 simple_logger.py log_once [line:27] INFO std_valid_accuracy            0.1781\n",
      "2023-03-11 22:19:00,148 simple_logger.py log_once [line:27] INFO valid_loss                    1.9078\n",
      "2023-03-11 22:19:00,148 simple_logger.py log_once [line:27] INFO mean_valid_loss               1.9078\n",
      "2023-03-11 22:19:00,148 simple_logger.py log_once [line:27] INFO std_valid_loss                0.2918\n",
      "2023-03-11 22:19:00,149 fedbase.py run [line:117] INFO Eval Time Cost:               2.7116s\n",
      "2023-03-11 22:19:01,559 fedbase.py run [line:112] INFO --------------Round 39--------------\n",
      "2023-03-11 22:19:01,560 simple_logger.py log_once [line:13] INFO Current_time:39\n"
     ]
    },
    {
     "name": "stdout",
     "output_type": "stream",
     "text": [
      "     pcost       dcost       gap    pres   dres\n",
      " 0:  1.0000e+00 -2.0500e+00  3e+00  3e-16  5e-16\n",
      " 1:  1.0000e+00  9.6950e-01  3e-02  3e-16  1e-15\n",
      " 2:  1.0000e+00  9.9969e-01  3e-04  1e-16  7e-16\n",
      " 3:  1.0000e+00  1.0000e+00  3e-06  1e-16  7e-16\n",
      " 4:  1.0000e+00  1.0000e+00  3e-07  1e-16  6e-16\n",
      "Optimal solution found.\n"
     ]
    },
    {
     "name": "stderr",
     "output_type": "stream",
     "text": [
      "2023-03-11 22:19:04,266 simple_logger.py log_once [line:27] INFO test_accuracy                 0.3019\n",
      "2023-03-11 22:19:04,267 simple_logger.py log_once [line:27] INFO test_loss                     1.8893\n",
      "2023-03-11 22:19:04,267 simple_logger.py log_once [line:27] INFO valid_accuracy                0.3038\n",
      "2023-03-11 22:19:04,267 simple_logger.py log_once [line:27] INFO mean_valid_accuracy           0.3038\n",
      "2023-03-11 22:19:04,268 simple_logger.py log_once [line:27] INFO std_valid_accuracy            0.1578\n",
      "2023-03-11 22:19:04,268 simple_logger.py log_once [line:27] INFO valid_loss                    1.8842\n",
      "2023-03-11 22:19:04,268 simple_logger.py log_once [line:27] INFO mean_valid_loss               1.8842\n",
      "2023-03-11 22:19:04,269 simple_logger.py log_once [line:27] INFO std_valid_loss                0.2491\n",
      "2023-03-11 22:19:04,269 fedbase.py run [line:117] INFO Eval Time Cost:               2.7090s\n",
      "2023-03-11 22:19:05,750 fedbase.py run [line:112] INFO --------------Round 40--------------\n",
      "2023-03-11 22:19:05,750 simple_logger.py log_once [line:13] INFO Current_time:40\n"
     ]
    },
    {
     "name": "stdout",
     "output_type": "stream",
     "text": [
      "     pcost       dcost       gap    pres   dres\n",
      " 0:  1.0000e+00 -2.0500e+00  3e+00  2e-16  9e-16\n",
      " 1:  1.0000e+00  9.6950e-01  3e-02  2e-16  1e-15\n",
      " 2:  1.0000e+00  9.9970e-01  3e-04  6e-16  1e-15\n",
      " 3:  1.0000e+00  1.0000e+00  3e-06  2e-16  8e-16\n",
      " 4:  1.0000e+00  1.0000e+00  3e-08  9e-17  3e-16\n",
      "Optimal solution found.\n"
     ]
    },
    {
     "name": "stderr",
     "output_type": "stream",
     "text": [
      "2023-03-11 22:19:08,528 simple_logger.py log_once [line:27] INFO test_accuracy                 0.2756\n",
      "2023-03-11 22:19:08,529 simple_logger.py log_once [line:27] INFO test_loss                     1.8998\n",
      "2023-03-11 22:19:08,529 simple_logger.py log_once [line:27] INFO valid_accuracy                0.2800\n",
      "2023-03-11 22:19:08,529 simple_logger.py log_once [line:27] INFO mean_valid_accuracy           0.2800\n",
      "2023-03-11 22:19:08,530 simple_logger.py log_once [line:27] INFO std_valid_accuracy            0.1670\n",
      "2023-03-11 22:19:08,530 simple_logger.py log_once [line:27] INFO valid_loss                    1.8929\n",
      "2023-03-11 22:19:08,530 simple_logger.py log_once [line:27] INFO mean_valid_loss               1.8929\n",
      "2023-03-11 22:19:08,531 simple_logger.py log_once [line:27] INFO std_valid_loss                0.2664\n",
      "2023-03-11 22:19:08,531 fedbase.py run [line:117] INFO Eval Time Cost:               2.7805s\n",
      "2023-03-11 22:19:10,100 fedbase.py run [line:112] INFO --------------Round 41--------------\n",
      "2023-03-11 22:19:10,101 simple_logger.py log_once [line:13] INFO Current_time:41\n"
     ]
    },
    {
     "name": "stdout",
     "output_type": "stream",
     "text": [
      "     pcost       dcost       gap    pres   dres\n",
      " 0:  1.0000e+00 -2.0500e+00  3e+00  2e-16  9e-16\n",
      " 1:  1.0000e+00  9.6950e-01  3e-02  2e-16  1e-15\n",
      " 2:  1.0000e+00  9.9970e-01  3e-04  6e-16  1e-15\n",
      " 3:  1.0000e+00  1.0000e+00  3e-06  2e-16  8e-16\n",
      " 4:  1.0000e+00  1.0000e+00  3e-08  9e-17  3e-16\n",
      "Optimal solution found.\n"
     ]
    },
    {
     "name": "stderr",
     "output_type": "stream",
     "text": [
      "2023-03-11 22:19:12,818 simple_logger.py log_once [line:27] INFO test_accuracy                 0.3298\n",
      "2023-03-11 22:19:12,819 simple_logger.py log_once [line:27] INFO test_loss                     1.8483\n",
      "2023-03-11 22:19:12,819 simple_logger.py log_once [line:27] INFO valid_accuracy                0.3238\n",
      "2023-03-11 22:19:12,819 simple_logger.py log_once [line:27] INFO mean_valid_accuracy           0.3238\n",
      "2023-03-11 22:19:12,820 simple_logger.py log_once [line:27] INFO std_valid_accuracy            0.1306\n",
      "2023-03-11 22:19:12,820 simple_logger.py log_once [line:27] INFO valid_loss                    1.8429\n",
      "2023-03-11 22:19:12,820 simple_logger.py log_once [line:27] INFO mean_valid_loss               1.8429\n",
      "2023-03-11 22:19:12,821 simple_logger.py log_once [line:27] INFO std_valid_loss                0.2030\n",
      "2023-03-11 22:19:12,821 fedbase.py run [line:117] INFO Eval Time Cost:               2.7203s\n",
      "2023-03-11 22:19:14,461 fedbase.py run [line:112] INFO --------------Round 42--------------\n",
      "2023-03-11 22:19:14,461 simple_logger.py log_once [line:13] INFO Current_time:42\n"
     ]
    },
    {
     "name": "stdout",
     "output_type": "stream",
     "text": [
      "     pcost       dcost       gap    pres   dres\n",
      " 0:  1.0000e+00 -2.0500e+00  3e+00  2e-16  6e-16\n",
      " 1:  1.0000e+00  9.6950e-01  3e-02  3e-16  9e-16\n",
      " 2:  1.0000e+00  9.9969e-01  3e-04  2e-16  8e-16\n",
      " 3:  1.0000e+00  1.0000e+00  3e-06  2e-16  6e-16\n",
      " 4:  1.0000e+00  1.0000e+00  2e-07  8e-17  1e-15\n",
      "Optimal solution found.\n"
     ]
    },
    {
     "name": "stderr",
     "output_type": "stream",
     "text": [
      "2023-03-11 22:19:17,189 simple_logger.py log_once [line:27] INFO test_accuracy                 0.3066\n",
      "2023-03-11 22:19:17,189 simple_logger.py log_once [line:27] INFO test_loss                     1.8469\n",
      "2023-03-11 22:19:17,190 simple_logger.py log_once [line:27] INFO valid_accuracy                0.3112\n",
      "2023-03-11 22:19:17,190 simple_logger.py log_once [line:27] INFO mean_valid_accuracy           0.3112\n",
      "2023-03-11 22:19:17,191 simple_logger.py log_once [line:27] INFO std_valid_accuracy            0.1657\n",
      "2023-03-11 22:19:17,191 simple_logger.py log_once [line:27] INFO valid_loss                    1.8452\n",
      "2023-03-11 22:19:17,191 simple_logger.py log_once [line:27] INFO mean_valid_loss               1.8452\n",
      "2023-03-11 22:19:17,192 simple_logger.py log_once [line:27] INFO std_valid_loss                0.1892\n",
      "2023-03-11 22:19:17,192 fedbase.py run [line:117] INFO Eval Time Cost:               2.7307s\n",
      "2023-03-11 22:19:18,833 fedbase.py run [line:112] INFO --------------Round 43--------------\n",
      "2023-03-11 22:19:18,833 simple_logger.py log_once [line:13] INFO Current_time:43\n"
     ]
    },
    {
     "name": "stdout",
     "output_type": "stream",
     "text": [
      "     pcost       dcost       gap    pres   dres\n",
      " 0:  1.0000e+00 -2.0500e+00  3e+00  3e-17  5e-16\n",
      " 1:  1.0000e+00  9.6950e-01  3e-02  8e-17  1e-15\n",
      " 2:  1.0000e+00  9.9969e-01  3e-04  2e-16  8e-16\n",
      " 3:  1.0000e+00  1.0000e+00  3e-06  1e-16  5e-16\n",
      " 4:  1.0000e+00  1.0000e+00  3e-08  1e-16  9e-16\n",
      "Optimal solution found.\n"
     ]
    },
    {
     "name": "stderr",
     "output_type": "stream",
     "text": [
      "2023-03-11 22:19:21,565 simple_logger.py log_once [line:27] INFO test_accuracy                 0.3356\n",
      "2023-03-11 22:19:21,565 simple_logger.py log_once [line:27] INFO test_loss                     1.8296\n",
      "2023-03-11 22:19:21,566 simple_logger.py log_once [line:27] INFO valid_accuracy                0.3366\n",
      "2023-03-11 22:19:21,566 simple_logger.py log_once [line:27] INFO mean_valid_accuracy           0.3366\n",
      "2023-03-11 22:19:21,566 simple_logger.py log_once [line:27] INFO std_valid_accuracy            0.1220\n",
      "2023-03-11 22:19:21,567 simple_logger.py log_once [line:27] INFO valid_loss                    1.8254\n",
      "2023-03-11 22:19:21,567 simple_logger.py log_once [line:27] INFO mean_valid_loss               1.8254\n",
      "2023-03-11 22:19:21,567 simple_logger.py log_once [line:27] INFO std_valid_loss                0.1619\n",
      "2023-03-11 22:19:21,568 fedbase.py run [line:117] INFO Eval Time Cost:               2.7344s\n",
      "2023-03-11 22:19:23,189 fedbase.py run [line:112] INFO --------------Round 44--------------\n",
      "2023-03-11 22:19:23,189 simple_logger.py log_once [line:13] INFO Current_time:44\n"
     ]
    },
    {
     "name": "stdout",
     "output_type": "stream",
     "text": [
      "     pcost       dcost       gap    pres   dres\n",
      " 0:  1.0000e+00 -2.0500e+00  3e+00  2e-16  8e-16\n",
      " 1:  1.0000e+00  9.6950e-01  3e-02  5e-16  2e-15\n",
      " 2:  1.0000e+00  9.9969e-01  3e-04  3e-16  7e-16\n",
      " 3:  1.0000e+00  1.0000e+00  3e-06  8e-17  6e-16\n",
      " 4:  1.0000e+00  1.0000e+00  3e-07  1e-16  6e-16\n",
      "Optimal solution found.\n"
     ]
    },
    {
     "name": "stderr",
     "output_type": "stream",
     "text": [
      "2023-03-11 22:19:25,929 simple_logger.py log_once [line:27] INFO test_accuracy                 0.3350\n",
      "2023-03-11 22:19:25,929 simple_logger.py log_once [line:27] INFO test_loss                     1.8120\n",
      "2023-03-11 22:19:25,930 simple_logger.py log_once [line:27] INFO valid_accuracy                0.3404\n",
      "2023-03-11 22:19:25,930 simple_logger.py log_once [line:27] INFO mean_valid_accuracy           0.3404\n",
      "2023-03-11 22:19:25,930 simple_logger.py log_once [line:27] INFO std_valid_accuracy            0.1636\n",
      "2023-03-11 22:19:25,931 simple_logger.py log_once [line:27] INFO valid_loss                    1.8062\n",
      "2023-03-11 22:19:25,931 simple_logger.py log_once [line:27] INFO mean_valid_loss               1.8062\n",
      "2023-03-11 22:19:25,931 simple_logger.py log_once [line:27] INFO std_valid_loss                0.1894\n",
      "2023-03-11 22:19:25,932 fedbase.py run [line:117] INFO Eval Time Cost:               2.7425s\n",
      "2023-03-11 22:19:27,376 fedbase.py run [line:112] INFO --------------Round 45--------------\n",
      "2023-03-11 22:19:27,376 simple_logger.py log_once [line:13] INFO Current_time:45\n"
     ]
    },
    {
     "name": "stdout",
     "output_type": "stream",
     "text": [
      "     pcost       dcost       gap    pres   dres\n",
      " 0:  1.0000e+00 -2.0500e+00  3e+00  9e-17  9e-16\n",
      " 1:  1.0000e+00  9.6950e-01  3e-02  8e-17  1e-15\n",
      " 2:  1.0000e+00  9.9969e-01  3e-04  1e-16  9e-16\n",
      " 3:  1.0000e+00  1.0000e+00  3e-06  2e-16  5e-16\n",
      " 4:  1.0000e+00  1.0000e+00  3e-08  4e-16  7e-16\n",
      "Optimal solution found.\n"
     ]
    },
    {
     "name": "stderr",
     "output_type": "stream",
     "text": [
      "2023-03-11 22:19:30,091 simple_logger.py log_once [line:27] INFO test_accuracy                 0.2938\n",
      "2023-03-11 22:19:30,091 simple_logger.py log_once [line:27] INFO test_loss                     1.8482\n",
      "2023-03-11 22:19:30,091 simple_logger.py log_once [line:27] INFO valid_accuracy                0.2964\n",
      "2023-03-11 22:19:30,092 simple_logger.py log_once [line:27] INFO mean_valid_accuracy           0.2964\n",
      "2023-03-11 22:19:30,092 simple_logger.py log_once [line:27] INFO std_valid_accuracy            0.2180\n",
      "2023-03-11 22:19:30,092 simple_logger.py log_once [line:27] INFO valid_loss                    1.8407\n",
      "2023-03-11 22:19:30,092 simple_logger.py log_once [line:27] INFO mean_valid_loss               1.8407\n",
      "2023-03-11 22:19:30,092 simple_logger.py log_once [line:27] INFO std_valid_loss                0.3069\n",
      "2023-03-11 22:19:30,093 fedbase.py run [line:117] INFO Eval Time Cost:               2.7165s\n",
      "2023-03-11 22:19:31,736 fedbase.py run [line:112] INFO --------------Round 46--------------\n",
      "2023-03-11 22:19:31,736 simple_logger.py log_once [line:13] INFO Current_time:46\n"
     ]
    },
    {
     "name": "stdout",
     "output_type": "stream",
     "text": [
      "     pcost       dcost       gap    pres   dres\n",
      " 0:  1.0000e+00 -2.0500e+00  3e+00  3e-17  8e-16\n",
      " 1:  1.0000e+00  9.6950e-01  3e-02  1e-16  1e-15\n",
      " 2:  1.0000e+00  9.9970e-01  3e-04  8e-17  1e-15\n",
      " 3:  1.0000e+00  1.0000e+00  3e-06  2e-16  1e-15\n",
      " 4:  1.0000e+00  1.0000e+00  2e-07  1e-16  2e-15\n",
      "Optimal solution found.\n"
     ]
    },
    {
     "name": "stderr",
     "output_type": "stream",
     "text": [
      "2023-03-11 22:19:34,418 simple_logger.py log_once [line:27] INFO test_accuracy                 0.3058\n",
      "2023-03-11 22:19:34,418 simple_logger.py log_once [line:27] INFO test_loss                     1.8664\n",
      "2023-03-11 22:19:34,419 simple_logger.py log_once [line:27] INFO valid_accuracy                0.3164\n",
      "2023-03-11 22:19:34,419 simple_logger.py log_once [line:27] INFO mean_valid_accuracy           0.3164\n",
      "2023-03-11 22:19:34,419 simple_logger.py log_once [line:27] INFO std_valid_accuracy            0.1900\n",
      "2023-03-11 22:19:34,420 simple_logger.py log_once [line:27] INFO valid_loss                    1.8591\n",
      "2023-03-11 22:19:34,420 simple_logger.py log_once [line:27] INFO mean_valid_loss               1.8591\n",
      "2023-03-11 22:19:34,420 simple_logger.py log_once [line:27] INFO std_valid_loss                0.3432\n",
      "2023-03-11 22:19:34,421 fedbase.py run [line:117] INFO Eval Time Cost:               2.6844s\n",
      "2023-03-11 22:19:35,898 fedbase.py run [line:112] INFO --------------Round 47--------------\n",
      "2023-03-11 22:19:35,898 simple_logger.py log_once [line:13] INFO Current_time:47\n"
     ]
    },
    {
     "name": "stdout",
     "output_type": "stream",
     "text": [
      "     pcost       dcost       gap    pres   dres\n",
      " 0:  1.0000e+00 -2.0500e+00  3e+00  3e-16  1e-15\n",
      " 1:  1.0000e+00  9.6950e-01  3e-02  2e-16  8e-16\n",
      " 2:  1.0000e+00  9.9969e-01  3e-04  1e-16  9e-16\n",
      " 3:  1.0000e+00  1.0000e+00  3e-06  1e-16  9e-16\n",
      " 4:  1.0000e+00  1.0000e+00  2e-07  2e-16  2e-16\n",
      "Optimal solution found.\n"
     ]
    },
    {
     "name": "stderr",
     "output_type": "stream",
     "text": [
      "2023-03-11 22:19:38,603 simple_logger.py log_once [line:27] INFO test_accuracy                 0.3237\n",
      "2023-03-11 22:19:38,604 simple_logger.py log_once [line:27] INFO test_loss                     1.8188\n",
      "2023-03-11 22:19:38,604 simple_logger.py log_once [line:27] INFO valid_accuracy                0.3334\n",
      "2023-03-11 22:19:38,604 simple_logger.py log_once [line:27] INFO mean_valid_accuracy           0.3334\n",
      "2023-03-11 22:19:38,605 simple_logger.py log_once [line:27] INFO std_valid_accuracy            0.1862\n",
      "2023-03-11 22:19:38,605 simple_logger.py log_once [line:27] INFO valid_loss                    1.8117\n",
      "2023-03-11 22:19:38,605 simple_logger.py log_once [line:27] INFO mean_valid_loss               1.8117\n",
      "2023-03-11 22:19:38,605 simple_logger.py log_once [line:27] INFO std_valid_loss                0.2885\n",
      "2023-03-11 22:19:38,606 fedbase.py run [line:117] INFO Eval Time Cost:               2.7072s\n",
      "2023-03-11 22:19:40,154 fedbase.py run [line:112] INFO --------------Round 48--------------\n",
      "2023-03-11 22:19:40,155 simple_logger.py log_once [line:13] INFO Current_time:48\n"
     ]
    },
    {
     "name": "stdout",
     "output_type": "stream",
     "text": [
      "     pcost       dcost       gap    pres   dres\n",
      " 0:  1.0000e+00 -2.0500e+00  3e+00  2e-16  7e-16\n",
      " 1:  1.0000e+00  9.6950e-01  3e-02  3e-16  1e-15\n",
      " 2:  1.0000e+00  9.9970e-01  3e-04  3e-16  1e-15\n",
      " 3:  1.0000e+00  1.0000e+00  3e-06  8e-17  8e-16\n",
      " 4:  1.0000e+00  1.0000e+00  3e-08  1e-16  2e-16\n",
      "Optimal solution found.\n"
     ]
    },
    {
     "name": "stderr",
     "output_type": "stream",
     "text": [
      "2023-03-11 22:19:42,875 simple_logger.py log_once [line:27] INFO test_accuracy                 0.3116\n",
      "2023-03-11 22:19:42,876 simple_logger.py log_once [line:27] INFO test_loss                     1.8498\n",
      "2023-03-11 22:19:42,876 simple_logger.py log_once [line:27] INFO valid_accuracy                0.3174\n",
      "2023-03-11 22:19:42,876 simple_logger.py log_once [line:27] INFO mean_valid_accuracy           0.3174\n",
      "2023-03-11 22:19:42,877 simple_logger.py log_once [line:27] INFO std_valid_accuracy            0.1795\n",
      "2023-03-11 22:19:42,877 simple_logger.py log_once [line:27] INFO valid_loss                    1.8451\n",
      "2023-03-11 22:19:42,877 simple_logger.py log_once [line:27] INFO mean_valid_loss               1.8451\n",
      "2023-03-11 22:19:42,878 simple_logger.py log_once [line:27] INFO std_valid_loss                0.2889\n",
      "2023-03-11 22:19:42,878 fedbase.py run [line:117] INFO Eval Time Cost:               2.7232s\n",
      "2023-03-11 22:19:44,219 fedbase.py run [line:112] INFO --------------Round 49--------------\n",
      "2023-03-11 22:19:44,219 simple_logger.py log_once [line:13] INFO Current_time:49\n"
     ]
    },
    {
     "name": "stdout",
     "output_type": "stream",
     "text": [
      "     pcost       dcost       gap    pres   dres\n",
      " 0:  1.0000e+00 -2.0500e+00  3e+00  2e-16  4e-16\n",
      " 1:  1.0000e+00  9.6950e-01  3e-02  2e-16  1e-15\n",
      " 2:  1.0000e+00  9.9969e-01  3e-04  1e-16  1e-15\n",
      " 3:  1.0000e+00  1.0000e+00  3e-06  2e-16  1e-15\n",
      " 4:  1.0000e+00  1.0000e+00  3e-07  1e-16  1e-15\n",
      "Optimal solution found.\n"
     ]
    },
    {
     "name": "stderr",
     "output_type": "stream",
     "text": [
      "2023-03-11 22:19:47,067 simple_logger.py log_once [line:27] INFO test_accuracy                 0.3204\n",
      "2023-03-11 22:19:47,067 simple_logger.py log_once [line:27] INFO test_loss                     1.8485\n",
      "2023-03-11 22:19:47,067 simple_logger.py log_once [line:27] INFO valid_accuracy                0.3290\n",
      "2023-03-11 22:19:47,068 simple_logger.py log_once [line:27] INFO mean_valid_accuracy           0.3290\n",
      "2023-03-11 22:19:47,068 simple_logger.py log_once [line:27] INFO std_valid_accuracy            0.1690\n",
      "2023-03-11 22:19:47,068 simple_logger.py log_once [line:27] INFO valid_loss                    1.8452\n",
      "2023-03-11 22:19:47,068 simple_logger.py log_once [line:27] INFO mean_valid_loss               1.8452\n",
      "2023-03-11 22:19:47,069 simple_logger.py log_once [line:27] INFO std_valid_loss                0.2572\n",
      "2023-03-11 22:19:47,069 fedbase.py run [line:117] INFO Eval Time Cost:               2.8496s\n",
      "2023-03-11 22:19:48,434 fedbase.py run [line:112] INFO --------------Round 50--------------\n",
      "2023-03-11 22:19:48,435 simple_logger.py log_once [line:13] INFO Current_time:50\n"
     ]
    },
    {
     "name": "stdout",
     "output_type": "stream",
     "text": [
      "     pcost       dcost       gap    pres   dres\n",
      " 0:  1.0000e+00 -2.0500e+00  3e+00  2e-16  2e-15\n",
      " 1:  1.0000e+00  9.6950e-01  3e-02  2e-16  8e-16\n",
      " 2:  1.0000e+00  9.9969e-01  3e-04  2e-16  8e-16\n",
      " 3:  1.0000e+00  1.0000e+00  3e-06  1e-16  6e-16\n",
      " 4:  1.0000e+00  1.0000e+00  1e-07  1e-16  1e-15\n",
      "Optimal solution found.\n"
     ]
    },
    {
     "name": "stderr",
     "output_type": "stream",
     "text": [
      "2023-03-11 22:19:51,148 simple_logger.py log_once [line:27] INFO test_accuracy                 0.3056\n",
      "2023-03-11 22:19:51,149 simple_logger.py log_once [line:27] INFO test_loss                     1.8547\n",
      "2023-03-11 22:19:51,149 simple_logger.py log_once [line:27] INFO valid_accuracy                0.3104\n",
      "2023-03-11 22:19:51,149 simple_logger.py log_once [line:27] INFO mean_valid_accuracy           0.3104\n",
      "2023-03-11 22:19:51,149 simple_logger.py log_once [line:27] INFO std_valid_accuracy            0.1810\n",
      "2023-03-11 22:19:51,150 simple_logger.py log_once [line:27] INFO valid_loss                    1.8529\n",
      "2023-03-11 22:19:51,150 simple_logger.py log_once [line:27] INFO mean_valid_loss               1.8529\n",
      "2023-03-11 22:19:51,150 simple_logger.py log_once [line:27] INFO std_valid_loss                0.2614\n",
      "2023-03-11 22:19:51,150 fedbase.py run [line:117] INFO Eval Time Cost:               2.7157s\n",
      "2023-03-11 22:19:52,572 fedbase.py run [line:112] INFO --------------Round 51--------------\n",
      "2023-03-11 22:19:52,573 simple_logger.py log_once [line:13] INFO Current_time:51\n"
     ]
    },
    {
     "name": "stdout",
     "output_type": "stream",
     "text": [
      "     pcost       dcost       gap    pres   dres\n",
      " 0:  1.0000e+00 -2.0500e+00  3e+00  9e-17  1e-15\n",
      " 1:  1.0000e+00  9.6950e-01  3e-02  2e-16  1e-15\n",
      " 2:  1.0000e+00  9.9970e-01  3e-04  9e-17  1e-15\n",
      " 3:  1.0000e+00  1.0000e+00  3e-06  2e-16  1e-15\n",
      " 4:  1.0000e+00  1.0000e+00  3e-08  1e-16  2e-15\n",
      "Optimal solution found.\n"
     ]
    },
    {
     "name": "stderr",
     "output_type": "stream",
     "text": [
      "2023-03-11 22:19:55,262 simple_logger.py log_once [line:27] INFO test_accuracy                 0.2833\n",
      "2023-03-11 22:19:55,262 simple_logger.py log_once [line:27] INFO test_loss                     1.9261\n",
      "2023-03-11 22:19:55,262 simple_logger.py log_once [line:27] INFO valid_accuracy                0.2872\n",
      "2023-03-11 22:19:55,263 simple_logger.py log_once [line:27] INFO mean_valid_accuracy           0.2872\n",
      "2023-03-11 22:19:55,263 simple_logger.py log_once [line:27] INFO std_valid_accuracy            0.1981\n",
      "2023-03-11 22:19:55,263 simple_logger.py log_once [line:27] INFO valid_loss                    1.9245\n",
      "2023-03-11 22:19:55,264 simple_logger.py log_once [line:27] INFO mean_valid_loss               1.9245\n",
      "2023-03-11 22:19:55,264 simple_logger.py log_once [line:27] INFO std_valid_loss                0.3571\n",
      "2023-03-11 22:19:55,264 fedbase.py run [line:117] INFO Eval Time Cost:               2.6913s\n",
      "2023-03-11 22:19:56,616 fedbase.py run [line:112] INFO --------------Round 52--------------\n",
      "2023-03-11 22:19:56,616 simple_logger.py log_once [line:13] INFO Current_time:52\n"
     ]
    },
    {
     "name": "stdout",
     "output_type": "stream",
     "text": [
      "     pcost       dcost       gap    pres   dres\n",
      " 0:  1.0000e+00 -2.0500e+00  3e+00  2e-16  4e-16\n",
      " 1:  1.0000e+00  9.6950e-01  3e-02  2e-16  1e-15\n",
      " 2:  1.0000e+00  9.9969e-01  3e-04  1e-16  1e-15\n",
      " 3:  1.0000e+00  1.0000e+00  3e-06  2e-16  1e-15\n",
      " 4:  1.0000e+00  1.0000e+00  3e-07  1e-16  1e-15\n",
      "Optimal solution found.\n"
     ]
    },
    {
     "name": "stderr",
     "output_type": "stream",
     "text": [
      "2023-03-11 22:19:59,327 simple_logger.py log_once [line:27] INFO test_accuracy                 0.3244\n",
      "2023-03-11 22:19:59,328 simple_logger.py log_once [line:27] INFO test_loss                     1.8112\n",
      "2023-03-11 22:19:59,328 simple_logger.py log_once [line:27] INFO valid_accuracy                0.3316\n",
      "2023-03-11 22:19:59,328 simple_logger.py log_once [line:27] INFO mean_valid_accuracy           0.3316\n",
      "2023-03-11 22:19:59,328 simple_logger.py log_once [line:27] INFO std_valid_accuracy            0.1898\n",
      "2023-03-11 22:19:59,329 simple_logger.py log_once [line:27] INFO valid_loss                    1.8072\n",
      "2023-03-11 22:19:59,329 simple_logger.py log_once [line:27] INFO mean_valid_loss               1.8072\n",
      "2023-03-11 22:19:59,329 simple_logger.py log_once [line:27] INFO std_valid_loss                0.2836\n",
      "2023-03-11 22:19:59,329 fedbase.py run [line:117] INFO Eval Time Cost:               2.7129s\n",
      "2023-03-11 22:20:00,900 fedbase.py run [line:112] INFO --------------Round 53--------------\n",
      "2023-03-11 22:20:00,900 simple_logger.py log_once [line:13] INFO Current_time:53\n"
     ]
    },
    {
     "name": "stdout",
     "output_type": "stream",
     "text": [
      "     pcost       dcost       gap    pres   dres\n",
      " 0:  1.0000e+00 -2.0500e+00  3e+00  3e-16  1e-15\n",
      " 1:  1.0000e+00  9.6950e-01  3e-02  2e-16  2e-15\n",
      " 2:  1.0000e+00  9.9969e-01  3e-04  1e-16  1e-15\n",
      " 3:  1.0000e+00  1.0000e+00  3e-06  1e-16  1e-15\n",
      " 4:  1.0000e+00  1.0000e+00  2e-07  1e-16  7e-16\n",
      "Optimal solution found.\n"
     ]
    },
    {
     "name": "stderr",
     "output_type": "stream",
     "text": [
      "2023-03-11 22:20:03,589 simple_logger.py log_once [line:27] INFO test_accuracy                 0.3354\n",
      "2023-03-11 22:20:03,589 simple_logger.py log_once [line:27] INFO test_loss                     1.8036\n",
      "2023-03-11 22:20:03,590 simple_logger.py log_once [line:27] INFO valid_accuracy                0.3392\n",
      "2023-03-11 22:20:03,590 simple_logger.py log_once [line:27] INFO mean_valid_accuracy           0.3392\n",
      "2023-03-11 22:20:03,590 simple_logger.py log_once [line:27] INFO std_valid_accuracy            0.1720\n",
      "2023-03-11 22:20:03,590 simple_logger.py log_once [line:27] INFO valid_loss                    1.8010\n",
      "2023-03-11 22:20:03,591 simple_logger.py log_once [line:27] INFO mean_valid_loss               1.8010\n",
      "2023-03-11 22:20:03,591 simple_logger.py log_once [line:27] INFO std_valid_loss                0.2879\n",
      "2023-03-11 22:20:03,591 fedbase.py run [line:117] INFO Eval Time Cost:               2.6910s\n",
      "2023-03-11 22:20:05,055 fedbase.py run [line:112] INFO --------------Round 54--------------\n",
      "2023-03-11 22:20:05,055 simple_logger.py log_once [line:13] INFO Current_time:54\n"
     ]
    },
    {
     "name": "stdout",
     "output_type": "stream",
     "text": [
      "     pcost       dcost       gap    pres   dres\n",
      " 0:  1.0000e+00 -2.0500e+00  3e+00  2e-17  9e-16\n",
      " 1:  1.0000e+00  9.6950e-01  3e-02  2e-16  1e-15\n",
      " 2:  1.0000e+00  9.9969e-01  3e-04  3e-16  8e-16\n",
      " 3:  1.0000e+00  1.0000e+00  3e-06  8e-17  6e-16\n",
      " 4:  1.0000e+00  1.0000e+00  3e-07  2e-16  7e-16\n",
      "Optimal solution found.\n"
     ]
    },
    {
     "name": "stderr",
     "output_type": "stream",
     "text": [
      "2023-03-11 22:20:07,777 simple_logger.py log_once [line:27] INFO test_accuracy                 0.3648\n",
      "2023-03-11 22:20:07,778 simple_logger.py log_once [line:27] INFO test_loss                     1.7318\n",
      "2023-03-11 22:20:07,778 simple_logger.py log_once [line:27] INFO valid_accuracy                0.3738\n",
      "2023-03-11 22:20:07,779 simple_logger.py log_once [line:27] INFO mean_valid_accuracy           0.3738\n",
      "2023-03-11 22:20:07,779 simple_logger.py log_once [line:27] INFO std_valid_accuracy            0.1543\n",
      "2023-03-11 22:20:07,779 simple_logger.py log_once [line:27] INFO valid_loss                    1.7261\n",
      "2023-03-11 22:20:07,779 simple_logger.py log_once [line:27] INFO mean_valid_loss               1.7261\n",
      "2023-03-11 22:20:07,780 simple_logger.py log_once [line:27] INFO std_valid_loss                0.2075\n",
      "2023-03-11 22:20:07,780 fedbase.py run [line:117] INFO Eval Time Cost:               2.7243s\n",
      "2023-03-11 22:20:09,220 fedbase.py run [line:112] INFO --------------Round 55--------------\n",
      "2023-03-11 22:20:09,220 simple_logger.py log_once [line:13] INFO Current_time:55\n"
     ]
    },
    {
     "name": "stdout",
     "output_type": "stream",
     "text": [
      "     pcost       dcost       gap    pres   dres\n",
      " 0:  1.0000e+00 -2.0500e+00  3e+00  2e-17  2e-15\n",
      " 1:  1.0000e+00  9.6950e-01  3e-02  8e-17  1e-15\n",
      " 2:  1.0000e+00  9.9969e-01  3e-04  1e-16  1e-15\n",
      " 3:  1.0000e+00  1.0000e+00  3e-06  7e-17  7e-16\n",
      " 4:  1.0000e+00  1.0000e+00  3e-08  1e-16  1e-15\n",
      "Optimal solution found.\n"
     ]
    },
    {
     "name": "stderr",
     "output_type": "stream",
     "text": [
      "2023-03-11 22:20:11,954 simple_logger.py log_once [line:27] INFO test_accuracy                 0.3506\n",
      "2023-03-11 22:20:11,954 simple_logger.py log_once [line:27] INFO test_loss                     1.7594\n",
      "2023-03-11 22:20:11,954 simple_logger.py log_once [line:27] INFO valid_accuracy                0.3528\n",
      "2023-03-11 22:20:11,955 simple_logger.py log_once [line:27] INFO mean_valid_accuracy           0.3528\n",
      "2023-03-11 22:20:11,955 simple_logger.py log_once [line:27] INFO std_valid_accuracy            0.1685\n",
      "2023-03-11 22:20:11,955 simple_logger.py log_once [line:27] INFO valid_loss                    1.7539\n",
      "2023-03-11 22:20:11,956 simple_logger.py log_once [line:27] INFO mean_valid_loss               1.7539\n",
      "2023-03-11 22:20:11,956 simple_logger.py log_once [line:27] INFO std_valid_loss                0.2450\n",
      "2023-03-11 22:20:11,956 fedbase.py run [line:117] INFO Eval Time Cost:               2.7361s\n",
      "2023-03-11 22:20:13,607 fedbase.py run [line:112] INFO --------------Round 56--------------\n",
      "2023-03-11 22:20:13,608 simple_logger.py log_once [line:13] INFO Current_time:56\n"
     ]
    },
    {
     "name": "stdout",
     "output_type": "stream",
     "text": [
      "     pcost       dcost       gap    pres   dres\n",
      " 0:  1.0000e+00 -2.0500e+00  3e+00  9e-17  1e-15\n",
      " 1:  1.0000e+00  9.6950e-01  3e-02  2e-16  1e-15\n",
      " 2:  1.0000e+00  9.9970e-01  3e-04  9e-17  1e-15\n",
      " 3:  1.0000e+00  1.0000e+00  3e-06  2e-16  1e-15\n",
      " 4:  1.0000e+00  1.0000e+00  3e-08  1e-16  2e-15\n",
      "Optimal solution found.\n"
     ]
    },
    {
     "name": "stderr",
     "output_type": "stream",
     "text": [
      "2023-03-11 22:20:16,409 simple_logger.py log_once [line:27] INFO test_accuracy                 0.3351\n",
      "2023-03-11 22:20:16,410 simple_logger.py log_once [line:27] INFO test_loss                     1.7867\n",
      "2023-03-11 22:20:16,410 simple_logger.py log_once [line:27] INFO valid_accuracy                0.3404\n",
      "2023-03-11 22:20:16,411 simple_logger.py log_once [line:27] INFO mean_valid_accuracy           0.3404\n",
      "2023-03-11 22:20:16,411 simple_logger.py log_once [line:27] INFO std_valid_accuracy            0.1987\n",
      "2023-03-11 22:20:16,411 simple_logger.py log_once [line:27] INFO valid_loss                    1.7803\n",
      "2023-03-11 22:20:16,412 simple_logger.py log_once [line:27] INFO mean_valid_loss               1.7803\n",
      "2023-03-11 22:20:16,412 simple_logger.py log_once [line:27] INFO std_valid_loss                0.3443\n",
      "2023-03-11 22:20:16,412 fedbase.py run [line:117] INFO Eval Time Cost:               2.8047s\n",
      "2023-03-11 22:20:17,776 fedbase.py run [line:112] INFO --------------Round 57--------------\n",
      "2023-03-11 22:20:17,776 simple_logger.py log_once [line:13] INFO Current_time:57\n"
     ]
    },
    {
     "name": "stdout",
     "output_type": "stream",
     "text": [
      "     pcost       dcost       gap    pres   dres\n",
      " 0:  1.0000e+00 -2.0500e+00  3e+00  2e-16  7e-16\n",
      " 1:  1.0000e+00  9.6950e-01  3e-02  3e-16  1e-15\n",
      " 2:  1.0000e+00  9.9970e-01  3e-04  3e-16  1e-15\n",
      " 3:  1.0000e+00  1.0000e+00  3e-06  8e-17  8e-16\n",
      " 4:  1.0000e+00  1.0000e+00  3e-08  1e-16  2e-16\n",
      "Optimal solution found.\n"
     ]
    },
    {
     "name": "stderr",
     "output_type": "stream",
     "text": [
      "2023-03-11 22:20:20,478 simple_logger.py log_once [line:27] INFO test_accuracy                 0.3440\n",
      "2023-03-11 22:20:20,479 simple_logger.py log_once [line:27] INFO test_loss                     1.7640\n",
      "2023-03-11 22:20:20,479 simple_logger.py log_once [line:27] INFO valid_accuracy                0.3522\n",
      "2023-03-11 22:20:20,479 simple_logger.py log_once [line:27] INFO mean_valid_accuracy           0.3522\n",
      "2023-03-11 22:20:20,480 simple_logger.py log_once [line:27] INFO std_valid_accuracy            0.1908\n",
      "2023-03-11 22:20:20,480 simple_logger.py log_once [line:27] INFO valid_loss                    1.7570\n",
      "2023-03-11 22:20:20,480 simple_logger.py log_once [line:27] INFO mean_valid_loss               1.7570\n",
      "2023-03-11 22:20:20,480 simple_logger.py log_once [line:27] INFO std_valid_loss                0.2905\n",
      "2023-03-11 22:20:20,481 fedbase.py run [line:117] INFO Eval Time Cost:               2.7045s\n",
      "2023-03-11 22:20:21,972 fedbase.py run [line:112] INFO --------------Round 58--------------\n",
      "2023-03-11 22:20:21,972 simple_logger.py log_once [line:13] INFO Current_time:58\n"
     ]
    },
    {
     "name": "stdout",
     "output_type": "stream",
     "text": [
      "     pcost       dcost       gap    pres   dres\n",
      " 0:  1.0000e+00 -2.0500e+00  3e+00  3e-17  8e-16\n",
      " 1:  1.0000e+00  9.6950e-01  3e-02  1e-16  1e-15\n",
      " 2:  1.0000e+00  9.9970e-01  3e-04  8e-17  1e-15\n",
      " 3:  1.0000e+00  1.0000e+00  3e-06  2e-16  1e-15\n",
      " 4:  1.0000e+00  1.0000e+00  2e-07  1e-16  2e-15\n",
      "Optimal solution found.\n"
     ]
    },
    {
     "name": "stderr",
     "output_type": "stream",
     "text": [
      "2023-03-11 22:20:24,725 simple_logger.py log_once [line:27] INFO test_accuracy                 0.3197\n",
      "2023-03-11 22:20:24,725 simple_logger.py log_once [line:27] INFO test_loss                     1.8075\n",
      "2023-03-11 22:20:24,726 simple_logger.py log_once [line:27] INFO valid_accuracy                0.3222\n",
      "2023-03-11 22:20:24,726 simple_logger.py log_once [line:27] INFO mean_valid_accuracy           0.3222\n",
      "2023-03-11 22:20:24,726 simple_logger.py log_once [line:27] INFO std_valid_accuracy            0.2067\n",
      "2023-03-11 22:20:24,727 simple_logger.py log_once [line:27] INFO valid_loss                    1.8018\n",
      "2023-03-11 22:20:24,727 simple_logger.py log_once [line:27] INFO mean_valid_loss               1.8018\n",
      "2023-03-11 22:20:24,728 simple_logger.py log_once [line:27] INFO std_valid_loss                0.3647\n",
      "2023-03-11 22:20:24,728 fedbase.py run [line:117] INFO Eval Time Cost:               2.7553s\n",
      "2023-03-11 22:20:26,293 fedbase.py run [line:112] INFO --------------Round 59--------------\n",
      "2023-03-11 22:20:26,294 simple_logger.py log_once [line:13] INFO Current_time:59\n"
     ]
    },
    {
     "name": "stdout",
     "output_type": "stream",
     "text": [
      "     pcost       dcost       gap    pres   dres\n",
      " 0:  1.0000e+00 -2.0500e+00  3e+00  3e-17  8e-16\n",
      " 1:  1.0000e+00  9.6950e-01  3e-02  1e-16  1e-15\n",
      " 2:  1.0000e+00  9.9970e-01  3e-04  8e-17  1e-15\n",
      " 3:  1.0000e+00  1.0000e+00  3e-06  2e-16  1e-15\n",
      " 4:  1.0000e+00  1.0000e+00  2e-07  1e-16  2e-15\n",
      "Optimal solution found.\n"
     ]
    },
    {
     "name": "stderr",
     "output_type": "stream",
     "text": [
      "2023-03-11 22:20:28,992 simple_logger.py log_once [line:27] INFO test_accuracy                 0.2915\n",
      "2023-03-11 22:20:28,992 simple_logger.py log_once [line:27] INFO test_loss                     1.8652\n",
      "2023-03-11 22:20:28,992 simple_logger.py log_once [line:27] INFO valid_accuracy                0.2956\n",
      "2023-03-11 22:20:28,993 simple_logger.py log_once [line:27] INFO mean_valid_accuracy           0.2956\n",
      "2023-03-11 22:20:28,993 simple_logger.py log_once [line:27] INFO std_valid_accuracy            0.2319\n",
      "2023-03-11 22:20:28,993 simple_logger.py log_once [line:27] INFO valid_loss                    1.8586\n",
      "2023-03-11 22:20:28,994 simple_logger.py log_once [line:27] INFO mean_valid_loss               1.8586\n",
      "2023-03-11 22:20:28,994 simple_logger.py log_once [line:27] INFO std_valid_loss                0.4281\n",
      "2023-03-11 22:20:28,994 fedbase.py run [line:117] INFO Eval Time Cost:               2.7006s\n",
      "2023-03-11 22:20:30,559 fedbase.py run [line:112] INFO --------------Round 60--------------\n",
      "2023-03-11 22:20:30,560 simple_logger.py log_once [line:13] INFO Current_time:60\n"
     ]
    },
    {
     "name": "stdout",
     "output_type": "stream",
     "text": [
      "     pcost       dcost       gap    pres   dres\n",
      " 0:  1.0000e+00 -2.0500e+00  3e+00  2e-16  9e-16\n",
      " 1:  1.0000e+00  9.6950e-01  3e-02  2e-16  1e-15\n",
      " 2:  1.0000e+00  9.9970e-01  3e-04  6e-16  1e-15\n",
      " 3:  1.0000e+00  1.0000e+00  3e-06  2e-16  8e-16\n",
      " 4:  1.0000e+00  1.0000e+00  3e-08  9e-17  3e-16\n",
      "Optimal solution found.\n"
     ]
    },
    {
     "name": "stderr",
     "output_type": "stream",
     "text": [
      "2023-03-11 22:20:33,256 simple_logger.py log_once [line:27] INFO test_accuracy                 0.3421\n",
      "2023-03-11 22:20:33,256 simple_logger.py log_once [line:27] INFO test_loss                     1.7486\n",
      "2023-03-11 22:20:33,256 simple_logger.py log_once [line:27] INFO valid_accuracy                0.3504\n",
      "2023-03-11 22:20:33,257 simple_logger.py log_once [line:27] INFO mean_valid_accuracy           0.3504\n",
      "2023-03-11 22:20:33,257 simple_logger.py log_once [line:27] INFO std_valid_accuracy            0.2061\n",
      "2023-03-11 22:20:33,257 simple_logger.py log_once [line:27] INFO valid_loss                    1.7395\n",
      "2023-03-11 22:20:33,258 simple_logger.py log_once [line:27] INFO mean_valid_loss               1.7395\n",
      "2023-03-11 22:20:33,258 simple_logger.py log_once [line:27] INFO std_valid_loss                0.3274\n",
      "2023-03-11 22:20:33,258 fedbase.py run [line:117] INFO Eval Time Cost:               2.6986s\n",
      "2023-03-11 22:20:34,825 fedbase.py run [line:112] INFO --------------Round 61--------------\n",
      "2023-03-11 22:20:34,826 simple_logger.py log_once [line:13] INFO Current_time:61\n"
     ]
    },
    {
     "name": "stdout",
     "output_type": "stream",
     "text": [
      "     pcost       dcost       gap    pres   dres\n",
      " 0:  1.0000e+00 -2.0500e+00  3e+00  2e-16  7e-16\n",
      " 1:  1.0000e+00  9.6950e-01  3e-02  3e-16  1e-15\n",
      " 2:  1.0000e+00  9.9970e-01  3e-04  3e-16  1e-15\n",
      " 3:  1.0000e+00  1.0000e+00  3e-06  8e-17  8e-16\n",
      " 4:  1.0000e+00  1.0000e+00  3e-08  1e-16  2e-16\n",
      "Optimal solution found.\n"
     ]
    },
    {
     "name": "stderr",
     "output_type": "stream",
     "text": [
      "2023-03-11 22:20:37,528 simple_logger.py log_once [line:27] INFO test_accuracy                 0.3301\n",
      "2023-03-11 22:20:37,529 simple_logger.py log_once [line:27] INFO test_loss                     1.7696\n",
      "2023-03-11 22:20:37,529 simple_logger.py log_once [line:27] INFO valid_accuracy                0.3432\n",
      "2023-03-11 22:20:37,530 simple_logger.py log_once [line:27] INFO mean_valid_accuracy           0.3432\n",
      "2023-03-11 22:20:37,530 simple_logger.py log_once [line:27] INFO std_valid_accuracy            0.2050\n",
      "2023-03-11 22:20:37,530 simple_logger.py log_once [line:27] INFO valid_loss                    1.7619\n",
      "2023-03-11 22:20:37,531 simple_logger.py log_once [line:27] INFO mean_valid_loss               1.7619\n",
      "2023-03-11 22:20:37,532 simple_logger.py log_once [line:27] INFO std_valid_loss                0.3188\n",
      "2023-03-11 22:20:37,532 fedbase.py run [line:117] INFO Eval Time Cost:               2.7064s\n",
      "2023-03-11 22:20:39,169 fedbase.py run [line:112] INFO --------------Round 62--------------\n",
      "2023-03-11 22:20:39,170 simple_logger.py log_once [line:13] INFO Current_time:62\n"
     ]
    },
    {
     "name": "stdout",
     "output_type": "stream",
     "text": [
      "     pcost       dcost       gap    pres   dres\n",
      " 0:  1.0000e+00 -2.0500e+00  3e+00  2e-16  9e-16\n",
      " 1:  1.0000e+00  9.6950e-01  3e-02  1e-16  1e-15\n",
      " 2:  1.0000e+00  9.9969e-01  3e-04  9e-17  1e-15\n",
      " 3:  1.0000e+00  1.0000e+00  3e-06  8e-17  1e-15\n",
      " 4:  1.0000e+00  1.0000e+00  2e-07  1e-16  1e-15\n",
      "Optimal solution found.\n"
     ]
    },
    {
     "name": "stderr",
     "output_type": "stream",
     "text": [
      "2023-03-11 22:20:41,962 simple_logger.py log_once [line:27] INFO test_accuracy                 0.3376\n",
      "2023-03-11 22:20:41,963 simple_logger.py log_once [line:27] INFO test_loss                     1.7819\n",
      "2023-03-11 22:20:41,963 simple_logger.py log_once [line:27] INFO valid_accuracy                0.3492\n",
      "2023-03-11 22:20:41,964 simple_logger.py log_once [line:27] INFO mean_valid_accuracy           0.3492\n",
      "2023-03-11 22:20:41,964 simple_logger.py log_once [line:27] INFO std_valid_accuracy            0.1878\n",
      "2023-03-11 22:20:41,965 simple_logger.py log_once [line:27] INFO valid_loss                    1.7787\n",
      "2023-03-11 22:20:41,965 simple_logger.py log_once [line:27] INFO mean_valid_loss               1.7787\n",
      "2023-03-11 22:20:41,966 simple_logger.py log_once [line:27] INFO std_valid_loss                0.3027\n",
      "2023-03-11 22:20:41,966 fedbase.py run [line:117] INFO Eval Time Cost:               2.7962s\n",
      "2023-03-11 22:20:43,516 fedbase.py run [line:112] INFO --------------Round 63--------------\n",
      "2023-03-11 22:20:43,516 simple_logger.py log_once [line:13] INFO Current_time:63\n"
     ]
    },
    {
     "name": "stdout",
     "output_type": "stream",
     "text": [
      "     pcost       dcost       gap    pres   dres\n",
      " 0:  1.0000e+00 -2.0500e+00  3e+00  2e-17  2e-15\n",
      " 1:  1.0000e+00  9.6950e-01  3e-02  8e-17  1e-15\n",
      " 2:  1.0000e+00  9.9969e-01  3e-04  1e-16  1e-15\n",
      " 3:  1.0000e+00  1.0000e+00  3e-06  7e-17  7e-16\n",
      " 4:  1.0000e+00  1.0000e+00  3e-08  1e-16  1e-15\n",
      "Optimal solution found.\n"
     ]
    },
    {
     "name": "stderr",
     "output_type": "stream",
     "text": [
      "2023-03-11 22:20:46,228 simple_logger.py log_once [line:27] INFO test_accuracy                 0.3492\n",
      "2023-03-11 22:20:46,229 simple_logger.py log_once [line:27] INFO test_loss                     1.7585\n",
      "2023-03-11 22:20:46,229 simple_logger.py log_once [line:27] INFO valid_accuracy                0.3510\n",
      "2023-03-11 22:20:46,229 simple_logger.py log_once [line:27] INFO mean_valid_accuracy           0.3510\n",
      "2023-03-11 22:20:46,230 simple_logger.py log_once [line:27] INFO std_valid_accuracy            0.1784\n",
      "2023-03-11 22:20:46,230 simple_logger.py log_once [line:27] INFO valid_loss                    1.7518\n",
      "2023-03-11 22:20:46,231 simple_logger.py log_once [line:27] INFO mean_valid_loss               1.7518\n",
      "2023-03-11 22:20:46,231 simple_logger.py log_once [line:27] INFO std_valid_loss                0.2794\n",
      "2023-03-11 22:20:46,232 fedbase.py run [line:117] INFO Eval Time Cost:               2.7152s\n",
      "2023-03-11 22:20:47,799 fedbase.py run [line:112] INFO --------------Round 64--------------\n",
      "2023-03-11 22:20:47,800 simple_logger.py log_once [line:13] INFO Current_time:64\n"
     ]
    },
    {
     "name": "stdout",
     "output_type": "stream",
     "text": [
      "     pcost       dcost       gap    pres   dres\n",
      " 0:  1.0000e+00 -2.0500e+00  3e+00  2e-16  9e-16\n",
      " 1:  1.0000e+00  9.6950e-01  3e-02  2e-16  1e-15\n",
      " 2:  1.0000e+00  9.9970e-01  3e-04  6e-16  1e-15\n",
      " 3:  1.0000e+00  1.0000e+00  3e-06  2e-16  8e-16\n",
      " 4:  1.0000e+00  1.0000e+00  3e-08  9e-17  3e-16\n",
      "Optimal solution found.\n"
     ]
    },
    {
     "name": "stderr",
     "output_type": "stream",
     "text": [
      "2023-03-11 22:20:50,568 simple_logger.py log_once [line:27] INFO test_accuracy                 0.3487\n",
      "2023-03-11 22:20:50,569 simple_logger.py log_once [line:27] INFO test_loss                     1.7570\n",
      "2023-03-11 22:20:50,569 simple_logger.py log_once [line:27] INFO valid_accuracy                0.3592\n",
      "2023-03-11 22:20:50,569 simple_logger.py log_once [line:27] INFO mean_valid_accuracy           0.3592\n",
      "2023-03-11 22:20:50,570 simple_logger.py log_once [line:27] INFO std_valid_accuracy            0.1882\n",
      "2023-03-11 22:20:50,570 simple_logger.py log_once [line:27] INFO valid_loss                    1.7496\n",
      "2023-03-11 22:20:50,570 simple_logger.py log_once [line:27] INFO mean_valid_loss               1.7496\n",
      "2023-03-11 22:20:50,571 simple_logger.py log_once [line:27] INFO std_valid_loss                0.3287\n",
      "2023-03-11 22:20:50,571 fedbase.py run [line:117] INFO Eval Time Cost:               2.7711s\n",
      "2023-03-11 22:20:52,096 fedbase.py run [line:112] INFO --------------Round 65--------------\n",
      "2023-03-11 22:20:52,096 simple_logger.py log_once [line:13] INFO Current_time:65\n"
     ]
    },
    {
     "name": "stdout",
     "output_type": "stream",
     "text": [
      "     pcost       dcost       gap    pres   dres\n",
      " 0:  1.0000e+00 -2.0500e+00  3e+00  2e-17  2e-15\n",
      " 1:  1.0000e+00  9.6950e-01  3e-02  8e-17  1e-15\n",
      " 2:  1.0000e+00  9.9969e-01  3e-04  1e-16  1e-15\n",
      " 3:  1.0000e+00  1.0000e+00  3e-06  7e-17  7e-16\n",
      " 4:  1.0000e+00  1.0000e+00  3e-08  1e-16  1e-15\n",
      "Optimal solution found.\n"
     ]
    },
    {
     "name": "stderr",
     "output_type": "stream",
     "text": [
      "2023-03-11 22:20:54,859 simple_logger.py log_once [line:27] INFO test_accuracy                 0.3708\n",
      "2023-03-11 22:20:54,860 simple_logger.py log_once [line:27] INFO test_loss                     1.6904\n",
      "2023-03-11 22:20:54,860 simple_logger.py log_once [line:27] INFO valid_accuracy                0.3810\n",
      "2023-03-11 22:20:54,861 simple_logger.py log_once [line:27] INFO mean_valid_accuracy           0.3810\n",
      "2023-03-11 22:20:54,861 simple_logger.py log_once [line:27] INFO std_valid_accuracy            0.1807\n",
      "2023-03-11 22:20:54,861 simple_logger.py log_once [line:27] INFO valid_loss                    1.6834\n",
      "2023-03-11 22:20:54,862 simple_logger.py log_once [line:27] INFO mean_valid_loss               1.6834\n",
      "2023-03-11 22:20:54,862 simple_logger.py log_once [line:27] INFO std_valid_loss                0.2788\n",
      "2023-03-11 22:20:54,862 fedbase.py run [line:117] INFO Eval Time Cost:               2.7661s\n",
      "2023-03-11 22:20:56,172 fedbase.py run [line:112] INFO --------------Round 66--------------\n",
      "2023-03-11 22:20:56,172 simple_logger.py log_once [line:13] INFO Current_time:66\n"
     ]
    },
    {
     "name": "stdout",
     "output_type": "stream",
     "text": [
      "     pcost       dcost       gap    pres   dres\n",
      " 0:  1.0000e+00 -2.0500e+00  3e+00  4e-16  8e-16\n",
      " 1:  1.0000e+00  9.6950e-01  3e-02  1e-16  2e-15\n",
      " 2:  1.0000e+00  9.9969e-01  3e-04  8e-17  8e-16\n",
      " 3:  1.0000e+00  1.0000e+00  3e-06  1e-16  7e-16\n",
      " 4:  1.0000e+00  1.0000e+00  2e-07  1e-16  7e-16\n",
      "Optimal solution found.\n"
     ]
    },
    {
     "name": "stderr",
     "output_type": "stream",
     "text": [
      "2023-03-11 22:20:58,888 simple_logger.py log_once [line:27] INFO test_accuracy                 0.3339\n",
      "2023-03-11 22:20:58,888 simple_logger.py log_once [line:27] INFO test_loss                     1.7306\n",
      "2023-03-11 22:20:58,889 simple_logger.py log_once [line:27] INFO valid_accuracy                0.3436\n",
      "2023-03-11 22:20:58,889 simple_logger.py log_once [line:27] INFO mean_valid_accuracy           0.3436\n",
      "2023-03-11 22:20:58,890 simple_logger.py log_once [line:27] INFO std_valid_accuracy            0.2232\n",
      "2023-03-11 22:20:58,890 simple_logger.py log_once [line:27] INFO valid_loss                    1.7226\n",
      "2023-03-11 22:20:58,890 simple_logger.py log_once [line:27] INFO mean_valid_loss               1.7226\n",
      "2023-03-11 22:20:58,891 simple_logger.py log_once [line:27] INFO std_valid_loss                0.3532\n",
      "2023-03-11 22:20:58,891 fedbase.py run [line:117] INFO Eval Time Cost:               2.7189s\n",
      "2023-03-11 22:21:00,443 fedbase.py run [line:112] INFO --------------Round 67--------------\n",
      "2023-03-11 22:21:00,443 simple_logger.py log_once [line:13] INFO Current_time:67\n"
     ]
    },
    {
     "name": "stdout",
     "output_type": "stream",
     "text": [
      "     pcost       dcost       gap    pres   dres\n",
      " 0:  1.0000e+00 -2.0500e+00  3e+00  2e-16  1e-15\n",
      " 1:  1.0000e+00  9.6950e-01  3e-02  1e-16  8e-16\n",
      " 2:  1.0000e+00  9.9969e-01  3e-04  2e-16  1e-15\n",
      " 3:  1.0000e+00  1.0000e+00  3e-06  1e-16  1e-15\n",
      " 4:  1.0000e+00  1.0000e+00  1e-07  1e-16  1e-15\n",
      "Optimal solution found.\n"
     ]
    },
    {
     "name": "stderr",
     "output_type": "stream",
     "text": [
      "2023-03-11 22:21:03,198 simple_logger.py log_once [line:27] INFO test_accuracy                 0.3831\n",
      "2023-03-11 22:21:03,198 simple_logger.py log_once [line:27] INFO test_loss                     1.6724\n",
      "2023-03-11 22:21:03,198 simple_logger.py log_once [line:27] INFO valid_accuracy                0.3934\n",
      "2023-03-11 22:21:03,199 simple_logger.py log_once [line:27] INFO mean_valid_accuracy           0.3934\n",
      "2023-03-11 22:21:03,199 simple_logger.py log_once [line:27] INFO std_valid_accuracy            0.1676\n",
      "2023-03-11 22:21:03,199 simple_logger.py log_once [line:27] INFO valid_loss                    1.6670\n",
      "2023-03-11 22:21:03,199 simple_logger.py log_once [line:27] INFO mean_valid_loss               1.6670\n",
      "2023-03-11 22:21:03,200 simple_logger.py log_once [line:27] INFO std_valid_loss                0.2326\n",
      "2023-03-11 22:21:03,200 fedbase.py run [line:117] INFO Eval Time Cost:               2.7567s\n",
      "2023-03-11 22:21:04,720 fedbase.py run [line:112] INFO --------------Round 68--------------\n",
      "2023-03-11 22:21:04,721 simple_logger.py log_once [line:13] INFO Current_time:68\n"
     ]
    },
    {
     "name": "stdout",
     "output_type": "stream",
     "text": [
      "     pcost       dcost       gap    pres   dres\n",
      " 0:  1.0000e+00 -2.0500e+00  3e+00  2e-16  7e-16\n",
      " 1:  1.0000e+00  9.6950e-01  3e-02  3e-16  1e-15\n",
      " 2:  1.0000e+00  9.9970e-01  3e-04  3e-16  1e-15\n",
      " 3:  1.0000e+00  1.0000e+00  3e-06  8e-17  8e-16\n",
      " 4:  1.0000e+00  1.0000e+00  3e-08  1e-16  2e-16\n",
      "Optimal solution found.\n"
     ]
    },
    {
     "name": "stderr",
     "output_type": "stream",
     "text": [
      "2023-03-11 22:21:07,445 simple_logger.py log_once [line:27] INFO test_accuracy                 0.3375\n",
      "2023-03-11 22:21:07,446 simple_logger.py log_once [line:27] INFO test_loss                     1.7396\n",
      "2023-03-11 22:21:07,446 simple_logger.py log_once [line:27] INFO valid_accuracy                0.3480\n",
      "2023-03-11 22:21:07,446 simple_logger.py log_once [line:27] INFO mean_valid_accuracy           0.3480\n",
      "2023-03-11 22:21:07,447 simple_logger.py log_once [line:27] INFO std_valid_accuracy            0.1986\n",
      "2023-03-11 22:21:07,447 simple_logger.py log_once [line:27] INFO valid_loss                    1.7373\n",
      "2023-03-11 22:21:07,447 simple_logger.py log_once [line:27] INFO mean_valid_loss               1.7373\n",
      "2023-03-11 22:21:07,448 simple_logger.py log_once [line:27] INFO std_valid_loss                0.3534\n",
      "2023-03-11 22:21:07,448 fedbase.py run [line:117] INFO Eval Time Cost:               2.7271s\n",
      "2023-03-11 22:21:08,902 fedbase.py run [line:112] INFO --------------Round 69--------------\n",
      "2023-03-11 22:21:08,903 simple_logger.py log_once [line:13] INFO Current_time:69\n"
     ]
    },
    {
     "name": "stdout",
     "output_type": "stream",
     "text": [
      "     pcost       dcost       gap    pres   dres\n",
      " 0:  1.0000e+00 -2.0500e+00  3e+00  2e-16  2e-15\n",
      " 1:  1.0000e+00  9.6950e-01  3e-02  2e-16  8e-16\n",
      " 2:  1.0000e+00  9.9969e-01  3e-04  2e-16  8e-16\n",
      " 3:  1.0000e+00  1.0000e+00  3e-06  1e-16  6e-16\n",
      " 4:  1.0000e+00  1.0000e+00  1e-07  1e-16  1e-15\n",
      "Optimal solution found.\n"
     ]
    },
    {
     "name": "stderr",
     "output_type": "stream",
     "text": [
      "2023-03-11 22:21:11,602 simple_logger.py log_once [line:27] INFO test_accuracy                 0.2867\n",
      "2023-03-11 22:21:11,603 simple_logger.py log_once [line:27] INFO test_loss                     1.8388\n",
      "2023-03-11 22:21:11,603 simple_logger.py log_once [line:27] INFO valid_accuracy                0.2962\n",
      "2023-03-11 22:21:11,603 simple_logger.py log_once [line:27] INFO mean_valid_accuracy           0.2962\n",
      "2023-03-11 22:21:11,604 simple_logger.py log_once [line:27] INFO std_valid_accuracy            0.2348\n",
      "2023-03-11 22:21:11,604 simple_logger.py log_once [line:27] INFO valid_loss                    1.8398\n",
      "2023-03-11 22:21:11,604 simple_logger.py log_once [line:27] INFO mean_valid_loss               1.8398\n",
      "2023-03-11 22:21:11,604 simple_logger.py log_once [line:27] INFO std_valid_loss                0.4508\n",
      "2023-03-11 22:21:11,605 fedbase.py run [line:117] INFO Eval Time Cost:               2.7017s\n",
      "2023-03-11 22:21:13,151 fedbase.py run [line:112] INFO --------------Round 70--------------\n",
      "2023-03-11 22:21:13,152 simple_logger.py log_once [line:13] INFO Current_time:70\n"
     ]
    },
    {
     "name": "stdout",
     "output_type": "stream",
     "text": [
      "     pcost       dcost       gap    pres   dres\n",
      " 0:  1.0000e+00 -2.0500e+00  3e+00  3e-16  1e-15\n",
      " 1:  1.0000e+00  9.6950e-01  3e-02  2e-16  2e-15\n",
      " 2:  1.0000e+00  9.9969e-01  3e-04  1e-16  1e-15\n",
      " 3:  1.0000e+00  1.0000e+00  3e-06  1e-16  1e-15\n",
      " 4:  1.0000e+00  1.0000e+00  2e-07  1e-16  7e-16\n",
      "Optimal solution found.\n"
     ]
    },
    {
     "name": "stderr",
     "output_type": "stream",
     "text": [
      "2023-03-11 22:21:15,882 simple_logger.py log_once [line:27] INFO test_accuracy                 0.2805\n",
      "2023-03-11 22:21:15,883 simple_logger.py log_once [line:27] INFO test_loss                     1.8784\n",
      "2023-03-11 22:21:15,883 simple_logger.py log_once [line:27] INFO valid_accuracy                0.2874\n",
      "2023-03-11 22:21:15,883 simple_logger.py log_once [line:27] INFO mean_valid_accuracy           0.2874\n",
      "2023-03-11 22:21:15,883 simple_logger.py log_once [line:27] INFO std_valid_accuracy            0.2463\n",
      "2023-03-11 22:21:15,884 simple_logger.py log_once [line:27] INFO valid_loss                    1.8773\n",
      "2023-03-11 22:21:15,884 simple_logger.py log_once [line:27] INFO mean_valid_loss               1.8773\n",
      "2023-03-11 22:21:15,884 simple_logger.py log_once [line:27] INFO std_valid_loss                0.4859\n",
      "2023-03-11 22:21:15,885 fedbase.py run [line:117] INFO Eval Time Cost:               2.7331s\n",
      "2023-03-11 22:21:17,567 fedbase.py run [line:112] INFO --------------Round 71--------------\n",
      "2023-03-11 22:21:17,567 simple_logger.py log_once [line:13] INFO Current_time:71\n"
     ]
    },
    {
     "name": "stdout",
     "output_type": "stream",
     "text": [
      "     pcost       dcost       gap    pres   dres\n",
      " 0:  1.0000e+00 -2.0500e+00  3e+00  2e-17  2e-15\n",
      " 1:  1.0000e+00  9.6950e-01  3e-02  8e-17  1e-15\n",
      " 2:  1.0000e+00  9.9969e-01  3e-04  1e-16  1e-15\n",
      " 3:  1.0000e+00  1.0000e+00  3e-06  7e-17  7e-16\n",
      " 4:  1.0000e+00  1.0000e+00  3e-08  1e-16  1e-15\n",
      "Optimal solution found.\n"
     ]
    },
    {
     "name": "stderr",
     "output_type": "stream",
     "text": [
      "2023-03-11 22:21:20,371 simple_logger.py log_once [line:27] INFO test_accuracy                 0.3458\n",
      "2023-03-11 22:21:20,371 simple_logger.py log_once [line:27] INFO test_loss                     1.7242\n",
      "2023-03-11 22:21:20,372 simple_logger.py log_once [line:27] INFO valid_accuracy                0.3596\n",
      "2023-03-11 22:21:20,372 simple_logger.py log_once [line:27] INFO mean_valid_accuracy           0.3596\n",
      "2023-03-11 22:21:20,372 simple_logger.py log_once [line:27] INFO std_valid_accuracy            0.2004\n",
      "2023-03-11 22:21:20,373 simple_logger.py log_once [line:27] INFO valid_loss                    1.7197\n",
      "2023-03-11 22:21:20,373 simple_logger.py log_once [line:27] INFO mean_valid_loss               1.7197\n",
      "2023-03-11 22:21:20,373 simple_logger.py log_once [line:27] INFO std_valid_loss                0.3489\n",
      "2023-03-11 22:21:20,373 fedbase.py run [line:117] INFO Eval Time Cost:               2.8061s\n",
      "2023-03-11 22:21:21,896 fedbase.py run [line:112] INFO --------------Round 72--------------\n",
      "2023-03-11 22:21:21,897 simple_logger.py log_once [line:13] INFO Current_time:72\n"
     ]
    },
    {
     "name": "stdout",
     "output_type": "stream",
     "text": [
      "     pcost       dcost       gap    pres   dres\n",
      " 0:  1.0000e+00 -2.0500e+00  3e+00  2e-16  8e-16\n",
      " 1:  1.0000e+00  9.6950e-01  3e-02  5e-16  2e-15\n",
      " 2:  1.0000e+00  9.9969e-01  3e-04  3e-16  7e-16\n",
      " 3:  1.0000e+00  1.0000e+00  3e-06  8e-17  6e-16\n",
      " 4:  1.0000e+00  1.0000e+00  3e-07  1e-16  6e-16\n",
      "Optimal solution found.\n"
     ]
    },
    {
     "name": "stderr",
     "output_type": "stream",
     "text": [
      "2023-03-11 22:21:24,600 simple_logger.py log_once [line:27] INFO test_accuracy                 0.3816\n",
      "2023-03-11 22:21:24,601 simple_logger.py log_once [line:27] INFO test_loss                     1.6737\n",
      "2023-03-11 22:21:24,601 simple_logger.py log_once [line:27] INFO valid_accuracy                0.3970\n",
      "2023-03-11 22:21:24,601 simple_logger.py log_once [line:27] INFO mean_valid_accuracy           0.3970\n",
      "2023-03-11 22:21:24,602 simple_logger.py log_once [line:27] INFO std_valid_accuracy            0.1367\n",
      "2023-03-11 22:21:24,602 simple_logger.py log_once [line:27] INFO valid_loss                    1.6695\n",
      "2023-03-11 22:21:24,602 simple_logger.py log_once [line:27] INFO mean_valid_loss               1.6695\n",
      "2023-03-11 22:21:24,603 simple_logger.py log_once [line:27] INFO std_valid_loss                0.2577\n",
      "2023-03-11 22:21:24,603 fedbase.py run [line:117] INFO Eval Time Cost:               2.7065s\n",
      "2023-03-11 22:21:26,164 fedbase.py run [line:112] INFO --------------Round 73--------------\n",
      "2023-03-11 22:21:26,165 simple_logger.py log_once [line:13] INFO Current_time:73\n"
     ]
    },
    {
     "name": "stdout",
     "output_type": "stream",
     "text": [
      "     pcost       dcost       gap    pres   dres\n",
      " 0:  1.0000e+00 -2.0500e+00  3e+00  2e-17  2e-15\n",
      " 1:  1.0000e+00  9.6950e-01  3e-02  8e-17  1e-15\n",
      " 2:  1.0000e+00  9.9969e-01  3e-04  1e-16  1e-15\n",
      " 3:  1.0000e+00  1.0000e+00  3e-06  7e-17  7e-16\n",
      " 4:  1.0000e+00  1.0000e+00  3e-08  1e-16  1e-15\n",
      "Optimal solution found.\n"
     ]
    },
    {
     "name": "stderr",
     "output_type": "stream",
     "text": [
      "2023-03-11 22:21:28,887 simple_logger.py log_once [line:27] INFO test_accuracy                 0.3859\n",
      "2023-03-11 22:21:28,888 simple_logger.py log_once [line:27] INFO test_loss                     1.6698\n",
      "2023-03-11 22:21:28,888 simple_logger.py log_once [line:27] INFO valid_accuracy                0.3988\n",
      "2023-03-11 22:21:28,888 simple_logger.py log_once [line:27] INFO mean_valid_accuracy           0.3988\n",
      "2023-03-11 22:21:28,889 simple_logger.py log_once [line:27] INFO std_valid_accuracy            0.1622\n",
      "2023-03-11 22:21:28,889 simple_logger.py log_once [line:27] INFO valid_loss                    1.6624\n",
      "2023-03-11 22:21:28,889 simple_logger.py log_once [line:27] INFO mean_valid_loss               1.6624\n",
      "2023-03-11 22:21:28,890 simple_logger.py log_once [line:27] INFO std_valid_loss                0.2535\n",
      "2023-03-11 22:21:28,890 fedbase.py run [line:117] INFO Eval Time Cost:               2.7250s\n",
      "2023-03-11 22:21:30,392 fedbase.py run [line:112] INFO --------------Round 74--------------\n",
      "2023-03-11 22:21:30,393 simple_logger.py log_once [line:13] INFO Current_time:74\n"
     ]
    },
    {
     "name": "stdout",
     "output_type": "stream",
     "text": [
      "     pcost       dcost       gap    pres   dres\n",
      " 0:  1.0000e+00 -2.0500e+00  3e+00  9e-17  9e-16\n",
      " 1:  1.0000e+00  9.6950e-01  3e-02  8e-17  1e-15\n",
      " 2:  1.0000e+00  9.9969e-01  3e-04  1e-16  9e-16\n",
      " 3:  1.0000e+00  1.0000e+00  3e-06  2e-16  5e-16\n",
      " 4:  1.0000e+00  1.0000e+00  3e-08  4e-16  7e-16\n",
      "Optimal solution found.\n"
     ]
    },
    {
     "name": "stderr",
     "output_type": "stream",
     "text": [
      "2023-03-11 22:21:33,149 simple_logger.py log_once [line:27] INFO test_accuracy                 0.3678\n",
      "2023-03-11 22:21:33,149 simple_logger.py log_once [line:27] INFO test_loss                     1.7219\n",
      "2023-03-11 22:21:33,150 simple_logger.py log_once [line:27] INFO valid_accuracy                0.3798\n",
      "2023-03-11 22:21:33,150 simple_logger.py log_once [line:27] INFO mean_valid_accuracy           0.3798\n",
      "2023-03-11 22:21:33,150 simple_logger.py log_once [line:27] INFO std_valid_accuracy            0.1419\n",
      "2023-03-11 22:21:33,151 simple_logger.py log_once [line:27] INFO valid_loss                    1.7140\n",
      "2023-03-11 22:21:33,151 simple_logger.py log_once [line:27] INFO mean_valid_loss               1.7140\n",
      "2023-03-11 22:21:33,151 simple_logger.py log_once [line:27] INFO std_valid_loss                0.2447\n",
      "2023-03-11 22:21:33,151 fedbase.py run [line:117] INFO Eval Time Cost:               2.7585s\n",
      "2023-03-11 22:21:34,657 fedbase.py run [line:112] INFO --------------Round 75--------------\n",
      "2023-03-11 22:21:34,657 simple_logger.py log_once [line:13] INFO Current_time:75\n"
     ]
    },
    {
     "name": "stdout",
     "output_type": "stream",
     "text": [
      "     pcost       dcost       gap    pres   dres\n",
      " 0:  1.0000e+00 -2.0500e+00  3e+00  3e-17  5e-16\n",
      " 1:  1.0000e+00  9.6950e-01  3e-02  8e-17  1e-15\n",
      " 2:  1.0000e+00  9.9969e-01  3e-04  2e-16  8e-16\n",
      " 3:  1.0000e+00  1.0000e+00  3e-06  1e-16  5e-16\n",
      " 4:  1.0000e+00  1.0000e+00  3e-08  1e-16  9e-16\n",
      "Optimal solution found.\n"
     ]
    },
    {
     "name": "stderr",
     "output_type": "stream",
     "text": [
      "2023-03-11 22:21:37,436 simple_logger.py log_once [line:27] INFO test_accuracy                 0.3932\n",
      "2023-03-11 22:21:37,436 simple_logger.py log_once [line:27] INFO test_loss                     1.6576\n",
      "2023-03-11 22:21:37,436 simple_logger.py log_once [line:27] INFO valid_accuracy                0.3954\n",
      "2023-03-11 22:21:37,437 simple_logger.py log_once [line:27] INFO mean_valid_accuracy           0.3954\n",
      "2023-03-11 22:21:37,437 simple_logger.py log_once [line:27] INFO std_valid_accuracy            0.1282\n",
      "2023-03-11 22:21:37,437 simple_logger.py log_once [line:27] INFO valid_loss                    1.6506\n",
      "2023-03-11 22:21:37,437 simple_logger.py log_once [line:27] INFO mean_valid_loss               1.6506\n",
      "2023-03-11 22:21:37,438 simple_logger.py log_once [line:27] INFO std_valid_loss                0.1890\n",
      "2023-03-11 22:21:37,438 fedbase.py run [line:117] INFO Eval Time Cost:               2.7805s\n",
      "2023-03-11 22:21:38,957 fedbase.py run [line:112] INFO --------------Round 76--------------\n",
      "2023-03-11 22:21:38,958 simple_logger.py log_once [line:13] INFO Current_time:76\n"
     ]
    },
    {
     "name": "stdout",
     "output_type": "stream",
     "text": [
      "     pcost       dcost       gap    pres   dres\n",
      " 0:  1.0000e+00 -2.0500e+00  3e+00  2e-16  9e-16\n",
      " 1:  1.0000e+00  9.6950e-01  3e-02  2e-16  1e-15\n",
      " 2:  1.0000e+00  9.9970e-01  3e-04  6e-16  1e-15\n",
      " 3:  1.0000e+00  1.0000e+00  3e-06  2e-16  8e-16\n",
      " 4:  1.0000e+00  1.0000e+00  3e-08  9e-17  3e-16\n",
      "Optimal solution found.\n"
     ]
    },
    {
     "name": "stderr",
     "output_type": "stream",
     "text": [
      "2023-03-11 22:21:41,699 simple_logger.py log_once [line:27] INFO test_accuracy                 0.4208\n",
      "2023-03-11 22:21:41,700 simple_logger.py log_once [line:27] INFO test_loss                     1.6018\n",
      "2023-03-11 22:21:41,700 simple_logger.py log_once [line:27] INFO valid_accuracy                0.4250\n",
      "2023-03-11 22:21:41,700 simple_logger.py log_once [line:27] INFO mean_valid_accuracy           0.4250\n",
      "2023-03-11 22:21:41,700 simple_logger.py log_once [line:27] INFO std_valid_accuracy            0.1199\n",
      "2023-03-11 22:21:41,701 simple_logger.py log_once [line:27] INFO valid_loss                    1.5973\n",
      "2023-03-11 22:21:41,701 simple_logger.py log_once [line:27] INFO mean_valid_loss               1.5973\n",
      "2023-03-11 22:21:41,701 simple_logger.py log_once [line:27] INFO std_valid_loss                0.1764\n",
      "2023-03-11 22:21:41,702 fedbase.py run [line:117] INFO Eval Time Cost:               2.7441s\n",
      "2023-03-11 22:21:43,272 fedbase.py run [line:112] INFO --------------Round 77--------------\n",
      "2023-03-11 22:21:43,272 simple_logger.py log_once [line:13] INFO Current_time:77\n"
     ]
    },
    {
     "name": "stdout",
     "output_type": "stream",
     "text": [
      "     pcost       dcost       gap    pres   dres\n",
      " 0:  1.0000e+00 -2.0500e+00  3e+00  2e-16  9e-16\n",
      " 1:  1.0000e+00  9.6950e-01  3e-02  2e-16  1e-15\n",
      " 2:  1.0000e+00  9.9969e-01  3e-04  1e-16  9e-16\n",
      " 3:  1.0000e+00  1.0000e+00  3e-06  9e-17  8e-16\n",
      " 4:  1.0000e+00  1.0000e+00  3e-07  2e-16  5e-16\n",
      "Optimal solution found.\n"
     ]
    },
    {
     "name": "stderr",
     "output_type": "stream",
     "text": [
      "2023-03-11 22:21:46,027 simple_logger.py log_once [line:27] INFO test_accuracy                 0.4106\n",
      "2023-03-11 22:21:46,028 simple_logger.py log_once [line:27] INFO test_loss                     1.6038\n",
      "2023-03-11 22:21:46,028 simple_logger.py log_once [line:27] INFO valid_accuracy                0.4152\n",
      "2023-03-11 22:21:46,028 simple_logger.py log_once [line:27] INFO mean_valid_accuracy           0.4152\n",
      "2023-03-11 22:21:46,029 simple_logger.py log_once [line:27] INFO std_valid_accuracy            0.1429\n",
      "2023-03-11 22:21:46,029 simple_logger.py log_once [line:27] INFO valid_loss                    1.5943\n",
      "2023-03-11 22:21:46,029 simple_logger.py log_once [line:27] INFO mean_valid_loss               1.5943\n",
      "2023-03-11 22:21:46,030 simple_logger.py log_once [line:27] INFO std_valid_loss                0.2126\n",
      "2023-03-11 22:21:46,030 fedbase.py run [line:117] INFO Eval Time Cost:               2.7578s\n",
      "2023-03-11 22:21:47,626 fedbase.py run [line:112] INFO --------------Round 78--------------\n",
      "2023-03-11 22:21:47,626 simple_logger.py log_once [line:13] INFO Current_time:78\n"
     ]
    },
    {
     "name": "stdout",
     "output_type": "stream",
     "text": [
      "     pcost       dcost       gap    pres   dres\n",
      " 0:  1.0000e+00 -2.0500e+00  3e+00  3e-16  1e-15\n",
      " 1:  1.0000e+00  9.6950e-01  3e-02  2e-16  8e-16\n",
      " 2:  1.0000e+00  9.9969e-01  3e-04  1e-16  9e-16\n",
      " 3:  1.0000e+00  1.0000e+00  3e-06  1e-16  9e-16\n",
      " 4:  1.0000e+00  1.0000e+00  2e-07  2e-16  2e-16\n",
      "Optimal solution found.\n"
     ]
    },
    {
     "name": "stderr",
     "output_type": "stream",
     "text": [
      "2023-03-11 22:21:50,340 simple_logger.py log_once [line:27] INFO test_accuracy                 0.4140\n",
      "2023-03-11 22:21:50,340 simple_logger.py log_once [line:27] INFO test_loss                     1.6052\n",
      "2023-03-11 22:21:50,341 simple_logger.py log_once [line:27] INFO valid_accuracy                0.4176\n",
      "2023-03-11 22:21:50,341 simple_logger.py log_once [line:27] INFO mean_valid_accuracy           0.4176\n",
      "2023-03-11 22:21:50,341 simple_logger.py log_once [line:27] INFO std_valid_accuracy            0.1568\n",
      "2023-03-11 22:21:50,341 simple_logger.py log_once [line:27] INFO valid_loss                    1.5964\n",
      "2023-03-11 22:21:50,342 simple_logger.py log_once [line:27] INFO mean_valid_loss               1.5964\n",
      "2023-03-11 22:21:50,342 simple_logger.py log_once [line:27] INFO std_valid_loss                0.2506\n",
      "2023-03-11 22:21:50,343 fedbase.py run [line:117] INFO Eval Time Cost:               2.7164s\n",
      "2023-03-11 22:21:51,838 fedbase.py run [line:112] INFO --------------Round 79--------------\n",
      "2023-03-11 22:21:51,838 simple_logger.py log_once [line:13] INFO Current_time:79\n"
     ]
    },
    {
     "name": "stdout",
     "output_type": "stream",
     "text": [
      "     pcost       dcost       gap    pres   dres\n",
      " 0:  1.0000e+00 -2.0500e+00  3e+00  2e-17  2e-15\n",
      " 1:  1.0000e+00  9.6950e-01  3e-02  8e-17  1e-15\n",
      " 2:  1.0000e+00  9.9969e-01  3e-04  1e-16  1e-15\n",
      " 3:  1.0000e+00  1.0000e+00  3e-06  7e-17  7e-16\n",
      " 4:  1.0000e+00  1.0000e+00  3e-08  1e-16  1e-15\n",
      "Optimal solution found.\n"
     ]
    },
    {
     "name": "stderr",
     "output_type": "stream",
     "text": [
      "2023-03-11 22:21:54,633 simple_logger.py log_once [line:27] INFO test_accuracy                 0.4229\n",
      "2023-03-11 22:21:54,634 simple_logger.py log_once [line:27] INFO test_loss                     1.5919\n",
      "2023-03-11 22:21:54,634 simple_logger.py log_once [line:27] INFO valid_accuracy                0.4330\n",
      "2023-03-11 22:21:54,634 simple_logger.py log_once [line:27] INFO mean_valid_accuracy           0.4330\n",
      "2023-03-11 22:21:54,635 simple_logger.py log_once [line:27] INFO std_valid_accuracy            0.1186\n",
      "2023-03-11 22:21:54,635 simple_logger.py log_once [line:27] INFO valid_loss                    1.5862\n",
      "2023-03-11 22:21:54,635 simple_logger.py log_once [line:27] INFO mean_valid_loss               1.5862\n",
      "2023-03-11 22:21:54,635 simple_logger.py log_once [line:27] INFO std_valid_loss                0.1727\n",
      "2023-03-11 22:21:54,636 fedbase.py run [line:117] INFO Eval Time Cost:               2.7977s\n",
      "2023-03-11 22:21:56,207 fedbase.py run [line:112] INFO --------------Round 80--------------\n",
      "2023-03-11 22:21:56,208 simple_logger.py log_once [line:13] INFO Current_time:80\n"
     ]
    },
    {
     "name": "stdout",
     "output_type": "stream",
     "text": [
      "     pcost       dcost       gap    pres   dres\n",
      " 0:  1.0000e+00 -2.0500e+00  3e+00  3e-16  1e-15\n",
      " 1:  1.0000e+00  9.6950e-01  3e-02  1e-16  1e-15\n",
      " 2:  1.0000e+00  9.9969e-01  3e-04  2e-16  1e-15\n",
      " 3:  1.0000e+00  1.0000e+00  3e-06  1e-16  9e-16\n",
      " 4:  1.0000e+00  1.0000e+00  3e-07  1e-16  1e-15\n",
      "Optimal solution found.\n"
     ]
    },
    {
     "name": "stderr",
     "output_type": "stream",
     "text": [
      "2023-03-11 22:21:58,971 simple_logger.py log_once [line:27] INFO test_accuracy                 0.4211\n",
      "2023-03-11 22:21:58,972 simple_logger.py log_once [line:27] INFO test_loss                     1.6002\n",
      "2023-03-11 22:21:58,972 simple_logger.py log_once [line:27] INFO valid_accuracy                0.4218\n",
      "2023-03-11 22:21:58,972 simple_logger.py log_once [line:27] INFO mean_valid_accuracy           0.4218\n",
      "2023-03-11 22:21:58,973 simple_logger.py log_once [line:27] INFO std_valid_accuracy            0.1249\n",
      "2023-03-11 22:21:58,973 simple_logger.py log_once [line:27] INFO valid_loss                    1.5927\n",
      "2023-03-11 22:21:58,974 simple_logger.py log_once [line:27] INFO mean_valid_loss               1.5927\n",
      "2023-03-11 22:21:58,974 simple_logger.py log_once [line:27] INFO std_valid_loss                0.2038\n",
      "2023-03-11 22:21:58,974 fedbase.py run [line:117] INFO Eval Time Cost:               2.7665s\n",
      "2023-03-11 22:22:00,429 fedbase.py run [line:112] INFO --------------Round 81--------------\n",
      "2023-03-11 22:22:00,430 simple_logger.py log_once [line:13] INFO Current_time:81\n"
     ]
    },
    {
     "name": "stdout",
     "output_type": "stream",
     "text": [
      "     pcost       dcost       gap    pres   dres\n",
      " 0:  1.0000e+00 -2.0500e+00  3e+00  2e-16  9e-16\n",
      " 1:  1.0000e+00  9.6950e-01  3e-02  2e-16  1e-15\n",
      " 2:  1.0000e+00  9.9970e-01  3e-04  6e-16  1e-15\n",
      " 3:  1.0000e+00  1.0000e+00  3e-06  2e-16  8e-16\n",
      " 4:  1.0000e+00  1.0000e+00  3e-08  9e-17  3e-16\n",
      "Optimal solution found.\n"
     ]
    },
    {
     "name": "stderr",
     "output_type": "stream",
     "text": [
      "2023-03-11 22:22:03,194 simple_logger.py log_once [line:27] INFO test_accuracy                 0.4109\n",
      "2023-03-11 22:22:03,194 simple_logger.py log_once [line:27] INFO test_loss                     1.6136\n",
      "2023-03-11 22:22:03,195 simple_logger.py log_once [line:27] INFO valid_accuracy                0.4156\n",
      "2023-03-11 22:22:03,195 simple_logger.py log_once [line:27] INFO mean_valid_accuracy           0.4156\n",
      "2023-03-11 22:22:03,195 simple_logger.py log_once [line:27] INFO std_valid_accuracy            0.1529\n",
      "2023-03-11 22:22:03,195 simple_logger.py log_once [line:27] INFO valid_loss                    1.6049\n",
      "2023-03-11 22:22:03,196 simple_logger.py log_once [line:27] INFO mean_valid_loss               1.6049\n",
      "2023-03-11 22:22:03,196 simple_logger.py log_once [line:27] INFO std_valid_loss                0.2325\n",
      "2023-03-11 22:22:03,196 fedbase.py run [line:117] INFO Eval Time Cost:               2.7665s\n",
      "2023-03-11 22:22:04,794 fedbase.py run [line:112] INFO --------------Round 82--------------\n",
      "2023-03-11 22:22:04,794 simple_logger.py log_once [line:13] INFO Current_time:82\n"
     ]
    },
    {
     "name": "stdout",
     "output_type": "stream",
     "text": [
      "     pcost       dcost       gap    pres   dres\n",
      " 0:  1.0000e+00 -2.0500e+00  3e+00  4e-17  2e-15\n",
      " 1:  1.0000e+00  9.6950e-01  3e-02  1e-16  2e-15\n",
      " 2:  1.0000e+00  9.9969e-01  3e-04  2e-16  1e-15\n",
      " 3:  1.0000e+00  1.0000e+00  3e-06  1e-16  8e-16\n",
      " 4:  1.0000e+00  1.0000e+00  3e-08  3e-16  9e-16\n",
      "Optimal solution found.\n"
     ]
    },
    {
     "name": "stderr",
     "output_type": "stream",
     "text": [
      "2023-03-11 22:22:07,489 simple_logger.py log_once [line:27] INFO test_accuracy                 0.4099\n",
      "2023-03-11 22:22:07,490 simple_logger.py log_once [line:27] INFO test_loss                     1.6204\n",
      "2023-03-11 22:22:07,490 simple_logger.py log_once [line:27] INFO valid_accuracy                0.4104\n",
      "2023-03-11 22:22:07,490 simple_logger.py log_once [line:27] INFO mean_valid_accuracy           0.4104\n",
      "2023-03-11 22:22:07,491 simple_logger.py log_once [line:27] INFO std_valid_accuracy            0.1349\n",
      "2023-03-11 22:22:07,491 simple_logger.py log_once [line:27] INFO valid_loss                    1.6148\n",
      "2023-03-11 22:22:07,491 simple_logger.py log_once [line:27] INFO mean_valid_loss               1.6148\n",
      "2023-03-11 22:22:07,492 simple_logger.py log_once [line:27] INFO std_valid_loss                0.2368\n",
      "2023-03-11 22:22:07,492 fedbase.py run [line:117] INFO Eval Time Cost:               2.6976s\n",
      "2023-03-11 22:22:09,126 fedbase.py run [line:112] INFO --------------Round 83--------------\n",
      "2023-03-11 22:22:09,126 simple_logger.py log_once [line:13] INFO Current_time:83\n"
     ]
    },
    {
     "name": "stdout",
     "output_type": "stream",
     "text": [
      "     pcost       dcost       gap    pres   dres\n",
      " 0:  1.0000e+00 -2.0500e+00  3e+00  2e-16  9e-16\n",
      " 1:  1.0000e+00  9.6950e-01  3e-02  2e-16  1e-15\n",
      " 2:  1.0000e+00  9.9970e-01  3e-04  6e-16  1e-15\n",
      " 3:  1.0000e+00  1.0000e+00  3e-06  2e-16  8e-16\n",
      " 4:  1.0000e+00  1.0000e+00  3e-08  9e-17  3e-16\n",
      "Optimal solution found.\n"
     ]
    },
    {
     "name": "stderr",
     "output_type": "stream",
     "text": [
      "2023-03-11 22:22:11,886 simple_logger.py log_once [line:27] INFO test_accuracy                 0.3945\n",
      "2023-03-11 22:22:11,886 simple_logger.py log_once [line:27] INFO test_loss                     1.6476\n",
      "2023-03-11 22:22:11,887 simple_logger.py log_once [line:27] INFO valid_accuracy                0.4038\n",
      "2023-03-11 22:22:11,887 simple_logger.py log_once [line:27] INFO mean_valid_accuracy           0.4038\n",
      "2023-03-11 22:22:11,887 simple_logger.py log_once [line:27] INFO std_valid_accuracy            0.1535\n",
      "2023-03-11 22:22:11,887 simple_logger.py log_once [line:27] INFO valid_loss                    1.6394\n",
      "2023-03-11 22:22:11,888 simple_logger.py log_once [line:27] INFO mean_valid_loss               1.6394\n",
      "2023-03-11 22:22:11,888 simple_logger.py log_once [line:27] INFO std_valid_loss                0.2960\n",
      "2023-03-11 22:22:11,888 fedbase.py run [line:117] INFO Eval Time Cost:               2.7621s\n",
      "2023-03-11 22:22:13,448 fedbase.py run [line:112] INFO --------------Round 84--------------\n",
      "2023-03-11 22:22:13,449 simple_logger.py log_once [line:13] INFO Current_time:84\n"
     ]
    },
    {
     "name": "stdout",
     "output_type": "stream",
     "text": [
      "     pcost       dcost       gap    pres   dres\n",
      " 0:  1.0000e+00 -2.0500e+00  3e+00  9e-17  9e-16\n",
      " 1:  1.0000e+00  9.6950e-01  3e-02  8e-17  1e-15\n",
      " 2:  1.0000e+00  9.9969e-01  3e-04  1e-16  9e-16\n",
      " 3:  1.0000e+00  1.0000e+00  3e-06  2e-16  5e-16\n",
      " 4:  1.0000e+00  1.0000e+00  3e-08  4e-16  7e-16\n",
      "Optimal solution found.\n"
     ]
    },
    {
     "name": "stderr",
     "output_type": "stream",
     "text": [
      "2023-03-11 22:22:16,204 simple_logger.py log_once [line:27] INFO test_accuracy                 0.3689\n",
      "2023-03-11 22:22:16,205 simple_logger.py log_once [line:27] INFO test_loss                     1.7310\n",
      "2023-03-11 22:22:16,205 simple_logger.py log_once [line:27] INFO valid_accuracy                0.3616\n",
      "2023-03-11 22:22:16,206 simple_logger.py log_once [line:27] INFO mean_valid_accuracy           0.3616\n",
      "2023-03-11 22:22:16,206 simple_logger.py log_once [line:27] INFO std_valid_accuracy            0.1467\n",
      "2023-03-11 22:22:16,206 simple_logger.py log_once [line:27] INFO valid_loss                    1.7248\n",
      "2023-03-11 22:22:16,207 simple_logger.py log_once [line:27] INFO mean_valid_loss               1.7248\n",
      "2023-03-11 22:22:16,207 simple_logger.py log_once [line:27] INFO std_valid_loss                0.3143\n",
      "2023-03-11 22:22:16,207 fedbase.py run [line:117] INFO Eval Time Cost:               2.7589s\n",
      "2023-03-11 22:22:17,862 fedbase.py run [line:112] INFO --------------Round 85--------------\n",
      "2023-03-11 22:22:17,863 simple_logger.py log_once [line:13] INFO Current_time:85\n"
     ]
    },
    {
     "name": "stdout",
     "output_type": "stream",
     "text": [
      "     pcost       dcost       gap    pres   dres\n",
      " 0:  1.0000e+00 -2.0500e+00  3e+00  2e-16  7e-16\n",
      " 1:  1.0000e+00  9.6950e-01  3e-02  3e-16  1e-15\n",
      " 2:  1.0000e+00  9.9970e-01  3e-04  3e-16  1e-15\n",
      " 3:  1.0000e+00  1.0000e+00  3e-06  8e-17  8e-16\n",
      " 4:  1.0000e+00  1.0000e+00  3e-08  1e-16  2e-16\n",
      "Optimal solution found.\n"
     ]
    },
    {
     "name": "stderr",
     "output_type": "stream",
     "text": [
      "2023-03-11 22:22:20,572 simple_logger.py log_once [line:27] INFO test_accuracy                 0.3964\n",
      "2023-03-11 22:22:20,572 simple_logger.py log_once [line:27] INFO test_loss                     1.6292\n",
      "2023-03-11 22:22:20,572 simple_logger.py log_once [line:27] INFO valid_accuracy                0.3982\n",
      "2023-03-11 22:22:20,573 simple_logger.py log_once [line:27] INFO mean_valid_accuracy           0.3982\n",
      "2023-03-11 22:22:20,573 simple_logger.py log_once [line:27] INFO std_valid_accuracy            0.1361\n",
      "2023-03-11 22:22:20,573 simple_logger.py log_once [line:27] INFO valid_loss                    1.6193\n",
      "2023-03-11 22:22:20,573 simple_logger.py log_once [line:27] INFO mean_valid_loss               1.6193\n",
      "2023-03-11 22:22:20,574 simple_logger.py log_once [line:27] INFO std_valid_loss                0.2519\n",
      "2023-03-11 22:22:20,574 fedbase.py run [line:117] INFO Eval Time Cost:               2.7112s\n",
      "2023-03-11 22:22:22,209 fedbase.py run [line:112] INFO --------------Round 86--------------\n",
      "2023-03-11 22:22:22,210 simple_logger.py log_once [line:13] INFO Current_time:86\n"
     ]
    },
    {
     "name": "stdout",
     "output_type": "stream",
     "text": [
      "     pcost       dcost       gap    pres   dres\n",
      " 0:  1.0000e+00 -2.0500e+00  3e+00  9e-17  1e-15\n",
      " 1:  1.0000e+00  9.6950e-01  3e-02  2e-16  1e-15\n",
      " 2:  1.0000e+00  9.9970e-01  3e-04  9e-17  1e-15\n",
      " 3:  1.0000e+00  1.0000e+00  3e-06  2e-16  1e-15\n",
      " 4:  1.0000e+00  1.0000e+00  3e-08  1e-16  2e-15\n",
      "Optimal solution found.\n"
     ]
    },
    {
     "name": "stderr",
     "output_type": "stream",
     "text": [
      "2023-03-11 22:22:24,916 simple_logger.py log_once [line:27] INFO test_accuracy                 0.3986\n",
      "2023-03-11 22:22:24,917 simple_logger.py log_once [line:27] INFO test_loss                     1.6108\n",
      "2023-03-11 22:22:24,917 simple_logger.py log_once [line:27] INFO valid_accuracy                0.4056\n",
      "2023-03-11 22:22:24,917 simple_logger.py log_once [line:27] INFO mean_valid_accuracy           0.4056\n",
      "2023-03-11 22:22:24,917 simple_logger.py log_once [line:27] INFO std_valid_accuracy            0.1505\n",
      "2023-03-11 22:22:24,918 simple_logger.py log_once [line:27] INFO valid_loss                    1.6019\n",
      "2023-03-11 22:22:24,919 simple_logger.py log_once [line:27] INFO mean_valid_loss               1.6019\n",
      "2023-03-11 22:22:24,919 simple_logger.py log_once [line:27] INFO std_valid_loss                0.2706\n",
      "2023-03-11 22:22:24,919 fedbase.py run [line:117] INFO Eval Time Cost:               2.7098s\n",
      "2023-03-11 22:22:26,480 fedbase.py run [line:112] INFO --------------Round 87--------------\n",
      "2023-03-11 22:22:26,481 simple_logger.py log_once [line:13] INFO Current_time:87\n"
     ]
    },
    {
     "name": "stdout",
     "output_type": "stream",
     "text": [
      "     pcost       dcost       gap    pres   dres\n",
      " 0:  1.0000e+00 -2.0500e+00  3e+00  4e-16  9e-16\n",
      " 1:  1.0000e+00  9.6950e-01  3e-02  3e-16  1e-15\n",
      " 2:  1.0000e+00  9.9969e-01  3e-04  9e-17  9e-16\n",
      " 3:  1.0000e+00  1.0000e+00  3e-06  2e-16  1e-15\n",
      " 4:  1.0000e+00  1.0000e+00  4e-07  9e-17  6e-16\n",
      "Optimal solution found.\n"
     ]
    },
    {
     "name": "stderr",
     "output_type": "stream",
     "text": [
      "2023-03-11 22:22:29,191 simple_logger.py log_once [line:27] INFO test_accuracy                 0.3961\n",
      "2023-03-11 22:22:29,192 simple_logger.py log_once [line:27] INFO test_loss                     1.6281\n",
      "2023-03-11 22:22:29,192 simple_logger.py log_once [line:27] INFO valid_accuracy                0.3916\n",
      "2023-03-11 22:22:29,192 simple_logger.py log_once [line:27] INFO mean_valid_accuracy           0.3916\n",
      "2023-03-11 22:22:29,193 simple_logger.py log_once [line:27] INFO std_valid_accuracy            0.1446\n",
      "2023-03-11 22:22:29,193 simple_logger.py log_once [line:27] INFO valid_loss                    1.6213\n",
      "2023-03-11 22:22:29,193 simple_logger.py log_once [line:27] INFO mean_valid_loss               1.6213\n",
      "2023-03-11 22:22:29,194 simple_logger.py log_once [line:27] INFO std_valid_loss                0.2713\n",
      "2023-03-11 22:22:29,194 fedbase.py run [line:117] INFO Eval Time Cost:               2.7134s\n",
      "2023-03-11 22:22:30,737 fedbase.py run [line:112] INFO --------------Round 88--------------\n",
      "2023-03-11 22:22:30,737 simple_logger.py log_once [line:13] INFO Current_time:88\n"
     ]
    },
    {
     "name": "stdout",
     "output_type": "stream",
     "text": [
      "     pcost       dcost       gap    pres   dres\n",
      " 0:  1.0000e+00 -2.0500e+00  3e+00  9e-17  1e-15\n",
      " 1:  1.0000e+00  9.6950e-01  3e-02  2e-16  1e-15\n",
      " 2:  1.0000e+00  9.9970e-01  3e-04  9e-17  1e-15\n",
      " 3:  1.0000e+00  1.0000e+00  3e-06  2e-16  1e-15\n",
      " 4:  1.0000e+00  1.0000e+00  3e-08  1e-16  2e-15\n",
      "Optimal solution found.\n"
     ]
    },
    {
     "name": "stderr",
     "output_type": "stream",
     "text": [
      "2023-03-11 22:22:33,497 simple_logger.py log_once [line:27] INFO test_accuracy                 0.4149\n",
      "2023-03-11 22:22:33,497 simple_logger.py log_once [line:27] INFO test_loss                     1.5789\n",
      "2023-03-11 22:22:33,498 simple_logger.py log_once [line:27] INFO valid_accuracy                0.4170\n",
      "2023-03-11 22:22:33,498 simple_logger.py log_once [line:27] INFO mean_valid_accuracy           0.4170\n",
      "2023-03-11 22:22:33,499 simple_logger.py log_once [line:27] INFO std_valid_accuracy            0.1346\n",
      "2023-03-11 22:22:33,499 simple_logger.py log_once [line:27] INFO valid_loss                    1.5713\n",
      "2023-03-11 22:22:33,499 simple_logger.py log_once [line:27] INFO mean_valid_loss               1.5713\n",
      "2023-03-11 22:22:33,500 simple_logger.py log_once [line:27] INFO std_valid_loss                0.2316\n",
      "2023-03-11 22:22:33,500 fedbase.py run [line:117] INFO Eval Time Cost:               2.7628s\n",
      "2023-03-11 22:22:35,074 fedbase.py run [line:112] INFO --------------Round 89--------------\n",
      "2023-03-11 22:22:35,075 simple_logger.py log_once [line:13] INFO Current_time:89\n"
     ]
    },
    {
     "name": "stdout",
     "output_type": "stream",
     "text": [
      "     pcost       dcost       gap    pres   dres\n",
      " 0:  1.0000e+00 -2.0500e+00  3e+00  9e-17  9e-16\n",
      " 1:  1.0000e+00  9.6950e-01  3e-02  8e-17  1e-15\n",
      " 2:  1.0000e+00  9.9969e-01  3e-04  1e-16  9e-16\n",
      " 3:  1.0000e+00  1.0000e+00  3e-06  2e-16  5e-16\n",
      " 4:  1.0000e+00  1.0000e+00  3e-08  4e-16  7e-16\n",
      "Optimal solution found.\n"
     ]
    },
    {
     "name": "stderr",
     "output_type": "stream",
     "text": [
      "2023-03-11 22:22:37,766 simple_logger.py log_once [line:27] INFO test_accuracy                 0.3870\n",
      "2023-03-11 22:22:37,766 simple_logger.py log_once [line:27] INFO test_loss                     1.6164\n",
      "2023-03-11 22:22:37,767 simple_logger.py log_once [line:27] INFO valid_accuracy                0.3782\n",
      "2023-03-11 22:22:37,767 simple_logger.py log_once [line:27] INFO mean_valid_accuracy           0.3782\n",
      "2023-03-11 22:22:37,768 simple_logger.py log_once [line:27] INFO std_valid_accuracy            0.1593\n",
      "2023-03-11 22:22:37,768 simple_logger.py log_once [line:27] INFO valid_loss                    1.6115\n",
      "2023-03-11 22:22:37,768 simple_logger.py log_once [line:27] INFO mean_valid_loss               1.6115\n",
      "2023-03-11 22:22:37,769 simple_logger.py log_once [line:27] INFO std_valid_loss                0.2557\n",
      "2023-03-11 22:22:37,769 fedbase.py run [line:117] INFO Eval Time Cost:               2.6942s\n",
      "2023-03-11 22:22:39,391 fedbase.py run [line:112] INFO --------------Round 90--------------\n",
      "2023-03-11 22:22:39,392 simple_logger.py log_once [line:13] INFO Current_time:90\n"
     ]
    },
    {
     "name": "stdout",
     "output_type": "stream",
     "text": [
      "     pcost       dcost       gap    pres   dres\n",
      " 0:  1.0000e+00 -2.0500e+00  3e+00  3e-16  1e-15\n",
      " 1:  1.0000e+00  9.6950e-01  3e-02  2e-16  2e-15\n",
      " 2:  1.0000e+00  9.9969e-01  3e-04  1e-16  1e-15\n",
      " 3:  1.0000e+00  1.0000e+00  3e-06  1e-16  1e-15\n",
      " 4:  1.0000e+00  1.0000e+00  2e-07  1e-16  7e-16\n",
      "Optimal solution found.\n"
     ]
    },
    {
     "name": "stderr",
     "output_type": "stream",
     "text": [
      "2023-03-11 22:22:42,081 simple_logger.py log_once [line:27] INFO test_accuracy                 0.3732\n",
      "2023-03-11 22:22:42,082 simple_logger.py log_once [line:27] INFO test_loss                     1.6654\n",
      "2023-03-11 22:22:42,082 simple_logger.py log_once [line:27] INFO valid_accuracy                0.3702\n",
      "2023-03-11 22:22:42,083 simple_logger.py log_once [line:27] INFO mean_valid_accuracy           0.3702\n",
      "2023-03-11 22:22:42,083 simple_logger.py log_once [line:27] INFO std_valid_accuracy            0.1733\n",
      "2023-03-11 22:22:42,084 simple_logger.py log_once [line:27] INFO valid_loss                    1.6563\n",
      "2023-03-11 22:22:42,084 simple_logger.py log_once [line:27] INFO mean_valid_loss               1.6563\n",
      "2023-03-11 22:22:42,085 simple_logger.py log_once [line:27] INFO std_valid_loss                0.3619\n",
      "2023-03-11 22:22:42,085 fedbase.py run [line:117] INFO Eval Time Cost:               2.6933s\n",
      "2023-03-11 22:22:43,640 fedbase.py run [line:112] INFO --------------Round 91--------------\n",
      "2023-03-11 22:22:43,640 simple_logger.py log_once [line:13] INFO Current_time:91\n"
     ]
    },
    {
     "name": "stdout",
     "output_type": "stream",
     "text": [
      "     pcost       dcost       gap    pres   dres\n",
      " 0:  1.0000e+00 -2.0500e+00  3e+00  9e-17  1e-15\n",
      " 1:  1.0000e+00  9.6950e-01  3e-02  2e-16  1e-15\n",
      " 2:  1.0000e+00  9.9970e-01  3e-04  9e-17  1e-15\n",
      " 3:  1.0000e+00  1.0000e+00  3e-06  2e-16  1e-15\n",
      " 4:  1.0000e+00  1.0000e+00  3e-08  1e-16  2e-15\n",
      "Optimal solution found.\n"
     ]
    },
    {
     "name": "stderr",
     "output_type": "stream",
     "text": [
      "2023-03-11 22:22:46,343 simple_logger.py log_once [line:27] INFO test_accuracy                 0.3942\n",
      "2023-03-11 22:22:46,343 simple_logger.py log_once [line:27] INFO test_loss                     1.6251\n",
      "2023-03-11 22:22:46,344 simple_logger.py log_once [line:27] INFO valid_accuracy                0.4030\n",
      "2023-03-11 22:22:46,344 simple_logger.py log_once [line:27] INFO mean_valid_accuracy           0.4030\n",
      "2023-03-11 22:22:46,344 simple_logger.py log_once [line:27] INFO std_valid_accuracy            0.1539\n",
      "2023-03-11 22:22:46,345 simple_logger.py log_once [line:27] INFO valid_loss                    1.6148\n",
      "2023-03-11 22:22:46,345 simple_logger.py log_once [line:27] INFO mean_valid_loss               1.6148\n",
      "2023-03-11 22:22:46,345 simple_logger.py log_once [line:27] INFO std_valid_loss                0.2992\n",
      "2023-03-11 22:22:46,346 fedbase.py run [line:117] INFO Eval Time Cost:               2.7051s\n",
      "2023-03-11 22:22:47,763 fedbase.py run [line:112] INFO --------------Round 92--------------\n",
      "2023-03-11 22:22:47,763 simple_logger.py log_once [line:13] INFO Current_time:92\n"
     ]
    },
    {
     "name": "stdout",
     "output_type": "stream",
     "text": [
      "     pcost       dcost       gap    pres   dres\n",
      " 0:  1.0000e+00 -2.0500e+00  3e+00  2e-16  9e-16\n",
      " 1:  1.0000e+00  9.6950e-01  3e-02  2e-16  1e-15\n",
      " 2:  1.0000e+00  9.9970e-01  3e-04  6e-16  1e-15\n",
      " 3:  1.0000e+00  1.0000e+00  3e-06  2e-16  8e-16\n",
      " 4:  1.0000e+00  1.0000e+00  3e-08  9e-17  3e-16\n",
      "Optimal solution found.\n"
     ]
    },
    {
     "name": "stderr",
     "output_type": "stream",
     "text": [
      "2023-03-11 22:22:50,506 simple_logger.py log_once [line:27] INFO test_accuracy                 0.3753\n",
      "2023-03-11 22:22:50,507 simple_logger.py log_once [line:27] INFO test_loss                     1.6410\n",
      "2023-03-11 22:22:50,507 simple_logger.py log_once [line:27] INFO valid_accuracy                0.3884\n",
      "2023-03-11 22:22:50,508 simple_logger.py log_once [line:27] INFO mean_valid_accuracy           0.3884\n",
      "2023-03-11 22:22:50,508 simple_logger.py log_once [line:27] INFO std_valid_accuracy            0.1789\n",
      "2023-03-11 22:22:50,508 simple_logger.py log_once [line:27] INFO valid_loss                    1.6333\n",
      "2023-03-11 22:22:50,509 simple_logger.py log_once [line:27] INFO mean_valid_loss               1.6333\n",
      "2023-03-11 22:22:50,509 simple_logger.py log_once [line:27] INFO std_valid_loss                0.3174\n",
      "2023-03-11 22:22:50,509 fedbase.py run [line:117] INFO Eval Time Cost:               2.7461s\n",
      "2023-03-11 22:22:52,044 fedbase.py run [line:112] INFO --------------Round 93--------------\n",
      "2023-03-11 22:22:52,044 simple_logger.py log_once [line:13] INFO Current_time:93\n"
     ]
    },
    {
     "name": "stdout",
     "output_type": "stream",
     "text": [
      "     pcost       dcost       gap    pres   dres\n",
      " 0:  1.0000e+00 -2.0500e+00  3e+00  3e-17  1e-15\n",
      " 1:  1.0000e+00  9.6950e-01  3e-02  9e-17  1e-15\n",
      " 2:  1.0000e+00  9.9969e-01  3e-04  1e-16  8e-16\n",
      " 3:  1.0000e+00  1.0000e+00  3e-06  1e-16  1e-15\n",
      " 4:  1.0000e+00  1.0000e+00  3e-08  2e-16  8e-16\n",
      "Optimal solution found.\n"
     ]
    },
    {
     "name": "stderr",
     "output_type": "stream",
     "text": [
      "2023-03-11 22:22:54,810 simple_logger.py log_once [line:27] INFO test_accuracy                 0.4042\n",
      "2023-03-11 22:22:54,811 simple_logger.py log_once [line:27] INFO test_loss                     1.6127\n",
      "2023-03-11 22:22:54,811 simple_logger.py log_once [line:27] INFO valid_accuracy                0.4068\n",
      "2023-03-11 22:22:54,811 simple_logger.py log_once [line:27] INFO mean_valid_accuracy           0.4068\n",
      "2023-03-11 22:22:54,812 simple_logger.py log_once [line:27] INFO std_valid_accuracy            0.1386\n",
      "2023-03-11 22:22:54,812 simple_logger.py log_once [line:27] INFO valid_loss                    1.6067\n",
      "2023-03-11 22:22:54,812 simple_logger.py log_once [line:27] INFO mean_valid_loss               1.6067\n",
      "2023-03-11 22:22:54,813 simple_logger.py log_once [line:27] INFO std_valid_loss                0.2386\n",
      "2023-03-11 22:22:54,813 fedbase.py run [line:117] INFO Eval Time Cost:               2.7688s\n",
      "2023-03-11 22:22:56,198 fedbase.py run [line:112] INFO --------------Round 94--------------\n",
      "2023-03-11 22:22:56,198 simple_logger.py log_once [line:13] INFO Current_time:94\n"
     ]
    },
    {
     "name": "stdout",
     "output_type": "stream",
     "text": [
      "     pcost       dcost       gap    pres   dres\n",
      " 0:  1.0000e+00 -2.0500e+00  3e+00  2e-16  9e-16\n",
      " 1:  1.0000e+00  9.6950e-01  3e-02  2e-16  1e-15\n",
      " 2:  1.0000e+00  9.9969e-01  3e-04  1e-16  9e-16\n",
      " 3:  1.0000e+00  1.0000e+00  3e-06  9e-17  8e-16\n",
      " 4:  1.0000e+00  1.0000e+00  3e-07  2e-16  5e-16\n",
      "Optimal solution found.\n"
     ]
    },
    {
     "name": "stderr",
     "output_type": "stream",
     "text": [
      "2023-03-11 22:22:58,901 simple_logger.py log_once [line:27] INFO test_accuracy                 0.3964\n",
      "2023-03-11 22:22:58,901 simple_logger.py log_once [line:27] INFO test_loss                     1.6291\n",
      "2023-03-11 22:22:58,901 simple_logger.py log_once [line:27] INFO valid_accuracy                0.3992\n",
      "2023-03-11 22:22:58,901 simple_logger.py log_once [line:27] INFO mean_valid_accuracy           0.3992\n",
      "2023-03-11 22:22:58,902 simple_logger.py log_once [line:27] INFO std_valid_accuracy            0.1383\n",
      "2023-03-11 22:22:58,902 simple_logger.py log_once [line:27] INFO valid_loss                    1.6227\n",
      "2023-03-11 22:22:58,902 simple_logger.py log_once [line:27] INFO mean_valid_loss               1.6227\n",
      "2023-03-11 22:22:58,903 simple_logger.py log_once [line:27] INFO std_valid_loss                0.2522\n",
      "2023-03-11 22:22:58,903 fedbase.py run [line:117] INFO Eval Time Cost:               2.7047s\n",
      "2023-03-11 22:23:00,466 fedbase.py run [line:112] INFO --------------Round 95--------------\n",
      "2023-03-11 22:23:00,467 simple_logger.py log_once [line:13] INFO Current_time:95\n"
     ]
    },
    {
     "name": "stdout",
     "output_type": "stream",
     "text": [
      "     pcost       dcost       gap    pres   dres\n",
      " 0:  1.0000e+00 -2.0500e+00  3e+00  2e-16  2e-15\n",
      " 1:  1.0000e+00  9.6950e-01  3e-02  2e-16  8e-16\n",
      " 2:  1.0000e+00  9.9969e-01  3e-04  2e-16  8e-16\n",
      " 3:  1.0000e+00  1.0000e+00  3e-06  1e-16  6e-16\n",
      " 4:  1.0000e+00  1.0000e+00  1e-07  1e-16  1e-15\n",
      "Optimal solution found.\n"
     ]
    },
    {
     "name": "stderr",
     "output_type": "stream",
     "text": [
      "2023-03-11 22:23:03,175 simple_logger.py log_once [line:27] INFO test_accuracy                 0.4069\n",
      "2023-03-11 22:23:03,176 simple_logger.py log_once [line:27] INFO test_loss                     1.6014\n",
      "2023-03-11 22:23:03,176 simple_logger.py log_once [line:27] INFO valid_accuracy                0.4182\n",
      "2023-03-11 22:23:03,177 simple_logger.py log_once [line:27] INFO mean_valid_accuracy           0.4182\n",
      "2023-03-11 22:23:03,177 simple_logger.py log_once [line:27] INFO std_valid_accuracy            0.1191\n",
      "2023-03-11 22:23:03,177 simple_logger.py log_once [line:27] INFO valid_loss                    1.5945\n",
      "2023-03-11 22:23:03,178 simple_logger.py log_once [line:27] INFO mean_valid_loss               1.5945\n",
      "2023-03-11 22:23:03,178 simple_logger.py log_once [line:27] INFO std_valid_loss                0.2325\n",
      "2023-03-11 22:23:03,178 fedbase.py run [line:117] INFO Eval Time Cost:               2.7115s\n",
      "2023-03-11 22:23:04,813 fedbase.py run [line:112] INFO --------------Round 96--------------\n",
      "2023-03-11 22:23:04,814 simple_logger.py log_once [line:13] INFO Current_time:96\n"
     ]
    },
    {
     "name": "stdout",
     "output_type": "stream",
     "text": [
      "     pcost       dcost       gap    pres   dres\n",
      " 0:  1.0000e+00 -2.0500e+00  3e+00  2e-16  2e-15\n",
      " 1:  1.0000e+00  9.6950e-01  3e-02  2e-16  8e-16\n",
      " 2:  1.0000e+00  9.9969e-01  3e-04  2e-16  8e-16\n",
      " 3:  1.0000e+00  1.0000e+00  3e-06  1e-16  6e-16\n",
      " 4:  1.0000e+00  1.0000e+00  1e-07  1e-16  1e-15\n",
      "Optimal solution found.\n"
     ]
    },
    {
     "name": "stderr",
     "output_type": "stream",
     "text": [
      "2023-03-11 22:23:07,577 simple_logger.py log_once [line:27] INFO test_accuracy                 0.3862\n",
      "2023-03-11 22:23:07,578 simple_logger.py log_once [line:27] INFO test_loss                     1.6766\n",
      "2023-03-11 22:23:07,578 simple_logger.py log_once [line:27] INFO valid_accuracy                0.3932\n",
      "2023-03-11 22:23:07,578 simple_logger.py log_once [line:27] INFO mean_valid_accuracy           0.3932\n",
      "2023-03-11 22:23:07,579 simple_logger.py log_once [line:27] INFO std_valid_accuracy            0.1138\n",
      "2023-03-11 22:23:07,579 simple_logger.py log_once [line:27] INFO valid_loss                    1.6732\n",
      "2023-03-11 22:23:07,579 simple_logger.py log_once [line:27] INFO mean_valid_loss               1.6732\n",
      "2023-03-11 22:23:07,580 simple_logger.py log_once [line:27] INFO std_valid_loss                0.2523\n",
      "2023-03-11 22:23:07,580 fedbase.py run [line:117] INFO Eval Time Cost:               2.7661s\n",
      "2023-03-11 22:23:09,282 fedbase.py run [line:112] INFO --------------Round 97--------------\n",
      "2023-03-11 22:23:09,283 simple_logger.py log_once [line:13] INFO Current_time:97\n"
     ]
    },
    {
     "name": "stdout",
     "output_type": "stream",
     "text": [
      "     pcost       dcost       gap    pres   dres\n",
      " 0:  1.0000e+00 -2.0500e+00  3e+00  2e-16  6e-16\n",
      " 1:  1.0000e+00  9.6950e-01  3e-02  3e-16  9e-16\n",
      " 2:  1.0000e+00  9.9969e-01  3e-04  2e-16  8e-16\n",
      " 3:  1.0000e+00  1.0000e+00  3e-06  2e-16  6e-16\n",
      " 4:  1.0000e+00  1.0000e+00  2e-07  8e-17  1e-15\n",
      "Optimal solution found.\n"
     ]
    },
    {
     "name": "stderr",
     "output_type": "stream",
     "text": [
      "2023-03-11 22:23:12,041 simple_logger.py log_once [line:27] INFO test_accuracy                 0.4160\n",
      "2023-03-11 22:23:12,041 simple_logger.py log_once [line:27] INFO test_loss                     1.5970\n",
      "2023-03-11 22:23:12,041 simple_logger.py log_once [line:27] INFO valid_accuracy                0.4222\n",
      "2023-03-11 22:23:12,042 simple_logger.py log_once [line:27] INFO mean_valid_accuracy           0.4222\n",
      "2023-03-11 22:23:12,042 simple_logger.py log_once [line:27] INFO std_valid_accuracy            0.1047\n",
      "2023-03-11 22:23:12,043 simple_logger.py log_once [line:27] INFO valid_loss                    1.5923\n",
      "2023-03-11 22:23:12,043 simple_logger.py log_once [line:27] INFO mean_valid_loss               1.5923\n",
      "2023-03-11 22:23:12,043 simple_logger.py log_once [line:27] INFO std_valid_loss                0.1987\n",
      "2023-03-11 22:23:12,044 fedbase.py run [line:117] INFO Eval Time Cost:               2.7609s\n",
      "2023-03-11 22:23:13,563 fedbase.py run [line:112] INFO --------------Round 98--------------\n",
      "2023-03-11 22:23:13,563 simple_logger.py log_once [line:13] INFO Current_time:98\n"
     ]
    },
    {
     "name": "stdout",
     "output_type": "stream",
     "text": [
      "     pcost       dcost       gap    pres   dres\n",
      " 0:  1.0000e+00 -2.0500e+00  3e+00  2e-16  9e-16\n",
      " 1:  1.0000e+00  9.6950e-01  3e-02  2e-16  1e-15\n",
      " 2:  1.0000e+00  9.9969e-01  3e-04  1e-16  9e-16\n",
      " 3:  1.0000e+00  1.0000e+00  3e-06  9e-17  8e-16\n",
      " 4:  1.0000e+00  1.0000e+00  3e-07  2e-16  5e-16\n",
      "Optimal solution found.\n"
     ]
    },
    {
     "name": "stderr",
     "output_type": "stream",
     "text": [
      "2023-03-11 22:23:16,330 simple_logger.py log_once [line:27] INFO test_accuracy                 0.4115\n",
      "2023-03-11 22:23:16,330 simple_logger.py log_once [line:27] INFO test_loss                     1.5828\n",
      "2023-03-11 22:23:16,331 simple_logger.py log_once [line:27] INFO valid_accuracy                0.4218\n",
      "2023-03-11 22:23:16,331 simple_logger.py log_once [line:27] INFO mean_valid_accuracy           0.4218\n",
      "2023-03-11 22:23:16,331 simple_logger.py log_once [line:27] INFO std_valid_accuracy            0.1346\n",
      "2023-03-11 22:23:16,332 simple_logger.py log_once [line:27] INFO valid_loss                    1.5745\n",
      "2023-03-11 22:23:16,332 simple_logger.py log_once [line:27] INFO mean_valid_loss               1.5745\n",
      "2023-03-11 22:23:16,332 simple_logger.py log_once [line:27] INFO std_valid_loss                0.2092\n",
      "2023-03-11 22:23:16,332 fedbase.py run [line:117] INFO Eval Time Cost:               2.7690s\n",
      "2023-03-11 22:23:17,706 fedbase.py run [line:112] INFO --------------Round 99--------------\n",
      "2023-03-11 22:23:17,707 simple_logger.py log_once [line:13] INFO Current_time:99\n"
     ]
    },
    {
     "name": "stdout",
     "output_type": "stream",
     "text": [
      "     pcost       dcost       gap    pres   dres\n",
      " 0:  1.0000e+00 -2.0500e+00  3e+00  2e-16  4e-16\n",
      " 1:  1.0000e+00  9.6950e-01  3e-02  2e-16  1e-15\n",
      " 2:  1.0000e+00  9.9969e-01  3e-04  1e-16  1e-15\n",
      " 3:  1.0000e+00  1.0000e+00  3e-06  2e-16  1e-15\n",
      " 4:  1.0000e+00  1.0000e+00  3e-07  1e-16  1e-15\n",
      "Optimal solution found.\n"
     ]
    },
    {
     "name": "stderr",
     "output_type": "stream",
     "text": [
      "2023-03-11 22:23:20,413 simple_logger.py log_once [line:27] INFO test_accuracy                 0.4148\n",
      "2023-03-11 22:23:20,414 simple_logger.py log_once [line:27] INFO test_loss                     1.6082\n",
      "2023-03-11 22:23:20,414 simple_logger.py log_once [line:27] INFO valid_accuracy                0.4188\n",
      "2023-03-11 22:23:20,414 simple_logger.py log_once [line:27] INFO mean_valid_accuracy           0.4188\n",
      "2023-03-11 22:23:20,414 simple_logger.py log_once [line:27] INFO std_valid_accuracy            0.0962\n",
      "2023-03-11 22:23:20,415 simple_logger.py log_once [line:27] INFO valid_loss                    1.6030\n",
      "2023-03-11 22:23:20,415 simple_logger.py log_once [line:27] INFO mean_valid_loss               1.6030\n",
      "2023-03-11 22:23:20,415 simple_logger.py log_once [line:27] INFO std_valid_loss                0.1855\n",
      "2023-03-11 22:23:20,416 fedbase.py run [line:117] INFO Eval Time Cost:               2.7092s\n",
      "2023-03-11 22:23:21,797 fedbase.py run [line:112] INFO --------------Round 100--------------\n",
      "2023-03-11 22:23:21,798 simple_logger.py log_once [line:13] INFO Current_time:100\n"
     ]
    },
    {
     "name": "stdout",
     "output_type": "stream",
     "text": [
      "     pcost       dcost       gap    pres   dres\n",
      " 0:  1.0000e+00 -2.0500e+00  3e+00  1e-16  9e-16\n",
      " 1:  1.0000e+00  9.6950e-01  3e-02  2e-16  1e-15\n",
      " 2:  1.0000e+00  9.9970e-01  3e-04  2e-16  1e-15\n",
      " 3:  1.0000e+00  1.0000e+00  3e-06  2e-16  1e-15\n",
      " 4:  1.0000e+00  1.0000e+00  2e-07  3e-16  1e-15\n",
      "Optimal solution found.\n"
     ]
    },
    {
     "name": "stderr",
     "output_type": "stream",
     "text": [
      "2023-03-11 22:23:24,571 simple_logger.py log_once [line:27] INFO test_accuracy                 0.4255\n",
      "2023-03-11 22:23:24,571 simple_logger.py log_once [line:27] INFO test_loss                     1.5593\n",
      "2023-03-11 22:23:24,572 simple_logger.py log_once [line:27] INFO valid_accuracy                0.4376\n",
      "2023-03-11 22:23:24,572 simple_logger.py log_once [line:27] INFO mean_valid_accuracy           0.4376\n",
      "2023-03-11 22:23:24,572 simple_logger.py log_once [line:27] INFO std_valid_accuracy            0.1247\n",
      "2023-03-11 22:23:24,573 simple_logger.py log_once [line:27] INFO valid_loss                    1.5514\n",
      "2023-03-11 22:23:24,573 simple_logger.py log_once [line:27] INFO mean_valid_loss               1.5514\n",
      "2023-03-11 22:23:24,574 simple_logger.py log_once [line:27] INFO std_valid_loss                0.1978\n",
      "2023-03-11 22:23:24,574 fedbase.py run [line:117] INFO Eval Time Cost:               2.7762s\n",
      "2023-03-11 22:23:26,020 fedbase.py run [line:112] INFO --------------Round 101--------------\n",
      "2023-03-11 22:23:26,021 simple_logger.py log_once [line:13] INFO Current_time:101\n"
     ]
    },
    {
     "name": "stdout",
     "output_type": "stream",
     "text": [
      "     pcost       dcost       gap    pres   dres\n",
      " 0:  1.0000e+00 -2.0500e+00  3e+00  3e-17  5e-16\n",
      " 1:  1.0000e+00  9.6950e-01  3e-02  8e-17  1e-15\n",
      " 2:  1.0000e+00  9.9969e-01  3e-04  2e-16  8e-16\n",
      " 3:  1.0000e+00  1.0000e+00  3e-06  1e-16  5e-16\n",
      " 4:  1.0000e+00  1.0000e+00  3e-08  1e-16  9e-16\n",
      "Optimal solution found.\n"
     ]
    },
    {
     "name": "stderr",
     "output_type": "stream",
     "text": [
      "2023-03-11 22:23:28,831 simple_logger.py log_once [line:27] INFO test_accuracy                 0.4018\n",
      "2023-03-11 22:23:28,832 simple_logger.py log_once [line:27] INFO test_loss                     1.6170\n",
      "2023-03-11 22:23:28,832 simple_logger.py log_once [line:27] INFO valid_accuracy                0.4038\n",
      "2023-03-11 22:23:28,832 simple_logger.py log_once [line:27] INFO mean_valid_accuracy           0.4038\n",
      "2023-03-11 22:23:28,832 simple_logger.py log_once [line:27] INFO std_valid_accuracy            0.1232\n",
      "2023-03-11 22:23:28,833 simple_logger.py log_once [line:27] INFO valid_loss                    1.6103\n",
      "2023-03-11 22:23:28,833 simple_logger.py log_once [line:27] INFO mean_valid_loss               1.6103\n",
      "2023-03-11 22:23:28,833 simple_logger.py log_once [line:27] INFO std_valid_loss                0.2161\n",
      "2023-03-11 22:23:28,833 fedbase.py run [line:117] INFO Eval Time Cost:               2.8126s\n",
      "2023-03-11 22:23:30,283 fedbase.py run [line:112] INFO --------------Round 102--------------\n",
      "2023-03-11 22:23:30,283 simple_logger.py log_once [line:13] INFO Current_time:102\n"
     ]
    },
    {
     "name": "stdout",
     "output_type": "stream",
     "text": [
      "     pcost       dcost       gap    pres   dres\n",
      " 0:  1.0000e+00 -2.0500e+00  3e+00  3e-16  1e-15\n",
      " 1:  1.0000e+00  9.6950e-01  3e-02  2e-16  8e-16\n",
      " 2:  1.0000e+00  9.9969e-01  3e-04  1e-16  9e-16\n",
      " 3:  1.0000e+00  1.0000e+00  3e-06  1e-16  9e-16\n",
      " 4:  1.0000e+00  1.0000e+00  2e-07  2e-16  2e-16\n",
      "Optimal solution found.\n"
     ]
    },
    {
     "name": "stderr",
     "output_type": "stream",
     "text": [
      "2023-03-11 22:23:33,041 simple_logger.py log_once [line:27] INFO test_accuracy                 0.4263\n",
      "2023-03-11 22:23:33,042 simple_logger.py log_once [line:27] INFO test_loss                     1.5586\n",
      "2023-03-11 22:23:33,042 simple_logger.py log_once [line:27] INFO valid_accuracy                0.4370\n",
      "2023-03-11 22:23:33,042 simple_logger.py log_once [line:27] INFO mean_valid_accuracy           0.4370\n",
      "2023-03-11 22:23:33,043 simple_logger.py log_once [line:27] INFO std_valid_accuracy            0.1156\n",
      "2023-03-11 22:23:33,043 simple_logger.py log_once [line:27] INFO valid_loss                    1.5532\n",
      "2023-03-11 22:23:33,043 simple_logger.py log_once [line:27] INFO mean_valid_loss               1.5532\n",
      "2023-03-11 22:23:33,043 simple_logger.py log_once [line:27] INFO std_valid_loss                0.1938\n",
      "2023-03-11 22:23:33,044 fedbase.py run [line:117] INFO Eval Time Cost:               2.7603s\n",
      "2023-03-11 22:23:34,544 fedbase.py run [line:112] INFO --------------Round 103--------------\n",
      "2023-03-11 22:23:34,544 simple_logger.py log_once [line:13] INFO Current_time:103\n"
     ]
    },
    {
     "name": "stdout",
     "output_type": "stream",
     "text": [
      "     pcost       dcost       gap    pres   dres\n",
      " 0:  1.0000e+00 -2.0500e+00  3e+00  3e-17  1e-15\n",
      " 1:  1.0000e+00  9.6950e-01  3e-02  1e-16  9e-16\n",
      " 2:  1.0000e+00  9.9969e-01  3e-04  3e-16  5e-16\n",
      " 3:  1.0000e+00  1.0000e+00  3e-06  8e-17  9e-16\n",
      " 4:  1.0000e+00  1.0000e+00  1e-07  1e-16  5e-16\n",
      "Optimal solution found.\n"
     ]
    },
    {
     "name": "stderr",
     "output_type": "stream",
     "text": [
      "2023-03-11 22:23:37,312 simple_logger.py log_once [line:27] INFO test_accuracy                 0.4022\n",
      "2023-03-11 22:23:37,313 simple_logger.py log_once [line:27] INFO test_loss                     1.5954\n",
      "2023-03-11 22:23:37,313 simple_logger.py log_once [line:27] INFO valid_accuracy                0.4120\n",
      "2023-03-11 22:23:37,313 simple_logger.py log_once [line:27] INFO mean_valid_accuracy           0.4120\n",
      "2023-03-11 22:23:37,314 simple_logger.py log_once [line:27] INFO std_valid_accuracy            0.1478\n",
      "2023-03-11 22:23:37,314 simple_logger.py log_once [line:27] INFO valid_loss                    1.5911\n",
      "2023-03-11 22:23:37,314 simple_logger.py log_once [line:27] INFO mean_valid_loss               1.5911\n",
      "2023-03-11 22:23:37,315 simple_logger.py log_once [line:27] INFO std_valid_loss                0.2264\n",
      "2023-03-11 22:23:37,315 fedbase.py run [line:117] INFO Eval Time Cost:               2.7706s\n",
      "2023-03-11 22:23:38,974 fedbase.py run [line:112] INFO --------------Round 104--------------\n",
      "2023-03-11 22:23:38,974 simple_logger.py log_once [line:13] INFO Current_time:104\n"
     ]
    },
    {
     "name": "stdout",
     "output_type": "stream",
     "text": [
      "     pcost       dcost       gap    pres   dres\n",
      " 0:  1.0000e+00 -2.0500e+00  3e+00  3e-16  1e-15\n",
      " 1:  1.0000e+00  9.6950e-01  3e-02  2e-16  8e-16\n",
      " 2:  1.0000e+00  9.9969e-01  3e-04  1e-16  9e-16\n",
      " 3:  1.0000e+00  1.0000e+00  3e-06  1e-16  9e-16\n",
      " 4:  1.0000e+00  1.0000e+00  2e-07  2e-16  2e-16\n",
      "Optimal solution found.\n"
     ]
    },
    {
     "name": "stderr",
     "output_type": "stream",
     "text": [
      "2023-03-11 22:23:41,676 simple_logger.py log_once [line:27] INFO test_accuracy                 0.3761\n",
      "2023-03-11 22:23:41,676 simple_logger.py log_once [line:27] INFO test_loss                     1.6696\n",
      "2023-03-11 22:23:41,677 simple_logger.py log_once [line:27] INFO valid_accuracy                0.3794\n",
      "2023-03-11 22:23:41,677 simple_logger.py log_once [line:27] INFO mean_valid_accuracy           0.3794\n",
      "2023-03-11 22:23:41,678 simple_logger.py log_once [line:27] INFO std_valid_accuracy            0.1491\n",
      "2023-03-11 22:23:41,678 simple_logger.py log_once [line:27] INFO valid_loss                    1.6661\n",
      "2023-03-11 22:23:41,678 simple_logger.py log_once [line:27] INFO mean_valid_loss               1.6661\n",
      "2023-03-11 22:23:41,678 simple_logger.py log_once [line:27] INFO std_valid_loss                0.2611\n",
      "2023-03-11 22:23:41,679 fedbase.py run [line:117] INFO Eval Time Cost:               2.7045s\n",
      "2023-03-11 22:23:43,105 fedbase.py run [line:112] INFO --------------Round 105--------------\n",
      "2023-03-11 22:23:43,105 simple_logger.py log_once [line:13] INFO Current_time:105\n"
     ]
    },
    {
     "name": "stdout",
     "output_type": "stream",
     "text": [
      "     pcost       dcost       gap    pres   dres\n",
      " 0:  1.0000e+00 -2.0500e+00  3e+00  2e-16  2e-15\n",
      " 1:  1.0000e+00  9.6950e-01  3e-02  7e-17  2e-15\n",
      " 2:  1.0000e+00  9.9969e-01  3e-04  9e-17  1e-15\n",
      " 3:  1.0000e+00  1.0000e+00  3e-06  2e-16  9e-16\n",
      " 4:  1.0000e+00  1.0000e+00  2e-07  1e-16  1e-15\n",
      "Optimal solution found.\n"
     ]
    },
    {
     "name": "stderr",
     "output_type": "stream",
     "text": [
      "2023-03-11 22:23:45,863 simple_logger.py log_once [line:27] INFO test_accuracy                 0.3925\n",
      "2023-03-11 22:23:45,864 simple_logger.py log_once [line:27] INFO test_loss                     1.6174\n",
      "2023-03-11 22:23:45,864 simple_logger.py log_once [line:27] INFO valid_accuracy                0.3940\n",
      "2023-03-11 22:23:45,865 simple_logger.py log_once [line:27] INFO mean_valid_accuracy           0.3940\n",
      "2023-03-11 22:23:45,865 simple_logger.py log_once [line:27] INFO std_valid_accuracy            0.1678\n",
      "2023-03-11 22:23:45,865 simple_logger.py log_once [line:27] INFO valid_loss                    1.6113\n",
      "2023-03-11 22:23:45,866 simple_logger.py log_once [line:27] INFO mean_valid_loss               1.6113\n",
      "2023-03-11 22:23:45,866 simple_logger.py log_once [line:27] INFO std_valid_loss                0.2674\n",
      "2023-03-11 22:23:45,866 fedbase.py run [line:117] INFO Eval Time Cost:               2.7611s\n",
      "2023-03-11 22:23:47,452 fedbase.py run [line:112] INFO --------------Round 106--------------\n",
      "2023-03-11 22:23:47,453 simple_logger.py log_once [line:13] INFO Current_time:106\n"
     ]
    },
    {
     "name": "stdout",
     "output_type": "stream",
     "text": [
      "     pcost       dcost       gap    pres   dres\n",
      " 0:  1.0000e+00 -2.0500e+00  3e+00  2e-16  1e-15\n",
      " 1:  1.0000e+00  9.6950e-01  3e-02  1e-16  1e-15\n",
      " 2:  1.0000e+00  9.9970e-01  3e-04  2e-16  7e-16\n",
      " 3:  1.0000e+00  1.0000e+00  3e-06  2e-16  1e-15\n",
      " 4:  1.0000e+00  1.0000e+00  3e-07  3e-16  2e-15\n",
      "Optimal solution found.\n"
     ]
    },
    {
     "name": "stderr",
     "output_type": "stream",
     "text": [
      "2023-03-11 22:23:50,211 simple_logger.py log_once [line:27] INFO test_accuracy                 0.4256\n",
      "2023-03-11 22:23:50,211 simple_logger.py log_once [line:27] INFO test_loss                     1.5675\n",
      "2023-03-11 22:23:50,212 simple_logger.py log_once [line:27] INFO valid_accuracy                0.4292\n",
      "2023-03-11 22:23:50,212 simple_logger.py log_once [line:27] INFO mean_valid_accuracy           0.4292\n",
      "2023-03-11 22:23:50,212 simple_logger.py log_once [line:27] INFO std_valid_accuracy            0.1363\n",
      "2023-03-11 22:23:50,213 simple_logger.py log_once [line:27] INFO valid_loss                    1.5603\n",
      "2023-03-11 22:23:50,213 simple_logger.py log_once [line:27] INFO mean_valid_loss               1.5603\n",
      "2023-03-11 22:23:50,213 simple_logger.py log_once [line:27] INFO std_valid_loss                0.2446\n",
      "2023-03-11 22:23:50,214 fedbase.py run [line:117] INFO Eval Time Cost:               2.7607s\n",
      "2023-03-11 22:23:51,804 fedbase.py run [line:112] INFO --------------Round 107--------------\n",
      "2023-03-11 22:23:51,804 simple_logger.py log_once [line:13] INFO Current_time:107\n"
     ]
    },
    {
     "name": "stdout",
     "output_type": "stream",
     "text": [
      "     pcost       dcost       gap    pres   dres\n",
      " 0:  1.0000e+00 -2.0500e+00  3e+00  1e-16  6e-16\n",
      " 1:  1.0000e+00  9.6950e-01  3e-02  4e-16  8e-16\n",
      " 2:  1.0000e+00  9.9969e-01  3e-04  7e-17  7e-16\n",
      " 3:  1.0000e+00  1.0000e+00  3e-06  8e-17  1e-15\n",
      " 4:  1.0000e+00  1.0000e+00  1e-07  1e-16  5e-16\n",
      "Optimal solution found.\n"
     ]
    },
    {
     "name": "stderr",
     "output_type": "stream",
     "text": [
      "2023-03-11 22:23:54,569 simple_logger.py log_once [line:27] INFO test_accuracy                 0.4435\n",
      "2023-03-11 22:23:54,570 simple_logger.py log_once [line:27] INFO test_loss                     1.5176\n",
      "2023-03-11 22:23:54,570 simple_logger.py log_once [line:27] INFO valid_accuracy                0.4466\n",
      "2023-03-11 22:23:54,570 simple_logger.py log_once [line:27] INFO mean_valid_accuracy           0.4466\n",
      "2023-03-11 22:23:54,570 simple_logger.py log_once [line:27] INFO std_valid_accuracy            0.1078\n",
      "2023-03-11 22:23:54,571 simple_logger.py log_once [line:27] INFO valid_loss                    1.5097\n",
      "2023-03-11 22:23:54,571 simple_logger.py log_once [line:27] INFO mean_valid_loss               1.5097\n",
      "2023-03-11 22:23:54,571 simple_logger.py log_once [line:27] INFO std_valid_loss                0.1791\n",
      "2023-03-11 22:23:54,571 fedbase.py run [line:117] INFO Eval Time Cost:               2.7668s\n",
      "2023-03-11 22:23:55,874 fedbase.py run [line:112] INFO --------------Round 108--------------\n",
      "2023-03-11 22:23:55,875 simple_logger.py log_once [line:13] INFO Current_time:108\n"
     ]
    },
    {
     "name": "stdout",
     "output_type": "stream",
     "text": [
      "     pcost       dcost       gap    pres   dres\n",
      " 0:  1.0000e+00 -2.0500e+00  3e+00  2e-17  2e-15\n",
      " 1:  1.0000e+00  9.6950e-01  3e-02  8e-17  1e-15\n",
      " 2:  1.0000e+00  9.9969e-01  3e-04  1e-16  1e-15\n",
      " 3:  1.0000e+00  1.0000e+00  3e-06  7e-17  7e-16\n",
      " 4:  1.0000e+00  1.0000e+00  3e-08  1e-16  1e-15\n",
      "Optimal solution found.\n"
     ]
    },
    {
     "name": "stderr",
     "output_type": "stream",
     "text": [
      "2023-03-11 22:23:58,576 simple_logger.py log_once [line:27] INFO test_accuracy                 0.4199\n",
      "2023-03-11 22:23:58,577 simple_logger.py log_once [line:27] INFO test_loss                     1.5550\n",
      "2023-03-11 22:23:58,577 simple_logger.py log_once [line:27] INFO valid_accuracy                0.4198\n",
      "2023-03-11 22:23:58,577 simple_logger.py log_once [line:27] INFO mean_valid_accuracy           0.4198\n",
      "2023-03-11 22:23:58,578 simple_logger.py log_once [line:27] INFO std_valid_accuracy            0.1483\n",
      "2023-03-11 22:23:58,578 simple_logger.py log_once [line:27] INFO valid_loss                    1.5465\n",
      "2023-03-11 22:23:58,578 simple_logger.py log_once [line:27] INFO mean_valid_loss               1.5465\n",
      "2023-03-11 22:23:58,578 simple_logger.py log_once [line:27] INFO std_valid_loss                0.2614\n",
      "2023-03-11 22:23:58,579 fedbase.py run [line:117] INFO Eval Time Cost:               2.7037s\n",
      "2023-03-11 22:24:00,069 fedbase.py run [line:112] INFO --------------Round 109--------------\n",
      "2023-03-11 22:24:00,069 simple_logger.py log_once [line:13] INFO Current_time:109\n"
     ]
    },
    {
     "name": "stdout",
     "output_type": "stream",
     "text": [
      "     pcost       dcost       gap    pres   dres\n",
      " 0:  1.0000e+00 -2.0500e+00  3e+00  2e-16  4e-16\n",
      " 1:  1.0000e+00  9.6950e-01  3e-02  2e-16  1e-15\n",
      " 2:  1.0000e+00  9.9969e-01  3e-04  1e-16  1e-15\n",
      " 3:  1.0000e+00  1.0000e+00  3e-06  2e-16  1e-15\n",
      " 4:  1.0000e+00  1.0000e+00  3e-07  1e-16  1e-15\n",
      "Optimal solution found.\n"
     ]
    },
    {
     "name": "stderr",
     "output_type": "stream",
     "text": [
      "2023-03-11 22:24:02,780 simple_logger.py log_once [line:27] INFO test_accuracy                 0.3798\n",
      "2023-03-11 22:24:02,780 simple_logger.py log_once [line:27] INFO test_loss                     1.6442\n",
      "2023-03-11 22:24:02,780 simple_logger.py log_once [line:27] INFO valid_accuracy                0.3782\n",
      "2023-03-11 22:24:02,781 simple_logger.py log_once [line:27] INFO mean_valid_accuracy           0.3782\n",
      "2023-03-11 22:24:02,781 simple_logger.py log_once [line:27] INFO std_valid_accuracy            0.1833\n",
      "2023-03-11 22:24:02,781 simple_logger.py log_once [line:27] INFO valid_loss                    1.6377\n",
      "2023-03-11 22:24:02,781 simple_logger.py log_once [line:27] INFO mean_valid_loss               1.6377\n",
      "2023-03-11 22:24:02,782 simple_logger.py log_once [line:27] INFO std_valid_loss                0.3575\n",
      "2023-03-11 22:24:02,782 fedbase.py run [line:117] INFO Eval Time Cost:               2.7129s\n",
      "2023-03-11 22:24:04,250 fedbase.py run [line:112] INFO --------------Round 110--------------\n",
      "2023-03-11 22:24:04,251 simple_logger.py log_once [line:13] INFO Current_time:110\n"
     ]
    },
    {
     "name": "stdout",
     "output_type": "stream",
     "text": [
      "     pcost       dcost       gap    pres   dres\n",
      " 0:  1.0000e+00 -2.0500e+00  3e+00  2e-17  2e-15\n",
      " 1:  1.0000e+00  9.6950e-01  3e-02  8e-17  1e-15\n",
      " 2:  1.0000e+00  9.9969e-01  3e-04  1e-16  1e-15\n",
      " 3:  1.0000e+00  1.0000e+00  3e-06  7e-17  7e-16\n",
      " 4:  1.0000e+00  1.0000e+00  3e-08  1e-16  1e-15\n",
      "Optimal solution found.\n"
     ]
    },
    {
     "name": "stderr",
     "output_type": "stream",
     "text": [
      "2023-03-11 22:24:07,078 simple_logger.py log_once [line:27] INFO test_accuracy                 0.4082\n",
      "2023-03-11 22:24:07,079 simple_logger.py log_once [line:27] INFO test_loss                     1.5487\n",
      "2023-03-11 22:24:07,079 simple_logger.py log_once [line:27] INFO valid_accuracy                0.4204\n",
      "2023-03-11 22:24:07,079 simple_logger.py log_once [line:27] INFO mean_valid_accuracy           0.4204\n",
      "2023-03-11 22:24:07,079 simple_logger.py log_once [line:27] INFO std_valid_accuracy            0.1766\n",
      "2023-03-11 22:24:07,080 simple_logger.py log_once [line:27] INFO valid_loss                    1.5439\n",
      "2023-03-11 22:24:07,080 simple_logger.py log_once [line:27] INFO mean_valid_loss               1.5439\n",
      "2023-03-11 22:24:07,080 simple_logger.py log_once [line:27] INFO std_valid_loss                0.2915\n",
      "2023-03-11 22:24:07,081 fedbase.py run [line:117] INFO Eval Time Cost:               2.8295s\n",
      "2023-03-11 22:24:08,697 fedbase.py run [line:112] INFO --------------Round 111--------------\n",
      "2023-03-11 22:24:08,697 simple_logger.py log_once [line:13] INFO Current_time:111\n"
     ]
    },
    {
     "name": "stdout",
     "output_type": "stream",
     "text": [
      "     pcost       dcost       gap    pres   dres\n",
      " 0:  1.0000e+00 -2.0500e+00  3e+00  2e-16  2e-15\n",
      " 1:  1.0000e+00  9.6950e-01  3e-02  2e-16  8e-16\n",
      " 2:  1.0000e+00  9.9969e-01  3e-04  2e-16  8e-16\n",
      " 3:  1.0000e+00  1.0000e+00  3e-06  1e-16  6e-16\n",
      " 4:  1.0000e+00  1.0000e+00  1e-07  1e-16  1e-15\n",
      "Optimal solution found.\n"
     ]
    },
    {
     "name": "stderr",
     "output_type": "stream",
     "text": [
      "2023-03-11 22:24:11,399 simple_logger.py log_once [line:27] INFO test_accuracy                 0.3929\n",
      "2023-03-11 22:24:11,399 simple_logger.py log_once [line:27] INFO test_loss                     1.5616\n",
      "2023-03-11 22:24:11,400 simple_logger.py log_once [line:27] INFO valid_accuracy                0.4044\n",
      "2023-03-11 22:24:11,400 simple_logger.py log_once [line:27] INFO mean_valid_accuracy           0.4044\n",
      "2023-03-11 22:24:11,400 simple_logger.py log_once [line:27] INFO std_valid_accuracy            0.1891\n",
      "2023-03-11 22:24:11,400 simple_logger.py log_once [line:27] INFO valid_loss                    1.5580\n",
      "2023-03-11 22:24:11,401 simple_logger.py log_once [line:27] INFO mean_valid_loss               1.5580\n",
      "2023-03-11 22:24:11,401 simple_logger.py log_once [line:27] INFO std_valid_loss                0.2895\n",
      "2023-03-11 22:24:11,401 fedbase.py run [line:117] INFO Eval Time Cost:               2.7039s\n",
      "2023-03-11 22:24:12,954 fedbase.py run [line:112] INFO --------------Round 112--------------\n",
      "2023-03-11 22:24:12,955 simple_logger.py log_once [line:13] INFO Current_time:112\n"
     ]
    },
    {
     "name": "stdout",
     "output_type": "stream",
     "text": [
      "     pcost       dcost       gap    pres   dres\n",
      " 0:  1.0000e+00 -2.0500e+00  3e+00  2e-16  9e-16\n",
      " 1:  1.0000e+00  9.6950e-01  3e-02  2e-16  1e-15\n",
      " 2:  1.0000e+00  9.9970e-01  3e-04  6e-16  1e-15\n",
      " 3:  1.0000e+00  1.0000e+00  3e-06  2e-16  8e-16\n",
      " 4:  1.0000e+00  1.0000e+00  3e-08  9e-17  3e-16\n",
      "Optimal solution found.\n"
     ]
    },
    {
     "name": "stderr",
     "output_type": "stream",
     "text": [
      "2023-03-11 22:24:15,715 simple_logger.py log_once [line:27] INFO test_accuracy                 0.4005\n",
      "2023-03-11 22:24:15,716 simple_logger.py log_once [line:27] INFO test_loss                     1.6003\n",
      "2023-03-11 22:24:15,716 simple_logger.py log_once [line:27] INFO valid_accuracy                0.3984\n",
      "2023-03-11 22:24:15,717 simple_logger.py log_once [line:27] INFO mean_valid_accuracy           0.3984\n",
      "2023-03-11 22:24:15,717 simple_logger.py log_once [line:27] INFO std_valid_accuracy            0.1540\n",
      "2023-03-11 22:24:15,718 simple_logger.py log_once [line:27] INFO valid_loss                    1.5966\n",
      "2023-03-11 22:24:15,718 simple_logger.py log_once [line:27] INFO mean_valid_loss               1.5966\n",
      "2023-03-11 22:24:15,718 simple_logger.py log_once [line:27] INFO std_valid_loss                0.2686\n",
      "2023-03-11 22:24:15,719 fedbase.py run [line:117] INFO Eval Time Cost:               2.7638s\n",
      "2023-03-11 22:24:17,208 fedbase.py run [line:112] INFO --------------Round 113--------------\n",
      "2023-03-11 22:24:17,209 simple_logger.py log_once [line:13] INFO Current_time:113\n"
     ]
    },
    {
     "name": "stdout",
     "output_type": "stream",
     "text": [
      "     pcost       dcost       gap    pres   dres\n",
      " 0:  1.0000e+00 -2.0500e+00  3e+00  2e-16  9e-16\n",
      " 1:  1.0000e+00  9.6950e-01  3e-02  2e-16  1e-15\n",
      " 2:  1.0000e+00  9.9970e-01  3e-04  6e-16  1e-15\n",
      " 3:  1.0000e+00  1.0000e+00  3e-06  2e-16  8e-16\n",
      " 4:  1.0000e+00  1.0000e+00  3e-08  9e-17  3e-16\n",
      "Optimal solution found.\n"
     ]
    },
    {
     "name": "stderr",
     "output_type": "stream",
     "text": [
      "2023-03-11 22:24:19,953 simple_logger.py log_once [line:27] INFO test_accuracy                 0.4038\n",
      "2023-03-11 22:24:19,954 simple_logger.py log_once [line:27] INFO test_loss                     1.6038\n",
      "2023-03-11 22:24:19,954 simple_logger.py log_once [line:27] INFO valid_accuracy                0.4090\n",
      "2023-03-11 22:24:19,955 simple_logger.py log_once [line:27] INFO mean_valid_accuracy           0.4090\n",
      "2023-03-11 22:24:19,955 simple_logger.py log_once [line:27] INFO std_valid_accuracy            0.1338\n",
      "2023-03-11 22:24:19,956 simple_logger.py log_once [line:27] INFO valid_loss                    1.5976\n",
      "2023-03-11 22:24:19,956 simple_logger.py log_once [line:27] INFO mean_valid_loss               1.5976\n",
      "2023-03-11 22:24:19,957 simple_logger.py log_once [line:27] INFO std_valid_loss                0.2812\n",
      "2023-03-11 22:24:19,957 fedbase.py run [line:117] INFO Eval Time Cost:               2.7479s\n",
      "2023-03-11 22:24:21,505 fedbase.py run [line:112] INFO --------------Round 114--------------\n",
      "2023-03-11 22:24:21,505 simple_logger.py log_once [line:13] INFO Current_time:114\n"
     ]
    },
    {
     "name": "stdout",
     "output_type": "stream",
     "text": [
      "     pcost       dcost       gap    pres   dres\n",
      " 0:  1.0000e+00 -2.0500e+00  3e+00  2e-17  2e-15\n",
      " 1:  1.0000e+00  9.6950e-01  3e-02  8e-17  1e-15\n",
      " 2:  1.0000e+00  9.9969e-01  3e-04  1e-16  1e-15\n",
      " 3:  1.0000e+00  1.0000e+00  3e-06  7e-17  7e-16\n",
      " 4:  1.0000e+00  1.0000e+00  3e-08  1e-16  1e-15\n",
      "Optimal solution found.\n"
     ]
    },
    {
     "name": "stderr",
     "output_type": "stream",
     "text": [
      "2023-03-11 22:24:24,327 simple_logger.py log_once [line:27] INFO test_accuracy                 0.4104\n",
      "2023-03-11 22:24:24,328 simple_logger.py log_once [line:27] INFO test_loss                     1.5887\n",
      "2023-03-11 22:24:24,328 simple_logger.py log_once [line:27] INFO valid_accuracy                0.4222\n",
      "2023-03-11 22:24:24,328 simple_logger.py log_once [line:27] INFO mean_valid_accuracy           0.4222\n",
      "2023-03-11 22:24:24,329 simple_logger.py log_once [line:27] INFO std_valid_accuracy            0.1508\n",
      "2023-03-11 22:24:24,329 simple_logger.py log_once [line:27] INFO valid_loss                    1.5844\n",
      "2023-03-11 22:24:24,329 simple_logger.py log_once [line:27] INFO mean_valid_loss               1.5844\n",
      "2023-03-11 22:24:24,329 simple_logger.py log_once [line:27] INFO std_valid_loss                0.3287\n",
      "2023-03-11 22:24:24,329 fedbase.py run [line:117] INFO Eval Time Cost:               2.8243s\n",
      "2023-03-11 22:24:25,932 fedbase.py run [line:112] INFO --------------Round 115--------------\n",
      "2023-03-11 22:24:25,932 simple_logger.py log_once [line:13] INFO Current_time:115\n"
     ]
    },
    {
     "name": "stdout",
     "output_type": "stream",
     "text": [
      "     pcost       dcost       gap    pres   dres\n",
      " 0:  1.0000e+00 -2.0500e+00  3e+00  4e-16  1e-15\n",
      " 1:  1.0000e+00  9.6950e-01  3e-02  9e-17  1e-15\n",
      " 2:  1.0000e+00  9.9970e-01  3e-04  9e-17  1e-15\n",
      " 3:  1.0000e+00  1.0000e+00  3e-06  3e-16  2e-15\n",
      " 4:  1.0000e+00  1.0000e+00  3e-08  2e-16  2e-15\n",
      "Optimal solution found.\n"
     ]
    },
    {
     "name": "stderr",
     "output_type": "stream",
     "text": [
      "2023-03-11 22:24:28,664 simple_logger.py log_once [line:27] INFO test_accuracy                 0.4212\n",
      "2023-03-11 22:24:28,664 simple_logger.py log_once [line:27] INFO test_loss                     1.5464\n",
      "2023-03-11 22:24:28,665 simple_logger.py log_once [line:27] INFO valid_accuracy                0.4306\n",
      "2023-03-11 22:24:28,665 simple_logger.py log_once [line:27] INFO mean_valid_accuracy           0.4306\n",
      "2023-03-11 22:24:28,665 simple_logger.py log_once [line:27] INFO std_valid_accuracy            0.1486\n",
      "2023-03-11 22:24:28,666 simple_logger.py log_once [line:27] INFO valid_loss                    1.5430\n",
      "2023-03-11 22:24:28,666 simple_logger.py log_once [line:27] INFO mean_valid_loss               1.5430\n",
      "2023-03-11 22:24:28,667 simple_logger.py log_once [line:27] INFO std_valid_loss                0.2996\n",
      "2023-03-11 22:24:28,667 fedbase.py run [line:117] INFO Eval Time Cost:               2.7344s\n",
      "2023-03-11 22:24:30,286 fedbase.py run [line:112] INFO --------------Round 116--------------\n",
      "2023-03-11 22:24:30,287 simple_logger.py log_once [line:13] INFO Current_time:116\n"
     ]
    },
    {
     "name": "stdout",
     "output_type": "stream",
     "text": [
      "     pcost       dcost       gap    pres   dres\n",
      " 0:  1.0000e+00 -2.0500e+00  3e+00  9e-17  1e-15\n",
      " 1:  1.0000e+00  9.6950e-01  3e-02  2e-16  1e-15\n",
      " 2:  1.0000e+00  9.9970e-01  3e-04  9e-17  1e-15\n",
      " 3:  1.0000e+00  1.0000e+00  3e-06  2e-16  1e-15\n",
      " 4:  1.0000e+00  1.0000e+00  3e-08  1e-16  2e-15\n",
      "Optimal solution found.\n"
     ]
    },
    {
     "name": "stderr",
     "output_type": "stream",
     "text": [
      "2023-03-11 22:24:33,018 simple_logger.py log_once [line:27] INFO test_accuracy                 0.3986\n",
      "2023-03-11 22:24:33,019 simple_logger.py log_once [line:27] INFO test_loss                     1.6079\n",
      "2023-03-11 22:24:33,019 simple_logger.py log_once [line:27] INFO valid_accuracy                0.4026\n",
      "2023-03-11 22:24:33,020 simple_logger.py log_once [line:27] INFO mean_valid_accuracy           0.4026\n",
      "2023-03-11 22:24:33,020 simple_logger.py log_once [line:27] INFO std_valid_accuracy            0.1661\n",
      "2023-03-11 22:24:33,021 simple_logger.py log_once [line:27] INFO valid_loss                    1.6064\n",
      "2023-03-11 22:24:33,021 simple_logger.py log_once [line:27] INFO mean_valid_loss               1.6064\n",
      "2023-03-11 22:24:33,021 simple_logger.py log_once [line:27] INFO std_valid_loss                0.3412\n",
      "2023-03-11 22:24:33,022 fedbase.py run [line:117] INFO Eval Time Cost:               2.7349s\n",
      "2023-03-11 22:24:34,493 fedbase.py run [line:112] INFO --------------Round 117--------------\n",
      "2023-03-11 22:24:34,494 simple_logger.py log_once [line:13] INFO Current_time:117\n"
     ]
    },
    {
     "name": "stdout",
     "output_type": "stream",
     "text": [
      "     pcost       dcost       gap    pres   dres\n",
      " 0:  1.0000e+00 -2.0500e+00  3e+00  2e-16  9e-16\n",
      " 1:  1.0000e+00  9.6950e-01  3e-02  2e-16  1e-15\n",
      " 2:  1.0000e+00  9.9970e-01  3e-04  6e-16  1e-15\n",
      " 3:  1.0000e+00  1.0000e+00  3e-06  2e-16  8e-16\n",
      " 4:  1.0000e+00  1.0000e+00  3e-08  9e-17  3e-16\n",
      "Optimal solution found.\n"
     ]
    },
    {
     "name": "stderr",
     "output_type": "stream",
     "text": [
      "2023-03-11 22:24:37,211 simple_logger.py log_once [line:27] INFO test_accuracy                 0.3933\n",
      "2023-03-11 22:24:37,212 simple_logger.py log_once [line:27] INFO test_loss                     1.6310\n",
      "2023-03-11 22:24:37,212 simple_logger.py log_once [line:27] INFO valid_accuracy                0.3956\n",
      "2023-03-11 22:24:37,213 simple_logger.py log_once [line:27] INFO mean_valid_accuracy           0.3956\n",
      "2023-03-11 22:24:37,213 simple_logger.py log_once [line:27] INFO std_valid_accuracy            0.1564\n",
      "2023-03-11 22:24:37,213 simple_logger.py log_once [line:27] INFO valid_loss                    1.6256\n",
      "2023-03-11 22:24:37,214 simple_logger.py log_once [line:27] INFO mean_valid_loss               1.6256\n",
      "2023-03-11 22:24:37,214 simple_logger.py log_once [line:27] INFO std_valid_loss                0.3317\n",
      "2023-03-11 22:24:37,214 fedbase.py run [line:117] INFO Eval Time Cost:               2.7203s\n",
      "2023-03-11 22:24:38,644 fedbase.py run [line:112] INFO --------------Round 118--------------\n",
      "2023-03-11 22:24:38,644 simple_logger.py log_once [line:13] INFO Current_time:118\n"
     ]
    },
    {
     "name": "stdout",
     "output_type": "stream",
     "text": [
      "     pcost       dcost       gap    pres   dres\n",
      " 0:  1.0000e+00 -2.0500e+00  3e+00  3e-16  5e-16\n",
      " 1:  1.0000e+00  9.6950e-01  3e-02  3e-16  1e-15\n",
      " 2:  1.0000e+00  9.9969e-01  3e-04  1e-16  7e-16\n",
      " 3:  1.0000e+00  1.0000e+00  3e-06  1e-16  7e-16\n",
      " 4:  1.0000e+00  1.0000e+00  3e-07  1e-16  6e-16\n",
      "Optimal solution found.\n"
     ]
    },
    {
     "name": "stderr",
     "output_type": "stream",
     "text": [
      "2023-03-11 22:24:41,487 simple_logger.py log_once [line:27] INFO test_accuracy                 0.4367\n",
      "2023-03-11 22:24:41,487 simple_logger.py log_once [line:27] INFO test_loss                     1.5211\n",
      "2023-03-11 22:24:41,488 simple_logger.py log_once [line:27] INFO valid_accuracy                0.4428\n",
      "2023-03-11 22:24:41,488 simple_logger.py log_once [line:27] INFO mean_valid_accuracy           0.4428\n",
      "2023-03-11 22:24:41,489 simple_logger.py log_once [line:27] INFO std_valid_accuracy            0.1492\n",
      "2023-03-11 22:24:41,489 simple_logger.py log_once [line:27] INFO valid_loss                    1.5139\n",
      "2023-03-11 22:24:41,489 simple_logger.py log_once [line:27] INFO mean_valid_loss               1.5139\n",
      "2023-03-11 22:24:41,490 simple_logger.py log_once [line:27] INFO std_valid_loss                0.2628\n",
      "2023-03-11 22:24:41,490 fedbase.py run [line:117] INFO Eval Time Cost:               2.8457s\n",
      "2023-03-11 22:24:42,934 fedbase.py run [line:112] INFO --------------Round 119--------------\n",
      "2023-03-11 22:24:42,935 simple_logger.py log_once [line:13] INFO Current_time:119\n"
     ]
    },
    {
     "name": "stdout",
     "output_type": "stream",
     "text": [
      "     pcost       dcost       gap    pres   dres\n",
      " 0:  1.0000e+00 -2.0500e+00  3e+00  4e-17  2e-15\n",
      " 1:  1.0000e+00  9.6950e-01  3e-02  1e-16  2e-15\n",
      " 2:  1.0000e+00  9.9969e-01  3e-04  2e-16  1e-15\n",
      " 3:  1.0000e+00  1.0000e+00  3e-06  1e-16  8e-16\n",
      " 4:  1.0000e+00  1.0000e+00  3e-08  3e-16  9e-16\n",
      "Optimal solution found.\n"
     ]
    },
    {
     "name": "stderr",
     "output_type": "stream",
     "text": [
      "2023-03-11 22:24:45,681 simple_logger.py log_once [line:27] INFO test_accuracy                 0.4383\n",
      "2023-03-11 22:24:45,681 simple_logger.py log_once [line:27] INFO test_loss                     1.5468\n",
      "2023-03-11 22:24:45,682 simple_logger.py log_once [line:27] INFO valid_accuracy                0.4374\n",
      "2023-03-11 22:24:45,682 simple_logger.py log_once [line:27] INFO mean_valid_accuracy           0.4374\n",
      "2023-03-11 22:24:45,682 simple_logger.py log_once [line:27] INFO std_valid_accuracy            0.1227\n",
      "2023-03-11 22:24:45,683 simple_logger.py log_once [line:27] INFO valid_loss                    1.5430\n",
      "2023-03-11 22:24:45,683 simple_logger.py log_once [line:27] INFO mean_valid_loss               1.5430\n",
      "2023-03-11 22:24:45,683 simple_logger.py log_once [line:27] INFO std_valid_loss                0.2164\n",
      "2023-03-11 22:24:45,685 fedbase.py run [line:117] INFO Eval Time Cost:               2.7498s\n",
      "2023-03-11 22:24:47,260 fedbase.py run [line:112] INFO --------------Round 120--------------\n",
      "2023-03-11 22:24:47,261 simple_logger.py log_once [line:13] INFO Current_time:120\n"
     ]
    },
    {
     "name": "stdout",
     "output_type": "stream",
     "text": [
      "     pcost       dcost       gap    pres   dres\n",
      " 0:  1.0000e+00 -2.0500e+00  3e+00  2e-16  7e-16\n",
      " 1:  1.0000e+00  9.6950e-01  3e-02  3e-16  1e-15\n",
      " 2:  1.0000e+00  9.9970e-01  3e-04  3e-16  1e-15\n",
      " 3:  1.0000e+00  1.0000e+00  3e-06  8e-17  8e-16\n",
      " 4:  1.0000e+00  1.0000e+00  3e-08  1e-16  2e-16\n",
      "Optimal solution found.\n"
     ]
    },
    {
     "name": "stderr",
     "output_type": "stream",
     "text": [
      "2023-03-11 22:24:49,994 simple_logger.py log_once [line:27] INFO test_accuracy                 0.4520\n",
      "2023-03-11 22:24:49,994 simple_logger.py log_once [line:27] INFO test_loss                     1.5017\n",
      "2023-03-11 22:24:49,995 simple_logger.py log_once [line:27] INFO valid_accuracy                0.4568\n",
      "2023-03-11 22:24:49,995 simple_logger.py log_once [line:27] INFO mean_valid_accuracy           0.4568\n",
      "2023-03-11 22:24:49,995 simple_logger.py log_once [line:27] INFO std_valid_accuracy            0.1372\n",
      "2023-03-11 22:24:49,995 simple_logger.py log_once [line:27] INFO valid_loss                    1.4944\n",
      "2023-03-11 22:24:49,996 simple_logger.py log_once [line:27] INFO mean_valid_loss               1.4944\n",
      "2023-03-11 22:24:49,996 simple_logger.py log_once [line:27] INFO std_valid_loss                0.2062\n",
      "2023-03-11 22:24:49,996 fedbase.py run [line:117] INFO Eval Time Cost:               2.7357s\n",
      "2023-03-11 22:24:51,591 fedbase.py run [line:112] INFO --------------Round 121--------------\n",
      "2023-03-11 22:24:51,592 simple_logger.py log_once [line:13] INFO Current_time:121\n"
     ]
    },
    {
     "name": "stdout",
     "output_type": "stream",
     "text": [
      "     pcost       dcost       gap    pres   dres\n",
      " 0:  1.0000e+00 -2.0500e+00  3e+00  2e-16  2e-15\n",
      " 1:  1.0000e+00  9.6950e-01  3e-02  2e-16  8e-16\n",
      " 2:  1.0000e+00  9.9969e-01  3e-04  2e-16  8e-16\n",
      " 3:  1.0000e+00  1.0000e+00  3e-06  1e-16  6e-16\n",
      " 4:  1.0000e+00  1.0000e+00  1e-07  1e-16  1e-15\n",
      "Optimal solution found.\n"
     ]
    },
    {
     "name": "stderr",
     "output_type": "stream",
     "text": [
      "2023-03-11 22:24:54,280 simple_logger.py log_once [line:27] INFO test_accuracy                 0.4158\n",
      "2023-03-11 22:24:54,280 simple_logger.py log_once [line:27] INFO test_loss                     1.5841\n",
      "2023-03-11 22:24:54,281 simple_logger.py log_once [line:27] INFO valid_accuracy                0.4202\n",
      "2023-03-11 22:24:54,281 simple_logger.py log_once [line:27] INFO mean_valid_accuracy           0.4202\n",
      "2023-03-11 22:24:54,281 simple_logger.py log_once [line:27] INFO std_valid_accuracy            0.1736\n",
      "2023-03-11 22:24:54,282 simple_logger.py log_once [line:27] INFO valid_loss                    1.5711\n",
      "2023-03-11 22:24:54,282 simple_logger.py log_once [line:27] INFO mean_valid_loss               1.5711\n",
      "2023-03-11 22:24:54,282 simple_logger.py log_once [line:27] INFO std_valid_loss                0.3044\n",
      "2023-03-11 22:24:54,283 fedbase.py run [line:117] INFO Eval Time Cost:               2.6909s\n",
      "2023-03-11 22:24:55,766 fedbase.py run [line:112] INFO --------------Round 122--------------\n",
      "2023-03-11 22:24:55,767 simple_logger.py log_once [line:13] INFO Current_time:122\n"
     ]
    },
    {
     "name": "stdout",
     "output_type": "stream",
     "text": [
      "     pcost       dcost       gap    pres   dres\n",
      " 0:  1.0000e+00 -2.0500e+00  3e+00  3e-17  8e-16\n",
      " 1:  1.0000e+00  9.6950e-01  3e-02  1e-16  1e-15\n",
      " 2:  1.0000e+00  9.9970e-01  3e-04  8e-17  1e-15\n",
      " 3:  1.0000e+00  1.0000e+00  3e-06  2e-16  1e-15\n",
      " 4:  1.0000e+00  1.0000e+00  2e-07  1e-16  2e-15\n",
      "Optimal solution found.\n"
     ]
    },
    {
     "name": "stderr",
     "output_type": "stream",
     "text": [
      "2023-03-11 22:24:58,511 simple_logger.py log_once [line:27] INFO test_accuracy                 0.4129\n",
      "2023-03-11 22:24:58,511 simple_logger.py log_once [line:27] INFO test_loss                     1.5831\n",
      "2023-03-11 22:24:58,511 simple_logger.py log_once [line:27] INFO valid_accuracy                0.4190\n",
      "2023-03-11 22:24:58,512 simple_logger.py log_once [line:27] INFO mean_valid_accuracy           0.4190\n",
      "2023-03-11 22:24:58,512 simple_logger.py log_once [line:27] INFO std_valid_accuracy            0.1806\n",
      "2023-03-11 22:24:58,512 simple_logger.py log_once [line:27] INFO valid_loss                    1.5714\n",
      "2023-03-11 22:24:58,513 simple_logger.py log_once [line:27] INFO mean_valid_loss               1.5714\n",
      "2023-03-11 22:24:58,513 simple_logger.py log_once [line:27] INFO std_valid_loss                0.3345\n",
      "2023-03-11 22:24:58,513 fedbase.py run [line:117] INFO Eval Time Cost:               2.7468s\n",
      "2023-03-11 22:24:59,947 fedbase.py run [line:112] INFO --------------Round 123--------------\n",
      "2023-03-11 22:24:59,948 simple_logger.py log_once [line:13] INFO Current_time:123\n"
     ]
    },
    {
     "name": "stdout",
     "output_type": "stream",
     "text": [
      "     pcost       dcost       gap    pres   dres\n",
      " 0:  1.0000e+00 -2.0500e+00  3e+00  2e-16  1e-15\n",
      " 1:  1.0000e+00  9.6950e-01  3e-02  1e-16  1e-15\n",
      " 2:  1.0000e+00  9.9970e-01  3e-04  2e-16  7e-16\n",
      " 3:  1.0000e+00  1.0000e+00  3e-06  2e-16  1e-15\n",
      " 4:  1.0000e+00  1.0000e+00  3e-07  3e-16  2e-15\n",
      "Optimal solution found.\n"
     ]
    },
    {
     "name": "stderr",
     "output_type": "stream",
     "text": [
      "2023-03-11 22:25:02,659 simple_logger.py log_once [line:27] INFO test_accuracy                 0.4631\n",
      "2023-03-11 22:25:02,659 simple_logger.py log_once [line:27] INFO test_loss                     1.4779\n",
      "2023-03-11 22:25:02,660 simple_logger.py log_once [line:27] INFO valid_accuracy                0.4678\n",
      "2023-03-11 22:25:02,660 simple_logger.py log_once [line:27] INFO mean_valid_accuracy           0.4678\n",
      "2023-03-11 22:25:02,660 simple_logger.py log_once [line:27] INFO std_valid_accuracy            0.1350\n",
      "2023-03-11 22:25:02,661 simple_logger.py log_once [line:27] INFO valid_loss                    1.4705\n",
      "2023-03-11 22:25:02,661 simple_logger.py log_once [line:27] INFO mean_valid_loss               1.4705\n",
      "2023-03-11 22:25:02,661 simple_logger.py log_once [line:27] INFO std_valid_loss                0.2472\n",
      "2023-03-11 22:25:02,661 fedbase.py run [line:117] INFO Eval Time Cost:               2.7133s\n",
      "2023-03-11 22:25:04,076 fedbase.py run [line:112] INFO --------------Round 124--------------\n",
      "2023-03-11 22:25:04,076 simple_logger.py log_once [line:13] INFO Current_time:124\n"
     ]
    },
    {
     "name": "stdout",
     "output_type": "stream",
     "text": [
      "     pcost       dcost       gap    pres   dres\n",
      " 0:  1.0000e+00 -2.0500e+00  3e+00  2e-16  7e-16\n",
      " 1:  1.0000e+00  9.6950e-01  3e-02  3e-16  1e-15\n",
      " 2:  1.0000e+00  9.9970e-01  3e-04  3e-16  1e-15\n",
      " 3:  1.0000e+00  1.0000e+00  3e-06  8e-17  8e-16\n",
      " 4:  1.0000e+00  1.0000e+00  3e-08  1e-16  2e-16\n",
      "Optimal solution found.\n"
     ]
    },
    {
     "name": "stderr",
     "output_type": "stream",
     "text": [
      "2023-03-11 22:25:06,790 simple_logger.py log_once [line:27] INFO test_accuracy                 0.4472\n",
      "2023-03-11 22:25:06,790 simple_logger.py log_once [line:27] INFO test_loss                     1.4912\n",
      "2023-03-11 22:25:06,791 simple_logger.py log_once [line:27] INFO valid_accuracy                0.4556\n",
      "2023-03-11 22:25:06,791 simple_logger.py log_once [line:27] INFO mean_valid_accuracy           0.4556\n",
      "2023-03-11 22:25:06,791 simple_logger.py log_once [line:27] INFO std_valid_accuracy            0.1392\n",
      "2023-03-11 22:25:06,791 simple_logger.py log_once [line:27] INFO valid_loss                    1.4821\n",
      "2023-03-11 22:25:06,792 simple_logger.py log_once [line:27] INFO mean_valid_loss               1.4821\n",
      "2023-03-11 22:25:06,792 simple_logger.py log_once [line:27] INFO std_valid_loss                0.2622\n",
      "2023-03-11 22:25:06,792 fedbase.py run [line:117] INFO Eval Time Cost:               2.7159s\n",
      "2023-03-11 22:25:08,218 fedbase.py run [line:112] INFO --------------Round 125--------------\n",
      "2023-03-11 22:25:08,218 simple_logger.py log_once [line:13] INFO Current_time:125\n"
     ]
    },
    {
     "name": "stdout",
     "output_type": "stream",
     "text": [
      "     pcost       dcost       gap    pres   dres\n",
      " 0:  1.0000e+00 -2.0500e+00  3e+00  3e-16  1e-15\n",
      " 1:  1.0000e+00  9.6950e-01  3e-02  2e-16  2e-15\n",
      " 2:  1.0000e+00  9.9969e-01  3e-04  1e-16  1e-15\n",
      " 3:  1.0000e+00  1.0000e+00  3e-06  1e-16  1e-15\n",
      " 4:  1.0000e+00  1.0000e+00  2e-07  1e-16  7e-16\n",
      "Optimal solution found.\n"
     ]
    },
    {
     "name": "stderr",
     "output_type": "stream",
     "text": [
      "2023-03-11 22:25:10,900 simple_logger.py log_once [line:27] INFO test_accuracy                 0.4017\n",
      "2023-03-11 22:25:10,901 simple_logger.py log_once [line:27] INFO test_loss                     1.5708\n",
      "2023-03-11 22:25:10,901 simple_logger.py log_once [line:27] INFO valid_accuracy                0.4038\n",
      "2023-03-11 22:25:10,901 simple_logger.py log_once [line:27] INFO mean_valid_accuracy           0.4038\n",
      "2023-03-11 22:25:10,902 simple_logger.py log_once [line:27] INFO std_valid_accuracy            0.1859\n",
      "2023-03-11 22:25:10,902 simple_logger.py log_once [line:27] INFO valid_loss                    1.5582\n",
      "2023-03-11 22:25:10,902 simple_logger.py log_once [line:27] INFO mean_valid_loss               1.5582\n",
      "2023-03-11 22:25:10,903 simple_logger.py log_once [line:27] INFO std_valid_loss                0.3777\n",
      "2023-03-11 22:25:10,903 fedbase.py run [line:117] INFO Eval Time Cost:               2.6848s\n",
      "2023-03-11 22:25:12,407 fedbase.py run [line:112] INFO --------------Round 126--------------\n",
      "2023-03-11 22:25:12,408 simple_logger.py log_once [line:13] INFO Current_time:126\n"
     ]
    },
    {
     "name": "stdout",
     "output_type": "stream",
     "text": [
      "     pcost       dcost       gap    pres   dres\n",
      " 0:  1.0000e+00 -2.0500e+00  3e+00  9e-17  1e-15\n",
      " 1:  1.0000e+00  9.6950e-01  3e-02  2e-16  1e-15\n",
      " 2:  1.0000e+00  9.9970e-01  3e-04  9e-17  1e-15\n",
      " 3:  1.0000e+00  1.0000e+00  3e-06  2e-16  1e-15\n",
      " 4:  1.0000e+00  1.0000e+00  3e-08  1e-16  2e-15\n",
      "Optimal solution found.\n"
     ]
    },
    {
     "name": "stderr",
     "output_type": "stream",
     "text": [
      "2023-03-11 22:25:15,224 simple_logger.py log_once [line:27] INFO test_accuracy                 0.4457\n",
      "2023-03-11 22:25:15,225 simple_logger.py log_once [line:27] INFO test_loss                     1.4726\n",
      "2023-03-11 22:25:15,225 simple_logger.py log_once [line:27] INFO valid_accuracy                0.4566\n",
      "2023-03-11 22:25:15,225 simple_logger.py log_once [line:27] INFO mean_valid_accuracy           0.4566\n",
      "2023-03-11 22:25:15,226 simple_logger.py log_once [line:27] INFO std_valid_accuracy            0.1658\n",
      "2023-03-11 22:25:15,226 simple_logger.py log_once [line:27] INFO valid_loss                    1.4621\n",
      "2023-03-11 22:25:15,227 simple_logger.py log_once [line:27] INFO mean_valid_loss               1.4621\n",
      "2023-03-11 22:25:15,227 simple_logger.py log_once [line:27] INFO std_valid_loss                0.3125\n",
      "2023-03-11 22:25:15,227 fedbase.py run [line:117] INFO Eval Time Cost:               2.8192s\n",
      "2023-03-11 22:25:16,825 fedbase.py run [line:112] INFO --------------Round 127--------------\n",
      "2023-03-11 22:25:16,826 simple_logger.py log_once [line:13] INFO Current_time:127\n"
     ]
    },
    {
     "name": "stdout",
     "output_type": "stream",
     "text": [
      "     pcost       dcost       gap    pres   dres\n",
      " 0:  1.0000e+00 -2.0500e+00  3e+00  2e-16  9e-16\n",
      " 1:  1.0000e+00  9.6950e-01  3e-02  2e-16  1e-15\n",
      " 2:  1.0000e+00  9.9970e-01  3e-04  6e-16  1e-15\n",
      " 3:  1.0000e+00  1.0000e+00  3e-06  2e-16  8e-16\n",
      " 4:  1.0000e+00  1.0000e+00  3e-08  9e-17  3e-16\n",
      "Optimal solution found.\n"
     ]
    },
    {
     "name": "stderr",
     "output_type": "stream",
     "text": [
      "2023-03-11 22:25:19,630 simple_logger.py log_once [line:27] INFO test_accuracy                 0.4618\n",
      "2023-03-11 22:25:19,630 simple_logger.py log_once [line:27] INFO test_loss                     1.4595\n",
      "2023-03-11 22:25:19,631 simple_logger.py log_once [line:27] INFO valid_accuracy                0.4686\n",
      "2023-03-11 22:25:19,631 simple_logger.py log_once [line:27] INFO mean_valid_accuracy           0.4686\n",
      "2023-03-11 22:25:19,631 simple_logger.py log_once [line:27] INFO std_valid_accuracy            0.1559\n",
      "2023-03-11 22:25:19,632 simple_logger.py log_once [line:27] INFO valid_loss                    1.4517\n",
      "2023-03-11 22:25:19,632 simple_logger.py log_once [line:27] INFO mean_valid_loss               1.4517\n",
      "2023-03-11 22:25:19,632 simple_logger.py log_once [line:27] INFO std_valid_loss                0.3032\n",
      "2023-03-11 22:25:19,632 fedbase.py run [line:117] INFO Eval Time Cost:               2.8065s\n",
      "2023-03-11 22:25:21,272 fedbase.py run [line:112] INFO --------------Round 128--------------\n",
      "2023-03-11 22:25:21,272 simple_logger.py log_once [line:13] INFO Current_time:128\n"
     ]
    },
    {
     "name": "stdout",
     "output_type": "stream",
     "text": [
      "     pcost       dcost       gap    pres   dres\n",
      " 0:  1.0000e+00 -2.0500e+00  3e+00  9e-17  1e-15\n",
      " 1:  1.0000e+00  9.6950e-01  3e-02  2e-16  1e-15\n",
      " 2:  1.0000e+00  9.9970e-01  3e-04  9e-17  1e-15\n",
      " 3:  1.0000e+00  1.0000e+00  3e-06  2e-16  1e-15\n",
      " 4:  1.0000e+00  1.0000e+00  3e-08  1e-16  2e-15\n",
      "Optimal solution found.\n"
     ]
    },
    {
     "name": "stderr",
     "output_type": "stream",
     "text": [
      "2023-03-11 22:25:23,960 simple_logger.py log_once [line:27] INFO test_accuracy                 0.4446\n",
      "2023-03-11 22:25:23,961 simple_logger.py log_once [line:27] INFO test_loss                     1.4975\n",
      "2023-03-11 22:25:23,961 simple_logger.py log_once [line:27] INFO valid_accuracy                0.4502\n",
      "2023-03-11 22:25:23,961 simple_logger.py log_once [line:27] INFO mean_valid_accuracy           0.4502\n",
      "2023-03-11 22:25:23,961 simple_logger.py log_once [line:27] INFO std_valid_accuracy            0.1782\n",
      "2023-03-11 22:25:23,962 simple_logger.py log_once [line:27] INFO valid_loss                    1.4939\n",
      "2023-03-11 22:25:23,962 simple_logger.py log_once [line:27] INFO mean_valid_loss               1.4939\n",
      "2023-03-11 22:25:23,963 simple_logger.py log_once [line:27] INFO std_valid_loss                0.3788\n",
      "2023-03-11 22:25:23,963 fedbase.py run [line:117] INFO Eval Time Cost:               2.6907s\n",
      "2023-03-11 22:25:25,304 fedbase.py run [line:112] INFO --------------Round 129--------------\n",
      "2023-03-11 22:25:25,305 simple_logger.py log_once [line:13] INFO Current_time:129\n"
     ]
    },
    {
     "name": "stdout",
     "output_type": "stream",
     "text": [
      "     pcost       dcost       gap    pres   dres\n",
      " 0:  1.0000e+00 -2.0500e+00  3e+00  2e-16  9e-16\n",
      " 1:  1.0000e+00  9.6950e-01  3e-02  2e-16  1e-15\n",
      " 2:  1.0000e+00  9.9970e-01  3e-04  6e-16  1e-15\n",
      " 3:  1.0000e+00  1.0000e+00  3e-06  2e-16  8e-16\n",
      " 4:  1.0000e+00  1.0000e+00  3e-08  9e-17  3e-16\n",
      "Optimal solution found.\n"
     ]
    },
    {
     "name": "stderr",
     "output_type": "stream",
     "text": [
      "2023-03-11 22:25:28,000 simple_logger.py log_once [line:27] INFO test_accuracy                 0.4384\n",
      "2023-03-11 22:25:28,001 simple_logger.py log_once [line:27] INFO test_loss                     1.5215\n",
      "2023-03-11 22:25:28,001 simple_logger.py log_once [line:27] INFO valid_accuracy                0.4416\n",
      "2023-03-11 22:25:28,001 simple_logger.py log_once [line:27] INFO mean_valid_accuracy           0.4416\n",
      "2023-03-11 22:25:28,001 simple_logger.py log_once [line:27] INFO std_valid_accuracy            0.1701\n",
      "2023-03-11 22:25:28,002 simple_logger.py log_once [line:27] INFO valid_loss                    1.5206\n",
      "2023-03-11 22:25:28,002 simple_logger.py log_once [line:27] INFO mean_valid_loss               1.5206\n",
      "2023-03-11 22:25:28,002 simple_logger.py log_once [line:27] INFO std_valid_loss                0.3759\n",
      "2023-03-11 22:25:28,002 fedbase.py run [line:117] INFO Eval Time Cost:               2.6978s\n",
      "2023-03-11 22:25:29,416 fedbase.py run [line:112] INFO --------------Round 130--------------\n",
      "2023-03-11 22:25:29,416 simple_logger.py log_once [line:13] INFO Current_time:130\n"
     ]
    },
    {
     "name": "stdout",
     "output_type": "stream",
     "text": [
      "     pcost       dcost       gap    pres   dres\n",
      " 0:  1.0000e+00 -2.0500e+00  3e+00  2e-16  9e-16\n",
      " 1:  1.0000e+00  9.6950e-01  3e-02  2e-16  1e-15\n",
      " 2:  1.0000e+00  9.9970e-01  3e-04  6e-16  1e-15\n",
      " 3:  1.0000e+00  1.0000e+00  3e-06  2e-16  8e-16\n",
      " 4:  1.0000e+00  1.0000e+00  3e-08  9e-17  3e-16\n",
      "Optimal solution found.\n"
     ]
    },
    {
     "name": "stderr",
     "output_type": "stream",
     "text": [
      "2023-03-11 22:25:32,146 simple_logger.py log_once [line:27] INFO test_accuracy                 0.4202\n",
      "2023-03-11 22:25:32,147 simple_logger.py log_once [line:27] INFO test_loss                     1.5508\n",
      "2023-03-11 22:25:32,147 simple_logger.py log_once [line:27] INFO valid_accuracy                0.4162\n",
      "2023-03-11 22:25:32,148 simple_logger.py log_once [line:27] INFO mean_valid_accuracy           0.4162\n",
      "2023-03-11 22:25:32,148 simple_logger.py log_once [line:27] INFO std_valid_accuracy            0.1786\n",
      "2023-03-11 22:25:32,148 simple_logger.py log_once [line:27] INFO valid_loss                    1.5503\n",
      "2023-03-11 22:25:32,149 simple_logger.py log_once [line:27] INFO mean_valid_loss               1.5503\n",
      "2023-03-11 22:25:32,149 simple_logger.py log_once [line:27] INFO std_valid_loss                0.3982\n",
      "2023-03-11 22:25:32,149 fedbase.py run [line:117] INFO Eval Time Cost:               2.7331s\n",
      "2023-03-11 22:25:33,776 fedbase.py run [line:112] INFO --------------Round 131--------------\n",
      "2023-03-11 22:25:33,777 simple_logger.py log_once [line:13] INFO Current_time:131\n"
     ]
    },
    {
     "name": "stdout",
     "output_type": "stream",
     "text": [
      "     pcost       dcost       gap    pres   dres\n",
      " 0:  1.0000e+00 -2.0500e+00  3e+00  1e-16  6e-16\n",
      " 1:  1.0000e+00  9.6950e-01  3e-02  1e-16  2e-15\n",
      " 2:  1.0000e+00  9.9969e-01  3e-04  2e-16  9e-16\n",
      " 3:  1.0000e+00  1.0000e+00  3e-06  1e-16  6e-16\n",
      " 4:  1.0000e+00  1.0000e+00  2e-07  3e-16  6e-16\n",
      "Optimal solution found.\n"
     ]
    },
    {
     "name": "stderr",
     "output_type": "stream",
     "text": [
      "2023-03-11 22:25:36,508 simple_logger.py log_once [line:27] INFO test_accuracy                 0.4375\n",
      "2023-03-11 22:25:36,508 simple_logger.py log_once [line:27] INFO test_loss                     1.4936\n",
      "2023-03-11 22:25:36,509 simple_logger.py log_once [line:27] INFO valid_accuracy                0.4476\n",
      "2023-03-11 22:25:36,509 simple_logger.py log_once [line:27] INFO mean_valid_accuracy           0.4476\n",
      "2023-03-11 22:25:36,509 simple_logger.py log_once [line:27] INFO std_valid_accuracy            0.1543\n",
      "2023-03-11 22:25:36,509 simple_logger.py log_once [line:27] INFO valid_loss                    1.4923\n",
      "2023-03-11 22:25:36,510 simple_logger.py log_once [line:27] INFO mean_valid_loss               1.4923\n",
      "2023-03-11 22:25:36,510 simple_logger.py log_once [line:27] INFO std_valid_loss                0.2917\n",
      "2023-03-11 22:25:36,510 fedbase.py run [line:117] INFO Eval Time Cost:               2.7334s\n",
      "2023-03-11 22:25:38,011 fedbase.py run [line:112] INFO --------------Round 132--------------\n",
      "2023-03-11 22:25:38,011 simple_logger.py log_once [line:13] INFO Current_time:132\n"
     ]
    },
    {
     "name": "stdout",
     "output_type": "stream",
     "text": [
      "     pcost       dcost       gap    pres   dres\n",
      " 0:  1.0000e+00 -2.0500e+00  3e+00  2e-17  2e-15\n",
      " 1:  1.0000e+00  9.6950e-01  3e-02  8e-17  1e-15\n",
      " 2:  1.0000e+00  9.9969e-01  3e-04  1e-16  1e-15\n",
      " 3:  1.0000e+00  1.0000e+00  3e-06  7e-17  7e-16\n",
      " 4:  1.0000e+00  1.0000e+00  3e-08  1e-16  1e-15\n",
      "Optimal solution found.\n"
     ]
    },
    {
     "name": "stderr",
     "output_type": "stream",
     "text": [
      "2023-03-11 22:25:40,736 simple_logger.py log_once [line:27] INFO test_accuracy                 0.4803\n",
      "2023-03-11 22:25:40,737 simple_logger.py log_once [line:27] INFO test_loss                     1.4206\n",
      "2023-03-11 22:25:40,737 simple_logger.py log_once [line:27] INFO valid_accuracy                0.4772\n",
      "2023-03-11 22:25:40,737 simple_logger.py log_once [line:27] INFO mean_valid_accuracy           0.4772\n",
      "2023-03-11 22:25:40,737 simple_logger.py log_once [line:27] INFO std_valid_accuracy            0.1240\n",
      "2023-03-11 22:25:40,738 simple_logger.py log_once [line:27] INFO valid_loss                    1.4187\n",
      "2023-03-11 22:25:40,738 simple_logger.py log_once [line:27] INFO mean_valid_loss               1.4187\n",
      "2023-03-11 22:25:40,739 simple_logger.py log_once [line:27] INFO std_valid_loss                0.2233\n",
      "2023-03-11 22:25:40,739 fedbase.py run [line:117] INFO Eval Time Cost:               2.7282s\n",
      "2023-03-11 22:25:42,305 fedbase.py run [line:112] INFO --------------Round 133--------------\n",
      "2023-03-11 22:25:42,305 simple_logger.py log_once [line:13] INFO Current_time:133\n"
     ]
    },
    {
     "name": "stdout",
     "output_type": "stream",
     "text": [
      "     pcost       dcost       gap    pres   dres\n",
      " 0:  1.0000e+00 -2.0500e+00  3e+00  3e-16  1e-15\n",
      " 1:  1.0000e+00  9.6950e-01  3e-02  2e-16  2e-15\n",
      " 2:  1.0000e+00  9.9969e-01  3e-04  1e-16  1e-15\n",
      " 3:  1.0000e+00  1.0000e+00  3e-06  1e-16  1e-15\n",
      " 4:  1.0000e+00  1.0000e+00  2e-07  1e-16  7e-16\n",
      "Optimal solution found.\n"
     ]
    },
    {
     "name": "stderr",
     "output_type": "stream",
     "text": [
      "2023-03-11 22:25:45,039 simple_logger.py log_once [line:27] INFO test_accuracy                 0.4736\n",
      "2023-03-11 22:25:45,040 simple_logger.py log_once [line:27] INFO test_loss                     1.4421\n",
      "2023-03-11 22:25:45,040 simple_logger.py log_once [line:27] INFO valid_accuracy                0.4716\n",
      "2023-03-11 22:25:45,040 simple_logger.py log_once [line:27] INFO mean_valid_accuracy           0.4716\n",
      "2023-03-11 22:25:45,041 simple_logger.py log_once [line:27] INFO std_valid_accuracy            0.1368\n",
      "2023-03-11 22:25:45,041 simple_logger.py log_once [line:27] INFO valid_loss                    1.4424\n",
      "2023-03-11 22:25:45,041 simple_logger.py log_once [line:27] INFO mean_valid_loss               1.4424\n",
      "2023-03-11 22:25:45,041 simple_logger.py log_once [line:27] INFO std_valid_loss                0.2412\n",
      "2023-03-11 22:25:45,042 fedbase.py run [line:117] INFO Eval Time Cost:               2.7362s\n",
      "2023-03-11 22:25:46,547 fedbase.py run [line:112] INFO --------------Round 134--------------\n",
      "2023-03-11 22:25:46,548 simple_logger.py log_once [line:13] INFO Current_time:134\n"
     ]
    },
    {
     "name": "stdout",
     "output_type": "stream",
     "text": [
      "     pcost       dcost       gap    pres   dres\n",
      " 0:  1.0000e+00 -2.0500e+00  3e+00  3e-17  1e-15\n",
      " 1:  1.0000e+00  9.6950e-01  3e-02  1e-16  9e-16\n",
      " 2:  1.0000e+00  9.9969e-01  3e-04  3e-16  5e-16\n",
      " 3:  1.0000e+00  1.0000e+00  3e-06  8e-17  9e-16\n",
      " 4:  1.0000e+00  1.0000e+00  1e-07  1e-16  5e-16\n",
      "Optimal solution found.\n"
     ]
    },
    {
     "name": "stderr",
     "output_type": "stream",
     "text": [
      "2023-03-11 22:25:49,281 simple_logger.py log_once [line:27] INFO test_accuracy                 0.4427\n",
      "2023-03-11 22:25:49,281 simple_logger.py log_once [line:27] INFO test_loss                     1.5189\n",
      "2023-03-11 22:25:49,282 simple_logger.py log_once [line:27] INFO valid_accuracy                0.4448\n",
      "2023-03-11 22:25:49,282 simple_logger.py log_once [line:27] INFO mean_valid_accuracy           0.4448\n",
      "2023-03-11 22:25:49,282 simple_logger.py log_once [line:27] INFO std_valid_accuracy            0.1528\n",
      "2023-03-11 22:25:49,283 simple_logger.py log_once [line:27] INFO valid_loss                    1.5185\n",
      "2023-03-11 22:25:49,283 simple_logger.py log_once [line:27] INFO mean_valid_loss               1.5185\n",
      "2023-03-11 22:25:49,283 simple_logger.py log_once [line:27] INFO std_valid_loss                0.2921\n",
      "2023-03-11 22:25:49,283 fedbase.py run [line:117] INFO Eval Time Cost:               2.7357s\n",
      "2023-03-11 22:25:50,906 fedbase.py run [line:112] INFO --------------Round 135--------------\n",
      "2023-03-11 22:25:50,906 simple_logger.py log_once [line:13] INFO Current_time:135\n"
     ]
    },
    {
     "name": "stdout",
     "output_type": "stream",
     "text": [
      "     pcost       dcost       gap    pres   dres\n",
      " 0:  1.0000e+00 -2.0500e+00  3e+00  2e-16  7e-16\n",
      " 1:  1.0000e+00  9.6950e-01  3e-02  3e-16  1e-15\n",
      " 2:  1.0000e+00  9.9970e-01  3e-04  3e-16  1e-15\n",
      " 3:  1.0000e+00  1.0000e+00  3e-06  8e-17  8e-16\n",
      " 4:  1.0000e+00  1.0000e+00  3e-08  1e-16  2e-16\n",
      "Optimal solution found.\n"
     ]
    },
    {
     "name": "stderr",
     "output_type": "stream",
     "text": [
      "2023-03-11 22:25:53,645 simple_logger.py log_once [line:27] INFO test_accuracy                 0.4400\n",
      "2023-03-11 22:25:53,645 simple_logger.py log_once [line:27] INFO test_loss                     1.5127\n",
      "2023-03-11 22:25:53,646 simple_logger.py log_once [line:27] INFO valid_accuracy                0.4450\n",
      "2023-03-11 22:25:53,646 simple_logger.py log_once [line:27] INFO mean_valid_accuracy           0.4450\n",
      "2023-03-11 22:25:53,646 simple_logger.py log_once [line:27] INFO std_valid_accuracy            0.1547\n",
      "2023-03-11 22:25:53,646 simple_logger.py log_once [line:27] INFO valid_loss                    1.5106\n",
      "2023-03-11 22:25:53,647 simple_logger.py log_once [line:27] INFO mean_valid_loss               1.5106\n",
      "2023-03-11 22:25:53,647 simple_logger.py log_once [line:27] INFO std_valid_loss                0.3141\n",
      "2023-03-11 22:25:53,647 fedbase.py run [line:117] INFO Eval Time Cost:               2.7406s\n",
      "2023-03-11 22:25:55,103 fedbase.py run [line:112] INFO --------------Round 136--------------\n",
      "2023-03-11 22:25:55,103 simple_logger.py log_once [line:13] INFO Current_time:136\n"
     ]
    },
    {
     "name": "stdout",
     "output_type": "stream",
     "text": [
      "     pcost       dcost       gap    pres   dres\n",
      " 0:  1.0000e+00 -2.0500e+00  3e+00  3e-17  7e-16\n",
      " 1:  1.0000e+00  9.6950e-01  3e-02  7e-17  1e-15\n",
      " 2:  1.0000e+00  9.9969e-01  3e-04  7e-17  8e-16\n",
      " 3:  1.0000e+00  1.0000e+00  3e-06  2e-16  9e-16\n",
      " 4:  1.0000e+00  1.0000e+00  2e-07  9e-17  7e-16\n",
      "Optimal solution found.\n"
     ]
    },
    {
     "name": "stderr",
     "output_type": "stream",
     "text": [
      "2023-03-11 22:25:57,905 simple_logger.py log_once [line:27] INFO test_accuracy                 0.4172\n",
      "2023-03-11 22:25:57,905 simple_logger.py log_once [line:27] INFO test_loss                     1.5676\n",
      "2023-03-11 22:25:57,906 simple_logger.py log_once [line:27] INFO valid_accuracy                0.4178\n",
      "2023-03-11 22:25:57,906 simple_logger.py log_once [line:27] INFO mean_valid_accuracy           0.4178\n",
      "2023-03-11 22:25:57,906 simple_logger.py log_once [line:27] INFO std_valid_accuracy            0.1682\n",
      "2023-03-11 22:25:57,907 simple_logger.py log_once [line:27] INFO valid_loss                    1.5683\n",
      "2023-03-11 22:25:57,907 simple_logger.py log_once [line:27] INFO mean_valid_loss               1.5683\n",
      "2023-03-11 22:25:57,907 simple_logger.py log_once [line:27] INFO std_valid_loss                0.3462\n",
      "2023-03-11 22:25:57,908 fedbase.py run [line:117] INFO Eval Time Cost:               2.8045s\n",
      "2023-03-11 22:25:59,553 fedbase.py run [line:112] INFO --------------Round 137--------------\n",
      "2023-03-11 22:25:59,554 simple_logger.py log_once [line:13] INFO Current_time:137\n"
     ]
    },
    {
     "name": "stdout",
     "output_type": "stream",
     "text": [
      "     pcost       dcost       gap    pres   dres\n",
      " 0:  1.0000e+00 -2.0500e+00  3e+00  2e-16  9e-16\n",
      " 1:  1.0000e+00  9.6950e-01  3e-02  1e-16  1e-15\n",
      " 2:  1.0000e+00  9.9969e-01  3e-04  9e-17  1e-15\n",
      " 3:  1.0000e+00  1.0000e+00  3e-06  8e-17  1e-15\n",
      " 4:  1.0000e+00  1.0000e+00  2e-07  1e-16  1e-15\n",
      "Optimal solution found.\n"
     ]
    },
    {
     "name": "stderr",
     "output_type": "stream",
     "text": [
      "2023-03-11 22:26:02,282 simple_logger.py log_once [line:27] INFO test_accuracy                 0.4152\n",
      "2023-03-11 22:26:02,283 simple_logger.py log_once [line:27] INFO test_loss                     1.5671\n",
      "2023-03-11 22:26:02,283 simple_logger.py log_once [line:27] INFO valid_accuracy                0.4200\n",
      "2023-03-11 22:26:02,283 simple_logger.py log_once [line:27] INFO mean_valid_accuracy           0.4200\n",
      "2023-03-11 22:26:02,283 simple_logger.py log_once [line:27] INFO std_valid_accuracy            0.1657\n",
      "2023-03-11 22:26:02,284 simple_logger.py log_once [line:27] INFO valid_loss                    1.5656\n",
      "2023-03-11 22:26:02,284 simple_logger.py log_once [line:27] INFO mean_valid_loss               1.5656\n",
      "2023-03-11 22:26:02,284 simple_logger.py log_once [line:27] INFO std_valid_loss                0.3500\n",
      "2023-03-11 22:26:02,284 fedbase.py run [line:117] INFO Eval Time Cost:               2.7309s\n",
      "2023-03-11 22:26:03,866 fedbase.py run [line:112] INFO --------------Round 138--------------\n",
      "2023-03-11 22:26:03,866 simple_logger.py log_once [line:13] INFO Current_time:138\n"
     ]
    },
    {
     "name": "stdout",
     "output_type": "stream",
     "text": [
      "     pcost       dcost       gap    pres   dres\n",
      " 0:  1.0000e+00 -2.0500e+00  3e+00  3e-17  1e-15\n",
      " 1:  1.0000e+00  9.6950e-01  3e-02  1e-16  9e-16\n",
      " 2:  1.0000e+00  9.9969e-01  3e-04  3e-16  5e-16\n",
      " 3:  1.0000e+00  1.0000e+00  3e-06  8e-17  9e-16\n",
      " 4:  1.0000e+00  1.0000e+00  1e-07  1e-16  5e-16\n",
      "Optimal solution found.\n"
     ]
    },
    {
     "name": "stderr",
     "output_type": "stream",
     "text": [
      "2023-03-11 22:26:06,590 simple_logger.py log_once [line:27] INFO test_accuracy                 0.4333\n",
      "2023-03-11 22:26:06,590 simple_logger.py log_once [line:27] INFO test_loss                     1.5305\n",
      "2023-03-11 22:26:06,591 simple_logger.py log_once [line:27] INFO valid_accuracy                0.4344\n",
      "2023-03-11 22:26:06,591 simple_logger.py log_once [line:27] INFO mean_valid_accuracy           0.4344\n",
      "2023-03-11 22:26:06,592 simple_logger.py log_once [line:27] INFO std_valid_accuracy            0.1669\n",
      "2023-03-11 22:26:06,592 simple_logger.py log_once [line:27] INFO valid_loss                    1.5255\n",
      "2023-03-11 22:26:06,592 simple_logger.py log_once [line:27] INFO mean_valid_loss               1.5255\n",
      "2023-03-11 22:26:06,593 simple_logger.py log_once [line:27] INFO std_valid_loss                0.3449\n",
      "2023-03-11 22:26:06,593 fedbase.py run [line:117] INFO Eval Time Cost:               2.7265s\n",
      "2023-03-11 22:26:08,219 fedbase.py run [line:112] INFO --------------Round 139--------------\n",
      "2023-03-11 22:26:08,219 simple_logger.py log_once [line:13] INFO Current_time:139\n"
     ]
    },
    {
     "name": "stdout",
     "output_type": "stream",
     "text": [
      "     pcost       dcost       gap    pres   dres\n",
      " 0:  1.0000e+00 -2.0500e+00  3e+00  3e-16  5e-16\n",
      " 1:  1.0000e+00  9.6950e-01  3e-02  3e-16  1e-15\n",
      " 2:  1.0000e+00  9.9969e-01  3e-04  1e-16  7e-16\n",
      " 3:  1.0000e+00  1.0000e+00  3e-06  1e-16  7e-16\n",
      " 4:  1.0000e+00  1.0000e+00  3e-07  1e-16  6e-16\n",
      "Optimal solution found.\n"
     ]
    },
    {
     "name": "stderr",
     "output_type": "stream",
     "text": [
      "2023-03-11 22:26:10,960 simple_logger.py log_once [line:27] INFO test_accuracy                 0.4534\n",
      "2023-03-11 22:26:10,961 simple_logger.py log_once [line:27] INFO test_loss                     1.4929\n",
      "2023-03-11 22:26:10,961 simple_logger.py log_once [line:27] INFO valid_accuracy                0.4586\n",
      "2023-03-11 22:26:10,961 simple_logger.py log_once [line:27] INFO mean_valid_accuracy           0.4586\n",
      "2023-03-11 22:26:10,962 simple_logger.py log_once [line:27] INFO std_valid_accuracy            0.1264\n",
      "2023-03-11 22:26:10,962 simple_logger.py log_once [line:27] INFO valid_loss                    1.4910\n",
      "2023-03-11 22:26:10,962 simple_logger.py log_once [line:27] INFO mean_valid_loss               1.4910\n",
      "2023-03-11 22:26:10,963 simple_logger.py log_once [line:27] INFO std_valid_loss                0.2454\n",
      "2023-03-11 22:26:10,963 fedbase.py run [line:117] INFO Eval Time Cost:               2.7439s\n",
      "2023-03-11 22:26:12,431 fedbase.py run [line:112] INFO --------------Round 140--------------\n",
      "2023-03-11 22:26:12,432 simple_logger.py log_once [line:13] INFO Current_time:140\n"
     ]
    },
    {
     "name": "stdout",
     "output_type": "stream",
     "text": [
      "     pcost       dcost       gap    pres   dres\n",
      " 0:  1.0000e+00 -2.0500e+00  3e+00  3e-16  1e-15\n",
      " 1:  1.0000e+00  9.6950e-01  3e-02  2e-16  2e-15\n",
      " 2:  1.0000e+00  9.9969e-01  3e-04  1e-16  1e-15\n",
      " 3:  1.0000e+00  1.0000e+00  3e-06  1e-16  1e-15\n",
      " 4:  1.0000e+00  1.0000e+00  2e-07  1e-16  7e-16\n",
      "Optimal solution found.\n"
     ]
    },
    {
     "name": "stderr",
     "output_type": "stream",
     "text": [
      "2023-03-11 22:26:15,162 simple_logger.py log_once [line:27] INFO test_accuracy                 0.4600\n",
      "2023-03-11 22:26:15,162 simple_logger.py log_once [line:27] INFO test_loss                     1.4688\n",
      "2023-03-11 22:26:15,163 simple_logger.py log_once [line:27] INFO valid_accuracy                0.4682\n",
      "2023-03-11 22:26:15,163 simple_logger.py log_once [line:27] INFO mean_valid_accuracy           0.4682\n",
      "2023-03-11 22:26:15,163 simple_logger.py log_once [line:27] INFO std_valid_accuracy            0.1322\n",
      "2023-03-11 22:26:15,164 simple_logger.py log_once [line:27] INFO valid_loss                    1.4623\n",
      "2023-03-11 22:26:15,165 simple_logger.py log_once [line:27] INFO mean_valid_loss               1.4623\n",
      "2023-03-11 22:26:15,165 simple_logger.py log_once [line:27] INFO std_valid_loss                0.2373\n",
      "2023-03-11 22:26:15,165 fedbase.py run [line:117] INFO Eval Time Cost:               2.7334s\n",
      "2023-03-11 22:26:16,735 fedbase.py run [line:112] INFO --------------Round 141--------------\n",
      "2023-03-11 22:26:16,736 simple_logger.py log_once [line:13] INFO Current_time:141\n"
     ]
    },
    {
     "name": "stdout",
     "output_type": "stream",
     "text": [
      "     pcost       dcost       gap    pres   dres\n",
      " 0:  1.0000e+00 -2.0500e+00  3e+00  3e-16  8e-16\n",
      " 1:  1.0000e+00  9.6950e-01  3e-02  9e-17  1e-15\n",
      " 2:  1.0000e+00  9.9969e-01  3e-04  1e-16  1e-15\n",
      " 3:  1.0000e+00  1.0000e+00  3e-06  2e-16  1e-15\n",
      " 4:  1.0000e+00  1.0000e+00  2e-07  3e-16  8e-16\n",
      "Optimal solution found.\n"
     ]
    },
    {
     "name": "stderr",
     "output_type": "stream",
     "text": [
      "2023-03-11 22:26:19,460 simple_logger.py log_once [line:27] INFO test_accuracy                 0.4091\n",
      "2023-03-11 22:26:19,461 simple_logger.py log_once [line:27] INFO test_loss                     1.5970\n",
      "2023-03-11 22:26:19,461 simple_logger.py log_once [line:27] INFO valid_accuracy                0.4150\n",
      "2023-03-11 22:26:19,462 simple_logger.py log_once [line:27] INFO mean_valid_accuracy           0.4150\n",
      "2023-03-11 22:26:19,462 simple_logger.py log_once [line:27] INFO std_valid_accuracy            0.1600\n",
      "2023-03-11 22:26:19,462 simple_logger.py log_once [line:27] INFO valid_loss                    1.5879\n",
      "2023-03-11 22:26:19,463 simple_logger.py log_once [line:27] INFO mean_valid_loss               1.5879\n",
      "2023-03-11 22:26:19,463 simple_logger.py log_once [line:27] INFO std_valid_loss                0.3378\n",
      "2023-03-11 22:26:19,463 fedbase.py run [line:117] INFO Eval Time Cost:               2.7275s\n",
      "2023-03-11 22:26:20,917 fedbase.py run [line:112] INFO --------------Round 142--------------\n",
      "2023-03-11 22:26:20,918 simple_logger.py log_once [line:13] INFO Current_time:142\n"
     ]
    },
    {
     "name": "stdout",
     "output_type": "stream",
     "text": [
      "     pcost       dcost       gap    pres   dres\n",
      " 0:  1.0000e+00 -2.0500e+00  3e+00  9e-17  1e-15\n",
      " 1:  1.0000e+00  9.6950e-01  3e-02  2e-16  1e-15\n",
      " 2:  1.0000e+00  9.9970e-01  3e-04  9e-17  1e-15\n",
      " 3:  1.0000e+00  1.0000e+00  3e-06  2e-16  1e-15\n",
      " 4:  1.0000e+00  1.0000e+00  3e-08  1e-16  2e-15\n",
      "Optimal solution found.\n"
     ]
    },
    {
     "name": "stderr",
     "output_type": "stream",
     "text": [
      "2023-03-11 22:26:23,647 simple_logger.py log_once [line:27] INFO test_accuracy                 0.4545\n",
      "2023-03-11 22:26:23,648 simple_logger.py log_once [line:27] INFO test_loss                     1.4733\n",
      "2023-03-11 22:26:23,648 simple_logger.py log_once [line:27] INFO valid_accuracy                0.4634\n",
      "2023-03-11 22:26:23,649 simple_logger.py log_once [line:27] INFO mean_valid_accuracy           0.4634\n",
      "2023-03-11 22:26:23,649 simple_logger.py log_once [line:27] INFO std_valid_accuracy            0.1387\n",
      "2023-03-11 22:26:23,649 simple_logger.py log_once [line:27] INFO valid_loss                    1.4648\n",
      "2023-03-11 22:26:23,650 simple_logger.py log_once [line:27] INFO mean_valid_loss               1.4648\n",
      "2023-03-11 22:26:23,651 simple_logger.py log_once [line:27] INFO std_valid_loss                0.2665\n",
      "2023-03-11 22:26:23,651 fedbase.py run [line:117] INFO Eval Time Cost:               2.7330s\n",
      "2023-03-11 22:26:25,157 fedbase.py run [line:112] INFO --------------Round 143--------------\n",
      "2023-03-11 22:26:25,158 simple_logger.py log_once [line:13] INFO Current_time:143\n"
     ]
    },
    {
     "name": "stdout",
     "output_type": "stream",
     "text": [
      "     pcost       dcost       gap    pres   dres\n",
      " 0:  1.0000e+00 -2.0500e+00  3e+00  9e-17  1e-15\n",
      " 1:  1.0000e+00  9.6950e-01  3e-02  2e-16  1e-15\n",
      " 2:  1.0000e+00  9.9970e-01  3e-04  9e-17  1e-15\n",
      " 3:  1.0000e+00  1.0000e+00  3e-06  2e-16  1e-15\n",
      " 4:  1.0000e+00  1.0000e+00  3e-08  1e-16  2e-15\n",
      "Optimal solution found.\n"
     ]
    },
    {
     "name": "stderr",
     "output_type": "stream",
     "text": [
      "2023-03-11 22:26:27,900 simple_logger.py log_once [line:27] INFO test_accuracy                 0.4750\n",
      "2023-03-11 22:26:27,901 simple_logger.py log_once [line:27] INFO test_loss                     1.4324\n",
      "2023-03-11 22:26:27,901 simple_logger.py log_once [line:27] INFO valid_accuracy                0.4834\n",
      "2023-03-11 22:26:27,901 simple_logger.py log_once [line:27] INFO mean_valid_accuracy           0.4834\n",
      "2023-03-11 22:26:27,902 simple_logger.py log_once [line:27] INFO std_valid_accuracy            0.1319\n",
      "2023-03-11 22:26:27,902 simple_logger.py log_once [line:27] INFO valid_loss                    1.4248\n",
      "2023-03-11 22:26:27,902 simple_logger.py log_once [line:27] INFO mean_valid_loss               1.4248\n",
      "2023-03-11 22:26:27,903 simple_logger.py log_once [line:27] INFO std_valid_loss                0.2641\n",
      "2023-03-11 22:26:27,903 fedbase.py run [line:117] INFO Eval Time Cost:               2.7450s\n",
      "2023-03-11 22:26:29,413 fedbase.py run [line:112] INFO --------------Round 144--------------\n",
      "2023-03-11 22:26:29,414 simple_logger.py log_once [line:13] INFO Current_time:144\n"
     ]
    },
    {
     "name": "stdout",
     "output_type": "stream",
     "text": [
      "     pcost       dcost       gap    pres   dres\n",
      " 0:  1.0000e+00 -2.0500e+00  3e+00  9e-17  9e-16\n",
      " 1:  1.0000e+00  9.6950e-01  3e-02  8e-17  1e-15\n",
      " 2:  1.0000e+00  9.9969e-01  3e-04  1e-16  9e-16\n",
      " 3:  1.0000e+00  1.0000e+00  3e-06  2e-16  5e-16\n",
      " 4:  1.0000e+00  1.0000e+00  3e-08  4e-16  7e-16\n",
      "Optimal solution found.\n"
     ]
    },
    {
     "name": "stderr",
     "output_type": "stream",
     "text": [
      "2023-03-11 22:26:32,147 simple_logger.py log_once [line:27] INFO test_accuracy                 0.4899\n",
      "2023-03-11 22:26:32,148 simple_logger.py log_once [line:27] INFO test_loss                     1.3995\n",
      "2023-03-11 22:26:32,148 simple_logger.py log_once [line:27] INFO valid_accuracy                0.4902\n",
      "2023-03-11 22:26:32,148 simple_logger.py log_once [line:27] INFO mean_valid_accuracy           0.4902\n",
      "2023-03-11 22:26:32,149 simple_logger.py log_once [line:27] INFO std_valid_accuracy            0.1257\n",
      "2023-03-11 22:26:32,149 simple_logger.py log_once [line:27] INFO valid_loss                    1.3984\n",
      "2023-03-11 22:26:32,149 simple_logger.py log_once [line:27] INFO mean_valid_loss               1.3984\n",
      "2023-03-11 22:26:32,149 simple_logger.py log_once [line:27] INFO std_valid_loss                0.2266\n",
      "2023-03-11 22:26:32,150 fedbase.py run [line:117] INFO Eval Time Cost:               2.7358s\n",
      "2023-03-11 22:26:33,667 fedbase.py run [line:112] INFO --------------Round 145--------------\n",
      "2023-03-11 22:26:33,667 simple_logger.py log_once [line:13] INFO Current_time:145\n"
     ]
    },
    {
     "name": "stdout",
     "output_type": "stream",
     "text": [
      "     pcost       dcost       gap    pres   dres\n",
      " 0:  1.0000e+00 -2.0500e+00  3e+00  3e-16  1e-15\n",
      " 1:  1.0000e+00  9.6950e-01  3e-02  2e-16  2e-15\n",
      " 2:  1.0000e+00  9.9969e-01  3e-04  1e-16  1e-15\n",
      " 3:  1.0000e+00  1.0000e+00  3e-06  1e-16  1e-15\n",
      " 4:  1.0000e+00  1.0000e+00  2e-07  1e-16  7e-16\n",
      "Optimal solution found.\n"
     ]
    },
    {
     "name": "stderr",
     "output_type": "stream",
     "text": [
      "2023-03-11 22:26:36,357 simple_logger.py log_once [line:27] INFO test_accuracy                 0.4830\n",
      "2023-03-11 22:26:36,358 simple_logger.py log_once [line:27] INFO test_loss                     1.4194\n",
      "2023-03-11 22:26:36,358 simple_logger.py log_once [line:27] INFO valid_accuracy                0.4838\n",
      "2023-03-11 22:26:36,358 simple_logger.py log_once [line:27] INFO mean_valid_accuracy           0.4838\n",
      "2023-03-11 22:26:36,359 simple_logger.py log_once [line:27] INFO std_valid_accuracy            0.1244\n",
      "2023-03-11 22:26:36,359 simple_logger.py log_once [line:27] INFO valid_loss                    1.4198\n",
      "2023-03-11 22:26:36,359 simple_logger.py log_once [line:27] INFO mean_valid_loss               1.4198\n",
      "2023-03-11 22:26:36,359 simple_logger.py log_once [line:27] INFO std_valid_loss                0.2365\n",
      "2023-03-11 22:26:36,360 fedbase.py run [line:117] INFO Eval Time Cost:               2.6922s\n",
      "2023-03-11 22:26:37,841 fedbase.py run [line:112] INFO --------------Round 146--------------\n",
      "2023-03-11 22:26:37,841 simple_logger.py log_once [line:13] INFO Current_time:146\n"
     ]
    },
    {
     "name": "stdout",
     "output_type": "stream",
     "text": [
      "     pcost       dcost       gap    pres   dres\n",
      " 0:  1.0000e+00 -2.0500e+00  3e+00  3e-17  1e-15\n",
      " 1:  1.0000e+00  9.6950e-01  3e-02  1e-16  9e-16\n",
      " 2:  1.0000e+00  9.9969e-01  3e-04  3e-16  5e-16\n",
      " 3:  1.0000e+00  1.0000e+00  3e-06  8e-17  9e-16\n",
      " 4:  1.0000e+00  1.0000e+00  1e-07  1e-16  5e-16\n",
      "Optimal solution found.\n"
     ]
    },
    {
     "name": "stderr",
     "output_type": "stream",
     "text": [
      "2023-03-11 22:26:40,651 simple_logger.py log_once [line:27] INFO test_accuracy                 0.4858\n",
      "2023-03-11 22:26:40,652 simple_logger.py log_once [line:27] INFO test_loss                     1.4169\n",
      "2023-03-11 22:26:40,652 simple_logger.py log_once [line:27] INFO valid_accuracy                0.4860\n",
      "2023-03-11 22:26:40,652 simple_logger.py log_once [line:27] INFO mean_valid_accuracy           0.4860\n",
      "2023-03-11 22:26:40,653 simple_logger.py log_once [line:27] INFO std_valid_accuracy            0.1239\n",
      "2023-03-11 22:26:40,653 simple_logger.py log_once [line:27] INFO valid_loss                    1.4144\n",
      "2023-03-11 22:26:40,653 simple_logger.py log_once [line:27] INFO mean_valid_loss               1.4144\n",
      "2023-03-11 22:26:40,654 simple_logger.py log_once [line:27] INFO std_valid_loss                0.2447\n",
      "2023-03-11 22:26:40,654 fedbase.py run [line:117] INFO Eval Time Cost:               2.8127s\n",
      "2023-03-11 22:26:42,158 fedbase.py run [line:112] INFO --------------Round 147--------------\n",
      "2023-03-11 22:26:42,158 simple_logger.py log_once [line:13] INFO Current_time:147\n"
     ]
    },
    {
     "name": "stdout",
     "output_type": "stream",
     "text": [
      "     pcost       dcost       gap    pres   dres\n",
      " 0:  1.0000e+00 -2.0500e+00  3e+00  1e-16  7e-16\n",
      " 1:  1.0000e+00  9.6950e-01  3e-02  2e-16  1e-15\n",
      " 2:  1.0000e+00  9.9969e-01  3e-04  3e-16  1e-15\n",
      " 3:  1.0000e+00  1.0000e+00  3e-06  4e-16  1e-15\n",
      " 4:  1.0000e+00  1.0000e+00  2e-07  9e-17  1e-15\n",
      "Optimal solution found.\n"
     ]
    },
    {
     "name": "stderr",
     "output_type": "stream",
     "text": [
      "2023-03-11 22:26:44,875 simple_logger.py log_once [line:27] INFO test_accuracy                 0.4568\n",
      "2023-03-11 22:26:44,876 simple_logger.py log_once [line:27] INFO test_loss                     1.4619\n",
      "2023-03-11 22:26:44,876 simple_logger.py log_once [line:27] INFO valid_accuracy                0.4602\n",
      "2023-03-11 22:26:44,877 simple_logger.py log_once [line:27] INFO mean_valid_accuracy           0.4602\n",
      "2023-03-11 22:26:44,877 simple_logger.py log_once [line:27] INFO std_valid_accuracy            0.1727\n",
      "2023-03-11 22:26:44,877 simple_logger.py log_once [line:27] INFO valid_loss                    1.4633\n",
      "2023-03-11 22:26:44,878 simple_logger.py log_once [line:27] INFO mean_valid_loss               1.4633\n",
      "2023-03-11 22:26:44,878 simple_logger.py log_once [line:27] INFO std_valid_loss                0.3322\n",
      "2023-03-11 22:26:44,879 fedbase.py run [line:117] INFO Eval Time Cost:               2.7203s\n",
      "2023-03-11 22:26:46,428 fedbase.py run [line:112] INFO --------------Round 148--------------\n",
      "2023-03-11 22:26:46,428 simple_logger.py log_once [line:13] INFO Current_time:148\n"
     ]
    },
    {
     "name": "stdout",
     "output_type": "stream",
     "text": [
      "     pcost       dcost       gap    pres   dres\n",
      " 0:  1.0000e+00 -2.0500e+00  3e+00  2e-16  9e-16\n",
      " 1:  1.0000e+00  9.6950e-01  3e-02  2e-16  1e-15\n",
      " 2:  1.0000e+00  9.9970e-01  3e-04  6e-16  1e-15\n",
      " 3:  1.0000e+00  1.0000e+00  3e-06  2e-16  8e-16\n",
      " 4:  1.0000e+00  1.0000e+00  3e-08  9e-17  3e-16\n",
      "Optimal solution found.\n"
     ]
    },
    {
     "name": "stderr",
     "output_type": "stream",
     "text": [
      "2023-03-11 22:26:49,121 simple_logger.py log_once [line:27] INFO test_accuracy                 0.4794\n",
      "2023-03-11 22:26:49,122 simple_logger.py log_once [line:27] INFO test_loss                     1.4207\n",
      "2023-03-11 22:26:49,122 simple_logger.py log_once [line:27] INFO valid_accuracy                0.4814\n",
      "2023-03-11 22:26:49,122 simple_logger.py log_once [line:27] INFO mean_valid_accuracy           0.4814\n",
      "2023-03-11 22:26:49,123 simple_logger.py log_once [line:27] INFO std_valid_accuracy            0.1413\n",
      "2023-03-11 22:26:49,123 simple_logger.py log_once [line:27] INFO valid_loss                    1.4226\n",
      "2023-03-11 22:26:49,123 simple_logger.py log_once [line:27] INFO mean_valid_loss               1.4226\n",
      "2023-03-11 22:26:49,124 simple_logger.py log_once [line:27] INFO std_valid_loss                0.2067\n",
      "2023-03-11 22:26:49,124 fedbase.py run [line:117] INFO Eval Time Cost:               2.6954s\n",
      "2023-03-11 22:26:50,726 fedbase.py run [line:112] INFO --------------Round 149--------------\n",
      "2023-03-11 22:26:50,727 simple_logger.py log_once [line:13] INFO Current_time:149\n"
     ]
    },
    {
     "name": "stdout",
     "output_type": "stream",
     "text": [
      "     pcost       dcost       gap    pres   dres\n",
      " 0:  1.0000e+00 -2.0500e+00  3e+00  3e-16  1e-15\n",
      " 1:  1.0000e+00  9.6950e-01  3e-02  2e-16  8e-16\n",
      " 2:  1.0000e+00  9.9969e-01  3e-04  1e-16  9e-16\n",
      " 3:  1.0000e+00  1.0000e+00  3e-06  1e-16  9e-16\n",
      " 4:  1.0000e+00  1.0000e+00  2e-07  2e-16  2e-16\n",
      "Optimal solution found.\n"
     ]
    },
    {
     "name": "stderr",
     "output_type": "stream",
     "text": [
      "2023-03-11 22:26:53,453 simple_logger.py log_once [line:27] INFO test_accuracy                 0.4731\n",
      "2023-03-11 22:26:53,453 simple_logger.py log_once [line:27] INFO test_loss                     1.4584\n",
      "2023-03-11 22:26:53,454 simple_logger.py log_once [line:27] INFO valid_accuracy                0.4804\n",
      "2023-03-11 22:26:53,454 simple_logger.py log_once [line:27] INFO mean_valid_accuracy           0.4804\n",
      "2023-03-11 22:26:53,454 simple_logger.py log_once [line:27] INFO std_valid_accuracy            0.1326\n",
      "2023-03-11 22:26:53,454 simple_logger.py log_once [line:27] INFO valid_loss                    1.4530\n",
      "2023-03-11 22:26:53,455 simple_logger.py log_once [line:27] INFO mean_valid_loss               1.4530\n",
      "2023-03-11 22:26:53,455 simple_logger.py log_once [line:27] INFO std_valid_loss                0.2719\n",
      "2023-03-11 22:26:53,455 fedbase.py run [line:117] INFO Eval Time Cost:               2.7282s\n",
      "2023-03-11 22:26:55,094 fedbase.py run [line:112] INFO --------------Round 150--------------\n",
      "2023-03-11 22:26:55,094 simple_logger.py log_once [line:13] INFO Current_time:150\n"
     ]
    },
    {
     "name": "stdout",
     "output_type": "stream",
     "text": [
      "     pcost       dcost       gap    pres   dres\n",
      " 0:  1.0000e+00 -2.0500e+00  3e+00  2e-16  7e-16\n",
      " 1:  1.0000e+00  9.6950e-01  3e-02  3e-16  1e-15\n",
      " 2:  1.0000e+00  9.9970e-01  3e-04  3e-16  1e-15\n",
      " 3:  1.0000e+00  1.0000e+00  3e-06  8e-17  8e-16\n",
      " 4:  1.0000e+00  1.0000e+00  3e-08  1e-16  2e-16\n",
      "Optimal solution found.\n"
     ]
    },
    {
     "name": "stderr",
     "output_type": "stream",
     "text": [
      "2023-03-11 22:26:57,815 simple_logger.py log_once [line:27] INFO test_accuracy                 0.4693\n",
      "2023-03-11 22:26:57,816 simple_logger.py log_once [line:27] INFO test_loss                     1.4408\n",
      "2023-03-11 22:26:57,816 simple_logger.py log_once [line:27] INFO valid_accuracy                0.4798\n",
      "2023-03-11 22:26:57,816 simple_logger.py log_once [line:27] INFO mean_valid_accuracy           0.4798\n",
      "2023-03-11 22:26:57,817 simple_logger.py log_once [line:27] INFO std_valid_accuracy            0.1511\n",
      "2023-03-11 22:26:57,817 simple_logger.py log_once [line:27] INFO valid_loss                    1.4296\n",
      "2023-03-11 22:26:57,817 simple_logger.py log_once [line:27] INFO mean_valid_loss               1.4296\n",
      "2023-03-11 22:26:57,817 simple_logger.py log_once [line:27] INFO std_valid_loss                0.2781\n",
      "2023-03-11 22:26:57,818 fedbase.py run [line:117] INFO Eval Time Cost:               2.7234s\n",
      "2023-03-11 22:26:59,391 fedbase.py run [line:112] INFO --------------Round 151--------------\n",
      "2023-03-11 22:26:59,391 simple_logger.py log_once [line:13] INFO Current_time:151\n"
     ]
    },
    {
     "name": "stdout",
     "output_type": "stream",
     "text": [
      "     pcost       dcost       gap    pres   dres\n",
      " 0:  1.0000e+00 -2.0500e+00  3e+00  9e-17  1e-15\n",
      " 1:  1.0000e+00  9.6950e-01  3e-02  2e-16  1e-15\n",
      " 2:  1.0000e+00  9.9970e-01  3e-04  9e-17  1e-15\n",
      " 3:  1.0000e+00  1.0000e+00  3e-06  2e-16  1e-15\n",
      " 4:  1.0000e+00  1.0000e+00  3e-08  1e-16  2e-15\n",
      "Optimal solution found.\n"
     ]
    },
    {
     "name": "stderr",
     "output_type": "stream",
     "text": [
      "2023-03-11 22:27:02,111 simple_logger.py log_once [line:27] INFO test_accuracy                 0.4706\n",
      "2023-03-11 22:27:02,111 simple_logger.py log_once [line:27] INFO test_loss                     1.4210\n",
      "2023-03-11 22:27:02,112 simple_logger.py log_once [line:27] INFO valid_accuracy                0.4836\n",
      "2023-03-11 22:27:02,112 simple_logger.py log_once [line:27] INFO mean_valid_accuracy           0.4836\n",
      "2023-03-11 22:27:02,112 simple_logger.py log_once [line:27] INFO std_valid_accuracy            0.1574\n",
      "2023-03-11 22:27:02,113 simple_logger.py log_once [line:27] INFO valid_loss                    1.4106\n",
      "2023-03-11 22:27:02,113 simple_logger.py log_once [line:27] INFO mean_valid_loss               1.4106\n",
      "2023-03-11 22:27:02,113 simple_logger.py log_once [line:27] INFO std_valid_loss                0.2879\n",
      "2023-03-11 22:27:02,114 fedbase.py run [line:117] INFO Eval Time Cost:               2.7226s\n",
      "2023-03-11 22:27:03,565 fedbase.py run [line:112] INFO --------------Round 152--------------\n",
      "2023-03-11 22:27:03,565 simple_logger.py log_once [line:13] INFO Current_time:152\n"
     ]
    },
    {
     "name": "stdout",
     "output_type": "stream",
     "text": [
      "     pcost       dcost       gap    pres   dres\n",
      " 0:  1.0000e+00 -2.0500e+00  3e+00  2e-16  9e-16\n",
      " 1:  1.0000e+00  9.6950e-01  3e-02  2e-16  1e-15\n",
      " 2:  1.0000e+00  9.9970e-01  3e-04  6e-16  1e-15\n",
      " 3:  1.0000e+00  1.0000e+00  3e-06  2e-16  8e-16\n",
      " 4:  1.0000e+00  1.0000e+00  3e-08  9e-17  3e-16\n",
      "Optimal solution found.\n"
     ]
    },
    {
     "name": "stderr",
     "output_type": "stream",
     "text": [
      "2023-03-11 22:27:06,286 simple_logger.py log_once [line:27] INFO test_accuracy                 0.4605\n",
      "2023-03-11 22:27:06,287 simple_logger.py log_once [line:27] INFO test_loss                     1.4422\n",
      "2023-03-11 22:27:06,287 simple_logger.py log_once [line:27] INFO valid_accuracy                0.4704\n",
      "2023-03-11 22:27:06,287 simple_logger.py log_once [line:27] INFO mean_valid_accuracy           0.4704\n",
      "2023-03-11 22:27:06,288 simple_logger.py log_once [line:27] INFO std_valid_accuracy            0.1503\n",
      "2023-03-11 22:27:06,288 simple_logger.py log_once [line:27] INFO valid_loss                    1.4328\n",
      "2023-03-11 22:27:06,289 simple_logger.py log_once [line:27] INFO mean_valid_loss               1.4328\n",
      "2023-03-11 22:27:06,289 simple_logger.py log_once [line:27] INFO std_valid_loss                0.2711\n",
      "2023-03-11 22:27:06,289 fedbase.py run [line:117] INFO Eval Time Cost:               2.7240s\n",
      "2023-03-11 22:27:07,856 fedbase.py run [line:112] INFO --------------Round 153--------------\n",
      "2023-03-11 22:27:07,857 simple_logger.py log_once [line:13] INFO Current_time:153\n"
     ]
    },
    {
     "name": "stdout",
     "output_type": "stream",
     "text": [
      "     pcost       dcost       gap    pres   dres\n",
      " 0:  1.0000e+00 -2.0500e+00  3e+00  9e-17  1e-15\n",
      " 1:  1.0000e+00  9.6950e-01  3e-02  2e-16  1e-15\n",
      " 2:  1.0000e+00  9.9970e-01  3e-04  9e-17  1e-15\n",
      " 3:  1.0000e+00  1.0000e+00  3e-06  2e-16  1e-15\n",
      " 4:  1.0000e+00  1.0000e+00  3e-08  1e-16  2e-15\n",
      "Optimal solution found.\n"
     ]
    },
    {
     "name": "stderr",
     "output_type": "stream",
     "text": [
      "2023-03-11 22:27:10,576 simple_logger.py log_once [line:27] INFO test_accuracy                 0.4781\n",
      "2023-03-11 22:27:10,576 simple_logger.py log_once [line:27] INFO test_loss                     1.4099\n",
      "2023-03-11 22:27:10,577 simple_logger.py log_once [line:27] INFO valid_accuracy                0.4922\n",
      "2023-03-11 22:27:10,577 simple_logger.py log_once [line:27] INFO mean_valid_accuracy           0.4922\n",
      "2023-03-11 22:27:10,577 simple_logger.py log_once [line:27] INFO std_valid_accuracy            0.1396\n",
      "2023-03-11 22:27:10,578 simple_logger.py log_once [line:27] INFO valid_loss                    1.3991\n",
      "2023-03-11 22:27:10,578 simple_logger.py log_once [line:27] INFO mean_valid_loss               1.3991\n",
      "2023-03-11 22:27:10,578 simple_logger.py log_once [line:27] INFO std_valid_loss                0.2529\n",
      "2023-03-11 22:27:10,579 fedbase.py run [line:117] INFO Eval Time Cost:               2.7217s\n",
      "2023-03-11 22:27:12,177 fedbase.py run [line:112] INFO --------------Round 154--------------\n",
      "2023-03-11 22:27:12,177 simple_logger.py log_once [line:13] INFO Current_time:154\n"
     ]
    },
    {
     "name": "stdout",
     "output_type": "stream",
     "text": [
      "     pcost       dcost       gap    pres   dres\n",
      " 0:  1.0000e+00 -2.0500e+00  3e+00  9e-17  9e-16\n",
      " 1:  1.0000e+00  9.6950e-01  3e-02  8e-17  1e-15\n",
      " 2:  1.0000e+00  9.9969e-01  3e-04  1e-16  9e-16\n",
      " 3:  1.0000e+00  1.0000e+00  3e-06  2e-16  5e-16\n",
      " 4:  1.0000e+00  1.0000e+00  3e-08  4e-16  7e-16\n",
      "Optimal solution found.\n"
     ]
    },
    {
     "name": "stderr",
     "output_type": "stream",
     "text": [
      "2023-03-11 22:27:14,881 simple_logger.py log_once [line:27] INFO test_accuracy                 0.4784\n",
      "2023-03-11 22:27:14,882 simple_logger.py log_once [line:27] INFO test_loss                     1.4253\n",
      "2023-03-11 22:27:14,882 simple_logger.py log_once [line:27] INFO valid_accuracy                0.4832\n",
      "2023-03-11 22:27:14,882 simple_logger.py log_once [line:27] INFO mean_valid_accuracy           0.4832\n",
      "2023-03-11 22:27:14,883 simple_logger.py log_once [line:27] INFO std_valid_accuracy            0.1166\n",
      "2023-03-11 22:27:14,883 simple_logger.py log_once [line:27] INFO valid_loss                    1.4169\n",
      "2023-03-11 22:27:14,883 simple_logger.py log_once [line:27] INFO mean_valid_loss               1.4169\n",
      "2023-03-11 22:27:14,884 simple_logger.py log_once [line:27] INFO std_valid_loss                0.2211\n",
      "2023-03-11 22:27:14,884 fedbase.py run [line:117] INFO Eval Time Cost:               2.7067s\n",
      "2023-03-11 22:27:16,326 fedbase.py run [line:112] INFO --------------Round 155--------------\n",
      "2023-03-11 22:27:16,327 simple_logger.py log_once [line:13] INFO Current_time:155\n"
     ]
    },
    {
     "name": "stdout",
     "output_type": "stream",
     "text": [
      "     pcost       dcost       gap    pres   dres\n",
      " 0:  1.0000e+00 -2.0500e+00  3e+00  2e-17  2e-15\n",
      " 1:  1.0000e+00  9.6950e-01  3e-02  8e-17  1e-15\n",
      " 2:  1.0000e+00  9.9969e-01  3e-04  1e-16  1e-15\n",
      " 3:  1.0000e+00  1.0000e+00  3e-06  7e-17  7e-16\n",
      " 4:  1.0000e+00  1.0000e+00  3e-08  1e-16  1e-15\n",
      "Optimal solution found.\n"
     ]
    },
    {
     "name": "stderr",
     "output_type": "stream",
     "text": [
      "2023-03-11 22:27:19,043 simple_logger.py log_once [line:27] INFO test_accuracy                 0.4493\n",
      "2023-03-11 22:27:19,044 simple_logger.py log_once [line:27] INFO test_loss                     1.4881\n",
      "2023-03-11 22:27:19,044 simple_logger.py log_once [line:27] INFO valid_accuracy                0.4526\n",
      "2023-03-11 22:27:19,045 simple_logger.py log_once [line:27] INFO mean_valid_accuracy           0.4526\n",
      "2023-03-11 22:27:19,045 simple_logger.py log_once [line:27] INFO std_valid_accuracy            0.1527\n",
      "2023-03-11 22:27:19,045 simple_logger.py log_once [line:27] INFO valid_loss                    1.4822\n",
      "2023-03-11 22:27:19,045 simple_logger.py log_once [line:27] INFO mean_valid_loss               1.4822\n",
      "2023-03-11 22:27:19,046 simple_logger.py log_once [line:27] INFO std_valid_loss                0.3166\n",
      "2023-03-11 22:27:19,046 fedbase.py run [line:117] INFO Eval Time Cost:               2.7192s\n",
      "2023-03-11 22:27:20,614 fedbase.py run [line:112] INFO --------------Round 156--------------\n",
      "2023-03-11 22:27:20,614 simple_logger.py log_once [line:13] INFO Current_time:156\n"
     ]
    },
    {
     "name": "stdout",
     "output_type": "stream",
     "text": [
      "     pcost       dcost       gap    pres   dres\n",
      " 0:  1.0000e+00 -2.0500e+00  3e+00  9e-17  1e-15\n",
      " 1:  1.0000e+00  9.6950e-01  3e-02  2e-16  1e-15\n",
      " 2:  1.0000e+00  9.9970e-01  3e-04  9e-17  1e-15\n",
      " 3:  1.0000e+00  1.0000e+00  3e-06  2e-16  1e-15\n",
      " 4:  1.0000e+00  1.0000e+00  3e-08  1e-16  2e-15\n",
      "Optimal solution found.\n"
     ]
    },
    {
     "name": "stderr",
     "output_type": "stream",
     "text": [
      "2023-03-11 22:27:23,419 simple_logger.py log_once [line:27] INFO test_accuracy                 0.4721\n",
      "2023-03-11 22:27:23,419 simple_logger.py log_once [line:27] INFO test_loss                     1.4342\n",
      "2023-03-11 22:27:23,419 simple_logger.py log_once [line:27] INFO valid_accuracy                0.4794\n",
      "2023-03-11 22:27:23,420 simple_logger.py log_once [line:27] INFO mean_valid_accuracy           0.4794\n",
      "2023-03-11 22:27:23,420 simple_logger.py log_once [line:27] INFO std_valid_accuracy            0.1393\n",
      "2023-03-11 22:27:23,420 simple_logger.py log_once [line:27] INFO valid_loss                    1.4273\n",
      "2023-03-11 22:27:23,420 simple_logger.py log_once [line:27] INFO mean_valid_loss               1.4273\n",
      "2023-03-11 22:27:23,421 simple_logger.py log_once [line:27] INFO std_valid_loss                0.2995\n",
      "2023-03-11 22:27:23,421 fedbase.py run [line:117] INFO Eval Time Cost:               2.8068s\n",
      "2023-03-11 22:27:24,863 fedbase.py run [line:112] INFO --------------Round 157--------------\n",
      "2023-03-11 22:27:24,864 simple_logger.py log_once [line:13] INFO Current_time:157\n"
     ]
    },
    {
     "name": "stdout",
     "output_type": "stream",
     "text": [
      "     pcost       dcost       gap    pres   dres\n",
      " 0:  1.0000e+00 -2.0500e+00  3e+00  3e-17  8e-16\n",
      " 1:  1.0000e+00  9.6950e-01  3e-02  1e-16  1e-15\n",
      " 2:  1.0000e+00  9.9970e-01  3e-04  8e-17  1e-15\n",
      " 3:  1.0000e+00  1.0000e+00  3e-06  2e-16  1e-15\n",
      " 4:  1.0000e+00  1.0000e+00  2e-07  1e-16  2e-15\n",
      "Optimal solution found.\n"
     ]
    },
    {
     "name": "stderr",
     "output_type": "stream",
     "text": [
      "2023-03-11 22:27:27,550 simple_logger.py log_once [line:27] INFO test_accuracy                 0.4704\n",
      "2023-03-11 22:27:27,550 simple_logger.py log_once [line:27] INFO test_loss                     1.4425\n",
      "2023-03-11 22:27:27,550 simple_logger.py log_once [line:27] INFO valid_accuracy                0.4706\n",
      "2023-03-11 22:27:27,551 simple_logger.py log_once [line:27] INFO mean_valid_accuracy           0.4706\n",
      "2023-03-11 22:27:27,552 simple_logger.py log_once [line:27] INFO std_valid_accuracy            0.1318\n",
      "2023-03-11 22:27:27,552 simple_logger.py log_once [line:27] INFO valid_loss                    1.4422\n",
      "2023-03-11 22:27:27,552 simple_logger.py log_once [line:27] INFO mean_valid_loss               1.4422\n",
      "2023-03-11 22:27:27,553 simple_logger.py log_once [line:27] INFO std_valid_loss                0.2506\n",
      "2023-03-11 22:27:27,553 fedbase.py run [line:117] INFO Eval Time Cost:               2.6892s\n",
      "2023-03-11 22:27:29,091 fedbase.py run [line:112] INFO --------------Round 158--------------\n",
      "2023-03-11 22:27:29,091 simple_logger.py log_once [line:13] INFO Current_time:158\n"
     ]
    },
    {
     "name": "stdout",
     "output_type": "stream",
     "text": [
      "     pcost       dcost       gap    pres   dres\n",
      " 0:  1.0000e+00 -2.0500e+00  3e+00  4e-16  8e-16\n",
      " 1:  1.0000e+00  9.6950e-01  3e-02  1e-16  2e-15\n",
      " 2:  1.0000e+00  9.9969e-01  3e-04  8e-17  8e-16\n",
      " 3:  1.0000e+00  1.0000e+00  3e-06  1e-16  7e-16\n",
      " 4:  1.0000e+00  1.0000e+00  2e-07  1e-16  7e-16\n",
      "Optimal solution found.\n"
     ]
    },
    {
     "name": "stderr",
     "output_type": "stream",
     "text": [
      "2023-03-11 22:27:31,777 simple_logger.py log_once [line:27] INFO test_accuracy                 0.4734\n",
      "2023-03-11 22:27:31,778 simple_logger.py log_once [line:27] INFO test_loss                     1.4351\n",
      "2023-03-11 22:27:31,778 simple_logger.py log_once [line:27] INFO valid_accuracy                0.4782\n",
      "2023-03-11 22:27:31,778 simple_logger.py log_once [line:27] INFO mean_valid_accuracy           0.4782\n",
      "2023-03-11 22:27:31,779 simple_logger.py log_once [line:27] INFO std_valid_accuracy            0.1181\n",
      "2023-03-11 22:27:31,779 simple_logger.py log_once [line:27] INFO valid_loss                    1.4324\n",
      "2023-03-11 22:27:31,779 simple_logger.py log_once [line:27] INFO mean_valid_loss               1.4324\n",
      "2023-03-11 22:27:31,780 simple_logger.py log_once [line:27] INFO std_valid_loss                0.2410\n",
      "2023-03-11 22:27:31,780 fedbase.py run [line:117] INFO Eval Time Cost:               2.6885s\n",
      "2023-03-11 22:27:33,329 fedbase.py run [line:112] INFO --------------Round 159--------------\n",
      "2023-03-11 22:27:33,329 simple_logger.py log_once [line:13] INFO Current_time:159\n"
     ]
    },
    {
     "name": "stdout",
     "output_type": "stream",
     "text": [
      "     pcost       dcost       gap    pres   dres\n",
      " 0:  1.0000e+00 -2.0500e+00  3e+00  2e-17  2e-15\n",
      " 1:  1.0000e+00  9.6950e-01  3e-02  8e-17  1e-15\n",
      " 2:  1.0000e+00  9.9969e-01  3e-04  1e-16  1e-15\n",
      " 3:  1.0000e+00  1.0000e+00  3e-06  7e-17  7e-16\n",
      " 4:  1.0000e+00  1.0000e+00  3e-08  1e-16  1e-15\n",
      "Optimal solution found.\n"
     ]
    },
    {
     "name": "stderr",
     "output_type": "stream",
     "text": [
      "2023-03-11 22:27:36,058 simple_logger.py log_once [line:27] INFO test_accuracy                 0.4329\n",
      "2023-03-11 22:27:36,059 simple_logger.py log_once [line:27] INFO test_loss                     1.4996\n",
      "2023-03-11 22:27:36,059 simple_logger.py log_once [line:27] INFO valid_accuracy                0.4414\n",
      "2023-03-11 22:27:36,059 simple_logger.py log_once [line:27] INFO mean_valid_accuracy           0.4414\n",
      "2023-03-11 22:27:36,060 simple_logger.py log_once [line:27] INFO std_valid_accuracy            0.1656\n",
      "2023-03-11 22:27:36,060 simple_logger.py log_once [line:27] INFO valid_loss                    1.4985\n",
      "2023-03-11 22:27:36,060 simple_logger.py log_once [line:27] INFO mean_valid_loss               1.4985\n",
      "2023-03-11 22:27:36,061 simple_logger.py log_once [line:27] INFO std_valid_loss                0.3387\n",
      "2023-03-11 22:27:36,061 fedbase.py run [line:117] INFO Eval Time Cost:               2.7319s\n",
      "2023-03-11 22:27:37,283 fedbase.py run [line:112] INFO --------------Round 160--------------\n",
      "2023-03-11 22:27:37,283 simple_logger.py log_once [line:13] INFO Current_time:160\n"
     ]
    },
    {
     "name": "stdout",
     "output_type": "stream",
     "text": [
      "     pcost       dcost       gap    pres   dres\n",
      " 0:  1.0000e+00 -2.0500e+00  3e+00  9e-17  1e-15\n",
      " 1:  1.0000e+00  9.6950e-01  3e-02  2e-16  1e-15\n",
      " 2:  1.0000e+00  9.9970e-01  3e-04  9e-17  1e-15\n",
      " 3:  1.0000e+00  1.0000e+00  3e-06  2e-16  1e-15\n",
      " 4:  1.0000e+00  1.0000e+00  3e-08  1e-16  2e-15\n",
      "Optimal solution found.\n"
     ]
    },
    {
     "name": "stderr",
     "output_type": "stream",
     "text": [
      "2023-03-11 22:27:40,173 simple_logger.py log_once [line:27] INFO test_accuracy                 0.4610\n",
      "2023-03-11 22:27:40,174 simple_logger.py log_once [line:27] INFO test_loss                     1.4227\n",
      "2023-03-11 22:27:40,174 simple_logger.py log_once [line:27] INFO valid_accuracy                0.4704\n",
      "2023-03-11 22:27:40,175 simple_logger.py log_once [line:27] INFO mean_valid_accuracy           0.4704\n",
      "2023-03-11 22:27:40,175 simple_logger.py log_once [line:27] INFO std_valid_accuracy            0.1447\n",
      "2023-03-11 22:27:40,175 simple_logger.py log_once [line:27] INFO valid_loss                    1.4199\n",
      "2023-03-11 22:27:40,176 simple_logger.py log_once [line:27] INFO mean_valid_loss               1.4199\n",
      "2023-03-11 22:27:40,176 simple_logger.py log_once [line:27] INFO std_valid_loss                0.2547\n",
      "2023-03-11 22:27:40,176 fedbase.py run [line:117] INFO Eval Time Cost:               2.8929s\n",
      "2023-03-11 22:27:41,628 fedbase.py run [line:112] INFO --------------Round 161--------------\n",
      "2023-03-11 22:27:41,629 simple_logger.py log_once [line:13] INFO Current_time:161\n"
     ]
    },
    {
     "name": "stdout",
     "output_type": "stream",
     "text": [
      "     pcost       dcost       gap    pres   dres\n",
      " 0:  1.0000e+00 -2.0500e+00  3e+00  2e-17  2e-15\n",
      " 1:  1.0000e+00  9.6950e-01  3e-02  8e-17  1e-15\n",
      " 2:  1.0000e+00  9.9969e-01  3e-04  1e-16  1e-15\n",
      " 3:  1.0000e+00  1.0000e+00  3e-06  7e-17  7e-16\n",
      " 4:  1.0000e+00  1.0000e+00  3e-08  1e-16  1e-15\n",
      "Optimal solution found.\n"
     ]
    },
    {
     "name": "stderr",
     "output_type": "stream",
     "text": [
      "2023-03-11 22:27:44,455 simple_logger.py log_once [line:27] INFO test_accuracy                 0.4725\n",
      "2023-03-11 22:27:44,456 simple_logger.py log_once [line:27] INFO test_loss                     1.4205\n",
      "2023-03-11 22:27:44,456 simple_logger.py log_once [line:27] INFO valid_accuracy                0.4760\n",
      "2023-03-11 22:27:44,456 simple_logger.py log_once [line:27] INFO mean_valid_accuracy           0.4760\n",
      "2023-03-11 22:27:44,456 simple_logger.py log_once [line:27] INFO std_valid_accuracy            0.1499\n",
      "2023-03-11 22:27:44,457 simple_logger.py log_once [line:27] INFO valid_loss                    1.4133\n",
      "2023-03-11 22:27:44,457 simple_logger.py log_once [line:27] INFO mean_valid_loss               1.4133\n",
      "2023-03-11 22:27:44,457 simple_logger.py log_once [line:27] INFO std_valid_loss                0.2807\n",
      "2023-03-11 22:27:44,458 fedbase.py run [line:117] INFO Eval Time Cost:               2.8290s\n",
      "2023-03-11 22:27:46,174 fedbase.py run [line:112] INFO --------------Round 162--------------\n",
      "2023-03-11 22:27:46,174 simple_logger.py log_once [line:13] INFO Current_time:162\n"
     ]
    },
    {
     "name": "stdout",
     "output_type": "stream",
     "text": [
      "     pcost       dcost       gap    pres   dres\n",
      " 0:  1.0000e+00 -2.0500e+00  3e+00  2e-16  9e-16\n",
      " 1:  1.0000e+00  9.6950e-01  3e-02  2e-16  1e-15\n",
      " 2:  1.0000e+00  9.9970e-01  3e-04  6e-16  1e-15\n",
      " 3:  1.0000e+00  1.0000e+00  3e-06  2e-16  8e-16\n",
      " 4:  1.0000e+00  1.0000e+00  3e-08  9e-17  3e-16\n",
      "Optimal solution found.\n"
     ]
    },
    {
     "name": "stderr",
     "output_type": "stream",
     "text": [
      "2023-03-11 22:27:48,931 simple_logger.py log_once [line:27] INFO test_accuracy                 0.4855\n",
      "2023-03-11 22:27:48,931 simple_logger.py log_once [line:27] INFO test_loss                     1.4144\n",
      "2023-03-11 22:27:48,932 simple_logger.py log_once [line:27] INFO valid_accuracy                0.4880\n",
      "2023-03-11 22:27:48,932 simple_logger.py log_once [line:27] INFO mean_valid_accuracy           0.4880\n",
      "2023-03-11 22:27:48,932 simple_logger.py log_once [line:27] INFO std_valid_accuracy            0.1209\n",
      "2023-03-11 22:27:48,933 simple_logger.py log_once [line:27] INFO valid_loss                    1.4033\n",
      "2023-03-11 22:27:48,933 simple_logger.py log_once [line:27] INFO mean_valid_loss               1.4033\n",
      "2023-03-11 22:27:48,933 simple_logger.py log_once [line:27] INFO std_valid_loss                0.2781\n",
      "2023-03-11 22:27:48,934 fedbase.py run [line:117] INFO Eval Time Cost:               2.7591s\n",
      "2023-03-11 22:27:50,608 fedbase.py run [line:112] INFO --------------Round 163--------------\n",
      "2023-03-11 22:27:50,609 simple_logger.py log_once [line:13] INFO Current_time:163\n"
     ]
    },
    {
     "name": "stdout",
     "output_type": "stream",
     "text": [
      "     pcost       dcost       gap    pres   dres\n",
      " 0:  1.0000e+00 -2.0500e+00  3e+00  9e-17  9e-16\n",
      " 1:  1.0000e+00  9.6950e-01  3e-02  8e-17  1e-15\n",
      " 2:  1.0000e+00  9.9969e-01  3e-04  1e-16  9e-16\n",
      " 3:  1.0000e+00  1.0000e+00  3e-06  2e-16  5e-16\n",
      " 4:  1.0000e+00  1.0000e+00  3e-08  4e-16  7e-16\n",
      "Optimal solution found.\n"
     ]
    },
    {
     "name": "stderr",
     "output_type": "stream",
     "text": [
      "2023-03-11 22:27:53,418 simple_logger.py log_once [line:27] INFO test_accuracy                 0.4881\n",
      "2023-03-11 22:27:53,418 simple_logger.py log_once [line:27] INFO test_loss                     1.4066\n",
      "2023-03-11 22:27:53,419 simple_logger.py log_once [line:27] INFO valid_accuracy                0.4886\n",
      "2023-03-11 22:27:53,419 simple_logger.py log_once [line:27] INFO mean_valid_accuracy           0.4886\n",
      "2023-03-11 22:27:53,420 simple_logger.py log_once [line:27] INFO std_valid_accuracy            0.1142\n",
      "2023-03-11 22:27:53,420 simple_logger.py log_once [line:27] INFO valid_loss                    1.3966\n",
      "2023-03-11 22:27:53,420 simple_logger.py log_once [line:27] INFO mean_valid_loss               1.3966\n",
      "2023-03-11 22:27:53,421 simple_logger.py log_once [line:27] INFO std_valid_loss                0.2416\n",
      "2023-03-11 22:27:53,421 fedbase.py run [line:117] INFO Eval Time Cost:               2.8123s\n",
      "2023-03-11 22:27:54,921 fedbase.py run [line:112] INFO --------------Round 164--------------\n",
      "2023-03-11 22:27:54,921 simple_logger.py log_once [line:13] INFO Current_time:164\n"
     ]
    },
    {
     "name": "stdout",
     "output_type": "stream",
     "text": [
      "     pcost       dcost       gap    pres   dres\n",
      " 0:  1.0000e+00 -2.0500e+00  3e+00  2e-16  7e-16\n",
      " 1:  1.0000e+00  9.6950e-01  3e-02  3e-16  1e-15\n",
      " 2:  1.0000e+00  9.9970e-01  3e-04  3e-16  1e-15\n",
      " 3:  1.0000e+00  1.0000e+00  3e-06  8e-17  8e-16\n",
      " 4:  1.0000e+00  1.0000e+00  3e-08  1e-16  2e-16\n",
      "Optimal solution found.\n"
     ]
    },
    {
     "name": "stderr",
     "output_type": "stream",
     "text": [
      "2023-03-11 22:27:57,787 simple_logger.py log_once [line:27] INFO test_accuracy                 0.4938\n",
      "2023-03-11 22:27:57,787 simple_logger.py log_once [line:27] INFO test_loss                     1.3729\n",
      "2023-03-11 22:27:57,788 simple_logger.py log_once [line:27] INFO valid_accuracy                0.5020\n",
      "2023-03-11 22:27:57,788 simple_logger.py log_once [line:27] INFO mean_valid_accuracy           0.5020\n",
      "2023-03-11 22:27:57,788 simple_logger.py log_once [line:27] INFO std_valid_accuracy            0.1334\n",
      "2023-03-11 22:27:57,788 simple_logger.py log_once [line:27] INFO valid_loss                    1.3612\n",
      "2023-03-11 22:27:57,789 simple_logger.py log_once [line:27] INFO mean_valid_loss               1.3612\n",
      "2023-03-11 22:27:57,789 simple_logger.py log_once [line:27] INFO std_valid_loss                0.2498\n",
      "2023-03-11 22:27:57,789 fedbase.py run [line:117] INFO Eval Time Cost:               2.8677s\n",
      "2023-03-11 22:27:59,255 fedbase.py run [line:112] INFO --------------Round 165--------------\n",
      "2023-03-11 22:27:59,255 simple_logger.py log_once [line:13] INFO Current_time:165\n"
     ]
    },
    {
     "name": "stdout",
     "output_type": "stream",
     "text": [
      "     pcost       dcost       gap    pres   dres\n",
      " 0:  1.0000e+00 -2.0500e+00  3e+00  2e-16  9e-16\n",
      " 1:  1.0000e+00  9.6950e-01  3e-02  5e-16  1e-15\n",
      " 2:  1.0000e+00  9.9969e-01  3e-04  8e-17  6e-16\n",
      " 3:  1.0000e+00  1.0000e+00  3e-06  9e-17  1e-15\n",
      " 4:  1.0000e+00  1.0000e+00  3e-08  8e-17  7e-16\n",
      "Optimal solution found.\n"
     ]
    },
    {
     "name": "stderr",
     "output_type": "stream",
     "text": [
      "2023-03-11 22:28:02,057 simple_logger.py log_once [line:27] INFO test_accuracy                 0.4641\n",
      "2023-03-11 22:28:02,057 simple_logger.py log_once [line:27] INFO test_loss                     1.4184\n",
      "2023-03-11 22:28:02,057 simple_logger.py log_once [line:27] INFO valid_accuracy                0.4738\n",
      "2023-03-11 22:28:02,058 simple_logger.py log_once [line:27] INFO mean_valid_accuracy           0.4738\n",
      "2023-03-11 22:28:02,058 simple_logger.py log_once [line:27] INFO std_valid_accuracy            0.1628\n",
      "2023-03-11 22:28:02,058 simple_logger.py log_once [line:27] INFO valid_loss                    1.4042\n",
      "2023-03-11 22:28:02,059 simple_logger.py log_once [line:27] INFO mean_valid_loss               1.4042\n",
      "2023-03-11 22:28:02,059 simple_logger.py log_once [line:27] INFO std_valid_loss                0.2898\n",
      "2023-03-11 22:28:02,059 fedbase.py run [line:117] INFO Eval Time Cost:               2.8039s\n",
      "2023-03-11 22:28:03,511 fedbase.py run [line:112] INFO --------------Round 166--------------\n",
      "2023-03-11 22:28:03,511 simple_logger.py log_once [line:13] INFO Current_time:166\n"
     ]
    },
    {
     "name": "stdout",
     "output_type": "stream",
     "text": [
      "     pcost       dcost       gap    pres   dres\n",
      " 0:  1.0000e+00 -2.0500e+00  3e+00  2e-16  9e-16\n",
      " 1:  1.0000e+00  9.6950e-01  3e-02  2e-16  1e-15\n",
      " 2:  1.0000e+00  9.9970e-01  3e-04  6e-16  1e-15\n",
      " 3:  1.0000e+00  1.0000e+00  3e-06  2e-16  8e-16\n",
      " 4:  1.0000e+00  1.0000e+00  3e-08  9e-17  3e-16\n",
      "Optimal solution found.\n"
     ]
    },
    {
     "name": "stderr",
     "output_type": "stream",
     "text": [
      "2023-03-11 22:28:06,291 simple_logger.py log_once [line:27] INFO test_accuracy                 0.4389\n",
      "2023-03-11 22:28:06,292 simple_logger.py log_once [line:27] INFO test_loss                     1.4771\n",
      "2023-03-11 22:28:06,292 simple_logger.py log_once [line:27] INFO valid_accuracy                0.4454\n",
      "2023-03-11 22:28:06,292 simple_logger.py log_once [line:27] INFO mean_valid_accuracy           0.4454\n",
      "2023-03-11 22:28:06,293 simple_logger.py log_once [line:27] INFO std_valid_accuracy            0.1687\n",
      "2023-03-11 22:28:06,293 simple_logger.py log_once [line:27] INFO valid_loss                    1.4700\n",
      "2023-03-11 22:28:06,293 simple_logger.py log_once [line:27] INFO mean_valid_loss               1.4700\n",
      "2023-03-11 22:28:06,294 simple_logger.py log_once [line:27] INFO std_valid_loss                0.3440\n",
      "2023-03-11 22:28:06,294 fedbase.py run [line:117] INFO Eval Time Cost:               2.7828s\n",
      "2023-03-11 22:28:07,870 fedbase.py run [line:112] INFO --------------Round 167--------------\n",
      "2023-03-11 22:28:07,871 simple_logger.py log_once [line:13] INFO Current_time:167\n"
     ]
    },
    {
     "name": "stdout",
     "output_type": "stream",
     "text": [
      "     pcost       dcost       gap    pres   dres\n",
      " 0:  1.0000e+00 -2.0500e+00  3e+00  2e-16  9e-16\n",
      " 1:  1.0000e+00  9.6950e-01  3e-02  2e-16  1e-15\n",
      " 2:  1.0000e+00  9.9970e-01  3e-04  6e-16  1e-15\n",
      " 3:  1.0000e+00  1.0000e+00  3e-06  2e-16  8e-16\n",
      " 4:  1.0000e+00  1.0000e+00  3e-08  9e-17  3e-16\n",
      "Optimal solution found.\n"
     ]
    },
    {
     "name": "stderr",
     "output_type": "stream",
     "text": [
      "2023-03-11 22:28:10,630 simple_logger.py log_once [line:27] INFO test_accuracy                 0.4754\n",
      "2023-03-11 22:28:10,631 simple_logger.py log_once [line:27] INFO test_loss                     1.4263\n",
      "2023-03-11 22:28:10,631 simple_logger.py log_once [line:27] INFO valid_accuracy                0.4810\n",
      "2023-03-11 22:28:10,632 simple_logger.py log_once [line:27] INFO mean_valid_accuracy           0.4810\n",
      "2023-03-11 22:28:10,632 simple_logger.py log_once [line:27] INFO std_valid_accuracy            0.1385\n",
      "2023-03-11 22:28:10,633 simple_logger.py log_once [line:27] INFO valid_loss                    1.4191\n",
      "2023-03-11 22:28:10,633 simple_logger.py log_once [line:27] INFO mean_valid_loss               1.4191\n",
      "2023-03-11 22:28:10,633 simple_logger.py log_once [line:27] INFO std_valid_loss                0.3168\n",
      "2023-03-11 22:28:10,634 fedbase.py run [line:117] INFO Eval Time Cost:               2.7630s\n",
      "2023-03-11 22:28:12,242 fedbase.py run [line:112] INFO --------------Round 168--------------\n",
      "2023-03-11 22:28:12,243 simple_logger.py log_once [line:13] INFO Current_time:168\n"
     ]
    },
    {
     "name": "stdout",
     "output_type": "stream",
     "text": [
      "     pcost       dcost       gap    pres   dres\n",
      " 0:  1.0000e+00 -2.0500e+00  3e+00  3e-17  8e-16\n",
      " 1:  1.0000e+00  9.6950e-01  3e-02  1e-16  1e-15\n",
      " 2:  1.0000e+00  9.9970e-01  3e-04  8e-17  1e-15\n",
      " 3:  1.0000e+00  1.0000e+00  3e-06  2e-16  1e-15\n",
      " 4:  1.0000e+00  1.0000e+00  2e-07  1e-16  2e-15\n",
      "Optimal solution found.\n"
     ]
    },
    {
     "name": "stderr",
     "output_type": "stream",
     "text": [
      "2023-03-11 22:28:14,991 simple_logger.py log_once [line:27] INFO test_accuracy                 0.5033\n",
      "2023-03-11 22:28:14,992 simple_logger.py log_once [line:27] INFO test_loss                     1.3671\n",
      "2023-03-11 22:28:14,992 simple_logger.py log_once [line:27] INFO valid_accuracy                0.4984\n",
      "2023-03-11 22:28:14,992 simple_logger.py log_once [line:27] INFO mean_valid_accuracy           0.4984\n",
      "2023-03-11 22:28:14,992 simple_logger.py log_once [line:27] INFO std_valid_accuracy            0.1339\n",
      "2023-03-11 22:28:14,993 simple_logger.py log_once [line:27] INFO valid_loss                    1.3590\n",
      "2023-03-11 22:28:14,993 simple_logger.py log_once [line:27] INFO mean_valid_loss               1.3590\n",
      "2023-03-11 22:28:14,993 simple_logger.py log_once [line:27] INFO std_valid_loss                0.2712\n",
      "2023-03-11 22:28:14,994 fedbase.py run [line:117] INFO Eval Time Cost:               2.7507s\n",
      "2023-03-11 22:28:16,514 fedbase.py run [line:112] INFO --------------Round 169--------------\n",
      "2023-03-11 22:28:16,515 simple_logger.py log_once [line:13] INFO Current_time:169\n"
     ]
    },
    {
     "name": "stdout",
     "output_type": "stream",
     "text": [
      "     pcost       dcost       gap    pres   dres\n",
      " 0:  1.0000e+00 -2.0500e+00  3e+00  3e-17  8e-16\n",
      " 1:  1.0000e+00  9.6950e-01  3e-02  1e-16  1e-15\n",
      " 2:  1.0000e+00  9.9970e-01  3e-04  8e-17  1e-15\n",
      " 3:  1.0000e+00  1.0000e+00  3e-06  2e-16  1e-15\n",
      " 4:  1.0000e+00  1.0000e+00  2e-07  1e-16  2e-15\n",
      "Optimal solution found.\n"
     ]
    },
    {
     "name": "stderr",
     "output_type": "stream",
     "text": [
      "2023-03-11 22:28:19,365 simple_logger.py log_once [line:27] INFO test_accuracy                 0.4549\n",
      "2023-03-11 22:28:19,366 simple_logger.py log_once [line:27] INFO test_loss                     1.4485\n",
      "2023-03-11 22:28:19,366 simple_logger.py log_once [line:27] INFO valid_accuracy                0.4642\n",
      "2023-03-11 22:28:19,367 simple_logger.py log_once [line:27] INFO mean_valid_accuracy           0.4642\n",
      "2023-03-11 22:28:19,367 simple_logger.py log_once [line:27] INFO std_valid_accuracy            0.1683\n",
      "2023-03-11 22:28:19,367 simple_logger.py log_once [line:27] INFO valid_loss                    1.4371\n",
      "2023-03-11 22:28:19,368 simple_logger.py log_once [line:27] INFO mean_valid_loss               1.4371\n",
      "2023-03-11 22:28:19,368 simple_logger.py log_once [line:27] INFO std_valid_loss                0.3451\n",
      "2023-03-11 22:28:19,368 fedbase.py run [line:117] INFO Eval Time Cost:               2.8535s\n",
      "2023-03-11 22:28:20,780 fedbase.py run [line:112] INFO --------------Round 170--------------\n",
      "2023-03-11 22:28:20,781 simple_logger.py log_once [line:13] INFO Current_time:170\n"
     ]
    },
    {
     "name": "stdout",
     "output_type": "stream",
     "text": [
      "     pcost       dcost       gap    pres   dres\n",
      " 0:  1.0000e+00 -2.0500e+00  3e+00  2e-16  9e-16\n",
      " 1:  1.0000e+00  9.6950e-01  3e-02  2e-16  1e-15\n",
      " 2:  1.0000e+00  9.9970e-01  3e-04  6e-16  1e-15\n",
      " 3:  1.0000e+00  1.0000e+00  3e-06  2e-16  8e-16\n",
      " 4:  1.0000e+00  1.0000e+00  3e-08  9e-17  3e-16\n",
      "Optimal solution found.\n"
     ]
    },
    {
     "name": "stderr",
     "output_type": "stream",
     "text": [
      "2023-03-11 22:28:23,616 simple_logger.py log_once [line:27] INFO test_accuracy                 0.4889\n",
      "2023-03-11 22:28:23,616 simple_logger.py log_once [line:27] INFO test_loss                     1.4030\n",
      "2023-03-11 22:28:23,617 simple_logger.py log_once [line:27] INFO valid_accuracy                0.4882\n",
      "2023-03-11 22:28:23,617 simple_logger.py log_once [line:27] INFO mean_valid_accuracy           0.4882\n",
      "2023-03-11 22:28:23,617 simple_logger.py log_once [line:27] INFO std_valid_accuracy            0.1320\n",
      "2023-03-11 22:28:23,618 simple_logger.py log_once [line:27] INFO valid_loss                    1.3941\n",
      "2023-03-11 22:28:23,618 simple_logger.py log_once [line:27] INFO mean_valid_loss               1.3941\n",
      "2023-03-11 22:28:23,618 simple_logger.py log_once [line:27] INFO std_valid_loss                0.2912\n",
      "2023-03-11 22:28:23,618 fedbase.py run [line:117] INFO Eval Time Cost:               2.8372s\n",
      "2023-03-11 22:28:25,069 fedbase.py run [line:112] INFO --------------Round 171--------------\n",
      "2023-03-11 22:28:25,070 simple_logger.py log_once [line:13] INFO Current_time:171\n"
     ]
    },
    {
     "name": "stdout",
     "output_type": "stream",
     "text": [
      "     pcost       dcost       gap    pres   dres\n",
      " 0:  1.0000e+00 -2.0500e+00  3e+00  3e-16  1e-15\n",
      " 1:  1.0000e+00  9.6950e-01  3e-02  2e-16  2e-15\n",
      " 2:  1.0000e+00  9.9969e-01  3e-04  1e-16  1e-15\n",
      " 3:  1.0000e+00  1.0000e+00  3e-06  1e-16  1e-15\n",
      " 4:  1.0000e+00  1.0000e+00  2e-07  1e-16  7e-16\n",
      "Optimal solution found.\n"
     ]
    },
    {
     "name": "stderr",
     "output_type": "stream",
     "text": [
      "2023-03-11 22:28:27,790 simple_logger.py log_once [line:27] INFO test_accuracy                 0.4640\n",
      "2023-03-11 22:28:27,791 simple_logger.py log_once [line:27] INFO test_loss                     1.4363\n",
      "2023-03-11 22:28:27,791 simple_logger.py log_once [line:27] INFO valid_accuracy                0.4688\n",
      "2023-03-11 22:28:27,792 simple_logger.py log_once [line:27] INFO mean_valid_accuracy           0.4688\n",
      "2023-03-11 22:28:27,792 simple_logger.py log_once [line:27] INFO std_valid_accuracy            0.1654\n",
      "2023-03-11 22:28:27,792 simple_logger.py log_once [line:27] INFO valid_loss                    1.4259\n",
      "2023-03-11 22:28:27,793 simple_logger.py log_once [line:27] INFO mean_valid_loss               1.4259\n",
      "2023-03-11 22:28:27,794 simple_logger.py log_once [line:27] INFO std_valid_loss                0.3627\n",
      "2023-03-11 22:28:27,794 fedbase.py run [line:117] INFO Eval Time Cost:               2.7242s\n",
      "2023-03-11 22:28:29,160 fedbase.py run [line:112] INFO --------------Round 172--------------\n",
      "2023-03-11 22:28:29,160 simple_logger.py log_once [line:13] INFO Current_time:172\n"
     ]
    },
    {
     "name": "stdout",
     "output_type": "stream",
     "text": [
      "     pcost       dcost       gap    pres   dres\n",
      " 0:  1.0000e+00 -2.0500e+00  3e+00  2e-16  2e-15\n",
      " 1:  1.0000e+00  9.6950e-01  3e-02  2e-16  8e-16\n",
      " 2:  1.0000e+00  9.9969e-01  3e-04  2e-16  8e-16\n",
      " 3:  1.0000e+00  1.0000e+00  3e-06  1e-16  6e-16\n",
      " 4:  1.0000e+00  1.0000e+00  1e-07  1e-16  1e-15\n",
      "Optimal solution found.\n"
     ]
    },
    {
     "name": "stderr",
     "output_type": "stream",
     "text": [
      "2023-03-11 22:28:31,937 simple_logger.py log_once [line:27] INFO test_accuracy                 0.4284\n",
      "2023-03-11 22:28:31,937 simple_logger.py log_once [line:27] INFO test_loss                     1.5525\n",
      "2023-03-11 22:28:31,938 simple_logger.py log_once [line:27] INFO valid_accuracy                0.4328\n",
      "2023-03-11 22:28:31,938 simple_logger.py log_once [line:27] INFO mean_valid_accuracy           0.4328\n",
      "2023-03-11 22:28:31,938 simple_logger.py log_once [line:27] INFO std_valid_accuracy            0.1931\n",
      "2023-03-11 22:28:31,939 simple_logger.py log_once [line:27] INFO valid_loss                    1.5450\n",
      "2023-03-11 22:28:31,939 simple_logger.py log_once [line:27] INFO mean_valid_loss               1.5450\n",
      "2023-03-11 22:28:31,939 simple_logger.py log_once [line:27] INFO std_valid_loss                0.4643\n",
      "2023-03-11 22:28:31,939 fedbase.py run [line:117] INFO Eval Time Cost:               2.7793s\n",
      "2023-03-11 22:28:33,509 fedbase.py run [line:112] INFO --------------Round 173--------------\n",
      "2023-03-11 22:28:33,510 simple_logger.py log_once [line:13] INFO Current_time:173\n"
     ]
    },
    {
     "name": "stdout",
     "output_type": "stream",
     "text": [
      "     pcost       dcost       gap    pres   dres\n",
      " 0:  1.0000e+00 -2.0500e+00  3e+00  2e-16  9e-16\n",
      " 1:  1.0000e+00  9.6950e-01  3e-02  2e-16  1e-15\n",
      " 2:  1.0000e+00  9.9970e-01  3e-04  6e-16  1e-15\n",
      " 3:  1.0000e+00  1.0000e+00  3e-06  2e-16  8e-16\n",
      " 4:  1.0000e+00  1.0000e+00  3e-08  9e-17  3e-16\n",
      "Optimal solution found.\n"
     ]
    },
    {
     "name": "stderr",
     "output_type": "stream",
     "text": [
      "2023-03-11 22:28:36,229 simple_logger.py log_once [line:27] INFO test_accuracy                 0.4458\n",
      "2023-03-11 22:28:36,229 simple_logger.py log_once [line:27] INFO test_loss                     1.5102\n",
      "2023-03-11 22:28:36,230 simple_logger.py log_once [line:27] INFO valid_accuracy                0.4550\n",
      "2023-03-11 22:28:36,230 simple_logger.py log_once [line:27] INFO mean_valid_accuracy           0.4550\n",
      "2023-03-11 22:28:36,230 simple_logger.py log_once [line:27] INFO std_valid_accuracy            0.1862\n",
      "2023-03-11 22:28:36,230 simple_logger.py log_once [line:27] INFO valid_loss                    1.5001\n",
      "2023-03-11 22:28:36,231 simple_logger.py log_once [line:27] INFO mean_valid_loss               1.5001\n",
      "2023-03-11 22:28:36,231 simple_logger.py log_once [line:27] INFO std_valid_loss                0.4596\n",
      "2023-03-11 22:28:36,231 fedbase.py run [line:117] INFO Eval Time Cost:               2.7215s\n",
      "2023-03-11 22:28:37,791 fedbase.py run [line:112] INFO --------------Round 174--------------\n",
      "2023-03-11 22:28:37,791 simple_logger.py log_once [line:13] INFO Current_time:174\n"
     ]
    },
    {
     "name": "stdout",
     "output_type": "stream",
     "text": [
      "     pcost       dcost       gap    pres   dres\n",
      " 0:  1.0000e+00 -2.0500e+00  3e+00  9e-17  9e-16\n",
      " 1:  1.0000e+00  9.6950e-01  3e-02  8e-17  1e-15\n",
      " 2:  1.0000e+00  9.9969e-01  3e-04  1e-16  9e-16\n",
      " 3:  1.0000e+00  1.0000e+00  3e-06  2e-16  5e-16\n",
      " 4:  1.0000e+00  1.0000e+00  3e-08  4e-16  7e-16\n",
      "Optimal solution found.\n"
     ]
    },
    {
     "name": "stderr",
     "output_type": "stream",
     "text": [
      "2023-03-11 22:28:40,509 simple_logger.py log_once [line:27] INFO test_accuracy                 0.4557\n",
      "2023-03-11 22:28:40,510 simple_logger.py log_once [line:27] INFO test_loss                     1.5158\n",
      "2023-03-11 22:28:40,510 simple_logger.py log_once [line:27] INFO valid_accuracy                0.4608\n",
      "2023-03-11 22:28:40,510 simple_logger.py log_once [line:27] INFO mean_valid_accuracy           0.4608\n",
      "2023-03-11 22:28:40,511 simple_logger.py log_once [line:27] INFO std_valid_accuracy            0.1725\n",
      "2023-03-11 22:28:40,511 simple_logger.py log_once [line:27] INFO valid_loss                    1.5065\n",
      "2023-03-11 22:28:40,512 simple_logger.py log_once [line:27] INFO mean_valid_loss               1.5065\n",
      "2023-03-11 22:28:40,512 simple_logger.py log_once [line:27] INFO std_valid_loss                0.4412\n",
      "2023-03-11 22:28:40,512 fedbase.py run [line:117] INFO Eval Time Cost:               2.7208s\n",
      "2023-03-11 22:28:42,026 fedbase.py run [line:112] INFO --------------Round 175--------------\n",
      "2023-03-11 22:28:42,026 simple_logger.py log_once [line:13] INFO Current_time:175\n"
     ]
    },
    {
     "name": "stdout",
     "output_type": "stream",
     "text": [
      "     pcost       dcost       gap    pres   dres\n",
      " 0:  1.0000e+00 -2.0500e+00  3e+00  1e-16  6e-16\n",
      " 1:  1.0000e+00  9.6950e-01  3e-02  1e-16  2e-15\n",
      " 2:  1.0000e+00  9.9969e-01  3e-04  2e-16  9e-16\n",
      " 3:  1.0000e+00  1.0000e+00  3e-06  1e-16  6e-16\n",
      " 4:  1.0000e+00  1.0000e+00  2e-07  3e-16  6e-16\n",
      "Optimal solution found.\n"
     ]
    },
    {
     "name": "stderr",
     "output_type": "stream",
     "text": [
      "2023-03-11 22:28:44,803 simple_logger.py log_once [line:27] INFO test_accuracy                 0.4961\n",
      "2023-03-11 22:28:44,804 simple_logger.py log_once [line:27] INFO test_loss                     1.3907\n",
      "2023-03-11 22:28:44,804 simple_logger.py log_once [line:27] INFO valid_accuracy                0.4982\n",
      "2023-03-11 22:28:44,805 simple_logger.py log_once [line:27] INFO mean_valid_accuracy           0.4982\n",
      "2023-03-11 22:28:44,805 simple_logger.py log_once [line:27] INFO std_valid_accuracy            0.1428\n",
      "2023-03-11 22:28:44,805 simple_logger.py log_once [line:27] INFO valid_loss                    1.3855\n",
      "2023-03-11 22:28:44,806 simple_logger.py log_once [line:27] INFO mean_valid_loss               1.3855\n",
      "2023-03-11 22:28:44,806 simple_logger.py log_once [line:27] INFO std_valid_loss                0.3352\n",
      "2023-03-11 22:28:44,806 fedbase.py run [line:117] INFO Eval Time Cost:               2.7801s\n",
      "2023-03-11 22:28:46,405 fedbase.py run [line:112] INFO --------------Round 176--------------\n",
      "2023-03-11 22:28:46,406 simple_logger.py log_once [line:13] INFO Current_time:176\n"
     ]
    },
    {
     "name": "stdout",
     "output_type": "stream",
     "text": [
      "     pcost       dcost       gap    pres   dres\n",
      " 0:  1.0000e+00 -2.0500e+00  3e+00  2e-17  9e-16\n",
      " 1:  1.0000e+00  9.6950e-01  3e-02  2e-16  1e-15\n",
      " 2:  1.0000e+00  9.9969e-01  3e-04  3e-16  8e-16\n",
      " 3:  1.0000e+00  1.0000e+00  3e-06  8e-17  6e-16\n",
      " 4:  1.0000e+00  1.0000e+00  3e-07  2e-16  7e-16\n",
      "Optimal solution found.\n"
     ]
    },
    {
     "name": "stderr",
     "output_type": "stream",
     "text": [
      "2023-03-11 22:28:49,185 simple_logger.py log_once [line:27] INFO test_accuracy                 0.5078\n",
      "2023-03-11 22:28:49,185 simple_logger.py log_once [line:27] INFO test_loss                     1.3510\n",
      "2023-03-11 22:28:49,186 simple_logger.py log_once [line:27] INFO valid_accuracy                0.5062\n",
      "2023-03-11 22:28:49,186 simple_logger.py log_once [line:27] INFO mean_valid_accuracy           0.5062\n",
      "2023-03-11 22:28:49,186 simple_logger.py log_once [line:27] INFO std_valid_accuracy            0.1373\n",
      "2023-03-11 22:28:49,187 simple_logger.py log_once [line:27] INFO valid_loss                    1.3471\n",
      "2023-03-11 22:28:49,187 simple_logger.py log_once [line:27] INFO mean_valid_loss               1.3471\n",
      "2023-03-11 22:28:49,187 simple_logger.py log_once [line:27] INFO std_valid_loss                0.2729\n",
      "2023-03-11 22:28:49,188 fedbase.py run [line:117] INFO Eval Time Cost:               2.7818s\n",
      "2023-03-11 22:28:50,862 fedbase.py run [line:112] INFO --------------Round 177--------------\n",
      "2023-03-11 22:28:50,862 simple_logger.py log_once [line:13] INFO Current_time:177\n"
     ]
    },
    {
     "name": "stdout",
     "output_type": "stream",
     "text": [
      "     pcost       dcost       gap    pres   dres\n",
      " 0:  1.0000e+00 -2.0500e+00  3e+00  3e-16  1e-15\n",
      " 1:  1.0000e+00  9.6950e-01  3e-02  2e-16  2e-15\n",
      " 2:  1.0000e+00  9.9969e-01  3e-04  1e-16  1e-15\n",
      " 3:  1.0000e+00  1.0000e+00  3e-06  1e-16  1e-15\n",
      " 4:  1.0000e+00  1.0000e+00  2e-07  1e-16  7e-16\n",
      "Optimal solution found.\n"
     ]
    },
    {
     "name": "stderr",
     "output_type": "stream",
     "text": [
      "2023-03-11 22:28:53,626 simple_logger.py log_once [line:27] INFO test_accuracy                 0.5088\n",
      "2023-03-11 22:28:53,626 simple_logger.py log_once [line:27] INFO test_loss                     1.3530\n",
      "2023-03-11 22:28:53,626 simple_logger.py log_once [line:27] INFO valid_accuracy                0.5080\n",
      "2023-03-11 22:28:53,627 simple_logger.py log_once [line:27] INFO mean_valid_accuracy           0.5080\n",
      "2023-03-11 22:28:53,627 simple_logger.py log_once [line:27] INFO std_valid_accuracy            0.1392\n",
      "2023-03-11 22:28:53,627 simple_logger.py log_once [line:27] INFO valid_loss                    1.3524\n",
      "2023-03-11 22:28:53,627 simple_logger.py log_once [line:27] INFO mean_valid_loss               1.3524\n",
      "2023-03-11 22:28:53,628 simple_logger.py log_once [line:27] INFO std_valid_loss                0.2798\n",
      "2023-03-11 22:28:53,628 fedbase.py run [line:117] INFO Eval Time Cost:               2.7657s\n",
      "2023-03-11 22:28:55,274 fedbase.py run [line:112] INFO --------------Round 178--------------\n",
      "2023-03-11 22:28:55,275 simple_logger.py log_once [line:13] INFO Current_time:178\n"
     ]
    },
    {
     "name": "stdout",
     "output_type": "stream",
     "text": [
      "     pcost       dcost       gap    pres   dres\n",
      " 0:  1.0000e+00 -2.0500e+00  3e+00  9e-17  1e-15\n",
      " 1:  1.0000e+00  9.6950e-01  3e-02  2e-16  1e-15\n",
      " 2:  1.0000e+00  9.9970e-01  3e-04  9e-17  1e-15\n",
      " 3:  1.0000e+00  1.0000e+00  3e-06  2e-16  1e-15\n",
      " 4:  1.0000e+00  1.0000e+00  3e-08  1e-16  2e-15\n",
      "Optimal solution found.\n"
     ]
    },
    {
     "name": "stderr",
     "output_type": "stream",
     "text": [
      "2023-03-11 22:28:57,954 simple_logger.py log_once [line:27] INFO test_accuracy                 0.4773\n",
      "2023-03-11 22:28:57,955 simple_logger.py log_once [line:27] INFO test_loss                     1.4255\n",
      "2023-03-11 22:28:57,955 simple_logger.py log_once [line:27] INFO valid_accuracy                0.4772\n",
      "2023-03-11 22:28:57,956 simple_logger.py log_once [line:27] INFO mean_valid_accuracy           0.4772\n",
      "2023-03-11 22:28:57,956 simple_logger.py log_once [line:27] INFO std_valid_accuracy            0.1510\n",
      "2023-03-11 22:28:57,956 simple_logger.py log_once [line:27] INFO valid_loss                    1.4276\n",
      "2023-03-11 22:28:57,957 simple_logger.py log_once [line:27] INFO mean_valid_loss               1.4276\n",
      "2023-03-11 22:28:57,957 simple_logger.py log_once [line:27] INFO std_valid_loss                0.3285\n",
      "2023-03-11 22:28:57,958 fedbase.py run [line:117] INFO Eval Time Cost:               2.6831s\n",
      "2023-03-11 22:28:59,581 fedbase.py run [line:112] INFO --------------Round 179--------------\n",
      "2023-03-11 22:28:59,581 simple_logger.py log_once [line:13] INFO Current_time:179\n"
     ]
    },
    {
     "name": "stdout",
     "output_type": "stream",
     "text": [
      "     pcost       dcost       gap    pres   dres\n",
      " 0:  1.0000e+00 -2.0500e+00  3e+00  9e-17  1e-15\n",
      " 1:  1.0000e+00  9.6950e-01  3e-02  2e-16  1e-15\n",
      " 2:  1.0000e+00  9.9970e-01  3e-04  9e-17  1e-15\n",
      " 3:  1.0000e+00  1.0000e+00  3e-06  2e-16  1e-15\n",
      " 4:  1.0000e+00  1.0000e+00  3e-08  1e-16  2e-15\n",
      "Optimal solution found.\n"
     ]
    },
    {
     "name": "stderr",
     "output_type": "stream",
     "text": [
      "2023-03-11 22:29:02,340 simple_logger.py log_once [line:27] INFO test_accuracy                 0.5072\n",
      "2023-03-11 22:29:02,340 simple_logger.py log_once [line:27] INFO test_loss                     1.3538\n",
      "2023-03-11 22:29:02,341 simple_logger.py log_once [line:27] INFO valid_accuracy                0.5014\n",
      "2023-03-11 22:29:02,341 simple_logger.py log_once [line:27] INFO mean_valid_accuracy           0.5014\n",
      "2023-03-11 22:29:02,341 simple_logger.py log_once [line:27] INFO std_valid_accuracy            0.1154\n",
      "2023-03-11 22:29:02,342 simple_logger.py log_once [line:27] INFO valid_loss                    1.3505\n",
      "2023-03-11 22:29:02,342 simple_logger.py log_once [line:27] INFO mean_valid_loss               1.3505\n",
      "2023-03-11 22:29:02,342 simple_logger.py log_once [line:27] INFO std_valid_loss                0.2332\n",
      "2023-03-11 22:29:02,343 fedbase.py run [line:117] INFO Eval Time Cost:               2.7613s\n",
      "2023-03-11 22:29:03,975 fedbase.py run [line:112] INFO --------------Round 180--------------\n",
      "2023-03-11 22:29:03,976 simple_logger.py log_once [line:13] INFO Current_time:180\n"
     ]
    },
    {
     "name": "stdout",
     "output_type": "stream",
     "text": [
      "     pcost       dcost       gap    pres   dres\n",
      " 0:  1.0000e+00 -2.0500e+00  3e+00  2e-16  9e-16\n",
      " 1:  1.0000e+00  9.6950e-01  3e-02  2e-16  1e-15\n",
      " 2:  1.0000e+00  9.9970e-01  3e-04  6e-16  1e-15\n",
      " 3:  1.0000e+00  1.0000e+00  3e-06  2e-16  8e-16\n",
      " 4:  1.0000e+00  1.0000e+00  3e-08  9e-17  3e-16\n",
      "Optimal solution found.\n"
     ]
    },
    {
     "name": "stderr",
     "output_type": "stream",
     "text": [
      "2023-03-11 22:29:06,765 simple_logger.py log_once [line:27] INFO test_accuracy                 0.4995\n",
      "2023-03-11 22:29:06,765 simple_logger.py log_once [line:27] INFO test_loss                     1.3844\n",
      "2023-03-11 22:29:06,765 simple_logger.py log_once [line:27] INFO valid_accuracy                0.4980\n",
      "2023-03-11 22:29:06,766 simple_logger.py log_once [line:27] INFO mean_valid_accuracy           0.4980\n",
      "2023-03-11 22:29:06,766 simple_logger.py log_once [line:27] INFO std_valid_accuracy            0.1284\n",
      "2023-03-11 22:29:06,767 simple_logger.py log_once [line:27] INFO valid_loss                    1.3839\n",
      "2023-03-11 22:29:06,767 simple_logger.py log_once [line:27] INFO mean_valid_loss               1.3839\n",
      "2023-03-11 22:29:06,767 simple_logger.py log_once [line:27] INFO std_valid_loss                0.2824\n",
      "2023-03-11 22:29:06,768 fedbase.py run [line:117] INFO Eval Time Cost:               2.7919s\n",
      "2023-03-11 22:29:08,234 fedbase.py run [line:112] INFO --------------Round 181--------------\n",
      "2023-03-11 22:29:08,235 simple_logger.py log_once [line:13] INFO Current_time:181\n"
     ]
    },
    {
     "name": "stdout",
     "output_type": "stream",
     "text": [
      "     pcost       dcost       gap    pres   dres\n",
      " 0:  1.0000e+00 -2.0500e+00  3e+00  3e-17  1e-15\n",
      " 1:  1.0000e+00  9.6950e-01  3e-02  9e-17  1e-15\n",
      " 2:  1.0000e+00  9.9969e-01  3e-04  1e-16  8e-16\n",
      " 3:  1.0000e+00  1.0000e+00  3e-06  1e-16  1e-15\n",
      " 4:  1.0000e+00  1.0000e+00  3e-08  2e-16  8e-16\n",
      "Optimal solution found.\n"
     ]
    },
    {
     "name": "stderr",
     "output_type": "stream",
     "text": [
      "2023-03-11 22:29:10,981 simple_logger.py log_once [line:27] INFO test_accuracy                 0.5146\n",
      "2023-03-11 22:29:10,982 simple_logger.py log_once [line:27] INFO test_loss                     1.3292\n",
      "2023-03-11 22:29:10,982 simple_logger.py log_once [line:27] INFO valid_accuracy                0.5142\n",
      "2023-03-11 22:29:10,982 simple_logger.py log_once [line:27] INFO mean_valid_accuracy           0.5142\n",
      "2023-03-11 22:29:10,983 simple_logger.py log_once [line:27] INFO std_valid_accuracy            0.1256\n",
      "2023-03-11 22:29:10,983 simple_logger.py log_once [line:27] INFO valid_loss                    1.3235\n",
      "2023-03-11 22:29:10,983 simple_logger.py log_once [line:27] INFO mean_valid_loss               1.3235\n",
      "2023-03-11 22:29:10,984 simple_logger.py log_once [line:27] INFO std_valid_loss                0.2457\n",
      "2023-03-11 22:29:10,984 fedbase.py run [line:117] INFO Eval Time Cost:               2.7492s\n",
      "2023-03-11 22:29:12,553 fedbase.py run [line:112] INFO --------------Round 182--------------\n",
      "2023-03-11 22:29:12,553 simple_logger.py log_once [line:13] INFO Current_time:182\n"
     ]
    },
    {
     "name": "stdout",
     "output_type": "stream",
     "text": [
      "     pcost       dcost       gap    pres   dres\n",
      " 0:  1.0000e+00 -2.0500e+00  3e+00  1e-16  6e-16\n",
      " 1:  1.0000e+00  9.6950e-01  3e-02  1e-16  2e-15\n",
      " 2:  1.0000e+00  9.9969e-01  3e-04  2e-16  9e-16\n",
      " 3:  1.0000e+00  1.0000e+00  3e-06  1e-16  6e-16\n",
      " 4:  1.0000e+00  1.0000e+00  2e-07  3e-16  6e-16\n",
      "Optimal solution found.\n"
     ]
    },
    {
     "name": "stderr",
     "output_type": "stream",
     "text": [
      "2023-03-11 22:29:15,495 simple_logger.py log_once [line:27] INFO test_accuracy                 0.4906\n",
      "2023-03-11 22:29:15,495 simple_logger.py log_once [line:27] INFO test_loss                     1.4125\n",
      "2023-03-11 22:29:15,496 simple_logger.py log_once [line:27] INFO valid_accuracy                0.4898\n",
      "2023-03-11 22:29:15,496 simple_logger.py log_once [line:27] INFO mean_valid_accuracy           0.4898\n",
      "2023-03-11 22:29:15,496 simple_logger.py log_once [line:27] INFO std_valid_accuracy            0.1424\n",
      "2023-03-11 22:29:15,497 simple_logger.py log_once [line:27] INFO valid_loss                    1.4133\n",
      "2023-03-11 22:29:15,497 simple_logger.py log_once [line:27] INFO mean_valid_loss               1.4133\n",
      "2023-03-11 22:29:15,498 simple_logger.py log_once [line:27] INFO std_valid_loss                0.3449\n",
      "2023-03-11 22:29:15,498 fedbase.py run [line:117] INFO Eval Time Cost:               2.9452s\n",
      "2023-03-11 22:29:17,044 fedbase.py run [line:112] INFO --------------Round 183--------------\n",
      "2023-03-11 22:29:17,044 simple_logger.py log_once [line:13] INFO Current_time:183\n"
     ]
    },
    {
     "name": "stdout",
     "output_type": "stream",
     "text": [
      "     pcost       dcost       gap    pres   dres\n",
      " 0:  1.0000e+00 -2.0500e+00  3e+00  2e-16  9e-16\n",
      " 1:  1.0000e+00  9.6950e-01  3e-02  2e-16  1e-15\n",
      " 2:  1.0000e+00  9.9970e-01  3e-04  6e-16  1e-15\n",
      " 3:  1.0000e+00  1.0000e+00  3e-06  2e-16  8e-16\n",
      " 4:  1.0000e+00  1.0000e+00  3e-08  9e-17  3e-16\n",
      "Optimal solution found.\n"
     ]
    },
    {
     "name": "stderr",
     "output_type": "stream",
     "text": [
      "2023-03-11 22:29:19,806 simple_logger.py log_once [line:27] INFO test_accuracy                 0.5096\n",
      "2023-03-11 22:29:19,807 simple_logger.py log_once [line:27] INFO test_loss                     1.3632\n",
      "2023-03-11 22:29:19,807 simple_logger.py log_once [line:27] INFO valid_accuracy                0.5144\n",
      "2023-03-11 22:29:19,807 simple_logger.py log_once [line:27] INFO mean_valid_accuracy           0.5144\n",
      "2023-03-11 22:29:19,808 simple_logger.py log_once [line:27] INFO std_valid_accuracy            0.1123\n",
      "2023-03-11 22:29:19,808 simple_logger.py log_once [line:27] INFO valid_loss                    1.3626\n",
      "2023-03-11 22:29:19,809 simple_logger.py log_once [line:27] INFO mean_valid_loss               1.3626\n",
      "2023-03-11 22:29:19,809 simple_logger.py log_once [line:27] INFO std_valid_loss                0.2502\n",
      "2023-03-11 22:29:19,809 fedbase.py run [line:117] INFO Eval Time Cost:               2.7650s\n",
      "2023-03-11 22:29:21,409 fedbase.py run [line:112] INFO --------------Round 184--------------\n",
      "2023-03-11 22:29:21,410 simple_logger.py log_once [line:13] INFO Current_time:184\n"
     ]
    },
    {
     "name": "stdout",
     "output_type": "stream",
     "text": [
      "     pcost       dcost       gap    pres   dres\n",
      " 0:  1.0000e+00 -2.0500e+00  3e+00  2e-16  9e-16\n",
      " 1:  1.0000e+00  9.6950e-01  3e-02  2e-16  1e-15\n",
      " 2:  1.0000e+00  9.9970e-01  3e-04  6e-16  1e-15\n",
      " 3:  1.0000e+00  1.0000e+00  3e-06  2e-16  8e-16\n",
      " 4:  1.0000e+00  1.0000e+00  3e-08  9e-17  3e-16\n",
      "Optimal solution found.\n"
     ]
    },
    {
     "name": "stderr",
     "output_type": "stream",
     "text": [
      "2023-03-11 22:29:24,123 simple_logger.py log_once [line:27] INFO test_accuracy                 0.4760\n",
      "2023-03-11 22:29:24,123 simple_logger.py log_once [line:27] INFO test_loss                     1.3883\n",
      "2023-03-11 22:29:24,124 simple_logger.py log_once [line:27] INFO valid_accuracy                0.4880\n",
      "2023-03-11 22:29:24,124 simple_logger.py log_once [line:27] INFO mean_valid_accuracy           0.4880\n",
      "2023-03-11 22:29:24,124 simple_logger.py log_once [line:27] INFO std_valid_accuracy            0.1455\n",
      "2023-03-11 22:29:24,125 simple_logger.py log_once [line:27] INFO valid_loss                    1.3860\n",
      "2023-03-11 22:29:24,125 simple_logger.py log_once [line:27] INFO mean_valid_loss               1.3860\n",
      "2023-03-11 22:29:24,125 simple_logger.py log_once [line:27] INFO std_valid_loss                0.2866\n",
      "2023-03-11 22:29:24,126 fedbase.py run [line:117] INFO Eval Time Cost:               2.7155s\n",
      "2023-03-11 22:29:25,537 fedbase.py run [line:112] INFO --------------Round 185--------------\n",
      "2023-03-11 22:29:25,538 simple_logger.py log_once [line:13] INFO Current_time:185\n"
     ]
    },
    {
     "name": "stdout",
     "output_type": "stream",
     "text": [
      "     pcost       dcost       gap    pres   dres\n",
      " 0:  1.0000e+00 -2.0500e+00  3e+00  2e-16  9e-16\n",
      " 1:  1.0000e+00  9.6950e-01  3e-02  2e-16  1e-15\n",
      " 2:  1.0000e+00  9.9970e-01  3e-04  6e-16  1e-15\n",
      " 3:  1.0000e+00  1.0000e+00  3e-06  2e-16  8e-16\n",
      " 4:  1.0000e+00  1.0000e+00  3e-08  9e-17  3e-16\n",
      "Optimal solution found.\n"
     ]
    },
    {
     "name": "stderr",
     "output_type": "stream",
     "text": [
      "2023-03-11 22:29:28,238 simple_logger.py log_once [line:27] INFO test_accuracy                 0.4998\n",
      "2023-03-11 22:29:28,238 simple_logger.py log_once [line:27] INFO test_loss                     1.3510\n",
      "2023-03-11 22:29:28,239 simple_logger.py log_once [line:27] INFO valid_accuracy                0.5058\n",
      "2023-03-11 22:29:28,239 simple_logger.py log_once [line:27] INFO mean_valid_accuracy           0.5058\n",
      "2023-03-11 22:29:28,239 simple_logger.py log_once [line:27] INFO std_valid_accuracy            0.1332\n",
      "2023-03-11 22:29:28,240 simple_logger.py log_once [line:27] INFO valid_loss                    1.3487\n",
      "2023-03-11 22:29:28,240 simple_logger.py log_once [line:27] INFO mean_valid_loss               1.3487\n",
      "2023-03-11 22:29:28,240 simple_logger.py log_once [line:27] INFO std_valid_loss                0.2231\n",
      "2023-03-11 22:29:28,241 fedbase.py run [line:117] INFO Eval Time Cost:               2.7031s\n",
      "2023-03-11 22:29:29,586 fedbase.py run [line:112] INFO --------------Round 186--------------\n",
      "2023-03-11 22:29:29,586 simple_logger.py log_once [line:13] INFO Current_time:186\n"
     ]
    },
    {
     "name": "stdout",
     "output_type": "stream",
     "text": [
      "     pcost       dcost       gap    pres   dres\n",
      " 0:  1.0000e+00 -2.0500e+00  3e+00  2e-16  9e-16\n",
      " 1:  1.0000e+00  9.6950e-01  3e-02  2e-16  1e-15\n",
      " 2:  1.0000e+00  9.9970e-01  3e-04  6e-16  1e-15\n",
      " 3:  1.0000e+00  1.0000e+00  3e-06  2e-16  8e-16\n",
      " 4:  1.0000e+00  1.0000e+00  3e-08  9e-17  3e-16\n",
      "Optimal solution found.\n"
     ]
    },
    {
     "name": "stderr",
     "output_type": "stream",
     "text": [
      "2023-03-11 22:29:32,287 simple_logger.py log_once [line:27] INFO test_accuracy                 0.5061\n",
      "2023-03-11 22:29:32,288 simple_logger.py log_once [line:27] INFO test_loss                     1.3794\n",
      "2023-03-11 22:29:32,288 simple_logger.py log_once [line:27] INFO valid_accuracy                0.5076\n",
      "2023-03-11 22:29:32,289 simple_logger.py log_once [line:27] INFO mean_valid_accuracy           0.5076\n",
      "2023-03-11 22:29:32,289 simple_logger.py log_once [line:27] INFO std_valid_accuracy            0.1072\n",
      "2023-03-11 22:29:32,289 simple_logger.py log_once [line:27] INFO valid_loss                    1.3730\n",
      "2023-03-11 22:29:32,290 simple_logger.py log_once [line:27] INFO mean_valid_loss               1.3730\n",
      "2023-03-11 22:29:32,290 simple_logger.py log_once [line:27] INFO std_valid_loss                0.2208\n",
      "2023-03-11 22:29:32,290 fedbase.py run [line:117] INFO Eval Time Cost:               2.7039s\n",
      "2023-03-11 22:29:33,912 fedbase.py run [line:112] INFO --------------Round 187--------------\n",
      "2023-03-11 22:29:33,912 simple_logger.py log_once [line:13] INFO Current_time:187\n"
     ]
    },
    {
     "name": "stdout",
     "output_type": "stream",
     "text": [
      "     pcost       dcost       gap    pres   dres\n",
      " 0:  1.0000e+00 -2.0500e+00  3e+00  2e-16  9e-16\n",
      " 1:  1.0000e+00  9.6950e-01  3e-02  2e-16  1e-15\n",
      " 2:  1.0000e+00  9.9970e-01  3e-04  6e-16  1e-15\n",
      " 3:  1.0000e+00  1.0000e+00  3e-06  2e-16  8e-16\n",
      " 4:  1.0000e+00  1.0000e+00  3e-08  9e-17  3e-16\n",
      "Optimal solution found.\n"
     ]
    },
    {
     "name": "stderr",
     "output_type": "stream",
     "text": [
      "2023-03-11 22:29:36,617 simple_logger.py log_once [line:27] INFO test_accuracy                 0.4827\n",
      "2023-03-11 22:29:36,618 simple_logger.py log_once [line:27] INFO test_loss                     1.4202\n",
      "2023-03-11 22:29:36,619 simple_logger.py log_once [line:27] INFO valid_accuracy                0.4936\n",
      "2023-03-11 22:29:36,619 simple_logger.py log_once [line:27] INFO mean_valid_accuracy           0.4936\n",
      "2023-03-11 22:29:36,619 simple_logger.py log_once [line:27] INFO std_valid_accuracy            0.1367\n",
      "2023-03-11 22:29:36,620 simple_logger.py log_once [line:27] INFO valid_loss                    1.4108\n",
      "2023-03-11 22:29:36,620 simple_logger.py log_once [line:27] INFO mean_valid_loss               1.4108\n",
      "2023-03-11 22:29:36,621 simple_logger.py log_once [line:27] INFO std_valid_loss                0.2614\n",
      "2023-03-11 22:29:36,622 fedbase.py run [line:117] INFO Eval Time Cost:               2.7093s\n",
      "2023-03-11 22:29:38,171 fedbase.py run [line:112] INFO --------------Round 188--------------\n",
      "2023-03-11 22:29:38,171 simple_logger.py log_once [line:13] INFO Current_time:188\n"
     ]
    },
    {
     "name": "stdout",
     "output_type": "stream",
     "text": [
      "     pcost       dcost       gap    pres   dres\n",
      " 0:  1.0000e+00 -2.0500e+00  3e+00  9e-17  1e-15\n",
      " 1:  1.0000e+00  9.6950e-01  3e-02  2e-16  1e-15\n",
      " 2:  1.0000e+00  9.9970e-01  3e-04  9e-17  1e-15\n",
      " 3:  1.0000e+00  1.0000e+00  3e-06  2e-16  1e-15\n",
      " 4:  1.0000e+00  1.0000e+00  3e-08  1e-16  2e-15\n",
      "Optimal solution found.\n"
     ]
    },
    {
     "name": "stderr",
     "output_type": "stream",
     "text": [
      "2023-03-11 22:29:40,978 simple_logger.py log_once [line:27] INFO test_accuracy                 0.4867\n",
      "2023-03-11 22:29:40,979 simple_logger.py log_once [line:27] INFO test_loss                     1.3911\n",
      "2023-03-11 22:29:40,979 simple_logger.py log_once [line:27] INFO valid_accuracy                0.4906\n",
      "2023-03-11 22:29:40,980 simple_logger.py log_once [line:27] INFO mean_valid_accuracy           0.4906\n",
      "2023-03-11 22:29:40,980 simple_logger.py log_once [line:27] INFO std_valid_accuracy            0.1439\n",
      "2023-03-11 22:29:40,980 simple_logger.py log_once [line:27] INFO valid_loss                    1.3835\n",
      "2023-03-11 22:29:40,981 simple_logger.py log_once [line:27] INFO mean_valid_loss               1.3835\n",
      "2023-03-11 22:29:40,981 simple_logger.py log_once [line:27] INFO std_valid_loss                0.2929\n",
      "2023-03-11 22:29:40,981 fedbase.py run [line:117] INFO Eval Time Cost:               2.8100s\n",
      "2023-03-11 22:29:42,636 fedbase.py run [line:112] INFO --------------Round 189--------------\n",
      "2023-03-11 22:29:42,636 simple_logger.py log_once [line:13] INFO Current_time:189\n"
     ]
    },
    {
     "name": "stdout",
     "output_type": "stream",
     "text": [
      "     pcost       dcost       gap    pres   dres\n",
      " 0:  1.0000e+00 -2.0500e+00  3e+00  9e-17  1e-15\n",
      " 1:  1.0000e+00  9.6950e-01  3e-02  2e-16  1e-15\n",
      " 2:  1.0000e+00  9.9970e-01  3e-04  9e-17  1e-15\n",
      " 3:  1.0000e+00  1.0000e+00  3e-06  2e-16  1e-15\n",
      " 4:  1.0000e+00  1.0000e+00  3e-08  1e-16  2e-15\n",
      "Optimal solution found.\n"
     ]
    },
    {
     "name": "stderr",
     "output_type": "stream",
     "text": [
      "2023-03-11 22:29:45,436 simple_logger.py log_once [line:27] INFO test_accuracy                 0.5011\n",
      "2023-03-11 22:29:45,436 simple_logger.py log_once [line:27] INFO test_loss                     1.3624\n",
      "2023-03-11 22:29:45,437 simple_logger.py log_once [line:27] INFO valid_accuracy                0.5030\n",
      "2023-03-11 22:29:45,437 simple_logger.py log_once [line:27] INFO mean_valid_accuracy           0.5030\n",
      "2023-03-11 22:29:45,437 simple_logger.py log_once [line:27] INFO std_valid_accuracy            0.1271\n",
      "2023-03-11 22:29:45,438 simple_logger.py log_once [line:27] INFO valid_loss                    1.3541\n",
      "2023-03-11 22:29:45,438 simple_logger.py log_once [line:27] INFO mean_valid_loss               1.3541\n",
      "2023-03-11 22:29:45,438 simple_logger.py log_once [line:27] INFO std_valid_loss                0.2756\n",
      "2023-03-11 22:29:45,438 fedbase.py run [line:117] INFO Eval Time Cost:               2.8020s\n",
      "2023-03-11 22:29:46,872 fedbase.py run [line:112] INFO --------------Round 190--------------\n",
      "2023-03-11 22:29:46,873 simple_logger.py log_once [line:13] INFO Current_time:190\n"
     ]
    },
    {
     "name": "stdout",
     "output_type": "stream",
     "text": [
      "     pcost       dcost       gap    pres   dres\n",
      " 0:  1.0000e+00 -2.0500e+00  3e+00  9e-17  1e-15\n",
      " 1:  1.0000e+00  9.6950e-01  3e-02  2e-16  1e-15\n",
      " 2:  1.0000e+00  9.9970e-01  3e-04  9e-17  1e-15\n",
      " 3:  1.0000e+00  1.0000e+00  3e-06  2e-16  1e-15\n",
      " 4:  1.0000e+00  1.0000e+00  3e-08  1e-16  2e-15\n",
      "Optimal solution found.\n"
     ]
    },
    {
     "name": "stderr",
     "output_type": "stream",
     "text": [
      "2023-03-11 22:29:49,610 simple_logger.py log_once [line:27] INFO test_accuracy                 0.4879\n",
      "2023-03-11 22:29:49,610 simple_logger.py log_once [line:27] INFO test_loss                     1.3770\n",
      "2023-03-11 22:29:49,611 simple_logger.py log_once [line:27] INFO valid_accuracy                0.4968\n",
      "2023-03-11 22:29:49,611 simple_logger.py log_once [line:27] INFO mean_valid_accuracy           0.4968\n",
      "2023-03-11 22:29:49,611 simple_logger.py log_once [line:27] INFO std_valid_accuracy            0.1494\n",
      "2023-03-11 22:29:49,611 simple_logger.py log_once [line:27] INFO valid_loss                    1.3669\n",
      "2023-03-11 22:29:49,612 simple_logger.py log_once [line:27] INFO mean_valid_loss               1.3669\n",
      "2023-03-11 22:29:49,612 simple_logger.py log_once [line:27] INFO std_valid_loss                0.3122\n",
      "2023-03-11 22:29:49,612 fedbase.py run [line:117] INFO Eval Time Cost:               2.7392s\n",
      "2023-03-11 22:29:51,133 fedbase.py run [line:112] INFO --------------Round 191--------------\n",
      "2023-03-11 22:29:51,133 simple_logger.py log_once [line:13] INFO Current_time:191\n"
     ]
    },
    {
     "name": "stdout",
     "output_type": "stream",
     "text": [
      "     pcost       dcost       gap    pres   dres\n",
      " 0:  1.0000e+00 -2.0500e+00  3e+00  2e-16  7e-16\n",
      " 1:  1.0000e+00  9.6950e-01  3e-02  3e-16  1e-15\n",
      " 2:  1.0000e+00  9.9970e-01  3e-04  3e-16  1e-15\n",
      " 3:  1.0000e+00  1.0000e+00  3e-06  8e-17  8e-16\n",
      " 4:  1.0000e+00  1.0000e+00  3e-08  1e-16  2e-16\n",
      "Optimal solution found.\n"
     ]
    },
    {
     "name": "stderr",
     "output_type": "stream",
     "text": [
      "2023-03-11 22:29:53,942 simple_logger.py log_once [line:27] INFO test_accuracy                 0.5059\n",
      "2023-03-11 22:29:53,943 simple_logger.py log_once [line:27] INFO test_loss                     1.3647\n",
      "2023-03-11 22:29:53,943 simple_logger.py log_once [line:27] INFO valid_accuracy                0.5124\n",
      "2023-03-11 22:29:53,943 simple_logger.py log_once [line:27] INFO mean_valid_accuracy           0.5124\n",
      "2023-03-11 22:29:53,943 simple_logger.py log_once [line:27] INFO std_valid_accuracy            0.1396\n",
      "2023-03-11 22:29:53,944 simple_logger.py log_once [line:27] INFO valid_loss                    1.3557\n",
      "2023-03-11 22:29:53,944 simple_logger.py log_once [line:27] INFO mean_valid_loss               1.3557\n",
      "2023-03-11 22:29:53,944 simple_logger.py log_once [line:27] INFO std_valid_loss                0.3043\n",
      "2023-03-11 22:29:53,945 fedbase.py run [line:117] INFO Eval Time Cost:               2.8114s\n",
      "2023-03-11 22:29:55,453 fedbase.py run [line:112] INFO --------------Round 192--------------\n",
      "2023-03-11 22:29:55,453 simple_logger.py log_once [line:13] INFO Current_time:192\n"
     ]
    },
    {
     "name": "stdout",
     "output_type": "stream",
     "text": [
      "     pcost       dcost       gap    pres   dres\n",
      " 0:  1.0000e+00 -2.0500e+00  3e+00  3e-17  5e-16\n",
      " 1:  1.0000e+00  9.6950e-01  3e-02  8e-17  1e-15\n",
      " 2:  1.0000e+00  9.9969e-01  3e-04  2e-16  8e-16\n",
      " 3:  1.0000e+00  1.0000e+00  3e-06  1e-16  5e-16\n",
      " 4:  1.0000e+00  1.0000e+00  3e-08  1e-16  9e-16\n",
      "Optimal solution found.\n"
     ]
    },
    {
     "name": "stderr",
     "output_type": "stream",
     "text": [
      "2023-03-11 22:29:58,184 simple_logger.py log_once [line:27] INFO test_accuracy                 0.5277\n",
      "2023-03-11 22:29:58,185 simple_logger.py log_once [line:27] INFO test_loss                     1.3125\n",
      "2023-03-11 22:29:58,185 simple_logger.py log_once [line:27] INFO valid_accuracy                0.5284\n",
      "2023-03-11 22:29:58,185 simple_logger.py log_once [line:27] INFO mean_valid_accuracy           0.5284\n",
      "2023-03-11 22:29:58,186 simple_logger.py log_once [line:27] INFO std_valid_accuracy            0.1188\n",
      "2023-03-11 22:29:58,186 simple_logger.py log_once [line:27] INFO valid_loss                    1.3084\n",
      "2023-03-11 22:29:58,186 simple_logger.py log_once [line:27] INFO mean_valid_loss               1.3084\n",
      "2023-03-11 22:29:58,186 simple_logger.py log_once [line:27] INFO std_valid_loss                0.2274\n",
      "2023-03-11 22:29:58,186 fedbase.py run [line:117] INFO Eval Time Cost:               2.7331s\n",
      "2023-03-11 22:29:59,793 fedbase.py run [line:112] INFO --------------Round 193--------------\n",
      "2023-03-11 22:29:59,794 simple_logger.py log_once [line:13] INFO Current_time:193\n"
     ]
    },
    {
     "name": "stdout",
     "output_type": "stream",
     "text": [
      "     pcost       dcost       gap    pres   dres\n",
      " 0:  1.0000e+00 -2.0500e+00  3e+00  9e-17  9e-16\n",
      " 1:  1.0000e+00  9.6950e-01  3e-02  8e-17  1e-15\n",
      " 2:  1.0000e+00  9.9969e-01  3e-04  1e-16  9e-16\n",
      " 3:  1.0000e+00  1.0000e+00  3e-06  2e-16  5e-16\n",
      " 4:  1.0000e+00  1.0000e+00  3e-08  4e-16  7e-16\n",
      "Optimal solution found.\n"
     ]
    },
    {
     "name": "stderr",
     "output_type": "stream",
     "text": [
      "2023-03-11 22:30:02,547 simple_logger.py log_once [line:27] INFO test_accuracy                 0.5085\n",
      "2023-03-11 22:30:02,547 simple_logger.py log_once [line:27] INFO test_loss                     1.3479\n",
      "2023-03-11 22:30:02,548 simple_logger.py log_once [line:27] INFO valid_accuracy                0.5156\n",
      "2023-03-11 22:30:02,548 simple_logger.py log_once [line:27] INFO mean_valid_accuracy           0.5156\n",
      "2023-03-11 22:30:02,548 simple_logger.py log_once [line:27] INFO std_valid_accuracy            0.1352\n",
      "2023-03-11 22:30:02,549 simple_logger.py log_once [line:27] INFO valid_loss                    1.3377\n",
      "2023-03-11 22:30:02,549 simple_logger.py log_once [line:27] INFO mean_valid_loss               1.3377\n",
      "2023-03-11 22:30:02,549 simple_logger.py log_once [line:27] INFO std_valid_loss                0.2605\n",
      "2023-03-11 22:30:02,549 fedbase.py run [line:117] INFO Eval Time Cost:               2.7556s\n",
      "2023-03-11 22:30:04,204 fedbase.py run [line:112] INFO --------------Round 194--------------\n",
      "2023-03-11 22:30:04,204 simple_logger.py log_once [line:13] INFO Current_time:194\n"
     ]
    },
    {
     "name": "stdout",
     "output_type": "stream",
     "text": [
      "     pcost       dcost       gap    pres   dres\n",
      " 0:  1.0000e+00 -2.0500e+00  3e+00  2e-16  9e-16\n",
      " 1:  1.0000e+00  9.6950e-01  3e-02  2e-16  1e-15\n",
      " 2:  1.0000e+00  9.9970e-01  3e-04  6e-16  1e-15\n",
      " 3:  1.0000e+00  1.0000e+00  3e-06  2e-16  8e-16\n",
      " 4:  1.0000e+00  1.0000e+00  3e-08  9e-17  3e-16\n",
      "Optimal solution found.\n"
     ]
    },
    {
     "name": "stderr",
     "output_type": "stream",
     "text": [
      "2023-03-11 22:30:06,952 simple_logger.py log_once [line:27] INFO test_accuracy                 0.4630\n",
      "2023-03-11 22:30:06,953 simple_logger.py log_once [line:27] INFO test_loss                     1.4339\n",
      "2023-03-11 22:30:06,953 simple_logger.py log_once [line:27] INFO valid_accuracy                0.4716\n",
      "2023-03-11 22:30:06,953 simple_logger.py log_once [line:27] INFO mean_valid_accuracy           0.4716\n",
      "2023-03-11 22:30:06,953 simple_logger.py log_once [line:27] INFO std_valid_accuracy            0.1669\n",
      "2023-03-11 22:30:06,954 simple_logger.py log_once [line:27] INFO valid_loss                    1.4234\n",
      "2023-03-11 22:30:06,954 simple_logger.py log_once [line:27] INFO mean_valid_loss               1.4234\n",
      "2023-03-11 22:30:06,954 simple_logger.py log_once [line:27] INFO std_valid_loss                0.3428\n",
      "2023-03-11 22:30:06,954 fedbase.py run [line:117] INFO Eval Time Cost:               2.7500s\n",
      "2023-03-11 22:30:08,393 fedbase.py run [line:112] INFO --------------Round 195--------------\n",
      "2023-03-11 22:30:08,393 simple_logger.py log_once [line:13] INFO Current_time:195\n"
     ]
    },
    {
     "name": "stdout",
     "output_type": "stream",
     "text": [
      "     pcost       dcost       gap    pres   dres\n",
      " 0:  1.0000e+00 -2.0500e+00  3e+00  3e-16  9e-16\n",
      " 1:  1.0000e+00  9.6950e-01  3e-02  2e-16  1e-15\n",
      " 2:  1.0000e+00  9.9969e-01  3e-04  7e-17  9e-16\n",
      " 3:  1.0000e+00  1.0000e+00  3e-06  9e-17  7e-16\n",
      " 4:  1.0000e+00  1.0000e+00  1e-07  2e-16  9e-16\n",
      "Optimal solution found.\n"
     ]
    },
    {
     "name": "stderr",
     "output_type": "stream",
     "text": [
      "2023-03-11 22:30:11,192 simple_logger.py log_once [line:27] INFO test_accuracy                 0.4601\n",
      "2023-03-11 22:30:11,192 simple_logger.py log_once [line:27] INFO test_loss                     1.4496\n",
      "2023-03-11 22:30:11,192 simple_logger.py log_once [line:27] INFO valid_accuracy                0.4694\n",
      "2023-03-11 22:30:11,193 simple_logger.py log_once [line:27] INFO mean_valid_accuracy           0.4694\n",
      "2023-03-11 22:30:11,193 simple_logger.py log_once [line:27] INFO std_valid_accuracy            0.1685\n",
      "2023-03-11 22:30:11,193 simple_logger.py log_once [line:27] INFO valid_loss                    1.4409\n",
      "2023-03-11 22:30:11,193 simple_logger.py log_once [line:27] INFO mean_valid_loss               1.4409\n",
      "2023-03-11 22:30:11,194 simple_logger.py log_once [line:27] INFO std_valid_loss                0.3623\n",
      "2023-03-11 22:30:11,194 fedbase.py run [line:117] INFO Eval Time Cost:               2.8008s\n",
      "2023-03-11 22:30:12,848 fedbase.py run [line:112] INFO --------------Round 196--------------\n",
      "2023-03-11 22:30:12,848 simple_logger.py log_once [line:13] INFO Current_time:196\n"
     ]
    },
    {
     "name": "stdout",
     "output_type": "stream",
     "text": [
      "     pcost       dcost       gap    pres   dres\n",
      " 0:  1.0000e+00 -2.0500e+00  3e+00  2e-16  6e-16\n",
      " 1:  1.0000e+00  9.6950e-01  3e-02  3e-16  9e-16\n",
      " 2:  1.0000e+00  9.9969e-01  3e-04  2e-16  8e-16\n",
      " 3:  1.0000e+00  1.0000e+00  3e-06  2e-16  6e-16\n",
      " 4:  1.0000e+00  1.0000e+00  2e-07  8e-17  1e-15\n",
      "Optimal solution found.\n"
     ]
    },
    {
     "name": "stderr",
     "output_type": "stream",
     "text": [
      "2023-03-11 22:30:15,583 simple_logger.py log_once [line:27] INFO test_accuracy                 0.4960\n",
      "2023-03-11 22:30:15,584 simple_logger.py log_once [line:27] INFO test_loss                     1.3777\n",
      "2023-03-11 22:30:15,584 simple_logger.py log_once [line:27] INFO valid_accuracy                0.4982\n",
      "2023-03-11 22:30:15,584 simple_logger.py log_once [line:27] INFO mean_valid_accuracy           0.4982\n",
      "2023-03-11 22:30:15,584 simple_logger.py log_once [line:27] INFO std_valid_accuracy            0.1547\n",
      "2023-03-11 22:30:15,585 simple_logger.py log_once [line:27] INFO valid_loss                    1.3705\n",
      "2023-03-11 22:30:15,585 simple_logger.py log_once [line:27] INFO mean_valid_loss               1.3705\n",
      "2023-03-11 22:30:15,585 simple_logger.py log_once [line:27] INFO std_valid_loss                0.3371\n",
      "2023-03-11 22:30:15,585 fedbase.py run [line:117] INFO Eval Time Cost:               2.7375s\n",
      "2023-03-11 22:30:17,095 fedbase.py run [line:112] INFO --------------Round 197--------------\n",
      "2023-03-11 22:30:17,095 simple_logger.py log_once [line:13] INFO Current_time:197\n"
     ]
    },
    {
     "name": "stdout",
     "output_type": "stream",
     "text": [
      "     pcost       dcost       gap    pres   dres\n",
      " 0:  1.0000e+00 -2.0500e+00  3e+00  3e-16  1e-15\n",
      " 1:  1.0000e+00  9.6950e-01  3e-02  2e-16  2e-15\n",
      " 2:  1.0000e+00  9.9969e-01  3e-04  1e-16  1e-15\n",
      " 3:  1.0000e+00  1.0000e+00  3e-06  1e-16  1e-15\n",
      " 4:  1.0000e+00  1.0000e+00  2e-07  1e-16  7e-16\n",
      "Optimal solution found.\n"
     ]
    },
    {
     "name": "stderr",
     "output_type": "stream",
     "text": [
      "2023-03-11 22:30:19,838 simple_logger.py log_once [line:27] INFO test_accuracy                 0.4641\n",
      "2023-03-11 22:30:19,839 simple_logger.py log_once [line:27] INFO test_loss                     1.4486\n",
      "2023-03-11 22:30:19,839 simple_logger.py log_once [line:27] INFO valid_accuracy                0.4670\n",
      "2023-03-11 22:30:19,839 simple_logger.py log_once [line:27] INFO mean_valid_accuracy           0.4670\n",
      "2023-03-11 22:30:19,840 simple_logger.py log_once [line:27] INFO std_valid_accuracy            0.1724\n",
      "2023-03-11 22:30:19,840 simple_logger.py log_once [line:27] INFO valid_loss                    1.4363\n",
      "2023-03-11 22:30:19,840 simple_logger.py log_once [line:27] INFO mean_valid_loss               1.4363\n",
      "2023-03-11 22:30:19,841 simple_logger.py log_once [line:27] INFO std_valid_loss                0.3863\n",
      "2023-03-11 22:30:19,841 fedbase.py run [line:117] INFO Eval Time Cost:               2.7455s\n",
      "2023-03-11 22:30:21,419 fedbase.py run [line:112] INFO --------------Round 198--------------\n",
      "2023-03-11 22:30:21,419 simple_logger.py log_once [line:13] INFO Current_time:198\n"
     ]
    },
    {
     "name": "stdout",
     "output_type": "stream",
     "text": [
      "     pcost       dcost       gap    pres   dres\n",
      " 0:  1.0000e+00 -2.0500e+00  3e+00  2e-16  9e-16\n",
      " 1:  1.0000e+00  9.6950e-01  3e-02  1e-16  1e-15\n",
      " 2:  1.0000e+00  9.9969e-01  3e-04  9e-17  1e-15\n",
      " 3:  1.0000e+00  1.0000e+00  3e-06  8e-17  1e-15\n",
      " 4:  1.0000e+00  1.0000e+00  2e-07  1e-16  1e-15\n",
      "Optimal solution found.\n"
     ]
    },
    {
     "name": "stderr",
     "output_type": "stream",
     "text": [
      "2023-03-11 22:30:24,159 simple_logger.py log_once [line:27] INFO test_accuracy                 0.4986\n",
      "2023-03-11 22:30:24,160 simple_logger.py log_once [line:27] INFO test_loss                     1.3624\n",
      "2023-03-11 22:30:24,160 simple_logger.py log_once [line:27] INFO valid_accuracy                0.5046\n",
      "2023-03-11 22:30:24,161 simple_logger.py log_once [line:27] INFO mean_valid_accuracy           0.5046\n",
      "2023-03-11 22:30:24,161 simple_logger.py log_once [line:27] INFO std_valid_accuracy            0.1314\n",
      "2023-03-11 22:30:24,162 simple_logger.py log_once [line:27] INFO valid_loss                    1.3548\n",
      "2023-03-11 22:30:24,162 simple_logger.py log_once [line:27] INFO mean_valid_loss               1.3548\n",
      "2023-03-11 22:30:24,162 simple_logger.py log_once [line:27] INFO std_valid_loss                0.2698\n",
      "2023-03-11 22:30:24,163 fedbase.py run [line:117] INFO Eval Time Cost:               2.7433s\n",
      "2023-03-11 22:30:25,743 fedbase.py run [line:112] INFO --------------Round 199--------------\n",
      "2023-03-11 22:30:25,744 simple_logger.py log_once [line:13] INFO Current_time:199\n"
     ]
    },
    {
     "name": "stdout",
     "output_type": "stream",
     "text": [
      "     pcost       dcost       gap    pres   dres\n",
      " 0:  1.0000e+00 -2.0500e+00  3e+00  2e-16  9e-16\n",
      " 1:  1.0000e+00  9.6950e-01  3e-02  5e-16  1e-15\n",
      " 2:  1.0000e+00  9.9969e-01  3e-04  8e-17  6e-16\n",
      " 3:  1.0000e+00  1.0000e+00  3e-06  9e-17  1e-15\n",
      " 4:  1.0000e+00  1.0000e+00  3e-08  8e-17  7e-16\n",
      "Optimal solution found.\n"
     ]
    },
    {
     "name": "stderr",
     "output_type": "stream",
     "text": [
      "2023-03-11 22:30:28,488 simple_logger.py log_once [line:27] INFO test_accuracy                 0.4845\n",
      "2023-03-11 22:30:28,489 simple_logger.py log_once [line:27] INFO test_loss                     1.4086\n",
      "2023-03-11 22:30:28,489 simple_logger.py log_once [line:27] INFO valid_accuracy                0.4928\n",
      "2023-03-11 22:30:28,490 simple_logger.py log_once [line:27] INFO mean_valid_accuracy           0.4928\n",
      "2023-03-11 22:30:28,490 simple_logger.py log_once [line:27] INFO std_valid_accuracy            0.1459\n",
      "2023-03-11 22:30:28,490 simple_logger.py log_once [line:27] INFO valid_loss                    1.3962\n",
      "2023-03-11 22:30:28,491 simple_logger.py log_once [line:27] INFO mean_valid_loss               1.3962\n",
      "2023-03-11 22:30:28,492 simple_logger.py log_once [line:27] INFO std_valid_loss                0.3078\n",
      "2023-03-11 22:30:28,492 fedbase.py run [line:117] INFO Eval Time Cost:               2.7479s\n",
      "2023-03-11 22:30:30,052 fedbase.py run [line:112] INFO --------------Round 200--------------\n",
      "2023-03-11 22:30:30,052 simple_logger.py log_once [line:13] INFO Current_time:200\n"
     ]
    },
    {
     "name": "stdout",
     "output_type": "stream",
     "text": [
      "     pcost       dcost       gap    pres   dres\n",
      " 0:  1.0000e+00 -2.0500e+00  3e+00  2e-16  1e-15\n",
      " 1:  1.0000e+00  9.6950e-01  3e-02  1e-16  8e-16\n",
      " 2:  1.0000e+00  9.9969e-01  3e-04  2e-16  1e-15\n",
      " 3:  1.0000e+00  1.0000e+00  3e-06  1e-16  1e-15\n",
      " 4:  1.0000e+00  1.0000e+00  1e-07  1e-16  1e-15\n",
      "Optimal solution found.\n"
     ]
    },
    {
     "name": "stderr",
     "output_type": "stream",
     "text": [
      "2023-03-11 22:30:32,754 simple_logger.py log_once [line:27] INFO test_accuracy                 0.5077\n",
      "2023-03-11 22:30:32,755 simple_logger.py log_once [line:27] INFO test_loss                     1.3481\n",
      "2023-03-11 22:30:32,756 simple_logger.py log_once [line:27] INFO valid_accuracy                0.5138\n",
      "2023-03-11 22:30:32,756 simple_logger.py log_once [line:27] INFO mean_valid_accuracy           0.5138\n",
      "2023-03-11 22:30:32,756 simple_logger.py log_once [line:27] INFO std_valid_accuracy            0.1209\n",
      "2023-03-11 22:30:32,757 simple_logger.py log_once [line:27] INFO valid_loss                    1.3410\n",
      "2023-03-11 22:30:32,757 simple_logger.py log_once [line:27] INFO mean_valid_loss               1.3410\n",
      "2023-03-11 22:30:32,758 simple_logger.py log_once [line:27] INFO std_valid_loss                0.2484\n",
      "2023-03-11 22:30:32,758 fedbase.py run [line:117] INFO Eval Time Cost:               2.7055s\n",
      "2023-03-11 22:30:32,759 fedbase.py run [line:125] INFO =================End==================\n",
      "2023-03-11 22:30:32,759 fedbase.py run [line:126] INFO Total Time Cost:              858.1093s\n"
     ]
    }
   ],
   "source": [
    "option = {'learning_rate':0.01, 'num_steps':5, 'num_rounds':200,'gpu':0}\n",
    "\n",
    "fedavg_runner = flgo.init(task, fedavg, option=option)\n",
    "fedmgda_runner_eta1epsilon01 = flgo.init(task, fedmgda, option=option)\n",
    "fedmgda_runner_eta05epsilon01 = flgo.init(task, fedmgda, option={'learning_rate':0.01, 'num_steps':5, 'num_rounds':200,'gpu':0, 'algo_para':[0.5, 0.1]})\n",
    "fedmgda_runner_eta01epsilon01 = flgo.init(task, fedmgda, option={'learning_rate':0.01, 'num_steps':5, 'num_rounds':200,'gpu':0, 'algo_para':[0.1, 0.1]})\n",
    "\n",
    "fedavg_runner.run()\n",
    "fedmgda_runner_eta1epsilon01.run()\n",
    "fedmgda_runner_eta05epsilon01.run()\n",
    "fedmgda_runner_eta01epsilon01.run()"
   ]
  },
  {
   "cell_type": "markdown",
   "id": "2938fda8",
   "metadata": {},
   "source": [
    "### 结果分析 \\ Result Analysis"
   ]
  },
  {
   "cell_type": "code",
   "execution_count": 9,
   "id": "8ccb55f2",
   "metadata": {},
   "outputs": [
    {
     "data": {
      "image/png": "[encoded data removed]",
      "text/plain": [
       "<Figure size 432x288 with 1 Axes>"
      ]
     },
     "metadata": {
      "needs_background": "light"
     },
     "output_type": "display_data"
    },
    {
     "data": {
      "image/png": "[encoded data removed]",
      "text/plain": [
       "<Figure size 432x288 with 1 Axes>"
      ]
     },
     "metadata": {
      "needs_background": "light"
     },
     "output_type": "display_data"
    },
    {
     "data": {
      "image/png": "[encoded data removed]",
      "text/plain": [
       "<Figure size 432x288 with 1 Axes>"
      ]
     },
     "metadata": {
      "needs_background": "light"
     },
     "output_type": "display_data"
    }
   ],
   "source": [
    "import flgo.experiment.analyzer\n",
    "analysis_plan = {\n",
    "    'Selector':{\n",
    "        'task': task,\n",
    "        'header':['fedavg', 'fedmgda']\n",
    "    },\n",
    "    'Painter':{\n",
    "        'Curve':[\n",
    "            {'args':{'x': 'communication_round', 'y':'test_accuracy'}, 'fig_option':{'xlabel':'communication_round', 'ylabel':'test_accuracy','title':'test accuracy on CIFAR10'}},\n",
    "            {'args':{'x': 'communication_round', 'y':'valid_accuracy'},  'fig_option':{'xlabel':'communication_round', 'ylabel':'valid accuracy','title':'valid accuracy on CIFAR10'}},\n",
    "            {'args':{'x': 'communication_round', 'y':'std_valid_loss'},  'fig_option':{'xlabel':'communication_round', 'ylabel':'std of valid accuracy','title':'std of local valid accuracy on CIFAR10'}},\n",
    "        ],\n",
    "    }\n",
    "}\n",
    "flgo.experiment.analyzer.show(analysis_plan)"
   ]
  },
  {
   "cell_type": "markdown",
   "id": "937f9ea0",
   "metadata": {},
   "source": [
    "从结果可以看到，fedmgda+的性能受到全局步长eta影响较大。在该场景下"
   ]
  }
 ],
 "metadata": {
  "kernelspec": {
   "display_name": "Python 3 (ipykernel)",
   "language": "python",
   "name": "python3"
  },
  "language_info": {
   "codemirror_mode": {
    "name": "ipython",
    "version": 3
   },
   "file_extension": ".py",
   "mimetype": "text/x-python",
   "name": "python",
   "nbconvert_exporter": "python",
   "pygments_lexer": "ipython3",
   "version": "3.9.12"
  }
 },
 "nbformat": 4,
 "nbformat_minor": 5
}
